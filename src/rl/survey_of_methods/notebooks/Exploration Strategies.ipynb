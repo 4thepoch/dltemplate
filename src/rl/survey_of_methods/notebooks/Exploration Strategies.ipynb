{
 "cells": [
  {
   "cell_type": "markdown",
   "metadata": {},
   "source": [
    "# Exploration Strategies"
   ]
  },
  {
   "cell_type": "markdown",
   "metadata": {},
   "source": [
    "Implementation of various action-selection methods that can be used to encourage exploration during the learning process."
   ]
  },
  {
   "cell_type": "code",
   "execution_count": 1,
   "metadata": {},
   "outputs": [],
   "source": [
    "# !pip install moviepy"
   ]
  },
  {
   "cell_type": "code",
   "execution_count": 2,
   "metadata": {},
   "outputs": [],
   "source": [
    "import gym\n",
    "import matplotlib.pyplot as plt\n",
    "import numpy as np\n",
    "import random\n",
    "import tensorflow as tf\n",
    "import tensorflow.contrib.slim as slim\n",
    "\n",
    "from helper import ExperienceBuffer, update_target, update_target_graph"
   ]
  },
  {
   "cell_type": "markdown",
   "metadata": {},
   "source": [
    "### Load the environment"
   ]
  },
  {
   "cell_type": "code",
   "execution_count": 3,
   "metadata": {},
   "outputs": [
    {
     "name": "stdout",
     "output_type": "stream",
     "text": [
      "\u001b[33mWARN: gym.spaces.Box autodetected dtype as <class 'numpy.float32'>. Please provide explicit dtype.\u001b[0m\n"
     ]
    }
   ],
   "source": [
    "env = gym.make('CartPole-v0')"
   ]
  },
  {
   "cell_type": "markdown",
   "metadata": {},
   "source": [
    "### Network implementation"
   ]
  },
  {
   "cell_type": "code",
   "execution_count": 4,
   "metadata": {},
   "outputs": [],
   "source": [
    "class QNetwork(object):\n",
    "    \n",
    "    def __init__(self):\n",
    "        # establish the feed-forward part of the network used to choose actions\n",
    "        self.inputs = tf.placeholder(shape=[None, 4], dtype=tf.float32)\n",
    "        self.temp = tf.placeholder(shape=None, dtype=tf.float32)\n",
    "        self.keep_per = tf.placeholder(shape=None, dtype=tf.float32)\n",
    "        \n",
    "        hidden = slim.fully_connected(self.inputs, 64, activation_fn=tf.nn.tanh, \n",
    "                                      biases_initializer=None)\n",
    "        hidden = slim.dropout(hidden, self.keep_per)\n",
    "        self.q_out = slim.fully_connected(hidden, 2, activation_fn=None, \n",
    "                                          biases_initializer=None)\n",
    "        self.predict = tf.argmax(self.q_out, 1)\n",
    "        self.q_dist = tf.nn.softmax(self.q_out / self.temp)\n",
    "        \n",
    "        # obtain the loss by taking the sum of squares difference \n",
    "        # between the target and predicted Q-values\n",
    "        self.actions = tf.placeholder(shape=[None], dtype=tf.int32)\n",
    "        self.actions_onehot = tf.one_hot(self.actions, 2, dtype=tf.float32)\n",
    "        self.q = tf.reduce_sum(tf.multiply(self.q_out, self.actions_onehot), \n",
    "                               reduction_indices=1)\n",
    "        self.next_q = tf.placeholder(shape=[None], dtype=tf.float32)\n",
    "        loss = tf.reduce_sum(tf.square(self.next_q - self.q))\n",
    "        optimizer = tf.train.GradientDescentOptimizer(learning_rate=0.0005)\n",
    "        self.update_op = optimizer.minimize(loss)"
   ]
  },
  {
   "cell_type": "markdown",
   "metadata": {},
   "source": [
    "### Train the network"
   ]
  },
  {
   "cell_type": "code",
   "execution_count": 5,
   "metadata": {},
   "outputs": [],
   "source": [
    "# hyperparams\n",
    "\n",
    "exploration = 'greedy'  # exploration method ['greedy', 'random', 'e-greedy', 'boltzmann', 'bayesian']\n",
    "gamma = 0.99  # discount factor\n",
    "n_episodes = 20000  # number episodes to train network\n",
    "tau = 0.001  # amount to update target network at each step\n",
    "batch_size = 32  # size of training batch\n",
    "start_epsilon = 1  # starting chance of random action\n",
    "end_epsilon = 0.1  # final chance of random action\n",
    "annealing_steps = 20000  # number training steps to reduce start_epsilon to end_epsilon\n",
    "n_pretrain_steps = 50000  # number steps before training updates begin"
   ]
  },
  {
   "cell_type": "code",
   "execution_count": 6,
   "metadata": {},
   "outputs": [],
   "source": [
    "def train():\n",
    "    tf.reset_default_graph()\n",
    "    main_network = QNetwork()\n",
    "    target_network = QNetwork()\n",
    "    trainables = tf.trainable_variables()\n",
    "    target_ops = update_target_graph(trainables, tau)\n",
    "    buffer = ExperienceBuffer()\n",
    "    js, j_means, rewards, reward_means = [], [], [], []\n",
    "    with tf.Session() as sess:\n",
    "        sess.run(tf.global_variables_initializer())\n",
    "        update_target(target_ops, sess)\n",
    "        epsilon = start_epsilon\n",
    "        step_drop = (start_epsilon - end_epsilon) / annealing_steps\n",
    "        n_steps = 0\n",
    "        for i in range(n_episodes):\n",
    "            s = env.reset()\n",
    "            total_reward = 0\n",
    "            done = False\n",
    "            j = 0\n",
    "            while j < 999:\n",
    "                j += 1\n",
    "                if exploration == 'greedy':\n",
    "                    # choose an action with the maximum expected value\n",
    "                    a, all_q = sess.run([main_network.predict, main_network.q_out], feed_dict={\n",
    "                        main_network.inputs: [s],\n",
    "                        main_network.keep_per: 1.\n",
    "                    })\n",
    "                    a = a[0]\n",
    "                elif exploration == 'random':\n",
    "                    # choose an action randomly\n",
    "                    a = env.action_space.sample()\n",
    "                elif exploration == 'e-greedy':\n",
    "                    # choose an action greedily from the Q-network, \n",
    "                    # with epsilon chance of random action\n",
    "                    if np.random.rand(1) < epsilon or n_steps < n_pretrain_steps:\n",
    "                        a = env.action_space.sample()\n",
    "                    else:\n",
    "                        a, all_q = sess.run([main_network.predict, main_network.q_out], feed_dict={\n",
    "                            main_network.inputs: [s],\n",
    "                            main_network.keep_per: 1.\n",
    "                        })\n",
    "                        a = a[0]\n",
    "                elif exploration == 'boltzmann':\n",
    "                    # choose an action probabilistically, with weights\n",
    "                    # relative to the Q-values\n",
    "                    q_d, all_q = sess.run([main_network.dist, main_network.q_out], feed_dict={\n",
    "                        main_network.inputs: [s],\n",
    "                        main_network.temp: epsilon,\n",
    "                        main_network.keep_per: 1.\n",
    "                    })\n",
    "                    a = np.random.choice(q_d[0], p=q_d[0])\n",
    "                    a = np.argmax(q_d[0] == a)\n",
    "                elif exploration == 'bayesian':\n",
    "                    # choose an action using a sample from a dropout approximation\n",
    "                    # of a Bayesian Q-network\n",
    "                    a, all_q = sess.run([main_network.predict, main_network.q_out], feed_dict={\n",
    "                        main_network.inputs: [s],\n",
    "                        main_network.keep_per: (1 - epsilon) + 0.1\n",
    "                    })\n",
    "                    a = a[0]\n",
    "                    \n",
    "                # get new state and reward from environment\n",
    "                s1, reward, done, _ = env.step(a)\n",
    "                buffer.add(np.reshape(np.array([s, a, reward, s1, done]), [1, 5]))\n",
    "                \n",
    "                if epsilon > end_epsilon and n_steps > n_pretrain_steps:\n",
    "                    epsilon -= step_drop\n",
    "                    \n",
    "                if n_steps > n_pretrain_steps and n_steps % 5 == 0:\n",
    "                    # using the Double-DQN training algorithm:\n",
    "                    train_batch = buffer.sample(batch_size)\n",
    "                    q1 = sess.run(main_network.predict, feed_dict={\n",
    "                        main_network.inputs: np.vstack(train_batch[:, 3]),\n",
    "                        main_network.keep_per: 1.\n",
    "                    })\n",
    "                    q2 = sess.run(target_network.q_out, feed_dict={\n",
    "                        target_network.inputs: np.vstack(train_batch[:, 3]),\n",
    "                        target_network.keep_per: 1.\n",
    "                    })\n",
    "                    end_multiplier = -train_batch[:, 4] - 1\n",
    "                    double_q = q2[range(batch_size), q1]\n",
    "                    target_q = train_batch[:, 2] + gamma * double_q * end_multiplier\n",
    "                    _ = sess.run(main_network.update_op, feed_dict={\n",
    "                        main_network.inputs: np.vstack(train_batch[:, 0]),\n",
    "                        main_network.next_q: target_q,\n",
    "                        main_network.keep_per: 1.,\n",
    "                        main_network.actions: train_batch[:, 1]\n",
    "                    })\n",
    "                    update_target(target_ops, sess)\n",
    "                    \n",
    "                total_reward += reward\n",
    "                s = s1\n",
    "                n_steps += 1\n",
    "                if done:\n",
    "                    break\n",
    "                    \n",
    "            js.append(j)\n",
    "            rewards.append(total_reward)\n",
    "            if i % 100 == 0 and i != 0:\n",
    "                reward_mean = np.mean(rewards[-100:])\n",
    "                j_mean = np.mean(js[-100:])\n",
    "                if exploration == 'e-greedy':\n",
    "                    print('Mean reward:', str(reward_mean), 'Total steps:', str(n_steps), 'epsilon:', str(epsilon))\n",
    "                elif exploration == 'boltzmann':\n",
    "                    print('Mean reward:', str(reward_mean), 'Total steps:', str(n_steps), 't:', str(epsilon))\n",
    "                elif exploration == 'bayesian':\n",
    "                    print('Mean reward:', str(reward_mean), 'Total steps:', str(n_steps), 'p:', str(epsilon))\n",
    "                elif exploration == 'random' or exploration == 'greedy':\n",
    "                    print('Mean reward:', str(reward_mean), 'Total steps:', str(n_steps))\n",
    "                    \n",
    "                reward_means.append(reward_mean)\n",
    "                j_means.append(j_mean)\n",
    "                \n",
    "    print('Successful episodes %:', str(sum(rewards) / n_episodes))\n",
    "    \n",
    "    return reward_means, j_means"
   ]
  },
  {
   "cell_type": "code",
   "execution_count": 7,
   "metadata": {},
   "outputs": [
    {
     "name": "stdout",
     "output_type": "stream",
     "text": [
      "Mean reward: 9.44 Total steps: 952\n",
      "Mean reward: 9.38 Total steps: 1890\n",
      "Mean reward: 9.39 Total steps: 2829\n",
      "Mean reward: 9.47 Total steps: 3776\n",
      "Mean reward: 9.43 Total steps: 4719\n",
      "Mean reward: 9.38 Total steps: 5657\n",
      "Mean reward: 9.39 Total steps: 6596\n",
      "Mean reward: 9.41 Total steps: 7537\n",
      "Mean reward: 9.33 Total steps: 8470\n",
      "Mean reward: 9.32 Total steps: 9402\n",
      "Mean reward: 9.5 Total steps: 10352\n",
      "Mean reward: 9.45 Total steps: 11297\n",
      "Mean reward: 9.37 Total steps: 12234\n",
      "Mean reward: 9.44 Total steps: 13178\n",
      "Mean reward: 9.52 Total steps: 14130\n",
      "Mean reward: 9.46 Total steps: 15076\n",
      "Mean reward: 9.39 Total steps: 16015\n",
      "Mean reward: 9.5 Total steps: 16965\n",
      "Mean reward: 9.42 Total steps: 17907\n",
      "Mean reward: 9.38 Total steps: 18845\n",
      "Mean reward: 9.54 Total steps: 19799\n",
      "Mean reward: 9.43 Total steps: 20742\n",
      "Mean reward: 9.45 Total steps: 21687\n",
      "Mean reward: 9.51 Total steps: 22638\n",
      "Mean reward: 9.45 Total steps: 23583\n",
      "Mean reward: 9.45 Total steps: 24528\n",
      "Mean reward: 9.45 Total steps: 25473\n",
      "Mean reward: 9.49 Total steps: 26422\n",
      "Mean reward: 9.35 Total steps: 27357\n",
      "Mean reward: 9.41 Total steps: 28298\n",
      "Mean reward: 9.41 Total steps: 29239\n",
      "Mean reward: 9.63 Total steps: 30202\n",
      "Mean reward: 9.45 Total steps: 31147\n",
      "Mean reward: 9.36 Total steps: 32083\n",
      "Mean reward: 9.31 Total steps: 33014\n",
      "Mean reward: 9.54 Total steps: 33968\n",
      "Mean reward: 9.47 Total steps: 34915\n",
      "Mean reward: 9.42 Total steps: 35857\n",
      "Mean reward: 9.52 Total steps: 36809\n",
      "Mean reward: 9.56 Total steps: 37765\n",
      "Mean reward: 9.45 Total steps: 38710\n",
      "Mean reward: 9.3 Total steps: 39640\n",
      "Mean reward: 9.41 Total steps: 40581\n",
      "Mean reward: 9.37 Total steps: 41518\n",
      "Mean reward: 9.35 Total steps: 42453\n",
      "Mean reward: 9.41 Total steps: 43394\n",
      "Mean reward: 9.48 Total steps: 44342\n",
      "Mean reward: 9.34 Total steps: 45276\n",
      "Mean reward: 9.39 Total steps: 46215\n",
      "Mean reward: 9.4 Total steps: 47155\n",
      "Mean reward: 9.41 Total steps: 48096\n",
      "Mean reward: 9.43 Total steps: 49039\n",
      "Mean reward: 9.4 Total steps: 49979\n",
      "Mean reward: 9.74 Total steps: 50953\n",
      "Mean reward: 9.53 Total steps: 51906\n",
      "Mean reward: 9.71 Total steps: 52877\n",
      "Mean reward: 9.66 Total steps: 53843\n",
      "Mean reward: 9.68 Total steps: 54811\n",
      "Mean reward: 9.54 Total steps: 55765\n",
      "Mean reward: 9.67 Total steps: 56732\n",
      "Mean reward: 9.64 Total steps: 57696\n",
      "Mean reward: 9.44 Total steps: 58640\n",
      "Mean reward: 9.67 Total steps: 59607\n",
      "Mean reward: 9.58 Total steps: 60565\n",
      "Mean reward: 9.56 Total steps: 61521\n",
      "Mean reward: 9.62 Total steps: 62483\n",
      "Mean reward: 9.52 Total steps: 63435\n",
      "Mean reward: 9.61 Total steps: 64396\n",
      "Mean reward: 9.57 Total steps: 65353\n",
      "Mean reward: 9.55 Total steps: 66308\n",
      "Mean reward: 9.65 Total steps: 67273\n",
      "Mean reward: 9.67 Total steps: 68240\n",
      "Mean reward: 9.67 Total steps: 69207\n",
      "Mean reward: 9.63 Total steps: 70170\n",
      "Mean reward: 9.71 Total steps: 71141\n",
      "Mean reward: 9.58 Total steps: 72099\n",
      "Mean reward: 9.67 Total steps: 73066\n",
      "Mean reward: 9.64 Total steps: 74030\n",
      "Mean reward: 9.63 Total steps: 74993\n",
      "Mean reward: 9.66 Total steps: 75959\n",
      "Mean reward: 9.62 Total steps: 76921\n",
      "Mean reward: 9.57 Total steps: 77878\n",
      "Mean reward: 9.58 Total steps: 78836\n",
      "Mean reward: 9.69 Total steps: 79805\n",
      "Mean reward: 9.67 Total steps: 80772\n",
      "Mean reward: 9.55 Total steps: 81727\n",
      "Mean reward: 9.66 Total steps: 82693\n",
      "Mean reward: 9.7 Total steps: 83663\n",
      "Mean reward: 9.71 Total steps: 84634\n",
      "Mean reward: 9.68 Total steps: 85602\n",
      "Mean reward: 9.7 Total steps: 86572\n",
      "Mean reward: 9.71 Total steps: 87543\n",
      "Mean reward: 9.54 Total steps: 88497\n",
      "Mean reward: 9.7 Total steps: 89467\n",
      "Mean reward: 9.66 Total steps: 90433\n",
      "Mean reward: 9.71 Total steps: 91404\n",
      "Mean reward: 9.54 Total steps: 92358\n",
      "Mean reward: 9.47 Total steps: 93305\n",
      "Mean reward: 9.65 Total steps: 94270\n",
      "Mean reward: 9.78 Total steps: 95248\n",
      "Mean reward: 9.51 Total steps: 96199\n",
      "Mean reward: 9.66 Total steps: 97165\n",
      "Mean reward: 9.72 Total steps: 98137\n",
      "Mean reward: 9.77 Total steps: 99114\n",
      "Mean reward: 9.53 Total steps: 100067\n",
      "Mean reward: 9.7 Total steps: 101037\n",
      "Mean reward: 9.67 Total steps: 102004\n",
      "Mean reward: 9.64 Total steps: 102968\n",
      "Mean reward: 9.72 Total steps: 103940\n",
      "Mean reward: 9.68 Total steps: 104908\n",
      "Mean reward: 9.68 Total steps: 105876\n",
      "Mean reward: 9.65 Total steps: 106841\n",
      "Mean reward: 9.77 Total steps: 107818\n",
      "Mean reward: 9.75 Total steps: 108793\n",
      "Mean reward: 9.74 Total steps: 109767\n",
      "Mean reward: 9.68 Total steps: 110735\n",
      "Mean reward: 9.61 Total steps: 111696\n",
      "Mean reward: 9.6 Total steps: 112656\n",
      "Mean reward: 9.69 Total steps: 113625\n",
      "Mean reward: 9.69 Total steps: 114594\n",
      "Mean reward: 9.74 Total steps: 115568\n",
      "Mean reward: 9.73 Total steps: 116541\n",
      "Mean reward: 9.66 Total steps: 117507\n",
      "Mean reward: 9.7 Total steps: 118477\n",
      "Mean reward: 9.71 Total steps: 119448\n",
      "Mean reward: 9.75 Total steps: 120423\n",
      "Mean reward: 9.81 Total steps: 121404\n",
      "Mean reward: 9.65 Total steps: 122369\n",
      "Mean reward: 9.69 Total steps: 123338\n",
      "Mean reward: 9.75 Total steps: 124313\n",
      "Mean reward: 9.69 Total steps: 125282\n",
      "Mean reward: 9.75 Total steps: 126257\n",
      "Mean reward: 9.73 Total steps: 127230\n",
      "Mean reward: 9.81 Total steps: 128211\n",
      "Mean reward: 9.79 Total steps: 129190\n",
      "Mean reward: 9.71 Total steps: 130161\n",
      "Mean reward: 9.66 Total steps: 131127\n",
      "Mean reward: 9.67 Total steps: 132094\n",
      "Mean reward: 9.73 Total steps: 133067\n",
      "Mean reward: 9.64 Total steps: 134031\n",
      "Mean reward: 9.69 Total steps: 135000\n",
      "Mean reward: 9.74 Total steps: 135974\n",
      "Mean reward: 9.7 Total steps: 136944\n",
      "Mean reward: 9.76 Total steps: 137920\n",
      "Mean reward: 9.74 Total steps: 138894\n",
      "Mean reward: 9.75 Total steps: 139869\n",
      "Mean reward: 9.73 Total steps: 140842\n",
      "Mean reward: 9.71 Total steps: 141813\n",
      "Mean reward: 9.87 Total steps: 142800\n",
      "Mean reward: 9.73 Total steps: 143773\n",
      "Mean reward: 9.82 Total steps: 144755\n",
      "Mean reward: 9.82 Total steps: 145737\n",
      "Mean reward: 9.83 Total steps: 146720\n",
      "Mean reward: 9.84 Total steps: 147704\n",
      "Mean reward: 9.75 Total steps: 148679\n",
      "Mean reward: 9.81 Total steps: 149660\n",
      "Mean reward: 9.71 Total steps: 150631\n",
      "Mean reward: 9.86 Total steps: 151617\n",
      "Mean reward: 9.64 Total steps: 152581\n",
      "Mean reward: 9.88 Total steps: 153569\n",
      "Mean reward: 9.78 Total steps: 154547\n",
      "Mean reward: 9.84 Total steps: 155531\n",
      "Mean reward: 9.72 Total steps: 156503\n",
      "Mean reward: 9.75 Total steps: 157478\n",
      "Mean reward: 9.62 Total steps: 158440\n",
      "Mean reward: 9.84 Total steps: 159424\n",
      "Mean reward: 9.78 Total steps: 160402\n",
      "Mean reward: 9.84 Total steps: 161386\n",
      "Mean reward: 9.85 Total steps: 162371\n",
      "Mean reward: 9.84 Total steps: 163355\n",
      "Mean reward: 9.75 Total steps: 164330\n",
      "Mean reward: 9.72 Total steps: 165302\n",
      "Mean reward: 9.83 Total steps: 166285\n",
      "Mean reward: 9.83 Total steps: 167268\n",
      "Mean reward: 9.82 Total steps: 168250\n",
      "Mean reward: 9.86 Total steps: 169236\n",
      "Mean reward: 9.73 Total steps: 170209\n",
      "Mean reward: 9.82 Total steps: 171191\n",
      "Mean reward: 9.78 Total steps: 172169\n",
      "Mean reward: 9.81 Total steps: 173150\n",
      "Mean reward: 9.77 Total steps: 174127\n",
      "Mean reward: 9.73 Total steps: 175100\n",
      "Mean reward: 9.72 Total steps: 176072\n",
      "Mean reward: 9.77 Total steps: 177049\n",
      "Mean reward: 9.73 Total steps: 178022\n",
      "Mean reward: 9.84 Total steps: 179006\n",
      "Mean reward: 9.84 Total steps: 179990\n",
      "Mean reward: 9.84 Total steps: 180974\n",
      "Mean reward: 9.74 Total steps: 181948\n",
      "Mean reward: 9.86 Total steps: 182934\n",
      "Mean reward: 9.94 Total steps: 183928\n",
      "Mean reward: 9.91 Total steps: 184919\n",
      "Mean reward: 9.71 Total steps: 185890\n",
      "Mean reward: 9.78 Total steps: 186868\n",
      "Mean reward: 9.8 Total steps: 187848\n",
      "Mean reward: 9.75 Total steps: 188823\n",
      "Mean reward: 9.87 Total steps: 189810\n",
      "Mean reward: 9.72 Total steps: 190782\n",
      "Mean reward: 9.85 Total steps: 191767\n",
      "Successful episodes %: 9.63675\n"
     ]
    }
   ],
   "source": [
    "reward_means, j_means = train()"
   ]
  },
  {
   "cell_type": "markdown",
   "metadata": {},
   "source": [
    "### Performance statistics"
   ]
  },
  {
   "cell_type": "code",
   "execution_count": 8,
   "metadata": {},
   "outputs": [
    {
     "data": {
      "text/plain": [
       "[<matplotlib.lines.Line2D at 0x7fa53eee0f60>]"
      ]
     },
     "execution_count": 8,
     "metadata": {},
     "output_type": "execute_result"
    },
    {
     "data": {
      "image/png": "[encoded data removed]",
      "text/plain": [
       "<Figure size 432x288 with 1 Axes>"
      ]
     },
     "metadata": {},
     "output_type": "display_data"
    }
   ],
   "source": [
    "plt.plot(reward_means)"
   ]
  },
  {
   "cell_type": "code",
   "execution_count": 9,
   "metadata": {},
   "outputs": [
    {
     "data": {
      "text/plain": [
       "[<matplotlib.lines.Line2D at 0x7fa525ad4550>]"
      ]
     },
     "execution_count": 9,
     "metadata": {},
     "output_type": "execute_result"
    },
    {
     "data": {
      "image/png": "[encoded data removed]",
      "text/plain": [
       "<Figure size 432x288 with 1 Axes>"
      ]
     },
     "metadata": {},
     "output_type": "display_data"
    }
   ],
   "source": [
    "plt.plot(j_means)"
   ]
  },
  {
   "cell_type": "code",
   "execution_count": null,
   "metadata": {},
   "outputs": [],
   "source": []
  }
 ],
 "metadata": {
  "kernelspec": {
   "display_name": "Python 3",
   "language": "python",
   "name": "python3"
  },
  "language_info": {
   "codemirror_mode": {
    "name": "ipython",
    "version": 3
   },
   "file_extension": ".py",
   "mimetype": "text/x-python",
   "name": "python",
   "nbconvert_exporter": "python",
   "pygments_lexer": "ipython3",
   "version": "3.5.2"
  }
 },
 "nbformat": 4,
 "nbformat_minor": 2
}
