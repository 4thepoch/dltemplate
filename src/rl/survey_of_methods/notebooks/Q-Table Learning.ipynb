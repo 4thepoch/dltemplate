{
 "cells": [
  {
   "cell_type": "code",
   "execution_count": 2,
   "metadata": {},
   "outputs": [],
   "source": [
    "import gym\n",
    "import numpy as np"
   ]
  },
  {
   "cell_type": "code",
   "execution_count": 3,
   "metadata": {},
   "outputs": [],
   "source": [
    "env = gym.make('FrozenLake-v0')"
   ]
  },
  {
   "cell_type": "code",
   "execution_count": 4,
   "metadata": {},
   "outputs": [],
   "source": [
    "# initialize table with all zeros\n",
    "Q = np.zeros([env.observation_space.n, env.action_space.n])"
   ]
  },
  {
   "cell_type": "code",
   "execution_count": 5,
   "metadata": {},
   "outputs": [
    {
     "data": {
      "text/plain": [
       "(16, 4)"
      ]
     },
     "execution_count": 5,
     "metadata": {},
     "output_type": "execute_result"
    }
   ],
   "source": [
    "Q.shape"
   ]
  },
  {
   "cell_type": "code",
   "execution_count": 6,
   "metadata": {},
   "outputs": [],
   "source": [
    "lr = .8\n",
    "gamma = .95\n",
    "n_episodes = 2000"
   ]
  },
  {
   "cell_type": "code",
   "execution_count": 7,
   "metadata": {},
   "outputs": [],
   "source": [
    "rewards = []\n",
    "for i in range(n_episodes):\n",
    "    s = env.reset()  # reset environment and get first new observation\n",
    "    total_reward = 0\n",
    "    d = False\n",
    "    j = 0\n",
    "    while j < 99:\n",
    "        j += 1\n",
    "        # Choose an action by greedily (with noise) picking from Q table\n",
    "        a = np.argmax(Q[s, :] + np.random.randn(1, env.action_space.n) * (1. / (i + 1)))\n",
    "        \n",
    "        s1, r, d, _ = env.step(a)\n",
    "        \n",
    "        # update table\n",
    "        Q[s, a] = Q[s, a] + lr * (r + gamma * np.max(Q[s1, :]) - Q[s, a])\n",
    "        total_reward += r\n",
    "        s = s1\n",
    "        if d == True:\n",
    "            break\n",
    "            \n",
    "    rewards.append(total_reward)"
   ]
  },
  {
   "cell_type": "code",
   "execution_count": 8,
   "metadata": {},
   "outputs": [
    {
     "name": "stdout",
     "output_type": "stream",
     "text": [
      "Score over time: 0.65\n",
      "Final Q-Table values:\n",
      "[[1.39762363e-01 1.49028982e-02 8.79905961e-03 1.10563487e-02]\n",
      " [2.22557591e-03 2.31520120e-05 1.07700785e-02 1.23715991e-01]\n",
      " [2.92540497e-01 9.03140431e-03 6.58335663e-03 7.18047574e-03]\n",
      " [1.08966464e-03 6.12594768e-03 0.00000000e+00 6.87281326e-03]\n",
      " [1.76996386e-01 2.09695531e-03 2.86969484e-03 0.00000000e+00]\n",
      " [0.00000000e+00 0.00000000e+00 0.00000000e+00 0.00000000e+00]\n",
      " [1.33248172e-01 2.02435740e-04 2.32914721e-04 8.47581268e-05]\n",
      " [0.00000000e+00 0.00000000e+00 0.00000000e+00 0.00000000e+00]\n",
      " [0.00000000e+00 2.92982416e-04 2.24383291e-03 5.25122410e-01]\n",
      " [1.13027144e-02 4.35658492e-01 0.00000000e+00 0.00000000e+00]\n",
      " [6.20526241e-01 0.00000000e+00 0.00000000e+00 0.00000000e+00]\n",
      " [0.00000000e+00 0.00000000e+00 0.00000000e+00 0.00000000e+00]\n",
      " [0.00000000e+00 0.00000000e+00 0.00000000e+00 0.00000000e+00]\n",
      " [0.00000000e+00 0.00000000e+00 7.52683862e-01 0.00000000e+00]\n",
      " [0.00000000e+00 9.69549477e-01 0.00000000e+00 0.00000000e+00]\n",
      " [0.00000000e+00 0.00000000e+00 0.00000000e+00 0.00000000e+00]]\n"
     ]
    }
   ],
   "source": [
    "print('Score over time:', str(sum(rewards) / n_episodes))\n",
    "print('Final Q-Table values:')\n",
    "print(Q)"
   ]
  },
  {
   "cell_type": "code",
   "execution_count": null,
   "metadata": {},
   "outputs": [],
   "source": []
  }
 ],
 "metadata": {
  "kernelspec": {
   "display_name": "Python 3",
   "language": "python",
   "name": "python3"
  },
  "language_info": {
   "codemirror_mode": {
    "name": "ipython",
    "version": 3
   },
   "file_extension": ".py",
   "mimetype": "text/x-python",
   "name": "python",
   "nbconvert_exporter": "python",
   "pygments_lexer": "ipython3",
   "version": "3.5.2"
  }
 },
 "nbformat": 4,
 "nbformat_minor": 2
}
