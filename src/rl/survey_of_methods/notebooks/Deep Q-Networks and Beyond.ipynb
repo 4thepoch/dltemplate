{
 "cells": [
  {
   "cell_type": "markdown",
   "metadata": {},
   "source": [
    "# Deep Q-Networks and Beyond"
   ]
  },
  {
   "cell_type": "markdown",
   "metadata": {},
   "source": [
    "Implement a Deep Q-Network using both Double DQN and Dueling DQN.\n",
    "\n",
    "The agent learns to solve a navigation task in a basic grid world.\n",
    "\n",
    "This model makes a few improvements on the ordinary Q-network:\n",
    "\n",
    "1. Going from a single-layer network to a multi-layer convolutional network.\n",
    "2. Implementing Experience Replay, which allows our network to train itself using stored memories from it’s experience.\n",
    "3. Utilizing a second “target” network, which we use to compute target Q-values during updates.\n",
    "\n",
    "It was these three innovations that enabled the Google DeepMind team to achieve superhuman performance on dozens of Atari games using a DQN agent.\n",
    "\n",
    "### Model Architecture\n",
    "\n",
    "Convolutional layers. Instead of considering each pixel independently, convolutional layers allow us to consider regions of an image, and maintain spatial relationships between the objects on the screen as we send information up to higher levels of the network. In this way, they act similarly to human receptive fields.\n",
    "\n",
    "Experience Replay. The basic idea is that by storing an agent’s experiences, and then randomly drawing batches of them to train the network, we can more robustly learn to perform well in the task. By keeping the experiences we draw random, we prevent the network from only learning about what it is immediately doing in the environment, and allow it to learn from a more varied array of past experiences. Each of these experiences are stored as a tuple of <state,action,reward,next state>. The Experience Replay buffer stores a fixed number of recent memories, and as new ones come in, old ones are removed. When the time comes to train, we simply draw a uniform batch of random memories from the buffer, and train our network with them.\n",
    "\n",
    "Separate Target Network. This second network is used to generate the target-Q values that will be used to compute the loss for every action during training. Why not use just use one network for both estimations? The issue is that at every step of training, the Q-network’s values shift, and if we are using a constantly shifting set of values to adjust our network values, then the value estimations can easily spiral out of control. The network can become destabilized by falling into feedback loops between the target and estimated Q-values. In order to mitigate that risk, the target network’s weights are fixed, and only periodically or slowly updated to the primary Q-networks values. In this way training can proceed in a more stable manner.\n",
    "\n",
    "Instead of updating the target network periodically and all at once, we will be updating it frequently, but slowly. This technique was introduced in another DeepMind paper (https://arxiv.org/pdf/1509.02971.pdf), where they found that it stabilized the training process."
   ]
  },
  {
   "cell_type": "code",
   "execution_count": 1,
   "metadata": {},
   "outputs": [],
   "source": [
    "from gridworld import GameEnvironment\n",
    "import gym\n",
    "import matplotlib.pyplot as plt\n",
    "import numpy as np\n",
    "import os\n",
    "import random\n",
    "import scipy.misc\n",
    "import tensorflow as tf\n",
    "import tensorflow.contrib.slim as slim\n",
    "from tqdm import trange\n",
    "%matplotlib inline"
   ]
  },
  {
   "cell_type": "code",
   "execution_count": 2,
   "metadata": {},
   "outputs": [
    {
     "data": {
      "image/png": "[encoded data removed]",
      "text/plain": [
       "<Figure size 432x288 with 1 Axes>"
      ]
     },
     "metadata": {},
     "output_type": "display_data"
    }
   ],
   "source": [
    "env = GameEnvironment(partial=False, size=5)"
   ]
  },
  {
   "cell_type": "markdown",
   "metadata": {},
   "source": [
    "Above is an example of a starting environment in our simple game. The agent controls the blue square, and can move up, down, left, or right. The goal is to move to the green square (for +1 reward) and avoid the red square (for -1 reward). The position of the three blocks is randomized every episode."
   ]
  },
  {
   "cell_type": "markdown",
   "metadata": {},
   "source": [
    "### Implementing the network"
   ]
  },
  {
   "cell_type": "code",
   "execution_count": 3,
   "metadata": {},
   "outputs": [],
   "source": [
    "class QNetwork(object):\n",
    "    \n",
    "    def __init__(self, n_hidden, n_actions):\n",
    "        # The network receives a frame from the game, flattened into an array.\n",
    "        # It then resizes and processes it through four convolutional layers.\n",
    "        self.scalar_input = tf.placeholder(shape=[None, 21168], dtype=tf.float32)\n",
    "        self.image_in = tf.reshape(self.scalar_input, shape=[-1, 84, 84, 3])\n",
    "        self.conv1 = slim.conv2d(inputs=self.image_in, num_outputs=32,\n",
    "                                 kernel_size=[8, 8], stride=[4, 4], padding='VALID', \n",
    "                                 biases_initializer=None)\n",
    "        self.conv2 = slim.conv2d(inputs=self.conv1, num_outputs=64,\n",
    "                                 kernel_size=[4, 4], stride=[2, 2], padding='VALID', \n",
    "                                 biases_initializer=None)\n",
    "        self.conv3 = slim.conv2d(inputs=self.conv2, num_outputs=64,\n",
    "                                 kernel_size=[3, 3], stride=[1, 1], padding='VALID', \n",
    "                                 biases_initializer=None)\n",
    "        self.conv4 = slim.conv2d(inputs=self.conv3, num_outputs=n_hidden,\n",
    "                                 kernel_size=[7, 7], stride=[1, 1], padding='VALID', \n",
    "                                 biases_initializer=None)\n",
    "        \n",
    "        # take the output from the final convolutional layer and split it into \n",
    "        # separate advantage and value streams\n",
    "        self.stream_ac, self.stream_vc = tf.split(self.conv4, 2, 3)\n",
    "        self.stream_a = slim.flatten(self.stream_ac)\n",
    "        self.stream_v = slim.flatten(self.stream_vc)\n",
    "        xavier_init = tf.contrib.layers.xavier_initializer()\n",
    "        self.aw = tf.Variable(xavier_init([n_hidden // 2, n_actions]))\n",
    "        self.vw = tf.Variable(xavier_init([n_hidden // 2, 1]))\n",
    "        self.advantage = tf.matmul(self.stream_a, self.aw)\n",
    "        self.value = tf.matmul(self.stream_v, self.vw)\n",
    "        \n",
    "        # then combine them together to get our final Q-values\n",
    "        self.q_out = self.value + tf.subtract(self.advantage, tf.reduce_mean(self.advantage, axis=1, keepdims=True))\n",
    "        self.predict = tf.argmax(self.q_out, 1)\n",
    "        \n",
    "        # obtain the loss by taking the sum of squares difference between \n",
    "        # the target and predicted Q-values\n",
    "        self.target_q = tf.placeholder(shape=[None], dtype=tf.float32)\n",
    "        self.actions = tf.placeholder(shape=[None], dtype=tf.int32)\n",
    "        self.actions_onehot = tf.one_hot(self.actions, n_actions, dtype=tf.float32)\n",
    "        \n",
    "        self.q = tf.reduce_sum(tf.multiply(self.q_out, self.actions_onehot), axis=1)\n",
    "        \n",
    "        self.td_error = tf.square(self.target_q - self.q)\n",
    "        self.loss = tf.reduce_mean(self.td_error)\n",
    "        self.trainer = tf.train.AdamOptimizer(learning_rate=0.0001)\n",
    "        self.update_op = self.trainer.minimize(self.loss)"
   ]
  },
  {
   "cell_type": "markdown",
   "metadata": {},
   "source": [
    "### Experience Replay\n",
    "\n",
    "This class lets us store experiences, then sample them randomly to train the network."
   ]
  },
  {
   "cell_type": "code",
   "execution_count": 4,
   "metadata": {},
   "outputs": [],
   "source": [
    "class ExperienceBuffer(object):\n",
    "    \n",
    "    def __init__(self, buffer_size=50000):\n",
    "        self.buffer = []\n",
    "        self.buffer_size = buffer_size\n",
    "        \n",
    "    def add(self, experience):\n",
    "        n = len(self.buffer) + len(experience)\n",
    "        if n >= self.buffer_size:\n",
    "            self.buffer[0:n-self.buffer_size] = []\n",
    "            \n",
    "        self.buffer.extend(experience)\n",
    "        \n",
    "    def sample(self, size):\n",
    "        return np.reshape(np.array(random.sample(self.buffer, size)), [size, 5])"
   ]
  },
  {
   "cell_type": "code",
   "execution_count": 5,
   "metadata": {},
   "outputs": [],
   "source": [
    "def process_state(states):\n",
    "    \"\"\" resize game frames \"\"\"\n",
    "    return np.reshape(states, [21168])"
   ]
  },
  {
   "cell_type": "code",
   "execution_count": 6,
   "metadata": {},
   "outputs": [],
   "source": [
    "def update_target_graph(tf_vars, tau):\n",
    "    \"\"\" update the parameters of our target network with those of the primary network \"\"\"\n",
    "    n_vars = len(tf_vars)\n",
    "    op_holder = []\n",
    "    for i, var in enumerate(tf_vars[0:n_vars//2]):\n",
    "        op_holder.append(tf_vars[i + n_vars//2].assign(var.value() * tau + \n",
    "                                                       (1 - tau) * tf_vars[i + n_vars//2].value()))\n",
    "    return op_holder"
   ]
  },
  {
   "cell_type": "code",
   "execution_count": 7,
   "metadata": {},
   "outputs": [],
   "source": [
    "def update_target(op_holder, sess):\n",
    "    for op in op_holder:\n",
    "        sess.run(op)"
   ]
  },
  {
   "cell_type": "markdown",
   "metadata": {},
   "source": [
    "### Train the network"
   ]
  },
  {
   "cell_type": "code",
   "execution_count": 8,
   "metadata": {},
   "outputs": [],
   "source": [
    "# hyperparams:\n",
    "\n",
    "batch_size = 32  # number experiences to use for each training step\n",
    "update_freq = 4  # frequency of performing a training step\n",
    "gamma = 0.99  # discount factor on the target Q-values\n",
    "start_epsilon = 1  # starting chance of random action\n",
    "end_epsilon = 0.1  # final chance of random action\n",
    "annealing_steps = 10000  # number steps of training to reduce start_epsilon to end_epsilon\n",
    "#n_episodes = 10000  # number episodes of game environment to train network\n",
    "n_episodes = 500\n",
    "n_pretrain_steps = 10000  # number steps of random actions before training begins\n",
    "max_episode_length = 50  # max allowed length of our episode\n",
    "n_hidden = 512  # size of final convolutional layer before splitting it into Advantage and Value streams\n",
    "tau = 0.001  # rate to update target network toward primary network\n",
    "load_model = False  # whether to load a saved model\n",
    "save_path = 'dqn'  # path to save our model to"
   ]
  },
  {
   "cell_type": "markdown",
   "metadata": {},
   "source": [
    "Learning should occur in a couple hours on a moderately powerful machine (GTX970). (Getting Atari games to work will take at least a day of training on a powerful machine.)"
   ]
  },
  {
   "cell_type": "code",
   "execution_count": 9,
   "metadata": {},
   "outputs": [],
   "source": [
    "def train():\n",
    "    tf.reset_default_graph()\n",
    "    n_actions = env.actions\n",
    "    main_network = QNetwork(n_hidden, n_actions)\n",
    "    target_network = QNetwork(n_hidden, n_actions)\n",
    "    saver = tf.train.Saver()\n",
    "    trainables = tf.trainable_variables()\n",
    "    target_ops = update_target_graph(trainables, tau)\n",
    "    buffer = ExperienceBuffer()\n",
    "    epsilon = start_epsilon\n",
    "    step_drop = (start_epsilon - end_epsilon) / annealing_steps\n",
    "    js, rewards = [], []\n",
    "    n_steps = 0\n",
    "    \n",
    "    # make path to save model, unless path already exists\n",
    "    if not os.path.exists(save_path):\n",
    "        os.makedirs(save_path)\n",
    "        \n",
    "    with tf.Session() as sess:\n",
    "        sess.run(tf.global_variables_initializer())\n",
    "        if load_model:\n",
    "            print('Loading model...')\n",
    "            ckpt = tf.train.get_checkpoint_state(save_path)\n",
    "            saver.restore(sess, ckpt.model_checkpoint_path)\n",
    "            \n",
    "        for i in range(n_episodes):\n",
    "            episode_buffer = ExperienceBuffer()\n",
    "            \n",
    "            # reset environment and get first new observation\n",
    "            s = env.reset()\n",
    "            s = process_state(s)\n",
    "            done = False\n",
    "            total_reward = 0\n",
    "            j = 0\n",
    "            \n",
    "            # Train the Q-network\n",
    "            # if the agent takes longer to reach either of the blocks, then end the trial\n",
    "            while j < max_episode_length:\n",
    "                j += 1\n",
    "                \n",
    "                # choose an action greedily from the Q-network, \n",
    "                # with epsilon chance of random action\n",
    "                if np.random.rand(1) < epsilon or n_steps < n_pretrain_steps:\n",
    "                    a = np.random.randint(0, 4)\n",
    "                else:\n",
    "                    a = sess.run(main_network.predict, feed_dict={main_network.scalar_input: [s]})[0]\n",
    "                \n",
    "                s1, reward, done = env.step(a)\n",
    "                s1 = process_state(s1)\n",
    "                n_steps += 1\n",
    "                \n",
    "                # save the experience to our episode buffer\n",
    "                episode_buffer.add(np.reshape(np.array([s, a, reward, s1, done]), [1, 5]))\n",
    "                \n",
    "                if n_steps > n_pretrain_steps:\n",
    "                    if epsilon > end_epsilon:\n",
    "                        epsilon -= step_drop\n",
    "                        \n",
    "                    if n_steps % update_freq == 0:\n",
    "                        # get a random batch of experiences\n",
    "                        train_batch = buffer.sample(batch_size)\n",
    "                        \n",
    "                        # perform the Double-DQN update to the target Q-values\n",
    "                        q1 = sess.run(main_network.predict, feed_dict={\n",
    "                            main_network.scalar_input: np.vstack(train_batch[:, 3])\n",
    "                        })\n",
    "                        q2 = sess.run(target_network.q_out, feed_dict={\n",
    "                            target_network.scalar_input: np.vstack(train_batch[:, 3])\n",
    "                        })\n",
    "                        end_multiplier = -train_batch[:, 4] - 1\n",
    "                        double_q = q2[range(batch_size), q1]\n",
    "                        target_q = train_batch[:, 2] + gamma * double_q * end_multiplier\n",
    "                        \n",
    "                        # update the network with our target values\n",
    "                        _ = sess.run(main_network.update_op, feed_dict={\n",
    "                            main_network.scalar_input: np.vstack(train_batch[:, 0]),\n",
    "                            main_network.target_q: target_q,\n",
    "                            main_network.actions: train_batch[:, 1]\n",
    "                        })\n",
    "                        # update the target network toward the primary network\n",
    "                        update_target(target_ops, sess)\n",
    "                        \n",
    "                total_reward += reward\n",
    "                s = s1\n",
    "                \n",
    "                if done:\n",
    "                    break\n",
    "                    \n",
    "            buffer.add(episode_buffer.buffer)\n",
    "            js.append(j)\n",
    "            rewards.append(total_reward)\n",
    "            \n",
    "            # periodically save the model\n",
    "            if i % 1000 == 0:\n",
    "                saver.save(sess, '{}/model-{}'.format(save_path, i))\n",
    "                print('Saved model')\n",
    "                \n",
    "            if len(rewards) % 10 == 0:\n",
    "                print('Number steps:', n_steps, 'mean reward:', np.mean(rewards[-10:]), 'epsilon:', epsilon)\n",
    "                \n",
    "        saver.save(sess, '{}/model-{}'.format(save_path, i))\n",
    "        \n",
    "    print('Successful episodes %:', str(sum(rewards) / n_episodes))\n",
    "    \n",
    "    return rewards, js"
   ]
  },
  {
   "cell_type": "code",
   "execution_count": 11,
   "metadata": {},
   "outputs": [
    {
     "name": "stdout",
     "output_type": "stream",
     "text": [
      "Saved model\n",
      "Number steps: 500 mean reward: 2.8 epsilon: 1\n",
      "Number steps: 1000 mean reward: 0.9 epsilon: 1\n",
      "Number steps: 1500 mean reward: 2.8 epsilon: 1\n",
      "Number steps: 2000 mean reward: 2.5 epsilon: 1\n",
      "Number steps: 2500 mean reward: 0.5 epsilon: 1\n",
      "Number steps: 3000 mean reward: 0.3 epsilon: 1\n",
      "Number steps: 3500 mean reward: 1.7 epsilon: 1\n",
      "Number steps: 4000 mean reward: 3.4 epsilon: 1\n",
      "Number steps: 4500 mean reward: 2.1 epsilon: 1\n",
      "Number steps: 5000 mean reward: 1.2 epsilon: 1\n",
      "Number steps: 5500 mean reward: 1.9 epsilon: 1\n",
      "Number steps: 6000 mean reward: 2.0 epsilon: 1\n",
      "Number steps: 6500 mean reward: 2.8 epsilon: 1\n",
      "Number steps: 7000 mean reward: 2.4 epsilon: 1\n",
      "Number steps: 7500 mean reward: 2.0 epsilon: 1\n",
      "Number steps: 8000 mean reward: 1.4 epsilon: 1\n",
      "Number steps: 8500 mean reward: 1.8 epsilon: 1\n",
      "Number steps: 9000 mean reward: 2.8 epsilon: 1\n",
      "Number steps: 9500 mean reward: 2.2 epsilon: 1\n",
      "Number steps: 10000 mean reward: 2.8 epsilon: 1\n",
      "Number steps: 10500 mean reward: 1.8 epsilon: 0.9549999999999828\n",
      "Number steps: 11000 mean reward: 3.8 epsilon: 0.9099999999999655\n",
      "Number steps: 11500 mean reward: 1.9 epsilon: 0.8649999999999483\n",
      "Number steps: 12000 mean reward: 1.0 epsilon: 0.819999999999931\n",
      "Number steps: 12500 mean reward: 2.6 epsilon: 0.7749999999999138\n",
      "Number steps: 13000 mean reward: 3.0 epsilon: 0.7299999999998965\n",
      "Number steps: 13500 mean reward: 1.7 epsilon: 0.6849999999998793\n",
      "Number steps: 14000 mean reward: 2.8 epsilon: 0.639999999999862\n",
      "Number steps: 14500 mean reward: 1.1 epsilon: 0.5949999999998448\n",
      "Number steps: 15000 mean reward: 2.5 epsilon: 0.5499999999998275\n",
      "Number steps: 15500 mean reward: 1.7 epsilon: 0.5049999999998103\n",
      "Number steps: 16000 mean reward: 1.8 epsilon: 0.4599999999998177\n",
      "Number steps: 16500 mean reward: 2.6 epsilon: 0.41499999999982823\n",
      "Number steps: 17000 mean reward: 1.7 epsilon: 0.36999999999983874\n",
      "Number steps: 17500 mean reward: 2.3 epsilon: 0.32499999999984924\n",
      "Number steps: 18000 mean reward: 4.3 epsilon: 0.27999999999985975\n",
      "Number steps: 18500 mean reward: 4.5 epsilon: 0.23499999999986562\n",
      "Number steps: 19000 mean reward: 3.1 epsilon: 0.18999999999986225\n",
      "Number steps: 19500 mean reward: 2.6 epsilon: 0.14499999999985888\n",
      "Number steps: 20000 mean reward: 2.5 epsilon: 0.09999999999985551\n",
      "Number steps: 20500 mean reward: 2.4 epsilon: 0.09999999999985551\n",
      "Number steps: 21000 mean reward: 2.1 epsilon: 0.09999999999985551\n",
      "Number steps: 21500 mean reward: 2.1 epsilon: 0.09999999999985551\n",
      "Number steps: 22000 mean reward: 2.7 epsilon: 0.09999999999985551\n",
      "Number steps: 22500 mean reward: 2.5 epsilon: 0.09999999999985551\n",
      "Number steps: 23000 mean reward: 2.0 epsilon: 0.09999999999985551\n",
      "Number steps: 23500 mean reward: 3.2 epsilon: 0.09999999999985551\n",
      "Number steps: 24000 mean reward: 2.3 epsilon: 0.09999999999985551\n",
      "Number steps: 24500 mean reward: 2.3 epsilon: 0.09999999999985551\n",
      "Number steps: 25000 mean reward: 3.6 epsilon: 0.09999999999985551\n",
      "Successful episodes %: 2.296\n"
     ]
    }
   ],
   "source": [
    "rewards, _ = train()"
   ]
  },
  {
   "cell_type": "markdown",
   "metadata": {},
   "source": [
    "### Check Network Learning"
   ]
  },
  {
   "cell_type": "code",
   "execution_count": 12,
   "metadata": {},
   "outputs": [
    {
     "data": {
      "text/plain": [
       "[<matplotlib.lines.Line2D at 0x7f1bb57fabe0>]"
      ]
     },
     "execution_count": 12,
     "metadata": {},
     "output_type": "execute_result"
    },
    {
     "data": {
      "image/png": "[encoded data removed]",
      "text/plain": [
       "<Figure size 432x288 with 1 Axes>"
      ]
     },
     "metadata": {},
     "output_type": "display_data"
    }
   ],
   "source": [
    "# mean reward over time\n",
    "reward_mat = np.resize(np.array(rewards), [len(rewards) // 100, 100])\n",
    "mean_reward = np.average(reward_mat, 1)\n",
    "plt.plot(mean_reward)"
   ]
  },
  {
   "cell_type": "markdown",
   "metadata": {},
   "source": [
    "## Next Steps\n",
    "\n",
    "A number of improvements above and beyond the DQN architecture described by DeepMind (http://www.davidqiu.com:8888/research/nature14236.pdf), have allowed for even greater performance and stability.\n",
    "\n",
    "### Double DQN\n",
    "\n",
    "The main intuition behind Double DQN is that the regular DQN often overestimates the Q-values of the potential actions to take in a given state. While this would be fine if all actions were always overestimates equally, there was reason to believe this wasn’t the case. You can easily imagine that if certain suboptimal actions regularly were given higher Q-values than optimal actions, the agent would have a hard time ever learning the ideal policy. In order to correct for this, the authors of DDQN paper propose a simple trick: instead of taking the max over Q-values when computing the target-Q value for our training step, we use our primary network to chose an action, and our target network to generate the target Q-value for that action. By decoupling the action choice from the target Q-value generation, we are able to substantially reduce the overestimation, and train faster and more reliably. Below is the new DDQN equation for updating the target value.\n",
    "\n",
    "Q-Target = r + γQ(s’,argmax(Q(s’,a,ϴ),ϴ’))\n",
    "\n",
    "### Dueling DQN\n",
    "\n",
    "In order to explain the reasoning behind the architecture changes that Dueling DQN makes, we need to first explain some a few additional reinforcement learning terms. The Q-values that we have been discussing so far correspond to how good it is to take a certain action given a certain state. This can be written as Q(s,a). This action given state can actually be decomposed into two more fundamental notions of value. The first is the value function V(s), which says simple how good it is to be in any given state. The second is the advantage function A(a), which tells how much better taking a certain action would be compared to the others. We can then think of Q as being the combination of V and A. More formally:\n",
    "\n",
    "Q(s,a) =V(s) + A(a)\n",
    "\n",
    "The goal of Dueling DQN is to have a network that separately computes the advantage and value functions, and combines them back into a single Q-function only at the final layer. It may seem somewhat pointless to do this at first glance. Why decompose a function that we will just put back together? The key to realizing the benefit is to appreciate that our reinforcement learning agent may not need to care about both value and advantage at any given time. For example: imagine sitting outside in a park watching the sunset. It is beautiful, and highly rewarding to be sitting there. No action needs to be taken, and it doesn’t really make sense to think of the value of sitting there as being conditioned on anything beyond the environmental state you are in. We can achieve more robust estimates of state value by decoupling it from the necessity of being attached to specific actions.\n",
    "\n",
    "(From https://medium.com/@awjuliani/simple-reinforcement-learning-with-tensorflow-part-4-deep-q-networks-and-beyond-8438a3e2b8df)"
   ]
  },
  {
   "cell_type": "code",
   "execution_count": null,
   "metadata": {},
   "outputs": [],
   "source": []
  }
 ],
 "metadata": {
  "kernelspec": {
   "display_name": "Python 3",
   "language": "python",
   "name": "python3"
  },
  "language_info": {
   "codemirror_mode": {
    "name": "ipython",
    "version": 3
   },
   "file_extension": ".py",
   "mimetype": "text/x-python",
   "name": "python",
   "nbconvert_exporter": "python",
   "pygments_lexer": "ipython3",
   "version": "3.5.2"
  }
 },
 "nbformat": 4,
 "nbformat_minor": 2
}
