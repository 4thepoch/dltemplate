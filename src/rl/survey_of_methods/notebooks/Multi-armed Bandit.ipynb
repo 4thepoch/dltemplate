{
 "cells": [
  {
   "cell_type": "markdown",
   "metadata": {},
   "source": [
    "## The Multi-armed bandit\n",
    "\n",
    "This tutorial contains a simple example of how to build a policy-gradient based agent that can solve the multi-armed bandit problem."
   ]
  },
  {
   "cell_type": "code",
   "execution_count": 1,
   "metadata": {},
   "outputs": [],
   "source": [
    "import tensorflow as tf\n",
    "import numpy as np"
   ]
  },
  {
   "cell_type": "markdown",
   "metadata": {},
   "source": [
    "### The Bandits\n",
    "\n",
    "Here we define our bandits. For this example we are using a four-armed bandit. The pullBandit function generates a random number from a normal distribution with a mean of 0. The lower the bandit number, the more likely a positive reward will be returned. We want our agent to learn to always choose the bandit that will give that positive reward."
   ]
  },
  {
   "cell_type": "code",
   "execution_count": 2,
   "metadata": {},
   "outputs": [],
   "source": [
    "# Currently bandit 4 (index#3) is set to most often provide a positive reward\n",
    "bandits = [0.2, 0, -0.2, -5]\n",
    "n_bandits = len(bandits)\n",
    "\n",
    "def pull_bandit(bandit):\n",
    "    result = np.random.randn(1)\n",
    "    return 1 if result > bandit else -1"
   ]
  },
  {
   "cell_type": "markdown",
   "metadata": {},
   "source": [
    "### The Agent\n",
    "\n",
    "The code below establishes our simple neural agent. It consists of a set of values for each of the bandits. Each value is an estimate of the value of the return from choosing the bandit. We use a policy gradient method to update the agent by moving the value for the selected action toward the received reward."
   ]
  },
  {
   "cell_type": "code",
   "execution_count": 3,
   "metadata": {},
   "outputs": [],
   "source": [
    "tf.reset_default_graph()\n",
    "\n",
    "# These two lines established the feed-forward part of the network. This does the actual choosing.\n",
    "W = tf.Variable(tf.ones([n_bandits]))\n",
    "a = tf.argmax(W, 0)\n",
    "\n",
    "reward_ph = tf.placeholder(shape=[1], dtype=tf.float32)\n",
    "action_ph = tf.placeholder(shape=[1], dtype=tf.int32)\n",
    "responsible_weight = tf.slice(W, action_ph, [1])\n",
    "loss = -tf.log(responsible_weight) * reward_ph\n",
    "optimizer = tf.train.GradientDescentOptimizer(learning_rate=0.001)\n",
    "update_op = optimizer.minimize(loss)"
   ]
  },
  {
   "cell_type": "markdown",
   "metadata": {},
   "source": [
    "### Training the Agent\n",
    "\n",
    "We will train our agent by taking actions in our environment, and receiving rewards. Using the rewards and actions, we can know how to properly update our network in order to more often choose actions that will yield the highest rewards over time."
   ]
  },
  {
   "cell_type": "code",
   "execution_count": 4,
   "metadata": {},
   "outputs": [
    {
     "name": "stdout",
     "output_type": "stream",
     "text": [
      "Running reward for the 4 bandits: [1. 0. 0. 0.]\n",
      "Running reward for the 4 bandits: [-2. -2.  1. 40.]\n",
      "Running reward for the 4 bandits: [-2. -2.  1. 88.]\n",
      "Running reward for the 4 bandits: [ -2.  -2.   1. 138.]\n",
      "Running reward for the 4 bandits: [ -3.  -2.   1. 185.]\n",
      "Running reward for the 4 bandits: [ -3.  -2.   1. 233.]\n",
      "Running reward for the 4 bandits: [ -2.  -3.   2. 278.]\n",
      "Running reward for the 4 bandits: [ -1.  -2.   2. 324.]\n",
      "Running reward for the 4 bandits: [  0.  -1.   3. 371.]\n",
      "Running reward for the 4 bandits: [  2.   0.   2. 417.]\n",
      "Running reward for the 4 bandits: [  0.   0.   1. 464.]\n",
      "Running reward for the 4 bandits: [  0.   0.   1. 514.]\n",
      "Running reward for the 4 bandits: [ -2.   0.   2. 559.]\n",
      "Running reward for the 4 bandits: [ -2.   0.   2. 605.]\n",
      "Running reward for the 4 bandits: [ -4.   1.   1. 649.]\n",
      "Running reward for the 4 bandits: [ -5.   1.   2. 697.]\n",
      "Running reward for the 4 bandits: [ -5.   3.   2. 745.]\n",
      "Running reward for the 4 bandits: [ -5.   2.   5. 791.]\n",
      "Running reward for the 4 bandits: [ -6.   2.   4. 835.]\n",
      "Running reward for the 4 bandits: [ -8.   1.   7. 879.]\n"
     ]
    }
   ],
   "source": [
    "n_episodes = 1000\n",
    "total_reward = np.zeros(n_bandits)  # set scoreboard for bandits to 0.\n",
    "epsilon = 0.1 # set the chance of taking a random action\n",
    "\n",
    "with tf.Session() as sess:\n",
    "    sess.run(tf.global_variables_initializer())\n",
    "    for i in range(n_episodes):\n",
    "        # explore else exploit\n",
    "        if np.random.rand(1) < epsilon:\n",
    "            action = np.random.randint(n_bandits)\n",
    "        else:\n",
    "            action = sess.run(a)\n",
    "            \n",
    "        reward = pull_bandit(bandits[action])\n",
    "        \n",
    "        # Update the network\n",
    "        _, resp_w, W1 = sess.run([update_op, responsible_weight, W], feed_dict={\n",
    "            reward_ph: [reward],\n",
    "            action_ph: [action]\n",
    "        })\n",
    "        \n",
    "        # Update the running tally of scores\n",
    "        total_reward[action] += reward\n",
    "        \n",
    "        if i % 50 == 0:\n",
    "            print('Running reward for the %i bandits: %s' % (n_bandits, str(total_reward)))"
   ]
  },
  {
   "cell_type": "code",
   "execution_count": 5,
   "metadata": {},
   "outputs": [
    {
     "name": "stdout",
     "output_type": "stream",
     "text": [
      "The agent thinks bandit 4 is the most promising\n",
      "and it is right\n"
     ]
    }
   ],
   "source": [
    "print('The agent thinks bandit %s is the most promising' % str(np.argmax(W1) + 1))\n",
    "if np.argmax(W1) == np.argmax(-np.array(bandits)):\n",
    "    print('and it is right')\n",
    "else:\n",
    "    print('and it is wrong')"
   ]
  },
  {
   "cell_type": "code",
   "execution_count": null,
   "metadata": {},
   "outputs": [],
   "source": []
  }
 ],
 "metadata": {
  "kernelspec": {
   "display_name": "Python 3",
   "language": "python",
   "name": "python3"
  },
  "language_info": {
   "codemirror_mode": {
    "name": "ipython",
    "version": 3
   },
   "file_extension": ".py",
   "mimetype": "text/x-python",
   "name": "python",
   "nbconvert_exporter": "python",
   "pygments_lexer": "ipython3",
   "version": "3.5.2"
  }
 },
 "nbformat": 4,
 "nbformat_minor": 2
}
