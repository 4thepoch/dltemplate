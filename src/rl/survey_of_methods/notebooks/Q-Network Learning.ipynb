{
 "cells": [
  {
   "cell_type": "code",
   "execution_count": 1,
   "metadata": {},
   "outputs": [],
   "source": [
    "import gym\n",
    "import numpy as np\n",
    "import random\n",
    "import tensorflow as tf\n",
    "import matplotlib.pyplot as plt\n",
    "%matplotlib inline"
   ]
  },
  {
   "cell_type": "code",
   "execution_count": 2,
   "metadata": {},
   "outputs": [],
   "source": [
    "env = gym.make('FrozenLake-v0')"
   ]
  },
  {
   "cell_type": "code",
   "execution_count": 3,
   "metadata": {},
   "outputs": [],
   "source": [
    "tf.reset_default_graph()"
   ]
  },
  {
   "cell_type": "code",
   "execution_count": 4,
   "metadata": {},
   "outputs": [],
   "source": [
    "# These lines establish the feed-forward part of the network used to choose actions\n",
    "inputs = tf.placeholder(shape=[1, 16], dtype=tf.float32)\n",
    "W = tf.Variable(tf.random_uniform([16, 4], 0, 0.01))\n",
    "Q_out = tf.matmul(inputs, W)\n",
    "predict_op = tf.argmax(Q_out, 1)\n",
    "\n",
    "# Below we obtain the loss by taking the sum of squares difference between the target and prediction Q values\n",
    "next_Q = tf.placeholder(shape=[1, 4], dtype=tf.float32)\n",
    "loss = tf.reduce_sum(tf.square(next_Q - Q_out))\n",
    "optimizer = tf.train.GradientDescentOptimizer(learning_rate=0.1)\n",
    "update_op = optimizer.minimize(loss)"
   ]
  },
  {
   "cell_type": "code",
   "execution_count": 7,
   "metadata": {},
   "outputs": [],
   "source": [
    "gamma = 0.99\n",
    "epsilon = 0.1\n",
    "n_episodes = 2000"
   ]
  },
  {
   "cell_type": "code",
   "execution_count": 9,
   "metadata": {},
   "outputs": [],
   "source": [
    "js = []\n",
    "rewards = []\n",
    "with tf.Session() as sess:\n",
    "    sess.run(tf.global_variables_initializer())\n",
    "    for i in range(n_episodes):\n",
    "        s = env.reset()  # reset environment and get first new observation\n",
    "        total_reward = 0\n",
    "        d = False\n",
    "        j = 0\n",
    "        while j < 99:\n",
    "            j += 1\n",
    "            # Choose an action by greedily (with noise) picking from Q table\n",
    "            a, all_Q = sess.run([predict_op, Q_out], feed_dict={inputs: np.identity(16)[s: s+1]})\n",
    "            \n",
    "            # exploit or explore\n",
    "            if np.random.rand(1) < epsilon:\n",
    "                a[0] = env.action_space.sample()\n",
    "            \n",
    "            # Get new state and reward from environment\n",
    "            s1, r, d, _ = env.step(a[0])\n",
    "            \n",
    "            # Obtain the Q' values by feeding the new state through our network\n",
    "            Q1 = sess.run(Q_out, feed_dict={inputs: np.identity(16)[s1: s1+1]})\n",
    "            \n",
    "            # Obtain max_Q' and set out target value for chosen action\n",
    "            max_Q1 = np.max(Q1)\n",
    "            target_Q = all_Q\n",
    "            target_Q[0, a[0]] = r + gamma * max_Q1\n",
    "            \n",
    "            # Train our network using target and predicted Q values\n",
    "            _, W1 = sess.run([update_op, W], feed_dict={inputs: np.identity(16)[s: s+1], next_Q: target_Q})\n",
    "\n",
    "            total_reward += r\n",
    "            s = s1\n",
    "            if d == True:\n",
    "                # Reduce exploration as the model trains\n",
    "                epsilon = 1. / ((i / 50) + 10)\n",
    "                break\n",
    "\n",
    "        js.append(j)\n",
    "        rewards.append(total_reward)"
   ]
  },
  {
   "cell_type": "code",
   "execution_count": 12,
   "metadata": {},
   "outputs": [
    {
     "name": "stdout",
     "output_type": "stream",
     "text": [
      "% of successful episodes: 0.4645\n"
     ]
    }
   ],
   "source": [
    "print('% of successful episodes:', str(sum(rewards) / n_episodes))"
   ]
  },
  {
   "cell_type": "code",
   "execution_count": 11,
   "metadata": {},
   "outputs": [
    {
     "data": {
      "text/plain": [
       "[<matplotlib.lines.Line2D at 0x7f7cdd646518>]"
      ]
     },
     "execution_count": 11,
     "metadata": {},
     "output_type": "execute_result"
    },
    {
     "data": {
      "image/png": "[encoded data removed]",
      "text/plain": [
       "<Figure size 432x288 with 1 Axes>"
      ]
     },
     "metadata": {},
     "output_type": "display_data"
    }
   ],
   "source": [
    "plt.plot(rewards)"
   ]
  },
  {
   "cell_type": "code",
   "execution_count": 13,
   "metadata": {},
   "outputs": [
    {
     "data": {
      "text/plain": [
       "[<matplotlib.lines.Line2D at 0x7f7cdc106550>]"
      ]
     },
     "execution_count": 13,
     "metadata": {},
     "output_type": "execute_result"
    },
    {
     "data": {
      "image/png": "[encoded data removed]",
      "text/plain": [
       "<Figure size 432x288 with 1 Axes>"
      ]
     },
     "metadata": {},
     "output_type": "display_data"
    }
   ],
   "source": [
    "plt.plot(js)"
   ]
  },
  {
   "cell_type": "code",
   "execution_count": null,
   "metadata": {},
   "outputs": [],
   "source": []
  }
 ],
 "metadata": {
  "kernelspec": {
   "display_name": "Python 3",
   "language": "python",
   "name": "python3"
  },
  "language_info": {
   "codemirror_mode": {
    "name": "ipython",
    "version": 3
   },
   "file_extension": ".py",
   "mimetype": "text/x-python",
   "name": "python",
   "nbconvert_exporter": "python",
   "pygments_lexer": "ipython3",
   "version": "3.5.2"
  }
 },
 "nbformat": 4,
 "nbformat_minor": 2
}
