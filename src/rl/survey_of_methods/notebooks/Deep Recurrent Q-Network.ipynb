{
 "cells": [
  {
   "cell_type": "markdown",
   "metadata": {},
   "source": [
    "# Deep Recurrent Q-Network"
   ]
  },
  {
   "cell_type": "markdown",
   "metadata": {},
   "source": [
    "Implement a Deep Recurrent Q-Network, which can solve Partially Observable Markov Decision Processes.\n",
    "\n",
    "To learn more about DRQNs, see my blog post on them here: https://medium.com/p/68463e9aeefc."
   ]
  },
  {
   "cell_type": "code",
   "execution_count": 1,
   "metadata": {},
   "outputs": [],
   "source": [
    "import csv\n",
    "from gridworld import GameEnvironment\n",
    "import gym\n",
    "from helper import process_state, save_to_monitor, update_target, update_target_graph\n",
    "import matplotlib.pyplot as plt\n",
    "import numpy as np\n",
    "import os\n",
    "import random\n",
    "import scipy.misc\n",
    "import tensorflow as tf\n",
    "import tensorflow.contrib.slim as slim\n",
    "from tqdm import trange\n",
    "%matplotlib inline"
   ]
  },
  {
   "cell_type": "markdown",
   "metadata": {},
   "source": [
    "### Load the Game Environment"
   ]
  },
  {
   "cell_type": "markdown",
   "metadata": {},
   "source": [
    "Feel free to adjust the size of the gridworld. Making it smaller (adjusting size) provides an easier task for our DRQN agent, while making the world larger increases the challenge.\n",
    "\n",
    "Initializing the Gridworld with True limits the field of view, resulting in a partially observable MDP. Initializing it with False provides the agent with the entire environment, resulting in a fully observable MDP."
   ]
  },
  {
   "cell_type": "code",
   "execution_count": 2,
   "metadata": {},
   "outputs": [
    {
     "data": {
      "image/png": "[encoded data removed]",
      "text/plain": [
       "<Figure size 432x288 with 1 Axes>"
      ]
     },
     "metadata": {},
     "output_type": "display_data"
    }
   ],
   "source": [
    "env = GameEnvironment(partial=True, size=9)"
   ]
  },
  {
   "cell_type": "markdown",
   "metadata": {},
   "source": [
    "Above is an example of a starting environment in our simple game. The agent controls the blue square, and can move up, down, left, or right. The goal is to move to the green square (for +1 reward) and avoid the red square (for -1 reward). When the agent moves through a green or red square, it is randomly moved to a new place in the environment."
   ]
  },
  {
   "cell_type": "markdown",
   "metadata": {},
   "source": [
    "### Implementing the network"
   ]
  },
  {
   "cell_type": "code",
   "execution_count": 1,
   "metadata": {},
   "outputs": [],
   "source": [
    "class QNetwork(object):\n",
    "    \n",
    "    def __init__(self, n_hidden, rnn_cell, scope):\n",
    "        # The network receives a frame from the game, flattened into an array.\n",
    "        # It then resizes and processes it through four convolutional layers.\n",
    "        self.scalar_input = tf.placeholder(shape=[None, 21168], dtype=tf.float32)\n",
    "        self.image_in = tf.reshape(self.scalar_input, shape=[-1, 84, 84, 3])\n",
    "        self.conv1 = slim.conv2d(inputs=self.image_in, num_outputs=32,\n",
    "                                 kernel_size=[8, 8], stride=[4, 4], padding='VALID', \n",
    "                                 biases_initializer=None, scope=scope + '_conv1')\n",
    "        self.conv2 = slim.conv2d(inputs=self.conv1, num_outputs=64,\n",
    "                                 kernel_size=[4, 4], stride=[2, 2], padding='VALID', \n",
    "                                 biases_initializer=None, scope=scope + '_conv2')\n",
    "        self.conv3 = slim.conv2d(inputs=self.conv2, num_outputs=64,\n",
    "                                 kernel_size=[3, 3], stride=[1, 1], padding='VALID', \n",
    "                                 biases_initializer=None, scope=scope + '_conv3')\n",
    "        self.conv4 = slim.conv2d(inputs=self.conv3, num_outputs=n_hidden,\n",
    "                                 kernel_size=[7, 7], stride=[1, 1], padding='VALID', \n",
    "                                 biases_initializer=None, scope=scope + '_conv4')\n",
    "        \n",
    "        self.sequence_length = tf.placeholder(dtype=tf.int32)\n",
    "        \n",
    "        # Take the output from the final convolutional layer and send it \n",
    "        # to a recurrent layer. The input must be reshaped into \n",
    "        # [batch, trace, units] for RNN processing, and then returned to\n",
    "        # [batch, units] when sent through the upper levels.\n",
    "        self.batch_size = tf.placeholder(dtype=tf.int32, shape=[])\n",
    "        self.conv_flat = tf.reshape(slim.flatten(self.conv4), [self.batch_size, self.sequence_length, n_hidden])\n",
    "        self.state_in = rnn_cell.zero_state(self.batch_size, tf.float32)\n",
    "        self.rnn, self.rnn_state = tf.nn.dynamic_rnn(inputs=self.conv_flat, cell=rnn_cell, dtype=tf.float32, \n",
    "                                                     initial_state=self.state_in, scope=scope + '_rnn')\n",
    "        self.rnn = tf.reshape(self.rnn, shape=[-1, n_hidden])\n",
    "        \n",
    "        # The output from the recurrent layer is then split into separate \n",
    "        # Advantage and Value streams.\n",
    "        self.stream_a, self.stream_v = tf.split(self.rnn, 2, 1)\n",
    "        self.aw = tf.Variable(tf.random_normal([n_hidden // 2, 4]))\n",
    "        self.vw = tf.Variable(tf.random_normal([n_hidden // 2, 1]))\n",
    "        self.advantage = tf.matmul(self.stream_a, self.aw)\n",
    "        self.value = tf.matmul(self.stream_v, self.vw)\n",
    "        self.salience = tf.gradients(self.advantage, self.image_in)\n",
    "        \n",
    "        # then combine them together to get our final Q-values\n",
    "        self.q_out = self.value + tf.subtract(self.advantage, tf.reduce_mean(self.advantage, axis=1, keepdims=True))\n",
    "        self.predict = tf.argmax(self.q_out, 1)\n",
    "        \n",
    "        # obtain the loss by taking the sum of squares difference between \n",
    "        # the target and predicted Q-values\n",
    "        self.target_q = tf.placeholder(shape=[None], dtype=tf.float32)\n",
    "        self.actions = tf.placeholder(shape=[None], dtype=tf.int32)\n",
    "        self.actions_onehot = tf.one_hot(self.actions, 4, dtype=tf.float32)\n",
    "        \n",
    "        self.q = tf.reduce_sum(tf.multiply(self.q_out, self.actions_onehot), axis=1)\n",
    "        \n",
    "        self.td_error = tf.square(self.target_q - self.q)\n",
    "        \n",
    "        # In order to only propagate accurate gradients through the network,\n",
    "        # we will mask the first half of the losses for each trace as per\n",
    "        # Lample & Chatlot 2016\n",
    "        self.mask_a = tf.zeros([self.batch_size, self.sequence_length // 2])\n",
    "        self.mask_b = tf.ones([self.batch_size, self.sequence_length // 2])\n",
    "        self.mask = tf.concat([self.mask_a, self.mask_b], 1)\n",
    "        self.mask = tf.reshape(self.mask, [-1])\n",
    "        self.loss = tf.reduce_mean(self.td_error * self.mask)\n",
    "        \n",
    "        self.optimizer = tf.train.AdamOptimizer(learning_rate=0.0001)\n",
    "        self.update_op = self.optimizer.minimize(self.loss)"
   ]
  },
  {
   "cell_type": "markdown",
   "metadata": {},
   "source": [
    "### Experience Replay\n",
    "\n",
    "This class lets us store experiences, then sample them randomly to train the network. Episode buffer stores experiences for each individal episode. Experience buffer stores entire episodes of experience, and sample() allows us to get training batches needed from the network."
   ]
  },
  {
   "cell_type": "code",
   "execution_count": 4,
   "metadata": {},
   "outputs": [],
   "source": [
    "class ExperienceBuffer(object):\n",
    "    \n",
    "    def __init__(self, buffer_size=1000):\n",
    "        self.buffer = []\n",
    "        self.buffer_size = buffer_size\n",
    "        \n",
    "    def add(self, experience):\n",
    "        n = len(self.buffer) + 1\n",
    "        if n >= self.buffer_size:\n",
    "            self.buffer[0:n-self.buffer_size] = []\n",
    "            \n",
    "        self.buffer.append(experience)\n",
    "        \n",
    "    def sample(self, batch_size, trace_length):\n",
    "        sampled_episodes = random.sample(self.buffer, batch_size)\n",
    "        sampled_traces = []\n",
    "        for episode in sampled_episodes:\n",
    "            point = np.random.randint(0, len(episode) + 1 - trace_length)\n",
    "            sampled_traces.append(episode[point:point+trace_length])\n",
    "            \n",
    "        return np.reshape(np.array(sampled_traces), [batch_size * trace_length, 5])"
   ]
  },
  {
   "cell_type": "markdown",
   "metadata": {},
   "source": [
    "### Train the network"
   ]
  },
  {
   "cell_type": "code",
   "execution_count": 5,
   "metadata": {},
   "outputs": [],
   "source": [
    "# hyperparams:\n",
    "\n",
    "batch_size = 4  # number experience traces to use for each training step\n",
    "trace_length = 8  # length of each experience trace when training\n",
    "update_freq = 5  # frequency of performing a training step\n",
    "gamma = 0.99  # discount factor on the target Q-values\n",
    "start_epsilon = 1  # starting chance of random action\n",
    "end_epsilon = 0.1  # final chance of random action\n",
    "annealing_steps = 10000  # number steps of training to reduce start_epsilon to end_epsilon\n",
    "#n_episodes = 10000  # number episodes of game environment to train network\n",
    "n_episodes = 500\n",
    "n_pretrain_steps = 10000  # number steps of random actions before training begins\n",
    "max_episode_length = 50  # max allowed length of our episode\n",
    "n_hidden = 512  # size of final convolutional layer before splitting it into Advantage and Value streams\n",
    "time_per_step = 1  # length of each step used in gif creation\n",
    "summary_length = 100  # number episodes to periodically save for analysis\n",
    "tau = 0.001\n",
    "load_model = False  # whether to load a saved model\n",
    "save_path = 'drqn'  # path to save our model to"
   ]
  },
  {
   "cell_type": "markdown",
   "metadata": {},
   "source": [
    "Learning should occur in a couple hours on a moderately powerful machine (GTX970). (Getting Atari games to work will take at least a day of training on a powerful machine.)"
   ]
  },
  {
   "cell_type": "code",
   "execution_count": 15,
   "metadata": {},
   "outputs": [],
   "source": [
    "def train():\n",
    "    tf.reset_default_graph()\n",
    "    \n",
    "    # we define the cells for the primary and target Q-networks\n",
    "    cell_main = tf.contrib.rnn.BasicLSTMCell(num_units=n_hidden, state_is_tuple=True)\n",
    "    cell_target = tf.contrib.rnn.BasicLSTMCell(num_units=n_hidden, state_is_tuple=True)\n",
    "    main_network = QNetwork(n_hidden, cell_main, 'main')\n",
    "    target_network = QNetwork(n_hidden, cell_target, 'target')\n",
    "    saver = tf.train.Saver()\n",
    "    trainables = tf.trainable_variables()\n",
    "    target_ops = update_target_graph(trainables, tau)\n",
    "    buffer = ExperienceBuffer()\n",
    "    epsilon = start_epsilon\n",
    "    step_drop = (start_epsilon - end_epsilon) / annealing_steps\n",
    "    js, rewards = [], []\n",
    "    n_steps = 0\n",
    "    \n",
    "    # make path to save model, unless path already exists\n",
    "    if not os.path.exists(save_path):\n",
    "        os.makedirs(save_path)\n",
    "        \n",
    "    # write the first line of the master log-file for the Control Center\n",
    "    with open('monitor/log.csv', 'w') as f:\n",
    "        writer = csv.writer(f, quoting=csv.QUOTE_ALL)\n",
    "        writer.writerow(['Episode', 'Length', 'Reward', 'IMG', 'LOG', 'SAL'])\n",
    "        \n",
    "    with tf.Session() as sess:\n",
    "        if load_model:\n",
    "            print('Loading model...')\n",
    "            ckpt = tf.train.get_checkpoint_state(save_path)\n",
    "            saver.restore(sess, ckpt.model_checkpoint_path)\n",
    "            \n",
    "        sess.run(tf.global_variables_initializer())\n",
    "        for i in range(n_episodes):\n",
    "            episode_buffer = []\n",
    "            \n",
    "            # reset environment and get first new observation\n",
    "            s_p = env.reset()\n",
    "            s = process_state(s_p)\n",
    "            done = False\n",
    "            total_reward = 0\n",
    "            j = 0\n",
    "            \n",
    "            # reset the recurrent layer's hidden state\n",
    "            state = (np.zeros([1, n_hidden]), np.zeros([1, n_hidden]))\n",
    "            \n",
    "            # Train the Q-network\n",
    "            # if the agent takes longer to reach either of the blocks, then end the trial\n",
    "            while j < max_episode_length:\n",
    "                j += 1\n",
    "                \n",
    "                # choose an action greedily from the Q-network, \n",
    "                # with epsilon chance of random action\n",
    "                if np.random.rand(1) < epsilon or n_steps < n_pretrain_steps:\n",
    "                    state1 = sess.run(main_network.rnn_state, feed_dict={\n",
    "                        main_network.scalar_input: [s / 255.],\n",
    "                        main_network.sequence_length: 1,\n",
    "                        main_network.state_in: state,\n",
    "                        main_network.batch_size: 1\n",
    "                    })\n",
    "                    a = np.random.randint(0, 4)\n",
    "                else:\n",
    "                    a, state1 = sess.run([main_network.predict, main_network.rnn_state], feed_dict={\n",
    "                        main_network.scalar_input: [s / 255.],\n",
    "                        main_network.sequence_length: 1,\n",
    "                        main_network.state_in: state,\n",
    "                        main_network.batch_size: 1\n",
    "                    })\n",
    "                    a = a[0]\n",
    "                \n",
    "                s1_p, reward, done = env.step(a)\n",
    "                s1 = process_state(s1_p)\n",
    "                n_steps += 1\n",
    "                \n",
    "                # save the experience to our episode buffer\n",
    "                episode_buffer.append(np.reshape(np.array([s, a, reward, s1, done]), [1, 5]))\n",
    "                \n",
    "                if n_steps > n_pretrain_steps:\n",
    "                    if epsilon > end_epsilon:\n",
    "                        epsilon -= step_drop\n",
    "                        \n",
    "                    if n_steps % update_freq == 0:\n",
    "                        update_target(target_ops, sess)\n",
    "                        state_train = (np.zeros([batch_size, n_hidden]), np.zeros([batch_size, n_hidden]))\n",
    "                        \n",
    "                        # get a random batch of experiences\n",
    "                        train_batch = buffer.sample(batch_size, trace_length)\n",
    "                        \n",
    "                        # perform the Double-DQN update to the target Q-values\n",
    "                        q1 = sess.run(main_network.predict, feed_dict={\n",
    "                            main_network.scalar_input: np.vstack(train_batch[:, 3] / 255.),\n",
    "                            main_network.sequence_length: trace_length,\n",
    "                            main_network.state_in: state_train,\n",
    "                            main_network.batch_size: batch_size\n",
    "                        })\n",
    "                        q2 = sess.run(target_network.q_out, feed_dict={\n",
    "                            target_network.scalar_input: np.vstack(train_batch[:, 3] / 255.),\n",
    "                            target_network.sequence_length: trace_length,\n",
    "                            target_network.state_in: state_train,\n",
    "                            target_network.batch_size: batch_size\n",
    "                        })\n",
    "                        end_multiplier = -train_batch[:, 4] - 1\n",
    "                        double_q = q2[range(batch_size * trace_length), q1]\n",
    "                        target_q = train_batch[:, 2] + gamma * double_q * end_multiplier\n",
    "                        \n",
    "                        # update the network with our target values\n",
    "                        _ = sess.run(main_network.update_op, feed_dict={\n",
    "                            main_network.scalar_input: np.vstack(train_batch[:, 0] / 255.),\n",
    "                            main_network.target_q: target_q,\n",
    "                            main_network.actions: train_batch[:, 1],\n",
    "                            main_network.sequence_length: trace_length,\n",
    "                            main_network.state_in: state_train,\n",
    "                            main_network.batch_size: batch_size\n",
    "                        })\n",
    "                        \n",
    "                total_reward += reward\n",
    "                s = s1\n",
    "                s_p = s1_p\n",
    "                state = state1\n",
    "                \n",
    "                if done:\n",
    "                    break\n",
    "                    \n",
    "            buffer_array = np.array(episode_buffer)\n",
    "            episode_buffer = list(zip(buffer_array))\n",
    "            buffer.add(episode_buffer)\n",
    "            js.append(j)\n",
    "            rewards.append(total_reward)\n",
    "            \n",
    "            # periodically save the model\n",
    "            if i % 1000 == 0:\n",
    "                saver.save(sess, '{}/model-{}'.format(save_path, i))\n",
    "                print('Saved model')\n",
    "                \n",
    "            if len(rewards) % 100 == 0 and i != 0:\n",
    "                print('Number steps:', n_steps, 'mean reward:', np.mean(rewards[-10:]), 'epsilon:', epsilon)\n",
    "\n",
    "                # record performance metrics and episode logs for the Control Center\n",
    "                save_to_monitor(i, rewards, js, np.reshape(np.array(episode_buffer), [len(episode_buffer), 5]), \n",
    "                                summary_length, n_hidden, sess, main_network, time_per_step)\n",
    "                \n",
    "        saver.save(sess, '{}/model-{}'.format(save_path, i))\n",
    "        \n",
    "    print('Successful episodes %:', str(sum(rewards) / n_episodes))\n",
    "    \n",
    "    return rewards, js"
   ]
  },
  {
   "cell_type": "code",
   "execution_count": 10,
   "metadata": {},
   "outputs": [
    {
     "name": "stdout",
     "output_type": "stream",
     "text": [
      "Saved model\n",
      "Number steps: 5000 mean reward: 0.5 epsilon: 1\n"
     ]
    },
    {
     "name": "stderr",
     "output_type": "stream",
     "text": [
      " 98%|█████████▊| 50/51 [00:00<00:00, 463.36it/s]\n",
      " 98%|█████████▊| 51/52 [00:00<00:00, 1410.71it/s]\n"
     ]
    },
    {
     "name": "stdout",
     "output_type": "stream",
     "text": [
      "Number steps: 10000 mean reward: 0.5 epsilon: 1\n"
     ]
    },
    {
     "name": "stderr",
     "output_type": "stream",
     "text": [
      " 98%|█████████▊| 50/51 [00:00<00:00, 609.61it/s]\n",
      " 98%|█████████▊| 51/52 [00:00<00:00, 1516.42it/s]\n"
     ]
    },
    {
     "name": "stdout",
     "output_type": "stream",
     "text": [
      "Number steps: 15000 mean reward: 2.2 epsilon: 0.5499999999998275\n"
     ]
    },
    {
     "name": "stderr",
     "output_type": "stream",
     "text": [
      " 98%|█████████▊| 50/51 [00:00<00:00, 628.65it/s]\n",
      " 98%|█████████▊| 51/52 [00:00<00:00, 1095.93it/s]\n"
     ]
    },
    {
     "name": "stdout",
     "output_type": "stream",
     "text": [
      "Number steps: 20000 mean reward: 1.1 epsilon: 0.09999999999985551\n"
     ]
    },
    {
     "name": "stderr",
     "output_type": "stream",
     "text": [
      " 98%|█████████▊| 50/51 [00:00<00:00, 651.87it/s]\n",
      " 98%|█████████▊| 51/52 [00:00<00:00, 1090.51it/s]\n"
     ]
    },
    {
     "name": "stdout",
     "output_type": "stream",
     "text": [
      "Number steps: 25000 mean reward: 0.6 epsilon: 0.09999999999985551\n"
     ]
    },
    {
     "name": "stderr",
     "output_type": "stream",
     "text": [
      " 98%|█████████▊| 50/51 [00:00<00:00, 530.93it/s]\n",
      " 98%|█████████▊| 51/52 [00:00<00:00, 1588.82it/s]\n"
     ]
    },
    {
     "name": "stdout",
     "output_type": "stream",
     "text": [
      "Successful episodes %: 0.804\n"
     ]
    }
   ],
   "source": [
    "rewards, _ = train()"
   ]
  },
  {
   "cell_type": "markdown",
   "metadata": {},
   "source": [
    "### Check Network Learning"
   ]
  },
  {
   "cell_type": "code",
   "execution_count": 11,
   "metadata": {},
   "outputs": [
    {
     "data": {
      "text/plain": [
       "[<matplotlib.lines.Line2D at 0x7faef958b160>]"
      ]
     },
     "execution_count": 11,
     "metadata": {},
     "output_type": "execute_result"
    },
    {
     "data": {
      "image/png": "[encoded data removed]",
      "text/plain": [
       "<Figure size 432x288 with 1 Axes>"
      ]
     },
     "metadata": {},
     "output_type": "display_data"
    }
   ],
   "source": [
    "# mean reward over time\n",
    "reward_mat = np.resize(np.array(rewards), [len(rewards) // 100, 100])\n",
    "mean_reward = np.average(reward_mat, 1)\n",
    "plt.plot(mean_reward)"
   ]
  },
  {
   "cell_type": "markdown",
   "metadata": {},
   "source": [
    "### Test the network"
   ]
  },
  {
   "cell_type": "code",
   "execution_count": 12,
   "metadata": {},
   "outputs": [],
   "source": [
    "# hyperparams:\n",
    "\n",
    "epsilon = 0.1  # chance of random action\n",
    "#n_episodes = 10000  # number episodes of game environment to train network\n",
    "n_episodes = 500\n",
    "max_episode_length = 50  # max allowed length of our episode\n",
    "n_hidden = 512  # size of final convolutional layer before splitting it into Advantage and Value streams\n",
    "time_per_step = 1  # length of each step used in gif creation\n",
    "summary_length = 100  # number episodes to periodically save for analysis\n",
    "load_model = True  # whether to load a saved model\n",
    "save_path = 'drqn'  # path to save our model to"
   ]
  },
  {
   "cell_type": "code",
   "execution_count": 16,
   "metadata": {},
   "outputs": [],
   "source": [
    "def test():\n",
    "    tf.reset_default_graph()\n",
    "    \n",
    "    # we define the cells for the primary and target Q-networks\n",
    "    cell_main = tf.contrib.rnn.BasicLSTMCell(num_units=n_hidden, state_is_tuple=True)\n",
    "    cell_target = tf.contrib.rnn.BasicLSTMCell(num_units=n_hidden, state_is_tuple=True)\n",
    "    main_network = QNetwork(n_hidden, cell_main, 'main')\n",
    "    target_network = QNetwork(n_hidden, cell_target, 'target')\n",
    "    saver = tf.train.Saver(max_to_keep=2)\n",
    "    js, rewards = [], []\n",
    "    n_steps = 0\n",
    "    \n",
    "    # make path to save model, unless path already exists\n",
    "    if not os.path.exists(save_path):\n",
    "        os.makedirs(save_path)\n",
    "        \n",
    "    # write the first line of the master log-file for the Control Center\n",
    "    with open('monitor/log.csv', 'w') as f:\n",
    "        writer = csv.writer(f, quoting=csv.QUOTE_ALL)\n",
    "        writer.writerow(['Episode', 'Length', 'Reward', 'IMG', 'LOG', 'SAL'])\n",
    "        \n",
    "    with tf.Session() as sess:\n",
    "        if load_model:\n",
    "            print('Loading model...')\n",
    "            ckpt = tf.train.get_checkpoint_state(save_path)\n",
    "            saver.restore(sess, ckpt.model_checkpoint_path)\n",
    "        else:\n",
    "            sess.run(tf.global_variables_initializer())\n",
    "\n",
    "        for i in range(n_episodes):\n",
    "            episode_buffer = []\n",
    "            \n",
    "            # reset environment and get first new observation\n",
    "            s_p = env.reset()\n",
    "            s = process_state(s_p)\n",
    "            done = False\n",
    "            total_reward = 0\n",
    "            j = 0\n",
    "            \n",
    "            # reset the recurrent layer's hidden state\n",
    "            state = (np.zeros([1, n_hidden]), np.zeros([1, n_hidden]))\n",
    "            \n",
    "            # Train the Q-network\n",
    "            # if the agent takes longer to reach either of the blocks, then end the trial\n",
    "            while j < max_episode_length:\n",
    "                j += 1\n",
    "                \n",
    "                # choose an action greedily from the Q-network, \n",
    "                # with epsilon chance of random action\n",
    "                if np.random.rand(1) < epsilon:\n",
    "                    state1 = sess.run(main_network.rnn_state, feed_dict={\n",
    "                        main_network.scalar_input: [s / 255.],\n",
    "                        main_network.sequence_length: 1,\n",
    "                        main_network.state_in: state,\n",
    "                        main_network.batch_size: 1\n",
    "                    })\n",
    "                    a = np.random.randint(0, 4)\n",
    "                else:\n",
    "                    a, state1 = sess.run([main_network.predict, main_network.rnn_state], feed_dict={\n",
    "                        main_network.scalar_input: [s / 255.],\n",
    "                        main_network.sequence_length: 1,\n",
    "                        main_network.state_in: state,\n",
    "                        main_network.batch_size: 1\n",
    "                    })\n",
    "                    a = a[0]\n",
    "                \n",
    "                s1_p, reward, done = env.step(a)\n",
    "                s1 = process_state(s1_p)\n",
    "                n_steps += 1\n",
    "                \n",
    "                # save the experience to our episode buffer\n",
    "                episode_buffer.append(np.reshape(np.array([s, a, reward, s1, done]), [1, 5]))\n",
    "                \n",
    "                total_reward += reward\n",
    "                s = s1\n",
    "                s_p = s1_p\n",
    "                state = state1\n",
    "                \n",
    "                if done:\n",
    "                    break\n",
    "                    \n",
    "            buffer_array = np.array(episode_buffer)\n",
    "            js.append(j)\n",
    "            rewards.append(total_reward)\n",
    "            \n",
    "            # periodically save the model\n",
    "            if len(rewards) % summary_length == 0 and i != 0:\n",
    "                print('Number steps:', n_steps, 'mean reward:', np.mean(rewards[-10:]), 'epsilon:', epsilon)\n",
    "\n",
    "                # record performance metrics and episode logs for the Control Center\n",
    "                save_to_monitor(i, rewards, js, np.reshape(np.array(episode_buffer), [len(episode_buffer), 5]), \n",
    "                                summary_length, n_hidden, sess, main_network, time_per_step)\n",
    "                \n",
    "    print('Successful episodes %:', str(sum(rewards) / n_episodes))\n",
    "    \n",
    "    return rewards, js"
   ]
  },
  {
   "cell_type": "code",
   "execution_count": 17,
   "metadata": {},
   "outputs": [
    {
     "name": "stdout",
     "output_type": "stream",
     "text": [
      "Loading model...\n",
      "INFO:tensorflow:Restoring parameters from drqn/model-499\n",
      "Number steps: 5000 mean reward: 0.6 epsilon: 0.1\n"
     ]
    },
    {
     "name": "stderr",
     "output_type": "stream",
     "text": [
      " 98%|█████████▊| 50/51 [00:00<00:00, 669.94it/s]\n",
      " 98%|█████████▊| 51/52 [00:00<00:00, 1244.20it/s]\n"
     ]
    },
    {
     "name": "stdout",
     "output_type": "stream",
     "text": [
      "Number steps: 10000 mean reward: 0.7 epsilon: 0.1\n"
     ]
    },
    {
     "name": "stderr",
     "output_type": "stream",
     "text": [
      " 98%|█████████▊| 50/51 [00:00<00:00, 661.05it/s]\n",
      " 98%|█████████▊| 51/52 [00:00<00:00, 1277.57it/s]\n"
     ]
    },
    {
     "name": "stdout",
     "output_type": "stream",
     "text": [
      "Number steps: 15000 mean reward: 0.5 epsilon: 0.1\n"
     ]
    },
    {
     "name": "stderr",
     "output_type": "stream",
     "text": [
      " 98%|█████████▊| 50/51 [00:00<00:00, 580.44it/s]\n",
      " 98%|█████████▊| 51/52 [00:00<00:00, 1227.65it/s]\n"
     ]
    },
    {
     "name": "stdout",
     "output_type": "stream",
     "text": [
      "Number steps: 20000 mean reward: 0.7 epsilon: 0.1\n"
     ]
    },
    {
     "name": "stderr",
     "output_type": "stream",
     "text": [
      " 98%|█████████▊| 50/51 [00:00<00:00, 575.80it/s]\n",
      " 98%|█████████▊| 51/52 [00:00<00:00, 1080.63it/s]\n"
     ]
    },
    {
     "name": "stdout",
     "output_type": "stream",
     "text": [
      "Number steps: 25000 mean reward: 0.4 epsilon: 0.1\n"
     ]
    },
    {
     "name": "stderr",
     "output_type": "stream",
     "text": [
      " 98%|█████████▊| 50/51 [00:00<00:00, 426.45it/s]\n",
      " 98%|█████████▊| 51/52 [00:00<00:00, 1360.25it/s]\n"
     ]
    },
    {
     "name": "stdout",
     "output_type": "stream",
     "text": [
      "Successful episodes %: 0.742\n"
     ]
    }
   ],
   "source": [
    "rewards, _ = test()"
   ]
  },
  {
   "cell_type": "code",
   "execution_count": null,
   "metadata": {},
   "outputs": [],
   "source": []
  }
 ],
 "metadata": {
  "kernelspec": {
   "display_name": "Python 3",
   "language": "python",
   "name": "python3"
  },
  "language_info": {
   "codemirror_mode": {
    "name": "ipython",
    "version": 3
   },
   "file_extension": ".py",
   "mimetype": "text/x-python",
   "name": "python",
   "nbconvert_exporter": "python",
   "pygments_lexer": "ipython3",
   "version": "3.5.2"
  }
 },
 "nbformat": 4,
 "nbformat_minor": 2
}
