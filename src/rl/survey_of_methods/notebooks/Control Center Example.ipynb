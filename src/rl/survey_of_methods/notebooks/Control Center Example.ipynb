{
 "cells": [
  {
   "cell_type": "markdown",
   "metadata": {},
   "source": [
    "# Deep Q-Networks and Beyond"
   ]
  },
  {
   "cell_type": "markdown",
   "metadata": {},
   "source": [
    "Implement a Deep Q-Network using both Double DQN and Dueling DQN.\n",
    "\n",
    "The agent learns to solve a navigation task in a basic grid world.\n",
    "\n",
    "This model makes a few improvements on the ordinary Q-network:\n",
    "\n",
    "1. Going from a single-layer network to a multi-layer convolutional network.\n",
    "2. Implementing Experience Replay, which allows our network to train itself using stored memories from it’s experience.\n",
    "3. Utilizing a second “target” network, which we use to compute target Q-values during updates.\n",
    "\n",
    "It was these three innovations that enabled the Google DeepMind team to achieve superhuman performance on dozens of Atari games using a DQN agent.\n",
    "\n",
    "### Model Architecture\n",
    "\n",
    "Convolutional layers. Instead of considering each pixel independently, convolutional layers allow us to consider regions of an image, and maintain spatial relationships between the objects on the screen as we send information up to higher levels of the network. In this way, they act similarly to human receptive fields.\n",
    "\n",
    "Experience Replay. The basic idea is that by storing an agent’s experiences, and then randomly drawing batches of them to train the network, we can more robustly learn to perform well in the task. By keeping the experiences we draw random, we prevent the network from only learning about what it is immediately doing in the environment, and allow it to learn from a more varied array of past experiences. Each of these experiences are stored as a tuple of <state,action,reward,next state>. The Experience Replay buffer stores a fixed number of recent memories, and as new ones come in, old ones are removed. When the time comes to train, we simply draw a uniform batch of random memories from the buffer, and train our network with them.\n",
    "\n",
    "Separate Target Network. This second network is used to generate the target-Q values that will be used to compute the loss for every action during training. Why not use just use one network for both estimations? The issue is that at every step of training, the Q-network’s values shift, and if we are using a constantly shifting set of values to adjust our network values, then the value estimations can easily spiral out of control. The network can become destabilized by falling into feedback loops between the target and estimated Q-values. In order to mitigate that risk, the target network’s weights are fixed, and only periodically or slowly updated to the primary Q-networks values. In this way training can proceed in a more stable manner.\n",
    "\n",
    "Instead of updating the target network periodically and all at once, we will be updating it frequently, but slowly. This technique was introduced in another DeepMind paper (https://arxiv.org/pdf/1509.02971.pdf), where they found that it stabilized the training process."
   ]
  },
  {
   "cell_type": "code",
   "execution_count": 1,
   "metadata": {},
   "outputs": [
    {
     "name": "stdout",
     "output_type": "stream",
     "text": [
      "Imageio: 'ffmpeg-linux64-v3.3.1' was not found on your computer; downloading it now.\n",
      "Try 1. Download from https://github.com/imageio/imageio-binaries/raw/master/ffmpeg/ffmpeg-linux64-v3.3.1 (43.8 MB)\n"
     ]
    },
    {
     "name": "stdout",
     "output_type": "stream",
     "text": [
      "Downloading: 8192/45929032 bytes (0.040960/45929032 bytes (0.1%155648/45929032 bytes (0.3286720/45929032 bytes (0.6385024/45929032 bytes (0.8663552/45929032 bytes (1.4794624/45929032 bytes (1.7843776/45929032 bytes (1.8958464/45929032 bytes (2.11220608/45929032 bytes (2.7%1351680/45929032 bytes (2.9%1433600/45929032 bytes (3.1%1613824/45929032 bytes (3.5%1728512/45929032 bytes (3.8%1843200/45929032 bytes (4.0%1941504/45929032 bytes (4.2%2072576/45929032 bytes (4.5%2154496/45929032 bytes (4.7%2170880/45929032 bytes (4.7%2269184/45929032 bytes (4.9%2318336/45929032 bytes (5.0%2367488/45929032 bytes (5.2%2416640/45929032 bytes (5.3%2465792/45929032 bytes (5.4%2498560/45929032 bytes (5.4%2531328/45929032 bytes (5.5%2564096/45929032 bytes (5.6%2596864/45929032 bytes (5.7%2629632/45929032 bytes (5.7%2678784/45929032 bytes (5.8%2727936/45929032 bytes (5.9%2777088/45929032 bytes (6.0%2826240/45929032 bytes (6.2%2875392/45929032 bytes (6.3%2924544/45929032 bytes (6.4%2990080/45929032 bytes (6.5%3039232/45929032 bytes (6.6%3088384/45929032 bytes (6.7%3153920/45929032 bytes (6.9%3219456/45929032 bytes (7.0%3268608/45929032 bytes (7.1%3284992/45929032 bytes (7.2%3366912/45929032 bytes (7.3%3399680/45929032 bytes (7.4%3432448/45929032 bytes (7.5%3481600/45929032 bytes (7.6%3530752/45929032 bytes (7.7%3579904/45929032 bytes (7.8%3629056/45929032 bytes (7.9%3678208/45929032 bytes (8.0%3727360/45929032 bytes (8.1%3776512/45929032 bytes (8.2%3825664/45929032 bytes (8.3%3891200/45929032 bytes (8.5%3940352/45929032 bytes (8.6%3973120/45929032 bytes (8.7%4038656/45929032 bytes (8.8%4071424/45929032 bytes (8.9%4120576/45929032 bytes (9.0%4169728/45929032 bytes (9.1%4218880/45929032 bytes (9.2%4268032/45929032 bytes (9.3%4317184/45929032 bytes (9.4%4382720/45929032 bytes (9.5%4431872/45929032 bytes (9.6%4481024/45929032 bytes (9.8%4530176/45929032 bytes (9.9%4579328/45929032 bytes (10.04628480/45929032 bytes (10.14677632/45929032 bytes (10.24726784/45929032 bytes (10.34775936/45929032 bytes (10.44841472/45929032 bytes (10.54907008/45929032 bytes (10.74972544/45929032 bytes (10.85038080/45929032 bytes (11.05103616/45929032 bytes (11.15152768/45929032 bytes (11.25218304/45929032 bytes (11.45283840/45929032 bytes (11.55349376/45929032 bytes (11.65414912/45929032 bytes (11.85480448/45929032 bytes (11.95545984/45929032 bytes (12.15595136/45929032 bytes (12.25644288/45929032 bytes (12.35709824/45929032 bytes (12.45791744/45929032 bytes (12.65873664/45929032 bytes (12.85955584/45929032 bytes (13.06037504/45929032 bytes (13.16119424/45929032 bytes (13.36201344/45929032 bytes (13.56283264/45929032 bytes (13.76381568/45929032 bytes (13.96463488/45929032 bytes (14.16545408/45929032 bytes (14.36578176/45929032 bytes (14.36709248/45929032 bytes (14.66774784/45929032 bytes (14.86840320/45929032 bytes (14.96905856/45929032 bytes (15.06971392/45929032 bytes (15.27036928/45929032 bytes (15.37102464/45929032 bytes (15.57168000/45929032 bytes (15.67233536/45929032 bytes (15.77299072/45929032 bytes (15.97331840/45929032 bytes (16.07364608/45929032 bytes (16.07413760/45929032 bytes (16.17446528/45929032 bytes (16.27479296/45929032 bytes (16.37512064/45929032 bytes (16.47544832/45929032 bytes (16.47577600/45929032 bytes (16.57626752/45929032 bytes (16.67659520/45929032 bytes (16.77708672/45929032 bytes (16.87757824/45929032 bytes (16.97823360/45929032 bytes (17.07856128/45929032 bytes (17.17888896/45929032 bytes (17.27929856/45929032 bytes (17.37954432/45929032 bytes (17.37987200/45929032 bytes (17.48036352/45929032 bytes (17.58085504/45929032 bytes (17.68134656/45929032 bytes (17.78192000/45929032 bytes (17.88232960/45929032 bytes (17.98282112/45929032 bytes (18.08347648/45929032 bytes (18.28413184/45929032 bytes (18.38478720/45929032 bytes (18.58544256/45929032 bytes (18.68609792/45929032 bytes (18.78675328/45929032 bytes (18.98740864/45929032 bytes (19.08806400/45929032 bytes (19.28871936/45929032 bytes (19.38937472/45929032 bytes (19.59003008/45929032 bytes (19.69068544/45929032 bytes (19.79150464/45929032 bytes (19.99232384/45929032 bytes (20.19314304/45929032 bytes (20.39396224/45929032 bytes (20.59478144/45929032 bytes (20.69560064/45929032 bytes (20.89641984/45929032 bytes (21.09723904/45929032 bytes (21.29805824/45929032 bytes (21.39904128/45929032 bytes (21.610002432/45929032 bytes (21.8%10100736/45929032 bytes (22.0%10199040/45929032 bytes (22.2%10297344/45929032 bytes (22.4%10395648/45929032 bytes (22.6%10502144/45929032 bytes (22.9%10600448/45929032 bytes (23.1%10698752/45929032 bytes (23.3%10813440/45929032 bytes (23.5%10928128/45929032 bytes (23.8%11042816/45929032 bytes (24.0%11157504/45929032 bytes (24.3%11255808/45929032 bytes (24.5%11337728/45929032 bytes (24.7%11485184/45929032 bytes (25.0%11550720/45929032 bytes (25.1%11649024/45929032 bytes (25.4%11747328/45929032 bytes (25.6%11862016/45929032 bytes (25.8%11960320/45929032 bytes (26.0%12042240/45929032 bytes (26.2%12173312/45929032 bytes (26.5%12255232/45929032 bytes (26.7%12337152/45929032 bytes (26.9%12435456/45929032 bytes (27.1%12533760/45929032 bytes (27.3%12615680/45929032 bytes (27.5%12697600/45929032 bytes (27.6%12779520/45929032 bytes (27.8%12877824/45929032 bytes (28.0%12976128/45929032 bytes (28.3%13074432/45929032 bytes (28.5%13172736/45929032 bytes (28.7%13271040/45929032 bytes (28.9%13369344/45929032 bytes (29.1%13467648/45929032 bytes (29.3%13565952/45929032 bytes (29.5%13680640/45929032 bytes (29.8%13778944/45929032 bytes (30.0%13877248/45929032 bytes (30.2%13991936/45929032 bytes (30.5%14073856/45929032 bytes (30.6%14221312/45929032 bytes (31.0%14319616/45929032 bytes (31.2%14385152/45929032 bytes (31.3%14483456/45929032 bytes (31.5%14581760/45929032 bytes (31.7%14680064/45929032 bytes (32.0%14778368/45929032 bytes (32.2%14893056/45929032 bytes (32.4%14942208/45929032 bytes (32.5%15073280/45929032 bytes (32.8%15155200/45929032 bytes (33.0%15237120/45929032 bytes (33.2%15319040/45929032 bytes (33.4%15400960/45929032 bytes (33.5%15482880/45929032 bytes (33.7%15564800/45929032 bytes (33.9%15646720/45929032 bytes (34.1%15728640/45929032 bytes (34.2%15810560/45929032 bytes (34.4%15892480/45929032 bytes (34.6%15974400/45929032 bytes (34.8%16056320/45929032 bytes (35.0%16154624/45929032 bytes (35.2%16236544/45929032 bytes (35.4%16334848/45929032 bytes (35.6%16384000/45929032 bytes (35.7%16515072/45929032 bytes (36.0%16596992/45929032 bytes (36.1%16678912/45929032 bytes (36.3%16777216/45929032 bytes (36.5%16859136/45929032 bytes (36.7%16941056/45929032 bytes (36.9%17039360/45929032 bytes (37.1%17137664/45929032 bytes (37.3%17203200/45929032 bytes (37.5%17317888/45929032 bytes (37.7%17383424/45929032 bytes (37.8%17465344/45929032 bytes (38.0%17547264/45929032 bytes (38.2%17629184/45929032 bytes (38.4%17694720/45929032 bytes (38.5%17776640/45929032 bytes (38.7%17858560/45929032 bytes (38.9%17924096/45929032 bytes (39.0%18006016/45929032 bytes (39.2%18087936/45929032 bytes (39.4%18169856/45929032 bytes (39.6%18251776/45929032 bytes (39.7%18317312/45929032 bytes (39.9%18399232/45929032 bytes (40.1%18481152/45929032 bytes (40.2%18563072/45929032 bytes (40.4%18644992/45929032 bytes (40.6%18726912/45929032 bytes (40.8%18825216/45929032 bytes (41.0%18923520/45929032 bytes (41.2%19021824/45929032 bytes (41.4%19120128/45929032 bytes (41.6%19218432/45929032 bytes (41.8%19333120/45929032 bytes (42.1%19431424/45929032 bytes (42.3%19537920/45929032 bytes (42.5%19644416/45929032 bytes (42.8%19759104/45929032 bytes (43.0%19857408/45929032 bytes (43.2%19955712/45929032 bytes (43.4%20021248/45929032 bytes (43.6%20119552/45929032 bytes (43.8%20234240/45929032 bytes (44.1%20348928/45929032 bytes (44.3%20463616/45929032 bytes (44.6%20578304/45929032 bytes (44.8%20709376/45929032 bytes (45.1%20840448/45929032 bytes (45.4%20955136/45929032 bytes (45.6%21086208/45929032 bytes (45.9%21217280/45929032 bytes (46.2%21348352/45929032 bytes (46.5%21479424/45929032 bytes (46.8%21610496/45929032 bytes (47.1%21741568/45929032 bytes (47.3%21872640/45929032 bytes (47.6%22003712/45929032 bytes (47.9%22134784/45929032 bytes (48.2%22331392/45929032 bytes (48.6%22446080/45929032 bytes (48.9%22577152/45929032 bytes (49.2%22708224/45929032 bytes (49.4%)"
     ]
    },
    {
     "name": "stdout",
     "output_type": "stream",
     "text": [
      "\b22822912/45929032 bytes (49.7%22953984/45929032 bytes (50.0%23052288/45929032 bytes (50.2%23166976/45929032 bytes (50.4%23298048/45929032 bytes (50.7%23396352/45929032 bytes (50.9%23527424/45929032 bytes (51.2%23658496/45929032 bytes (51.5%23789568/45929032 bytes (51.8%23920640/45929032 bytes (52.1%24002560/45929032 bytes (52.3%24117248/45929032 bytes (52.5%24231936/45929032 bytes (52.8%24346624/45929032 bytes (53.0%24477696/45929032 bytes (53.3%24608768/45929032 bytes (53.6%24707072/45929032 bytes (53.8%24838144/45929032 bytes (54.1%24887296/45929032 bytes (54.2%25001984/45929032 bytes (54.4%25133056/45929032 bytes (54.7%25214976/45929032 bytes (54.9%25296896/45929032 bytes (55.1%25378816/45929032 bytes (55.3%25460736/45929032 bytes (55.4%25559040/45929032 bytes (55.6%25657344/45929032 bytes (55.9%25755648/45929032 bytes (56.1%25837568/45929032 bytes (56.3%25919488/45929032 bytes (56.4%26001408/45929032 bytes (56.6%26099712/45929032 bytes (56.8%26198016/45929032 bytes (57.0%26288128/45929032 bytes (57.2%26378240/45929032 bytes (57.4%26476544/45929032 bytes (57.6%26574848/45929032 bytes (57.9%26673152/45929032 bytes (58.1%26771456/45929032 bytes (58.3%26869760/45929032 bytes (58.5%26968064/45929032 bytes (58.7%27082752/45929032 bytes (59.0%27164672/45929032 bytes (59.1%27279360/45929032 bytes (59.4%27394048/45929032 bytes (59.6%27475968/45929032 bytes (59.8%27590656/45929032 bytes (60.1%27705344/45929032 bytes (60.3%27820032/45929032 bytes (60.6%27934720/45929032 bytes (60.8%28065792/45929032 bytes (61.1%28188672/45929032 bytes (61.4%28311552/45929032 bytes (61.6%28426240/45929032 bytes (61.9%28549120/45929032 bytes (62.2%28655616/45929032 bytes (62.4%28753920/45929032 bytes (62.6%28884992/45929032 bytes (62.9%29016064/45929032 bytes (63.2%29147136/45929032 bytes (63.5%29278208/45929032 bytes (63.7%29409280/45929032 bytes (64.0%29540352/45929032 bytes (64.3%29671424/45929032 bytes (64.6%29802496/45929032 bytes (64.9%29933568/45929032 bytes (65.2%30064640/45929032 bytes (65.5%30195712/45929032 bytes (65.7%30310400/45929032 bytes (66.0%30425088/45929032 bytes (66.2%30556160/45929032 bytes (66.5%30654464/45929032 bytes (66.7%30818304/45929032 bytes (67.1%30916608/45929032 bytes (67.3%31014912/45929032 bytes (67.5%31096832/45929032 bytes (67.7%31195136/45929032 bytes (67.9%31293440/45929032 bytes (68.1%31391744/45929032 bytes (68.3%31506432/45929032 bytes (68.6%31604736/45929032 bytes (68.8%31686656/45929032 bytes (69.0%31784960/45929032 bytes (69.2%31883264/45929032 bytes (69.4%31948800/45929032 bytes (69.6%32096256/45929032 bytes (69.9%32178176/45929032 bytes (70.1%32260096/45929032 bytes (70.2%32358400/45929032 bytes (70.5%32456704/45929032 bytes (70.7%32555008/45929032 bytes (70.9%32653312/45929032 bytes (71.1%32751616/45929032 bytes (71.3%32849920/45929032 bytes (71.5%32948224/45929032 bytes (71.7%33046528/45929032 bytes (72.0%33144832/45929032 bytes (72.2%33243136/45929032 bytes (72.4%33341440/45929032 bytes (72.6%33439744/45929032 bytes (72.8%33538048/45929032 bytes (73.0%33636352/45929032 bytes (73.2%33734656/45929032 bytes (73.4%33832960/45929032 bytes (73.7%33947648/45929032 bytes (73.9%34062336/45929032 bytes (74.2%34177024/45929032 bytes (74.4%34242560/45929032 bytes (74.6%34390016/45929032 bytes (74.9%34439168/45929032 bytes (75.0%34504704/45929032 bytes (75.1%34594816/45929032 bytes (75.3%34684928/45929032 bytes (75.5%34766848/45929032 bytes (75.7%34881536/45929032 bytes (75.9%34979840/45929032 bytes (76.2%35094528/45929032 bytes (76.4%35192832/45929032 bytes (76.6%35291136/45929032 bytes (76.8%35389440/45929032 bytes (77.1%35504128/45929032 bytes (77.3%35618816/45929032 bytes (77.6%35700736/45929032 bytes (77.7%35782656/45929032 bytes (77.9%35880960/45929032 bytes (78.1%35979264/45929032 bytes (78.3%36077568/45929032 bytes (78.6%36175872/45929032 bytes (78.8%36274176/45929032 bytes (79.0%36372480/45929032 bytes (79.2%36470784/45929032 bytes (79.4%36569088/45929032 bytes (79.6%36667392/45929032 bytes (79.8%36765696/45929032 bytes (80.0%36864000/45929032 bytes (80.3%36962304/45929032 bytes (80.5%37076992/45929032 bytes (80.7%37191680/45929032 bytes (81.0%37306368/45929032 bytes (81.2%37404672/45929032 bytes (81.4%37519360/45929032 bytes (81.7%37601280/45929032 bytes (81.9%37748736/45929032 bytes (82.2%37847040/45929032 bytes (82.4%37928960/45929032 bytes (82.6%38027264/45929032 bytes (82.8%38125568/45929032 bytes (83.0%38223872/45929032 bytes (83.2%38338560/45929032 bytes (83.5%38453248/45929032 bytes (83.7%38535168/45929032 bytes (83.9%38633472/45929032 bytes (84.1%38731776/45929032 bytes (84.3%38830080/45929032 bytes (84.5%38961152/45929032 bytes (84.8%39026688/45929032 bytes (85.0%39108608/45929032 bytes (85.2%39206912/45929032 bytes (85.4%39305216/45929032 bytes (85.6%39403520/45929032 bytes (85.8%39485440/45929032 bytes (86.0%39583744/45929032 bytes (86.2%39682048/45929032 bytes (86.4%39763968/45929032 bytes (86.6%39845888/45929032 bytes (86.8%39944192/45929032 bytes (87.0%40034304/45929032 bytes (87.2%40124416/45929032 bytes (87.4%40222720/45929032 bytes (87.6%40321024/45929032 bytes (87.8%40419328/45929032 bytes (88.0%40517632/45929032 bytes (88.2%40599552/45929032 bytes (88.4%40714240/45929032 bytes (88.6%40828928/45929032 bytes (88.9%40943616/45929032 bytes (89.1%41058304/45929032 bytes (89.4%41172992/45929032 bytes (89.6%41254912/45929032 bytes (89.8%41369600/45929032 bytes (90.1%41467904/45929032 bytes (90.3%41582592/45929032 bytes (90.5%41697280/45929032 bytes (90.8%41795584/45929032 bytes (91.0%41910272/45929032 bytes (91.3%42041344/45929032 bytes (91.5%42172416/45929032 bytes (91.8%42303488/45929032 bytes (92.1%42434560/45929032 bytes (92.4%42565632/45929032 bytes (92.7%42696704/45929032 bytes (93.0%42827776/45929032 bytes (93.2%42958848/45929032 bytes (93.5%43089920/45929032 bytes (93.8%43204608/45929032 bytes (94.1%43335680/45929032 bytes (94.4%43483136/45929032 bytes (94.7%43597824/45929032 bytes (94.9%43614208/45929032 bytes (95.0%43745280/45929032 bytes (95.2%43810816/45929032 bytes (95.4%43925504/45929032 bytes (95.6%43991040/45929032 bytes (95.8%44056576/45929032 bytes (95.9%44122112/45929032 bytes (96.1%44187648/45929032 bytes (96.2%44236800/45929032 bytes (96.3%44302336/45929032 bytes (96.5%44384256/45929032 bytes (96.6%44449792/45929032 bytes (96.8%44531712/45929032 bytes (97.0%44613632/45929032 bytes (97.1%44679168/45929032 bytes (97.3%44761088/45929032 bytes (97.5%44843008/45929032 bytes (97.6%44924928/45929032 bytes (97.8%45006848/45929032 bytes (98.0%45072384/45929032 bytes (98.1%45105152/45929032 bytes (98.2%45219840/45929032 bytes (98.5%45285376/45929032 bytes (98.6%45334528/45929032 bytes (98.7%45383680/45929032 bytes (98.8%45432832/45929032 bytes (98.9%45498368/45929032 bytes (99.1%45563904/45929032 bytes (99.2%45629440/45929032 bytes (99.3%45694976/45929032 bytes (99.5%45760512/45929032 bytes (99.6%45826048/45929032 bytes (99.8%45907968/45929032 bytes (100.045929032/45929032 bytes (100.0%)\n",
      "  Done\n",
      "File saved as /root/.imageio/ffmpeg/ffmpeg-linux64-v3.3.1.\n"
     ]
    }
   ],
   "source": [
    "import csv\n",
    "from gridworld import GameEnvironment\n",
    "import gym\n",
    "import matplotlib.pyplot as plt\n",
    "import moviepy.editor as mpy\n",
    "import numpy as np\n",
    "import os\n",
    "import random\n",
    "import scipy.misc\n",
    "import tensorflow as tf\n",
    "import tensorflow.contrib.slim as slim\n",
    "from tqdm import trange\n",
    "%matplotlib inline"
   ]
  },
  {
   "cell_type": "code",
   "execution_count": 2,
   "metadata": {},
   "outputs": [
    {
     "data": {
      "image/png": "[encoded data removed]",
      "text/plain": [
       "<Figure size 432x288 with 1 Axes>"
      ]
     },
     "metadata": {},
     "output_type": "display_data"
    }
   ],
   "source": [
    "env = GameEnvironment(partial=False, size=5)"
   ]
  },
  {
   "cell_type": "markdown",
   "metadata": {},
   "source": [
    "Above is an example of a starting environment in our simple game. The agent controls the blue square, and can move up, down, left, or right. The goal is to move to the green square (for +1 reward) and avoid the red square (for -1 reward). The position of the three blocks is randomized every episode."
   ]
  },
  {
   "cell_type": "markdown",
   "metadata": {},
   "source": [
    "### Implementing the network"
   ]
  },
  {
   "cell_type": "code",
   "execution_count": 3,
   "metadata": {},
   "outputs": [],
   "source": [
    "class QNetwork(object):\n",
    "    \n",
    "    def __init__(self, n_hidden, n_actions):\n",
    "        # The network recieves a frame from the game, flattened into an array.\n",
    "        # It then resizes and processes it through four convolutional layers.\n",
    "        self.scalar_input = tf.placeholder(shape=[None, 21168], dtype=tf.float32)\n",
    "        self.image_in = tf.reshape(self.scalar_input, shape=[-1, 84, 84, 3])\n",
    "        self.conv1 = slim.conv2d(inputs=self.image_in, num_outputs=32,\n",
    "                                 kernel_size=[8, 8], stride=[4, 4], padding='VALID', \n",
    "                                 biases_initializer=None)\n",
    "        self.conv2 = slim.conv2d(inputs=self.conv1, num_outputs=64,\n",
    "                                 kernel_size=[4, 4], stride=[2, 2], padding='VALID', \n",
    "                                 biases_initializer=None)\n",
    "        self.conv3 = slim.conv2d(inputs=self.conv2, num_outputs=64,\n",
    "                                 kernel_size=[3, 3], stride=[1, 1], padding='VALID', \n",
    "                                 biases_initializer=None)\n",
    "        self.conv4 = slim.conv2d(inputs=self.conv3, num_outputs=n_hidden,\n",
    "                                 kernel_size=[7, 7], stride=[1, 1], padding='VALID', \n",
    "                                 biases_initializer=None)\n",
    "        \n",
    "        # take the output from the final convolutional layer and split it into \n",
    "        # separate advantage and value streams\n",
    "        self.stream_ac, self.stream_vc = tf.split(self.conv4, 2, 3)\n",
    "        self.stream_a = slim.flatten(self.stream_ac)\n",
    "        self.stream_v = slim.flatten(self.stream_vc)\n",
    "        xavier_init = tf.contrib.layers.xavier_initializer()\n",
    "        self.aw = tf.Variable(xavier_init([n_hidden // 2, n_actions]))\n",
    "        self.vw = tf.Variable(xavier_init([n_hidden // 2, 1]))\n",
    "        self.advantage = tf.matmul(self.stream_a, self.aw)\n",
    "        self.value = tf.matmul(self.stream_v, self.vw)\n",
    "        \n",
    "        # then combine them together to get our final Q-values\n",
    "        self.q_out = self.value + tf.subtract(self.advantage, tf.reduce_mean(self.advantage, axis=1, keepdims=True))\n",
    "        self.predict = tf.argmax(self.q_out, 1)\n",
    "        \n",
    "        # obtain the loss by taking the sum of squares difference between \n",
    "        # the target and predicted Q-values\n",
    "        self.target_q = tf.placeholder(shape=[None], dtype=tf.float32)\n",
    "        self.actions = tf.placeholder(shape=[None], dtype=tf.int32)\n",
    "        self.actions_onehot = tf.one_hot(self.actions, n_actions, dtype=tf.float32)\n",
    "        \n",
    "        self.q = tf.reduce_sum(tf.multiply(self.q_out, self.actions_onehot), axis=1)\n",
    "        \n",
    "        self.td_error = tf.square(self.target_q - self.q)\n",
    "        self.loss = tf.reduce_mean(self.td_error)\n",
    "        self.trainer = tf.train.AdamOptimizer(learning_rate=0.0001)\n",
    "        self.update_op = self.trainer.minimize(self.loss)"
   ]
  },
  {
   "cell_type": "markdown",
   "metadata": {},
   "source": [
    "### Experience Replay\n",
    "\n",
    "This class lets us store experiences, then sample them randomly to train the network."
   ]
  },
  {
   "cell_type": "code",
   "execution_count": 4,
   "metadata": {},
   "outputs": [],
   "source": [
    "class ExperienceBuffer(object):\n",
    "    \n",
    "    def __init__(self, buffer_size=50000):\n",
    "        self.buffer = []\n",
    "        self.buffer_size = buffer_size\n",
    "        \n",
    "    def add(self, experience):\n",
    "        n = len(self.buffer) + len(experience)\n",
    "        if n >= self.buffer_size:\n",
    "            self.buffer[0:n-self.buffer_size] = []\n",
    "            \n",
    "        self.buffer.extend(experience)\n",
    "        \n",
    "    def sample(self, size):\n",
    "        return np.reshape(np.array(random.sample(self.buffer, size)), [size, 5])"
   ]
  },
  {
   "cell_type": "code",
   "execution_count": 5,
   "metadata": {},
   "outputs": [],
   "source": [
    "def process_state(states):\n",
    "    \"\"\" resize game frames \"\"\"\n",
    "    return np.reshape(states, [21168])"
   ]
  },
  {
   "cell_type": "code",
   "execution_count": 6,
   "metadata": {},
   "outputs": [],
   "source": [
    "def update_target_graph(tf_vars, tau):\n",
    "    \"\"\" update the parameters of our target network with those of the primary network \"\"\"\n",
    "    n_vars = len(tf_vars)\n",
    "    op_holder = []\n",
    "    for i, var in enumerate(tf_vars[0:n_vars//2]):\n",
    "        op_holder.append(tf_vars[i + n_vars//2].assign(var.value() * tau + \n",
    "                                                      (1 - tau) * tf_vars[i + n_vars//2].value()))\n",
    "    return op_holder"
   ]
  },
  {
   "cell_type": "code",
   "execution_count": 7,
   "metadata": {},
   "outputs": [],
   "source": [
    "def update_target(op_holder, sess):\n",
    "    for op in op_holder:\n",
    "        sess.run(op)"
   ]
  },
  {
   "cell_type": "code",
   "execution_count": 8,
   "metadata": {},
   "outputs": [],
   "source": [
    "def discount_rewards(r):\n",
    "    \"\"\" take 1D float array of rewards and compute discounted rewards \"\"\"\n",
    "    discounted_r = np.zeros_like(r)\n",
    "    running_add = 0\n",
    "    for t in reversed(range(0, len(r))):\n",
    "        running_add = running_add * gamma + r[t]\n",
    "        discounted_r[t] = running_add\n",
    "        \n",
    "    return discounted_r"
   ]
  },
  {
   "cell_type": "code",
   "execution_count": 9,
   "metadata": {},
   "outputs": [],
   "source": [
    "def make_gif(images, filename, duration=2, true_image=False, salience=False, sal_imgs=None):\n",
    "    \"\"\" Enables gifs of the training episode to be saved for use in the Control Center \"\"\"\n",
    "    def make_frame(t):\n",
    "        try:\n",
    "            x = images[int(len(images) / duration * t)]\n",
    "        except:\n",
    "            x = images[-1]\n",
    "            \n",
    "        if true_image:\n",
    "            return x.astype(np.uint8)\n",
    "        else:\n",
    "            return ((x + 1) / 2 * 255).astype(np.uint8)\n",
    "\n",
    "    def make_mask(t):\n",
    "        try:\n",
    "            x = sal_imgs[int(len(sal_imgs) / durattion * t)]\n",
    "        except:\n",
    "            x = sal_imgs[-1]\n",
    "            \n",
    "        return x\n",
    "    \n",
    "    clip = mpy.VideoClip(make_frame, duration=duration)\n",
    "    if salience:\n",
    "        mask = mpy.VideoClip(make_mask, ismask=True, duration=duration)\n",
    "        clip_b = clip.set_mask(mask)\n",
    "        clip_b = clip.set_opacity(0)\n",
    "        mask = mask.set_opacity(0.1)\n",
    "        mask.write_gif(filename, fps=len(images) / duration, verbose=False)\n",
    "    else:\n",
    "        clip.write_gif(filename, fps=len(images) / duration, verbose=False)"
   ]
  },
  {
   "cell_type": "markdown",
   "metadata": {},
   "source": [
    "### Train the network"
   ]
  },
  {
   "cell_type": "code",
   "execution_count": 10,
   "metadata": {},
   "outputs": [],
   "source": [
    "# hyperparams:\n",
    "\n",
    "batch_size = 32  # number experiences to use for each training step\n",
    "update_freq = 4  # frequency of performing a training step\n",
    "gamma = 0.99  # discount factor on the target Q-values\n",
    "start_epsilon = 1  # starting chance of random action\n",
    "end_epsilon = 0.1  # final chance of random action\n",
    "annealing_steps = 10000  # number steps of training to reduce start_epsilon to end_epsilon\n",
    "#n_episodes = 10000  # number episodes of game environment to train network\n",
    "n_episodes = 500\n",
    "n_pretrain_steps = 10000  # number steps of random actions before training begins\n",
    "max_episode_length = 50  # max allowed length of our episode\n",
    "n_hidden = 512  # size of final convolutional layer before splitting it into Advantage and Value streams\n",
    "tau = 0.001  # rate to update target network toward primary network\n",
    "load_model = False  # whether to load a saved model\n",
    "save_path = 'dqn'  # path to save our model to"
   ]
  },
  {
   "cell_type": "markdown",
   "metadata": {},
   "source": [
    "Learning should occur in a couple hours on a moderately powerful machine (GTX970). (Getting Atari games to work will take at least a day of training on a powerful machine.)"
   ]
  },
  {
   "cell_type": "code",
   "execution_count": 25,
   "metadata": {},
   "outputs": [],
   "source": [
    "def train():\n",
    "    tf.reset_default_graph()\n",
    "    n_actions = env.actions\n",
    "    main_network = QNetwork(n_hidden, n_actions)\n",
    "    target_network = QNetwork(n_hidden, n_actions)\n",
    "    saver = tf.train.Saver()\n",
    "    trainables = tf.trainable_variables()\n",
    "    target_ops = update_target_graph(trainables, tau)\n",
    "    buffer = ExperienceBuffer()\n",
    "    epsilon = start_epsilon\n",
    "    step_drop = (start_epsilon - end_epsilon) / annealing_steps\n",
    "    js, rewards = [], []\n",
    "    n_steps = 0\n",
    "    \n",
    "    # make path to save model, unless path already exists\n",
    "    if not os.path.exists(save_path):\n",
    "        os.makedirs(save_path)\n",
    "        \n",
    "    # write the first line of the master log-file for the Control Center\n",
    "    with open('monitor/log.csv', 'w') as f:\n",
    "        writer = csv.writer(f, quoting=csv.QUOTE_ALL)\n",
    "        writer.writerow(['Episode', 'Length', 'Reward', 'IMG', 'LOG'])\n",
    "        \n",
    "    with tf.Session() as sess:\n",
    "        sess.run(tf.global_variables_initializer())\n",
    "        if load_model:\n",
    "            print('Loading model...')\n",
    "            ckpt = tf.train.get_checkpoint_state(path)\n",
    "            saver.restore(sess, ckpt.model_checkpoint_path)\n",
    "            \n",
    "        for i in range(n_episodes):\n",
    "            episode_buffer = ExperienceBuffer()\n",
    "            \n",
    "            # reset environment and get first new observation\n",
    "            s = env.reset()\n",
    "            s = process_state(s)\n",
    "            done = False\n",
    "            total_reward = 0\n",
    "            j = 0\n",
    "            \n",
    "            # Train the Q-network\n",
    "            # if the agent takes longer to reach either of the blocks, then end the trial\n",
    "            while j < max_episode_length:\n",
    "                j += 1\n",
    "                \n",
    "                # choose an action greedily from the Q-network, \n",
    "                # with epsilon chance of random action\n",
    "                if np.random.rand(1) < epsilon or n_steps < n_pretrain_steps:\n",
    "                    a = np.random.randint(0, 4)\n",
    "                else:\n",
    "                    a = sess.run(main_network.predict, feed_dict={main_network.scalar_input: [s]})[0]\n",
    "                \n",
    "                s1, reward, done = env.step(a)\n",
    "                s1 = process_state(s1)\n",
    "                n_steps += 1\n",
    "                \n",
    "                # save the experience to our episode buffer\n",
    "                episode_buffer.add(np.reshape(np.array([s, a, reward, s1, done]), [1, 5]))\n",
    "                \n",
    "                if n_steps > n_pretrain_steps:\n",
    "                    if epsilon > end_epsilon:\n",
    "                        epsilon -= step_drop\n",
    "                        \n",
    "                    if n_steps % update_freq == 0:\n",
    "                        # get a random batch of experiences\n",
    "                        train_batch = buffer.sample(batch_size)\n",
    "                        \n",
    "                        # perform the Double-DQN update to the target Q-values\n",
    "                        q1 = sess.run(main_network.predict, feed_dict={\n",
    "                            main_network.scalar_input: np.vstack(train_batch[:, 3])\n",
    "                        })\n",
    "                        q2 = sess.run(target_network.q_out, feed_dict={\n",
    "                            target_network.scalar_input: np.vstack(train_batch[:, 3])\n",
    "                        })\n",
    "                        end_multiplier = -train_batch[:, 4] - 1\n",
    "                        double_q = q2[range(batch_size), q1]\n",
    "                        target_q = train_batch[:, 2] + gamma * double_q * end_multiplier\n",
    "                        \n",
    "                        # update the network with our target values\n",
    "                        _ = sess.run(main_network.update_op, feed_dict={\n",
    "                            main_network.scalar_input: np.vstack(train_batch[:, 0]),\n",
    "                            main_network.target_q: target_q,\n",
    "                            main_network.actions: train_batch[:, 1]\n",
    "                        })\n",
    "                        # update the target network toward the primary network\n",
    "                        update_target(target_ops, sess)\n",
    "                        \n",
    "                total_reward += reward\n",
    "                s = s1\n",
    "                \n",
    "                if done:\n",
    "                    break\n",
    "                    \n",
    "            # get all experiences from this episode and discount their rewards\n",
    "            episode_rewards = np.array(episode_buffer.buffer)[:, 2]\n",
    "            discounted_rewards = discount_rewards(episode_rewards)\n",
    "            buffer_array = np.array(episode_buffer.buffer)\n",
    "            buffer_array[:, 2] = discounted_rewards\n",
    "            episode_buffer.buffer = list(zip(buffer_array))\n",
    "            \n",
    "            # add the discounted experiences to our experience buffer\n",
    "            buffer.add(episode_buffer.buffer)\n",
    "            js.append(j)\n",
    "            rewards.append(total_reward)\n",
    "            \n",
    "            # periodically save the model\n",
    "            if i % 1000 == 0:\n",
    "                saver.save(sess, '{}/model-{}'.format(save_path, i))\n",
    "                print('Saved model')\n",
    "                \n",
    "            if len(rewards) % 100 == 0:\n",
    "                # record performance metrics and episode logs for the Control Center\n",
    "                with open('monitor/log.csv', 'a') as f:\n",
    "                    images = list(zip(buffer_array[:, 0]))\n",
    "                    images.append(buffer_array[-1, 3])\n",
    "                    images = np.vstack(images)\n",
    "                    images = np.resize(images, [len(images), 84, 84, 3])\n",
    "                    make_gif(images, 'monitor/frames/image{}.gif'.format(i), \n",
    "                             duration=len(images), true_image=True)\n",
    "                    writer = csv.writer(f, quoting=csv.QUOTE_ALL)\n",
    "                    writer.writerow([i, \n",
    "                                     np.mean(js[-50:]), \n",
    "                                     np.mean(rewards[-50:]),\n",
    "                                     'frames/image{}.gif'.format(i),\n",
    "                                     'frames/log{}.csv'.format(i)\n",
    "                                    ])\n",
    "                    f.close()\n",
    "                    \n",
    "                with open('monitor/frames/log{}.csv'.format(i), 'w') as f:\n",
    "                    writer = csv.writer(f, quoting=csv.QUOTE_ALL)\n",
    "                    writer.writerow(['ACTION', 'REWARD', 'A0', 'A1', 'A2', 'A3', 'V'])\n",
    "                    a, v = sess.run([main_network.advantage, main_network.value], feed_dict={\n",
    "                        main_network.scalar_input: np.vstack(buffer_array[:, 0])\n",
    "                    })\n",
    "                    writer.writerows(zip(buffer_array[:, 1], buffer_array[:, 2], \n",
    "                                         a[:, 0], a[:, 1], a[:, 2], a[:, 3], v[:, 0]))\n",
    "                    \n",
    "                print('Number steps:', n_steps, 'mean reward:', np.mean(rewards[-10:]), 'epsilon:', epsilon)\n",
    "                \n",
    "        saver.save(sess, '{}/model-{}'.format(save_path, i))\n",
    "        \n",
    "    print('Successful episodes %:', str(sum(rewards) / n_episodes))\n",
    "    \n",
    "    return rewards, js"
   ]
  },
  {
   "cell_type": "code",
   "execution_count": 26,
   "metadata": {},
   "outputs": [
    {
     "name": "stdout",
     "output_type": "stream",
     "text": [
      "Saved model\n"
     ]
    },
    {
     "name": "stderr",
     "output_type": "stream",
     "text": [
      " 98%|█████████▊| 51/52 [00:00<00:00, 1196.27it/s]\n"
     ]
    },
    {
     "name": "stdout",
     "output_type": "stream",
     "text": [
      "Number steps: 5000 mean reward: 1.4 epsilon: 1\n"
     ]
    },
    {
     "name": "stderr",
     "output_type": "stream",
     "text": [
      " 98%|█████████▊| 51/52 [00:00<00:00, 1083.58it/s]\n"
     ]
    },
    {
     "name": "stdout",
     "output_type": "stream",
     "text": [
      "Number steps: 10000 mean reward: 1.2 epsilon: 1\n"
     ]
    },
    {
     "name": "stderr",
     "output_type": "stream",
     "text": [
      " 98%|█████████▊| 51/52 [00:00<00:00, 1257.49it/s]\n"
     ]
    },
    {
     "name": "stdout",
     "output_type": "stream",
     "text": [
      "Number steps: 15000 mean reward: 3.0 epsilon: 0.5499999999998275\n"
     ]
    },
    {
     "name": "stderr",
     "output_type": "stream",
     "text": [
      " 98%|█████████▊| 51/52 [00:00<00:00, 1045.36it/s]\n"
     ]
    },
    {
     "name": "stdout",
     "output_type": "stream",
     "text": [
      "Number steps: 20000 mean reward: 1.3 epsilon: 0.09999999999985551\n"
     ]
    },
    {
     "name": "stderr",
     "output_type": "stream",
     "text": [
      " 98%|█████████▊| 51/52 [00:00<00:00, 1325.24it/s]\n"
     ]
    },
    {
     "name": "stdout",
     "output_type": "stream",
     "text": [
      "Number steps: 25000 mean reward: 0.5 epsilon: 0.09999999999985551\n",
      "Successful episodes %: 1.818\n"
     ]
    }
   ],
   "source": [
    "rewards, _ = train()"
   ]
  },
  {
   "cell_type": "markdown",
   "metadata": {},
   "source": [
    "### Check Network Learning"
   ]
  },
  {
   "cell_type": "code",
   "execution_count": 27,
   "metadata": {},
   "outputs": [
    {
     "data": {
      "text/plain": [
       "[<matplotlib.lines.Line2D at 0x7efe7807cac8>]"
      ]
     },
     "execution_count": 27,
     "metadata": {},
     "output_type": "execute_result"
    },
    {
     "data": {
      "image/png": "[encoded data removed]",
      "text/plain": [
       "<Figure size 432x288 with 1 Axes>"
      ]
     },
     "metadata": {},
     "output_type": "display_data"
    }
   ],
   "source": [
    "# mean reward over time\n",
    "reward_mat = np.resize(np.array(rewards), [len(rewards) // 100, 100])\n",
    "mean_reward = np.average(reward_mat, 1)\n",
    "plt.plot(mean_reward)"
   ]
  },
  {
   "cell_type": "markdown",
   "metadata": {},
   "source": [
    "## Next Steps\n",
    "\n",
    "A number of improvements above and beyond the DQN architecture described by DeepMind (http://www.davidqiu.com:8888/research/nature14236.pdf), have allowed for even greater performance and stability.\n",
    "\n",
    "### Double DQN\n",
    "\n",
    "The main intuition behind Double DQN is that the regular DQN often overestimates the Q-values of the potential actions to take in a given state. While this would be fine if all actions were always overestimates equally, there was reason to believe this wasn’t the case. You can easily imagine that if certain suboptimal actions regularly were given higher Q-values than optimal actions, the agent would have a hard time ever learning the ideal policy. In order to correct for this, the authors of DDQN paper propose a simple trick: instead of taking the max over Q-values when computing the target-Q value for our training step, we use our primary network to chose an action, and our target network to generate the target Q-value for that action. By decoupling the action choice from the target Q-value generation, we are able to substantially reduce the overestimation, and train faster and more reliably. Below is the new DDQN equation for updating the target value.\n",
    "\n",
    "Q-Target = r + γQ(s’,argmax(Q(s’,a,ϴ),ϴ’))\n",
    "\n",
    "### Dueling DQN\n",
    "\n",
    "In order to explain the reasoning behind the architecture changes that Dueling DQN makes, we need to first explain some a few additional reinforcement learning terms. The Q-values that we have been discussing so far correspond to how good it is to take a certain action given a certain state. This can be written as Q(s,a). This action given state can actually be decomposed into two more fundamental notions of value. The first is the value function V(s), which says simple how good it is to be in any given state. The second is the advantage function A(a), which tells how much better taking a certain action would be compared to the others. We can then think of Q as being the combination of V and A. More formally:\n",
    "\n",
    "Q(s,a) =V(s) + A(a)\n",
    "\n",
    "The goal of Dueling DQN is to have a network that separately computes the advantage and value functions, and combines them back into a single Q-function only at the final layer. It may seem somewhat pointless to do this at first glance. Why decompose a function that we will just put back together? The key to realizing the benefit is to appreciate that our reinforcement learning agent may not need to care about both value and advantage at any given time. For example: imagine sitting outside in a park watching the sunset. It is beautiful, and highly rewarding to be sitting there. No action needs to be taken, and it doesn’t really make sense to think of the value of sitting there as being conditioned on anything beyond the environmental state you are in. We can achieve more robust estimates of state value by decoupling it from the necessity of being attached to specific actions.\n",
    "\n",
    "(From https://medium.com/@awjuliani/simple-reinforcement-learning-with-tensorflow-part-4-deep-q-networks-and-beyond-8438a3e2b8df)"
   ]
  },
  {
   "cell_type": "code",
   "execution_count": null,
   "metadata": {},
   "outputs": [],
   "source": []
  }
 ],
 "metadata": {
  "kernelspec": {
   "display_name": "Python 3",
   "language": "python",
   "name": "python3"
  },
  "language_info": {
   "codemirror_mode": {
    "name": "ipython",
    "version": 3
   },
   "file_extension": ".py",
   "mimetype": "text/x-python",
   "name": "python",
   "nbconvert_exporter": "python",
   "pygments_lexer": "ipython3",
   "version": "3.5.2"
  }
 },
 "nbformat": 4,
 "nbformat_minor": 2
}
