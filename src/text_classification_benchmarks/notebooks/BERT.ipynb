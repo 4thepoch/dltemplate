{
 "cells": [
  {
   "cell_type": "markdown",
   "metadata": {},
   "source": [
    "# BERT"
   ]
  },
  {
   "cell_type": "markdown",
   "metadata": {},
   "source": [
    "Pre-training of Deep Bidirectional Transformers for Language Understanding.\n",
    "\n",
    "Using transfer learning techniques - first training a model architecture on one language modeling objective, and then fine-tune it for a supervised downstream task.\n",
    "\n",
    "The BERT model’s architecture is a bidirectional Transformer encoder. The Transformer model is good at capturing long-distance dependencies compared to a recurrent neural network architecture. The bidirectional encoder meanwhile is a standout feature that differentiates BERT from OpenAI GPT (a left-to-right Transformer) and ELMo (a concatenation of independently trained left-to-right and right- to-left LSTM).\n",
    "\n",
    "BERT is a huge model, with 24 Transformer blocks, 1024 hidden layers, and 340M parameters.\n",
    "\n",
    "The model is pre-trained on 40 epochs over a 3.3 billion word corpus, including BooksCorpus (800 million words) and English Wikipedia (2.5 billion words).\n",
    "\n",
    "In the pre-training process, researchers took an approach which involved randomly masking a percentage of the input tokens (15 percent) to train a deep bidirectional representation. They refer to this method as a Masked Language Model (MLM).\n",
    "\n",
    "A pre-trained language model cannot understand relationships between sentences, which is vital to language tasks such as question answering and natural language inferencing. Researchers therefore pre-trained a binarized next sentence prediction task that can be trivially generated from any monolingual corpus.\n",
    "\n",
    "From Tim Dettmers; regarding compute for BERT: uses 256 TPU-days similar to the OpenAI model. Lots of TPUs parallelize about 25% better than GPUs. RTX 2080 Ti and V100 should be ~70% matmul and ~90% matmul perf vs TPU if you use 16-bit (important!). \n",
    "\n",
    "BERT ~= 375 RTX 2080 Ti days or 275 V100 days.\n",
    "\n",
    "That would burn a large hole in the wallet. At 5.22 USD per TPU per hour for a Cloud TPU v2 in Asia Pacific, that equates to 32,072 USD or 44,347 AUD (not including experiments and optimization). Likely in the 100,000's.\n",
    "\n",
    "Are we entering the era that while algorithms are available as open source, the data and compute required to implement them are out of reach for most people and organisations, who can rent the outcomes.\n",
    "\n",
    "See [Cloud TPU Pricing](https://cloud.google.com/tpu/docs/pricing).\n",
    "\n",
    "Also see [BERT sets new standards](https://medium.com/syncedreview/best-nlp-model-ever-google-bert-sets-new-standards-in-11-language-tasks-4a2a189bc155)."
   ]
  },
  {
   "cell_type": "code",
   "execution_count": 1,
   "metadata": {},
   "outputs": [],
   "source": [
    "import csv\n",
    "import numpy as np\n",
    "import os\n",
    "import sys\n",
    "import tensorflow as tf"
   ]
  },
  {
   "cell_type": "code",
   "execution_count": 2,
   "metadata": {},
   "outputs": [],
   "source": [
    "sys.path.append('/Users/d777710/src/bert')\n",
    "sys.path.append('../..')"
   ]
  },
  {
   "cell_type": "code",
   "execution_count": 3,
   "metadata": {},
   "outputs": [],
   "source": [
    "from text_classification_benchmarks.metrics import perf_summary, print_perf_summary"
   ]
  },
  {
   "cell_type": "code",
   "execution_count": 33,
   "metadata": {},
   "outputs": [],
   "source": [
    "DATA_DIR = '/Users/d777710/src/DeepLearning/dltemplate/src/text_classification_benchmarks/fastai'\n",
    "BERT_BASE_DIR = '/Users/d777710/src/DeepLearning/dltemplate/pretrained_models/bert/uncased_L-12_H-768_A-12'\n",
    "CODI_BERT_MODEL = '/Users/d777710/src/bert/codiout2'\n",
    "OUTPUT_DIR = '/tmp/output'"
   ]
  },
  {
   "cell_type": "code",
   "execution_count": 34,
   "metadata": {},
   "outputs": [],
   "source": [
    "import modeling\n",
    "import run_classifier as clf\n",
    "import tokenization"
   ]
  },
  {
   "cell_type": "code",
   "execution_count": 35,
   "metadata": {},
   "outputs": [],
   "source": [
    "tf.logging.set_verbosity(tf.logging.FATAL)"
   ]
  },
  {
   "cell_type": "code",
   "execution_count": 36,
   "metadata": {},
   "outputs": [],
   "source": [
    "config_file = os.path.join(BERT_BASE_DIR, 'bert_config.json')\n",
    "bert_config = modeling.BertConfig.from_json_file(config_file)"
   ]
  },
  {
   "cell_type": "code",
   "execution_count": 37,
   "metadata": {},
   "outputs": [],
   "source": [
    "processor = clf.CsvProcessor()"
   ]
  },
  {
   "cell_type": "code",
   "execution_count": 38,
   "metadata": {},
   "outputs": [],
   "source": [
    "label_list = processor.get_labels(DATA_DIR)"
   ]
  },
  {
   "cell_type": "code",
   "execution_count": 39,
   "metadata": {},
   "outputs": [],
   "source": [
    "vocab_file = os.path.join(BERT_BASE_DIR, 'vocab.txt')\n",
    "tokenizer = tokenization.FullTokenizer(vocab_file=vocab_file, do_lower_case=True)"
   ]
  },
  {
   "cell_type": "code",
   "execution_count": 40,
   "metadata": {},
   "outputs": [],
   "source": [
    "# init_checkpoint = os.path.join(BERT_BASE_DIR, 'bert_model.ckpt')\n",
    "init_checkpoint = CODI_BERT_MODEL\n",
    "model_fn = clf.model_fn_builder(\n",
    "    bert_config=bert_config,\n",
    "    num_labels=len(label_list),\n",
    "    init_checkpoint=init_checkpoint,\n",
    "    learning_rate=5e-5,\n",
    "    num_train_steps=None,\n",
    "    num_warmup_steps=None,\n",
    "    use_tpu=False,\n",
    "    use_one_hot_embeddings=False\n",
    ")"
   ]
  },
  {
   "cell_type": "code",
   "execution_count": 41,
   "metadata": {},
   "outputs": [],
   "source": [
    "is_per_host = tf.contrib.tpu.InputPipelineConfig.PER_HOST_V2\n",
    "run_config = tf.contrib.tpu.RunConfig(\n",
    "      cluster=None,\n",
    "      model_dir=OUTPUT_DIR,\n",
    "      save_checkpoints_steps=1000,\n",
    "      tpu_config=tf.contrib.tpu.TPUConfig(\n",
    "          iterations_per_loop=1000,\n",
    "          num_shards=8,\n",
    "          per_host_input_for_training=is_per_host\n",
    "      )\n",
    ")"
   ]
  },
  {
   "cell_type": "code",
   "execution_count": 42,
   "metadata": {},
   "outputs": [],
   "source": [
    "estimator = tf.contrib.tpu.TPUEstimator(\n",
    "    use_tpu=False,\n",
    "    model_fn=model_fn,\n",
    "    config=run_config,\n",
    "    train_batch_size=32,\n",
    "    eval_batch_size=8,\n",
    "    predict_batch_size=1\n",
    ")"
   ]
  },
  {
   "cell_type": "code",
   "execution_count": 43,
   "metadata": {},
   "outputs": [],
   "source": [
    "max_seq_length = 128"
   ]
  },
  {
   "cell_type": "code",
   "execution_count": 44,
   "metadata": {},
   "outputs": [],
   "source": [
    "sample_utterance = 'How long do I have left on my plan'"
   ]
  },
  {
   "cell_type": "code",
   "execution_count": 45,
   "metadata": {},
   "outputs": [],
   "source": [
    "examples = [clf.InputExample(guid=1, text_a=tokenization.convert_to_unicode(sample_utterance))]\n",
    "features = clf.convert_examples_to_features(examples, \n",
    "                                            label_list, \n",
    "                                            max_seq_length=max_seq_length, \n",
    "                                            tokenizer=tokenizer)"
   ]
  },
  {
   "cell_type": "code",
   "execution_count": 46,
   "metadata": {},
   "outputs": [],
   "source": [
    "input_fn = clf.input_fn_builder(\n",
    "    features=features,\n",
    "    seq_length=max_seq_length,\n",
    "    is_training=False,\n",
    "    drop_remainder=False\n",
    ")"
   ]
  },
  {
   "cell_type": "code",
   "execution_count": 47,
   "metadata": {},
   "outputs": [],
   "source": [
    "result = estimator.predict(input_fn=input_fn)"
   ]
  },
  {
   "cell_type": "code",
   "execution_count": 48,
   "metadata": {},
   "outputs": [
    {
     "name": "stdout",
     "output_type": "stream",
     "text": [
      "119\n"
     ]
    }
   ],
   "source": [
    "for item in result:\n",
    "    print(item)"
   ]
  },
  {
   "cell_type": "code",
   "execution_count": 49,
   "metadata": {},
   "outputs": [],
   "source": [
    "val_csv = '/Users/d777710/src/DeepLearning/dltemplate/src/text_classification_benchmarks/fastai/val.csv'\n",
    "test_csv = '/Users/d777710/src/DeepLearning/dltemplate/src/text_classification_benchmarks/fastai/test.csv'\n",
    "classes_txt = '/Users/d777710/src/DeepLearning/dltemplate/src/text_classification_benchmarks/fastai/classes.txt'"
   ]
  },
  {
   "cell_type": "code",
   "execution_count": 50,
   "metadata": {},
   "outputs": [],
   "source": [
    "val_lines = []\n",
    "with tf.gfile.Open(val_csv, 'r') as f:\n",
    "    reader = csv.reader(f)\n",
    "    for line in reader:\n",
    "        val_lines.append(line)"
   ]
  },
  {
   "cell_type": "code",
   "execution_count": 51,
   "metadata": {},
   "outputs": [],
   "source": [
    "classes = np.genfromtxt(classes_txt, dtype=str)"
   ]
  },
  {
   "cell_type": "code",
   "execution_count": 32,
   "metadata": {},
   "outputs": [
    {
     "name": "stdout",
     "output_type": "stream",
     "text": [
      "Information-E_Contact_Us Service_Management-T_Find_Phone_Number What is the customer number?\n",
      "Account_Management-E_Name_Change Account_Management-E_Update_Change_Contact_Phone_Number i want to update my contact details with telstra for my name\n",
      "Billing-E_Dispute Payment-E_Refund_Payment I have been overcharged\n",
      "Service_Management-E_Price_Plan_Change Sales-E_Port_In so change to post paid, and then my Mx plan is active?\n",
      "Complaints-T_Troubleshooting_Call Service_Management-T_MessageBank_Remoteaccess My text messages are not going thru\n",
      "Payment-E_Payment_History Billing-T_Bill_Copy Hi Codi, I wanted to ask whether I can get my Telstra Prepaid Mobile Invoices sent to me for this financial year.\n",
      "Service_Management-T_Find_Phone_Number Information-T_Definitions What is my 13 digit account code\n",
      "Flow_Control_Break_Flow-Another_Question TEMP_ChitChat-Talk_to_me I have another concern\n",
      "Information-T_Definitions Service_Management-T_MessageBank_Message2Txt What is Message2Txt\n",
      "Account_Management-T_Email_Setup Account_Management-E_Profile_Password I need to get my email password (& username) so I can set up the email account again please.\n",
      "Payment-E_Refund_Payment Billing-E_Bill_Explanation why has my prepaid plan charged me twice\n",
      "Service_Management-E_Add_Service_Features Complaints-T_Troubleshooting_Roaming I have arrived in nz and have sos no signal I'm using my partners phone I want to set up a 7 day travel pass and roaming please\n",
      "Billing-E_Dispute Billing-E_Bill_Explanation You billed me twice this month , can you fix this?\n",
      "TEMP_Account_Management-T_Recharge_Amounts TEMP_Account_Management-T_Recharge_Duration i need to find out what the recharge expiry period is for my pre-paid mobile plan\n",
      "Payment-E_Payment_History Account_Management-T_Usage_History Can you supply recharge history between***** and*****\n",
      "Complaints-T_Troubleshooting_Data Complaints-T_Troubleshooting_Broadband hello i am having a connection issue with my telstra prepaid ian wifi\n",
      "TEMP_ChitChat-I_am_just_kidding TEMP_ChitChat-You_are_not_funny never made you laugh\n",
      "Billing-E_Balance_Inquiry Complaints-T_Troubleshooting_Credit_or_Recharge can you please check if my recharge has gone through\n",
      "Billing-E_Dispute Service_Management-T_Return_Device Ive been charged $831 for a un returned phone on stay connect but its been returned and i have a reference number..\n",
      "Account_Management-T_Profile_Inquiry Account_Management-T_24x7App_Registration_Faults How do I Register telstra app\n",
      "Service_Management-T_MessageBank_Callforward Service_Management-T_MessageBank_Turnoff hi... how do i switch off all types of message bank and call forwarding\n",
      "Service_Management-T_Data_Share_SIM Service_Management-T_Price_Plan_Offers Can I buy a shared sim plan?\n",
      "Order_Management-E_Misc Order_Management-E_Get_Product_Order_Status Who do I contact about recent order\n",
      "Device_Management-T_Replace_SIM Sales-E_Port_In hi new phone want to keep old number on pre paid\n",
      "Complaints-T_Troubleshooting_Payment Payment-E_Make_A_Payment Im trying to pay my bill but wont work\n",
      "TEMP_ChitChat-Ask_me_a_question TEMP_ChitChat-Talk_to_me Ask me something\n",
      "Service_Management-E_Add_Service_Features Service_Management-E_Roaming_Inquiry international day pass for mobile\n",
      "Service_Management-E_International_Rate_Plan_Inquiry Service_Management-E_Price_Plan_Inquiry what are the int'l call and text rates?\n",
      "TEMP_Sales-T_Discontinued_Offers Service_Management-T_Price_Plan_Offers hey yeah I can't seem to find the prepaid plan I'm looking for on ur website\n",
      "Account_Management-T_Usage_History Service_Management-E_Roaming_Inquiry Hi, can you tell me how I can track how many international day passes I have used\n",
      "Billing-E_Bill_Explanation Payment-E_Refund_Payment I am no longer a Telstra customer I closed my account but am still being charged\n",
      "Service_Management-T_Carrier_Billing Service_Management-T_Premium_SMS I'm being charged from a 3rd party\n",
      "Service_Management-T_Contract_Details Service_Management-E_Price_Plan_Inquiry Is my current plan up?\n",
      "Payment-E_Recurring_Payment_Autopay Account_Management-E_Close_Cancel_Account Hello I need to cancell my Land line number direct debit as moving overseas\n",
      "TEMP_Service_Management-T_Directory_Listing Service_Management-T_Find_Phone_Number I wish to have my number show up when calling someone else\n",
      "Device_Management-T_Phone_Lost_Stolen Service_Management-T_Return_Device I need to lock and erase a lost phone\n",
      "Billing-E_Bill_Explanation Payment-E_Refund_Payment I am getting charged twice for 2 plans\n",
      "Service_Management-T_MessageBank_Ringtime Service_Management-T_MessageBank_Setup yes i would. it rings twice and then goes to messagebank. which i haven't set up. it must of already been set when i bought it\n",
      "Flow_Control-It_Worked Flow_Control-It_Did_Not_Work yes I was able to recharge\n",
      "Payment-E_Payment_History Billing-T_Bill_Copy actually i am trying print same sort of invoice for recharging my prepaid i thought that online account could help me?\n",
      "Information-T_Terms_and_Conditions Service_Management-E_Price_Plan_Inquiry where are the offer terms for your prepaid long life offer/plan?\n",
      "Payment-E_Missing_Misapplied_Payment Payment-E_Payment_History I'd like to check the status of a bill I paid as it has not been credited to my account.\n",
      "ChitChat-Hello Account_Management-E_Misc Greetings and salutations\n",
      "Flow_Control-Yes TEMP_ChitChat-Do_not_worry Do it\n",
      "Help-E_Connect_to_Agent Flow_Control_Break_Flow-Another_Question can you pass my question off for some human to do something about my issue\n",
      "ChitChat-Hot_Topics TEMP_ChitChat-I_do_not_like_you Tony Abbott is a moron\n",
      "Billing-E_Balance_Inquiry Payment-E_Report_A_Payment i was wondering if i paid my bill or not\n",
      "TEMP_Complaints-T_Troubleshooting_Plan Service_Management-E_Price_Plan_Change I have just received a text from Telstra regarding Unlimited Talk and Text that will expire. I thought that i was paying for unlimited\n",
      "Service_Management-T_Reconnect_Service Service_Management-E_Activate_Prepaid_Plan I need to reactivate my daughter's phone\n",
      "Information-T_Definitions Service_Management-E_Add_Service_Features Hi, With my prepaid offer, I was wondering how can i use the data saved in my data bank?\n",
      "Account_Management-T_Link_Account Sales-E_Port_In how can I connect new number with existing account?\n",
      "Service_Management-T_Contract_Details Payment-E_Defer_Payment Hi was wondering how to pay out my plan\n",
      "Service_Management-E_Add_Service_Features Account_Management-E_Transfer_Points How do I transfer some of my main balance to my data?\n",
      "Information-T_Definitions Payment-E_Recurring_Payment_Autopay tell me more about automatic recharge\n",
      "Payment-E_Recurring_Payment_Autopay Payment-T_Update_Payment_Details delete credit card account\n",
      "Complaints-T_Troubleshooting_Profile Account_Management-T_Usage_History What's going on in my account?\n",
      "Service_Management-E_Price_Plan_Change Service_Management-T_Price_Plan_Offers Is there a cheaper contract?\n",
      "Order_Management-E_Misc Complaints-T_Troubleshooting_Activation I would like to change the date my broadband is installed\n",
      "Payment-T_Update_Payment_Details Payment-E_Recurring_Payment_Autopay i need your help in redo my auto recharge for my two phones.\n",
      "Complaints-E_Network Complaints-T_Troubleshooting_Speed We have only 1 bar of signal strength and very slow internet\n",
      "Service_Management-T_Price_Plan_Offers Sales-T_Recontract_Service Is there a Pre-Paid plan that has a long expiry?\n",
      "Service_Management-T_Reconnect_Service Payment-E_Report_A_Payment Morning I have had an overdue bill that has been paid how can I get my mobile to have service\n",
      "Account_Management-E_Email_Change Complaints-T_Troubleshooting_Email what is my email\n",
      "Service_Management-E_Activate_Prepaid_Plan Account_Management-T_Profile_Inquiry id like to setup my service\n",
      "TEMP_Complaints-T_Marketing_Opt_Out Complaints-T_Troubleshooting_Email Can you stop sending me junk mail?\n",
      "Account_Management-T_Usage_History Payment-E_Payment_History hi i have a query about my credit usage i paid $10 recharge on **/* on simplicity plan.\n",
      "Billing-E_Bill_Explanation Billing-E_Dispute I keep getting emails saying I have a bill for about $11 but I'm no longer a Telstra customer\n",
      "Complaints-T_Troubleshooting_Credit_or_Recharge TEMP_Payment-E_Method_Of_Payment_Inquiry why can't I recharge using my credit card?\n"
     ]
    },
    {
     "name": "stdout",
     "output_type": "stream",
     "text": [
      "Complaints-T_Troubleshooting_Data Complaints-T_Troubleshooting_Broadband i can't get internet on my mobile broadband device\n",
      "Complaints-T_Troubleshooting_Data Complaints-T_Troubleshooting_Device why is my ipad not connecting... yesterday i had $*** today it says i have $*** but when i try to connect it says no internet\n",
      "TEMP_Payment-E_Method_Of_Payment_Inquiry Account_Management-E_Close_Cancel_Account ok... it says: 'delete payment method. do you really wan tot delete the following saved payment method?' do i press 'yes'?\n",
      "Service_Management-T_Carrier_Billing Service_Management-T_Premium_SMS Subscription services charging my account\n",
      "Service_Management-E_Price_Plan_Inquiry Information-E_About_Us Just want to know the details of my plant\n",
      "Payment-E_Missing_Misapplied_Payment Complaints-T_Troubleshooting_Credit_or_Recharge I recharged yesterday and accidentally did it on my son's phone not mine. Can I fix it as my son is now with vodaphone.\n",
      "Complaints-E_Network Complaints-T_Troubleshooting_Broadband We have a line connectivity issue with our wifi: there was an outage noted in our area from 29 November to 12 December but we still have no wifi. The Telstra diagnosis has said it's a line connectivity issue. What do I do to get back on line?\n",
      "Service_Management-T_MessageBank_Misc Service_Management-T_MessageBank_Greeting my friend was telling me I need to change my voice mail but I dont know how\n",
      "Information-E_Store_Products Off_Topic-T_Out_of_Scope I am looking to get an iWatch\n",
      "Service_Management-T_Price_Plan_Offers Billing-E_Bill_Explanation Can you please explain the leasing option.\n",
      "Complaints-T_Troubleshooting_Speed Complaints-T_Troubleshooting_Credit_or_Recharge hi i topped up our home broadband yesterday and received a confirmation email but it is still slowed\n",
      "TEMP_Information-T_Unwelcome_Calls Complaints-E_Misc Unsolicited call saying they are from Telstra technical department\n",
      "Account_Management-E_Profile_Password Account_Management-T_Telstra_Air_Login I have a problem with my telstra air id can you help me reset it\n",
      "Flow_Control_Break_Flow-That_is_not_what_we_were_talking_about Service_Management-E_Remove_Service_Features I don't want data\n",
      "Payment-E_Make_A_Payment Payment-E_Defer_Payment Right now, I am in a different city and how to make cash payment as today is the due date\n",
      "Flow_Control_Break_Flow-That_is_not_what_we_were_talking_about TEMP_ChitChat-Are_you_kidding I have no idea what you are talking about\n",
      "Billing-E_Misc Billing-E_Balance_Inquiry Im enquiring about my outstanding account\n",
      "Payment-T_Update_Payment_Details Payment-E_Recurring_Payment_Autopay \"can i change my payment to bank account?\"\n",
      "Payment-E_Make_A_Payment Payment-E_Missing_Misapplied_Payment my payment has been unsuccessful can you kindly reprocess my payment?\n",
      "Information-T_Definitions Information-T_Rollover I don't understand what rollover is\n",
      "Information-E_Contact_Us Service_Management-T_Find_Phone_Number I cannot find a number for Telstra anywhere on your site do you not want customers calling you to complain\n",
      "Billing-E_Bill_Explanation Payment-E_Report_A_Payment Hey there Ive paid my bill and I just got my next one with a over due account notice ?\n",
      "Account_Management-E_Close_Cancel_Account Account_Management-E_Misc close account\n",
      "Account_Management-T_24x7App_Registration_Faults Complaints-T_Troubleshooting_Roaming Hi Maria. Cannot access 24/7 app. Saying inappropriate security level. Was trying to get international roaming pack\n",
      "Service_Management-T_Return_Device Information-T_Definitions how can I use my new phone feeling\n",
      "Information-E_About_Us Help-E_Connect_to_Agent hi yes im wondering about Telstra's hiring practices\n",
      "TEMP_Information-T_Benefits_Telstra Service_Management-T_Price_Plan_Offers my aunt is with telstra and she said I should take up a mobile with telstra?\n",
      "Service_Management-T_MessageBank_Setup Service_Management-T_MessageBank_Misc When I call messagebank, there is a message saying the number is not available from this account. Is 101 the correct number for messagebank?\n",
      "Complaints-T_Troubleshooting_Call Complaints-E_Network why was my phone service stopped today ?\n",
      "Service_Management-E_Roaming_Inquiry Information-T_International_Call_Method Im going over seas and wanted to be able to call home\n",
      "ChitChat-Thank_you Flow_Control-No thank you\n",
      "Service_Management-E_Roaming_Inquiry Service_Management-E_International_Rate_Plan_Inquiry when in america how much will it cost to send messages or make calls?\n",
      "Account_Management-T_Profile_Inquiry Complaints-T_Troubleshooting_Profile hi joy. my number is *** and i cannot create my account online\n",
      "Service_Management-T_Benefits_Add TEMP_Service_Management-T_Benefits_Cancel I cant log into afl live pass\n",
      "Service_Management-T_Activate_Broadband Account_Management-T_Profile_Inquiry No it's a home account, i just got my home internet with u guys today and trying to activate it and get it set up\n",
      "Information-T_International_Call_Method Service_Management-E_International_Rate_Plan_Inquiry How do I make an international call with my mobile\n",
      "ChitChat-Hello Device_Management-T_SIM_PIN Hi Code\n",
      "Information-T_Benefits_Prepaid Service_Management-E_Price_Plan_Change i'm looking at shuffling two mobile services to prepaid and would like to know what the benefits are likely to be in terms of cost saving\n",
      "Help-E_Connect_to_Agent Service_Management-T_Apple_Music \"cansultant\"\n",
      "Billing-E_Misc Complaints-T_Troubleshooting_Payment bill Payment problem\n",
      "Complaints-T_Troubleshooting_Activation Account_Management-T_Link_Account Hello, I signed up to Telstra yesterday, my number was meant to be bought over from Virgin within 24hrs but hasn't\n",
      "Service_Management-E_Add_Service_Features Account_Management-E_Email_Change I would like to send more mms\n",
      "Service_Management-T_Price_Plan_Offers Service_Management-E_Price_Plan_Change Hi Im wondering if I can get unlimited data allowance for internet use\n",
      "TEMP_Information-T_Credit_Information Complaints-T_Troubleshooting_Credit_or_Recharge hey I'm trying to recharge my pre paid plan but it says that my credit can't be used\n",
      "Billing-T_Bill_Copy Billing-E_Dispute My ex partner has contacted you to request my phone bill be sent out. I want to stop that from happening.\n",
      "Service_Management-T_MessageBank_Message2Txt Service_Management-T_MessageBank_Turnoff I want to cancel messagetotext\n",
      "Service_Management-E_Activate_Roaming Service_Management-E_Roaming_Inquiry i forgot to enable international roaming so i can get texts. am now in nz. oops\n",
      "Service_Management-E_Remove_Service_Features Service_Management-T_MessageBank_PIN Hi I need more data on my plan I go over every month and I'm about to pull the pin with Telstra, can you help me out\n",
      "Service_Management-E_Price_Plan_Change Service_Management-T_Price_Plan_Offers change home bundle\n",
      "Complaints-T_Troubleshooting_Credit_or_Recharge Payment-E_Recharge I am trying to top up my prepaid mobile with a voucher without success\n",
      "Information-T_Terms_and_Conditions Billing-T_Bill_Copy How do I get a copy of the contract I signed up to with you guys when I started my contract?\n",
      "Account_Management-T_Telstra_Air_Login Complaints-T_Troubleshooting_Telstra_Air I'm trying to connect to telstra Air but I'm not getting the sign in option\n",
      "Service_Management-T_MessageBank_Misc Service_Management-T_MessageBank_Greeting my voicemail is wrong I need to change it how do I do that\n",
      "Payment-E_Report_A_Payment Service_Management-T_Reconnect_Service Have paid the bill please reinstate my account\n",
      "Sales-T_Recontract_Service Service_Management-T_Price_Plan_Offers Hello, my plan has run out today. How do I order a new phone and start a new plan?\n",
      "TEMP_Complaints-T_Troubleshooting_Plan Complaints-T_Troubleshooting_Activation Hi I've just activated a sim card yesterday and its saying my plan expires in 6 days\n",
      "Service_Management-T_Carrier_Billing Service_Management-T_Premium_SMS Question about the Premium direct billing\n",
      "Service_Management-E_Activate_Prepaid_Plan Information-T_Benefits_Prepaid i want to sign up with telstra\n",
      "Benefits-T_Telstra_Thanks Information-E_Store_Products how can I get cheap tix\n",
      "Payment-E_Defer_Payment TEMP_Complaints-T_Troubleshooting_Defer_Payment I was trying to extend my account but it is saying I already have one in place\n"
     ]
    },
    {
     "name": "stdout",
     "output_type": "stream",
     "text": [
      "Complaints-T_Troubleshooting_Activation Service_Management-E_Activate_Prepaid_Plan I bought a simcard this morning and I am still waiting for activation of the number: ***. Can you please help?\n",
      "Service_Management-E_Price_Plan_Inquiry Service_Management-T_Price_Plan_Offers I am looking at your plan M30GB\n",
      "Flow_Control-No Flow_Control-Yes \n",
      "Service_Management-T_Contract_Details Sales-T_Recontract_Service Hi I was wondering when my plan runs out so I can get a new phone?\n",
      "Payment-E_Defer_Payment Billing-E_Dispute I want to delay payment for my account\n",
      "Complaints-T_Troubleshooting_Profile Service_Management-T_Data_Share_SIM hi i've just set up a new mobile that i wanted linked to my telstra online account. using the 'add account' button isn't working for this number can you help please?\n",
      "Service_Management-T_Activate_Broadband Off_Topic-T_Out_of_Scope Need to talk to someone with common sense in Australia on setting up a new Telstra supplied modem for cable broadband\n",
      "Account_Management-T_24x7App_Registration_Faults Complaints-T_Troubleshooting_Profile I have an account restriction on 247\n",
      "Payment-E_Recharge TEMP_Information-T_Credit_Information what are the steps to top up my phone credit\n",
      "Service_Management-E_Coverage_Area_Inquiry Information-T_Internet_Speed I want to know what the data speeds are in my area\n",
      "Service_Management-T_Benefits_Add TEMP_Service_Management-T_Benefits_Cancel \"Can you help with a problem accession AFL live app? Tried live chat earlier and was told to contact Crowd support but not told how\"\n",
      "Off_Topic-T_Out_of_Scope Service_Management-E_Price_Plan_Change i want to change my package for my pay tv\n",
      "Service_Management-T_Price_Plan_Offers Sales-E_Port_In Hi Codi, I would like to talk to someone about joining Telstra and what Plans may be suitable for me.\n",
      "Account_Management-E_Misc Billing-E_Misc Account Enquiry\n",
      "Service_Management-T_Carrier_Billing Complaints-T_Troubleshooting_24x7App i would like to purchase app from windows phone store using my prepaid credit.\n",
      "Service_Management-E_Price_Plan_Inquiry Service_Management-T_Price_Plan_Offers how much data do I get in the $99 mobile plan\n",
      "Service_Management-T_Price_Plan_Offers TEMP_Information-T_Credit_Information hi does the freedom plus $20 credit still include free calls from 6pm..?\n",
      "Service_Management-E_Roaming_Inquiry Service_Management-E_International_Rate_Plan_Inquiry making telephone calls and texts from overseas\n",
      "Complaints-E_Troubleshooting TEMP_Information-T_Unwelcome_Calls Regarding my pre-paid mobile, I have received an SMS saying that my mobile phone number has changed & to go on & register the new number. I don't want a new phone number\n",
      "Order_Management-E_Misc Complaints-T_Troubleshooting_Activation Change installation date\n",
      "Flow_Control-It_Did_Not_Work Complaints-T_Troubleshooting_Activation It won't let me activate on that page\n",
      "Account_Management-T_Link_Account Account_Management-T_24x7App_Registration_Faults yes its a prepaid i activated for my kid i would like it linked to my account so i only have one login and can check usage etc\n",
      "Service_Management-T_Recharge_Service_Features Information-T_Definitions what is an international data pass top up\n",
      "Payment-E_Make_A_Payment Payment-E_Defer_Payment I need to pay my bill but do not know exact amount\n",
      "Payment-E_Defer_Payment Payment-E_Make_A_Payment I need to pay my bill but cant pay all today\n",
      "Service_Management-E_Price_Plan_Change Service_Management-E_Add_Service_Features hi there i want to change my plan on *** i can't add any data packs\n",
      "Billing-E_Balance_Inquiry Payment-E_Payment_History Hi there. I cant log in to my account and want to check if Ive paid my bill.\n",
      "Payment-T_Update_Payment_Details Payment-E_Recurring_Payment_Autopay how do I change my automatic recharge\n"
     ]
    }
   ],
   "source": [
    "y_val = []\n",
    "y_val_pred = []\n",
    "incorrect = 0\n",
    "for label, utterance in val_lines:\n",
    "    y_true = int(label)\n",
    "    y_val.append(y_true)\n",
    "    examples = [clf.InputExample(guid=1, text_a=tokenization.convert_to_unicode(utterance))]\n",
    "    features = clf.convert_examples_to_features(examples,\n",
    "                                                label_list,\n",
    "                                                max_seq_length=max_seq_length,\n",
    "                                                tokenizer=tokenizer)\n",
    "    input_fn = clf.input_fn_builder(\n",
    "        features=features,\n",
    "        seq_length=max_seq_length,\n",
    "        is_training=False,\n",
    "        drop_remainder=False\n",
    "    )\n",
    "    pred = next(estimator.predict(input_fn=input_fn))\n",
    "    y_val_pred.append(pred)\n",
    "    if pred != y_true:\n",
    "        print(classes[y_true], classes[pred], utterance)\n",
    "        incorrect += 1"
   ]
  },
  {
   "cell_type": "code",
   "execution_count": 25,
   "metadata": {},
   "outputs": [
    {
     "data": {
      "text/plain": [
       "703"
      ]
     },
     "execution_count": 25,
     "metadata": {},
     "output_type": "execute_result"
    }
   ],
   "source": [
    "len(y_val_pred)"
   ]
  },
  {
   "cell_type": "code",
   "execution_count": 28,
   "metadata": {},
   "outputs": [
    {
     "name": "stdout",
     "output_type": "stream",
     "text": [
      "Precision (weighted avg): 0.76\n",
      "Recall (weighted avg)   : 0.74\n",
      "F1 Score (weighted avg) : 0.73\n",
      "Accuracy                : 0.74\n",
      "ROC AUC (macro avg)     : 0.87\n"
     ]
    }
   ],
   "source": [
    "stats = perf_summary(y_val, y_val_pred)\n",
    "print_perf_summary(stats, rounded=2)"
   ]
  },
  {
   "cell_type": "code",
   "execution_count": 52,
   "metadata": {
    "scrolled": true
   },
   "outputs": [
    {
     "name": "stdout",
     "output_type": "stream",
     "text": [
      "Information-E_Contact_Us Service_Management-T_Find_Phone_Number What is the customer number?\n",
      "Account_Management-E_Name_Change Account_Management-E_Update_Change_Contact_Phone_Number i want to update my contact details with telstra for my name\n",
      "Billing-E_Dispute Payment-E_Refund_Payment I have been overcharged\n",
      "Service_Management-E_Price_Plan_Change Service_Management-E_Activate_Prepaid_Plan so change to post paid, and then my Mx plan is active?\n",
      "Complaints-T_Troubleshooting_Call Service_Management-T_MessageBank_Remoteaccess My text messages are not going thru\n",
      "Payment-E_Payment_History Billing-T_Bill_Copy Hi Codi, I wanted to ask whether I can get my Telstra Prepaid Mobile Invoices sent to me for this financial year.\n",
      "Service_Management-T_Find_Phone_Number Information-T_Definitions What is my 13 digit account code\n",
      "Flow_Control_Break_Flow-Another_Question TEMP_ChitChat-Talk_to_me I have another concern\n",
      "Information-T_Definitions Service_Management-T_MessageBank_Message2Txt What is Message2Txt\n",
      "Payment-E_Refund_Payment Billing-E_Bill_Explanation why has my prepaid plan charged me twice\n",
      "Service_Management-E_Add_Service_Features Service_Management-E_Activate_Roaming I have arrived in nz and have sos no signal I'm using my partners phone I want to set up a 7 day travel pass and roaming please\n",
      "TEMP_Account_Management-T_Recharge_Amounts TEMP_Account_Management-T_Recharge_Duration i need to find out what the recharge expiry period is for my pre-paid mobile plan\n",
      "Payment-E_Payment_History Account_Management-T_Usage_History Can you supply recharge history between***** and*****\n",
      "Complaints-T_Troubleshooting_Credit_or_Recharge Billing-E_Dispute It used my credit In 2 days! I'm not happy with this at all\n",
      "Complaints-T_Troubleshooting_Data Complaints-T_Troubleshooting_Broadband hello i am having a connection issue with my telstra prepaid ian wifi\n",
      "TEMP_ChitChat-I_am_just_kidding TEMP_ChitChat-You_are_not_funny never made you laugh\n",
      "Billing-E_Balance_Inquiry Complaints-T_Troubleshooting_Credit_or_Recharge can you please check if my recharge has gone through\n",
      "Billing-E_Dispute Service_Management-T_Return_Device Ive been charged $831 for a un returned phone on stay connect but its been returned and i have a reference number..\n",
      "Account_Management-T_Profile_Inquiry Account_Management-T_24x7App_Registration_Faults How do I Register telstra app\n",
      "Service_Management-T_MessageBank_Callforward Service_Management-T_MessageBank_Turnoff hi... how do i switch off all types of message bank and call forwarding\n",
      "Service_Management-T_Data_Share_SIM Service_Management-T_Price_Plan_Offers Can I buy a shared sim plan?\n",
      "Device_Management-T_Replace_SIM Sales-E_Port_In hi new phone want to keep old number on pre paid\n",
      "TEMP_ChitChat-Ask_me_a_question TEMP_ChitChat-Talk_to_me Ask me something\n",
      "Service_Management-E_Add_Service_Features Service_Management-E_Roaming_Inquiry international day pass for mobile\n",
      "TEMP_Sales-T_Discontinued_Offers Service_Management-T_Price_Plan_Offers hey yeah I can't seem to find the prepaid plan I'm looking for on ur website\n",
      "Account_Management-T_Usage_History Service_Management-E_Roaming_Inquiry Hi, can you tell me how I can track how many international day passes I have used\n",
      "Service_Management-E_Price_Plan_Inquiry Service_Management-T_Price_Plan_Offers currently on $99 plan 1 yr prepaid mobile broadband. what is my data limit on this please\n",
      "Billing-E_Bill_Explanation Billing-E_Dispute I am no longer a Telstra customer I closed my account but am still being charged\n",
      "Service_Management-T_Recharge_Service_Features Complaints-T_Troubleshooting_Credit_or_Recharge do I need to recharge my day pass or does it happen by itself?\n",
      "Service_Management-T_Status_Insurance Service_Management-T_Contract_Details i have just cracked my phone screen and was just wondering if it's in my contract to get it fixed\n",
      "Service_Management-T_Carrier_Billing Billing-E_Bill_Explanation I'm being charged from a 3rd party\n",
      "Service_Management-T_Contract_Details Service_Management-E_Price_Plan_Inquiry Is my current plan up?\n",
      "Payment-E_Recurring_Payment_Autopay Account_Management-E_Close_Cancel_Account Hello I need to cancell my Land line number direct debit as moving overseas\n",
      "TEMP_Service_Management-T_Directory_Listing Service_Management-T_Find_Phone_Number I wish to have my number show up when calling someone else\n",
      "Device_Management-T_Phone_Lost_Stolen Service_Management-T_Return_Device I need to lock and erase a lost phone\n",
      "Billing-E_Bill_Explanation Payment-E_Refund_Payment I am getting charged twice for 2 plans\n",
      "Service_Management-T_MessageBank_Ringtime Service_Management-T_MessageBank_Setup yes i would. it rings twice and then goes to messagebank. which i haven't set up. it must of already been set when i bought it\n",
      "Flow_Control-It_Worked Flow_Control-It_Did_Not_Work yes I was able to recharge\n",
      "Payment-E_Payment_History Billing-E_Bill_Explanation actually i am trying print same sort of invoice for recharging my prepaid i thought that online account could help me?\n",
      "Information-T_Terms_and_Conditions Service_Management-T_Price_Plan_Offers where are the offer terms for your prepaid long life offer/plan?\n",
      "Payment-E_Missing_Misapplied_Payment Payment-E_Payment_History I'd like to check the status of a bill I paid as it has not been credited to my account.\n",
      "ChitChat-Hello Information-E_Contact_Us Greetings and salutations\n",
      "Flow_Control-Yes TEMP_ChitChat-Do_not_worry Do it\n",
      "ChitChat-Hot_Topics TEMP_ChitChat-I_do_not_like_you Tony Abbott is a moron\n",
      "Billing-E_Balance_Inquiry Payment-E_Report_A_Payment i was wondering if i paid my bill or not\n",
      "TEMP_Complaints-T_Troubleshooting_Plan Service_Management-E_Price_Plan_Change I have just received a text from Telstra regarding Unlimited Talk and Text that will expire. I thought that i was paying for unlimited\n",
      "Order_Management-E_Get_Product_Order_Status Order_Management-E_Misc What state you are in with my current order?\n",
      "Service_Management-T_Benefits_Add TEMP_Service_Management-T_Benefits_Cancel \"I need help with my AFL live pass\"\n",
      "Information-T_Definitions Account_Management-T_Usage_History Hi, With my prepaid offer, I was wondering how can i use the data saved in my data bank?\n",
      "Account_Management-T_Link_Account Sales-E_Port_In how can I connect new number with existing account?\n",
      "Service_Management-T_Contract_Details Payment-E_Defer_Payment Hi was wondering how to pay out my plan\n",
      "Service_Management-E_Add_Service_Features Account_Management-E_Transfer_Points How do I transfer some of my main balance to my data?\n",
      "Information-T_Definitions Payment-E_Recurring_Payment_Autopay tell me more about automatic recharge\n",
      "Payment-E_Recurring_Payment_Autopay Payment-T_Update_Payment_Details delete credit card account\n",
      "Complaints-T_Troubleshooting_Profile Information-T_Definitions What's going on in my account?\n",
      "Service_Management-T_Moving_Home Complaints-T_Troubleshooting_Landline I have Telstra landline with internet connection , need to move to new address\n",
      "Service_Management-E_Price_Plan_Change Service_Management-T_Price_Plan_Offers Is there a cheaper contract?\n",
      "Order_Management-E_Misc Complaints-T_Troubleshooting_Activation I would like to change the date my broadband is installed\n",
      "Payment-T_Update_Payment_Details Payment-E_Recurring_Payment_Autopay i need your help in redo my auto recharge for my two phones.\n",
      "Complaints-E_Network Complaints-T_Troubleshooting_Speed We have only 1 bar of signal strength and very slow internet\n",
      "Service_Management-T_Reconnect_Service Payment-E_Report_A_Payment Morning I have had an overdue bill that has been paid how can I get my mobile to have service\n",
      "Account_Management-E_Email_Change Complaints-T_Troubleshooting_Email what is my email\n",
      "TEMP_Complaints-T_Marketing_Opt_Out Complaints-T_Troubleshooting_Email Can you stop sending me junk mail?\n",
      "Account_Management-T_Usage_History Complaints-T_Troubleshooting_Credit_or_Recharge hi i have a query about my credit usage i paid $10 recharge on **/* on simplicity plan.\n",
      "Billing-E_Bill_Explanation Billing-E_Dispute I keep getting emails saying I have a bill for about $11 but I'm no longer a Telstra customer\n",
      "TEMP_Payment-E_Method_Of_Payment_Inquiry Account_Management-E_Close_Cancel_Account ok... it says: 'delete payment method. do you really wan tot delete the following saved payment method?' do i press 'yes'?\n"
     ]
    },
    {
     "name": "stdout",
     "output_type": "stream",
     "text": [
      "Service_Management-T_Carrier_Billing Service_Management-T_Premium_SMS Subscription services charging my account\n",
      "Service_Management-E_Price_Plan_Inquiry Information-E_About_Us Just want to know the details of my plant\n",
      "Service_Management-T_Price_Plan_Offers Service_Management-E_Add_Service_Features I will sign up right now for 12mo if you can do it for $40\n",
      "Payment-E_Missing_Misapplied_Payment Complaints-T_Troubleshooting_Credit_or_Recharge I recharged yesterday and accidentally did it on my son's phone not mine. Can I fix it as my son is now with vodaphone.\n",
      "Complaints-E_Network Complaints-T_Troubleshooting_Broadband We have a line connectivity issue with our wifi: there was an outage noted in our area from 29 November to 12 December but we still have no wifi. The Telstra diagnosis has said it's a line connectivity issue. What do I do to get back on line?\n",
      "Service_Management-T_MessageBank_Misc Service_Management-T_MessageBank_Greeting my friend was telling me I need to change my voice mail but I dont know how\n",
      "Information-E_Store_Products Off_Topic-T_Out_of_Scope I am looking to get an iWatch\n",
      "Service_Management-T_Price_Plan_Offers Billing-E_Bill_Explanation Can you please explain the leasing option.\n",
      "Complaints-T_Troubleshooting_Speed Complaints-T_Troubleshooting_Credit_or_Recharge hi i topped up our home broadband yesterday and received a confirmation email but it is still slowed\n",
      "TEMP_Information-T_Unwelcome_Calls Information-T_Terms_and_Conditions Unsolicited call saying they are from Telstra technical department\n",
      "Account_Management-E_Profile_Password Account_Management-T_Telstra_Air_Login I have a problem with my telstra air id can you help me reset it\n",
      "Flow_Control_Break_Flow-That_is_not_what_we_were_talking_about Service_Management-E_Remove_Service_Features I don't want data\n",
      "Payment-E_Make_A_Payment Payment-E_Defer_Payment Right now, I am in a different city and how to make cash payment as today is the due date\n",
      "Billing-E_Misc Billing-E_Balance_Inquiry Im enquiring about my outstanding account\n",
      "Flow_Control-It_Did_Not_Work Billing-E_Dispute It does not come up with request payment extension\n",
      "Payment-E_Make_A_Payment Payment-E_Missing_Misapplied_Payment my payment has been unsuccessful can you kindly reprocess my payment?\n",
      "Information-T_Definitions Information-T_Rollover I don't understand what rollover is\n",
      "Information-E_Contact_Us Service_Management-T_Find_Phone_Number I cannot find a number for Telstra anywhere on your site do you not want customers calling you to complain\n",
      "Billing-E_Bill_Explanation Payment-E_Report_A_Payment Hey there Ive paid my bill and I just got my next one with a over due account notice ?\n",
      "Account_Management-T_24x7App_Registration_Faults Complaints-T_Troubleshooting_Data Hi Maria. Cannot access 24/7 app. Saying inappropriate security level. Was trying to get international roaming pack\n",
      "Service_Management-T_Return_Device Information-T_Definitions how can I use my new phone feeling\n",
      "Service_Management-T_Activate_Broadband Service_Management-E_Activate_Prepaid_Plan I want to activate my home internet\n",
      "Information-E_About_Us Help-E_Connect_to_Agent hi yes im wondering about Telstra's hiring practices\n",
      "TEMP_Information-T_Benefits_Telstra Service_Management-T_Price_Plan_Offers my aunt is with telstra and she said I should take up a mobile with telstra?\n",
      "Service_Management-T_MessageBank_Setup Service_Management-T_MessageBank_Misc When I call messagebank, there is a message saying the number is not available from this account. Is 101 the correct number for messagebank?\n",
      "Complaints-T_Troubleshooting_Call Complaints-E_Network why was my phone service stopped today ?\n",
      "ChitChat-Thank_you Flow_Control-No thank you\n",
      "Service_Management-E_Roaming_Inquiry Service_Management-E_International_Rate_Plan_Inquiry when in america how much will it cost to send messages or make calls?\n",
      "Account_Management-T_Profile_Inquiry Complaints-T_Troubleshooting_Profile hi joy. my number is *** and i cannot create my account online\n",
      "Service_Management-T_Benefits_Add TEMP_Service_Management-T_Benefits_Cancel I cant log into afl live pass\n",
      "Information-T_International_Call_Method Service_Management-E_International_Rate_Plan_Inquiry How do I make an international call with my mobile\n",
      "ChitChat-Hello Account_Management-E_Profile_Password Hi Code\n",
      "ChitChat-Hello_again ChitChat-Hello Hello for the second time\n",
      "Information-T_Benefits_Prepaid Sales-E_Port_In i'm looking at shuffling two mobile services to prepaid and would like to know what the benefits are likely to be in terms of cost saving\n",
      "Help-E_Connect_to_Agent Service_Management-T_Apple_Music \"cansultant\"\n",
      "Billing-E_Misc Complaints-T_Troubleshooting_Payment bill Payment problem\n",
      "Complaints-T_Troubleshooting_Activation Account_Management-T_Link_Account Hello, I signed up to Telstra yesterday, my number was meant to be bought over from Virgin within 24hrs but hasn't\n",
      "Service_Management-E_Add_Service_Features Billing-T_Bill_Copy I would like to send more mms\n",
      "Service_Management-T_Price_Plan_Offers Service_Management-E_Price_Plan_Change Hi Im wondering if I can get unlimited data allowance for internet use\n",
      "TEMP_Information-T_Credit_Information Complaints-T_Troubleshooting_Credit_or_Recharge hey I'm trying to recharge my pre paid plan but it says that my credit can't be used\n",
      "Information-E_Store_Products Service_Management-E_Activate_Prepaid_Plan Can you help me ordering a starter kit?\n",
      "Off_Topic-T_Out_of_Scope Service_Management-T_Apple_Music how do i cancel telstra platinum\n",
      "Service_Management-T_MessageBank_Message2Txt Service_Management-T_MessageBank_Turnoff I want to cancel messagetotext\n",
      "Service_Management-E_Activate_Roaming Service_Management-E_Roaming_Inquiry i forgot to enable international roaming so i can get texts. am now in nz. oops\n",
      "Service_Management-E_Remove_Service_Features Device_Management-T_SIM_PIN Hi I need more data on my plan I go over every month and I'm about to pull the pin with Telstra, can you help me out\n",
      "Service_Management-E_Price_Plan_Change Service_Management-T_Price_Plan_Offers change home bundle\n",
      "Account_Management-T_Telstra_Air_Login Complaints-T_Troubleshooting_Telstra_Air I'm trying to connect to telstra Air but I'm not getting the sign in option\n",
      "Payment-E_Report_A_Payment Service_Management-T_Reconnect_Service Have paid the bill please reinstate my account\n",
      "Sales-T_Recontract_Service Service_Management-T_Price_Plan_Offers Hello, my plan has run out today. How do I order a new phone and start a new plan?\n",
      "TEMP_Complaints-T_Troubleshooting_Plan Complaints-T_Troubleshooting_Activation Hi I've just activated a sim card yesterday and its saying my plan expires in 6 days\n",
      "Service_Management-T_Carrier_Billing Payment-E_Recurring_Payment_Autopay Question about the Premium direct billing\n",
      "Service_Management-T_Premium_SMS Complaints-E_Troubleshooting i am having trouble with sms barring.\n",
      "Account_Management-T_Profile_Inquiry Complaints-T_Troubleshooting_24x7App how can I access MY Account?\n",
      "Benefits-T_Telstra_Thanks Information-E_Store_Products how can I get cheap tix\n",
      "Payment-E_Defer_Payment TEMP_Complaints-T_Troubleshooting_Defer_Payment I was trying to extend my account but it is saying I already have one in place\n",
      "Complaints-T_Troubleshooting_Activation Service_Management-E_Activate_Prepaid_Plan I bought a simcard this morning and I am still waiting for activation of the number: ***. Can you please help?\n",
      "Sales-E_Port_In Device_Management-T_Replace_SIM hi i just got a new phone and i want to keep my old telstra number\n",
      "Service_Management-E_Price_Plan_Inquiry Service_Management-T_Price_Plan_Offers I am looking at your plan M30GB\n",
      "Flow_Control-No Flow_Control-Yes \n",
      "Payment-E_Defer_Payment Billing-E_Dispute I want to delay payment for my account\n",
      "Complaints-T_Troubleshooting_Profile Service_Management-T_Data_Share_SIM hi i've just set up a new mobile that i wanted linked to my telstra online account. using the 'add account' button isn't working for this number can you help please?\n",
      "Service_Management-T_Activate_Broadband Service_Management-E_Activate_Prepaid_Plan Need to talk to someone with common sense in Australia on setting up a new Telstra supplied modem for cable broadband\n",
      "Account_Management-T_24x7App_Registration_Faults Complaints-T_Troubleshooting_Profile I have an account restriction on 247\n"
     ]
    },
    {
     "name": "stdout",
     "output_type": "stream",
     "text": [
      "Payment-E_Recharge TEMP_Information-T_Credit_Information what are the steps to top up my phone credit\n",
      "Service_Management-E_Coverage_Area_Inquiry Information-T_Internet_Speed I want to know what the data speeds are in my area\n",
      "Service_Management-T_Benefits_Add TEMP_Service_Management-T_Benefits_Cancel \"Can you help with a problem accession AFL live app? Tried live chat earlier and was told to contact Crowd support but not told how\"\n",
      "Service_Management-T_Reconnect_Service Service_Management-E_Remove_Service_Features I need to get my internet turned back on please\n",
      "Off_Topic-T_Out_of_Scope Service_Management-E_Price_Plan_Change i want to change my package for my pay tv\n",
      "Service_Management-T_Price_Plan_Offers Sales-E_Port_In Hi Codi, I would like to talk to someone about joining Telstra and what Plans may be suitable for me.\n",
      "Account_Management-E_Misc Billing-E_Misc Account Enquiry\n",
      "Service_Management-T_Carrier_Billing Complaints-T_Troubleshooting_24x7App i would like to purchase app from windows phone store using my prepaid credit.\n",
      "Service_Management-E_Price_Plan_Inquiry Service_Management-T_Price_Plan_Offers how much data do I get in the $99 mobile plan\n",
      "Service_Management-T_Price_Plan_Offers TEMP_Information-T_Credit_Information hi does the freedom plus $20 credit still include free calls from 6pm..?\n",
      "Service_Management-E_Roaming_Inquiry Service_Management-E_International_Rate_Plan_Inquiry making telephone calls and texts from overseas\n",
      "Complaints-E_Troubleshooting TEMP_Information-T_Unwelcome_Calls Regarding my pre-paid mobile, I have received an SMS saying that my mobile phone number has changed & to go on & register the new number. I don't want a new phone number\n",
      "Order_Management-E_Misc Complaints-T_Troubleshooting_Activation Change installation date\n",
      "Flow_Control-It_Did_Not_Work Complaints-T_Troubleshooting_Activation It won't let me activate on that page\n",
      "Account_Management-T_Link_Account Account_Management-T_24x7App_Registration_Faults yes its a prepaid i activated for my kid i would like it linked to my account so i only have one login and can check usage etc\n",
      "Service_Management-T_Recharge_Service_Features Information-T_Definitions what is an international data pass top up\n",
      "Payment-E_Make_A_Payment Billing-E_Balance_Inquiry I need to pay my bill but do not know exact amount\n",
      "Payment-E_Defer_Payment Payment-E_Make_A_Payment I need to pay my bill but cant pay all today\n",
      "Service_Management-E_Price_Plan_Change Service_Management-E_Add_Service_Features hi there i want to change my plan on *** i can't add any data packs\n",
      "Billing-E_Balance_Inquiry Payment-E_Payment_History Hi there. I cant log in to my account and want to check if Ive paid my bill.\n",
      "Payment-T_Update_Payment_Details Payment-E_Recurring_Payment_Autopay how do I change my automatic recharge\n"
     ]
    }
   ],
   "source": [
    "y_val = []\n",
    "y_val_pred = []\n",
    "incorrect = 0\n",
    "for label, utterance in val_lines:\n",
    "    y_true = int(label)\n",
    "    y_val.append(y_true)\n",
    "    examples = [clf.InputExample(guid=1, text_a=tokenization.convert_to_unicode(utterance))]\n",
    "    features = clf.convert_examples_to_features(examples,\n",
    "                                                label_list,\n",
    "                                                max_seq_length=max_seq_length,\n",
    "                                                tokenizer=tokenizer)\n",
    "    input_fn = clf.input_fn_builder(\n",
    "        features=features,\n",
    "        seq_length=max_seq_length,\n",
    "        is_training=False,\n",
    "        drop_remainder=False\n",
    "    )\n",
    "    pred = next(estimator.predict(input_fn=input_fn))\n",
    "    y_val_pred.append(pred)\n",
    "    if pred != y_true:\n",
    "        print(classes[y_true], classes[pred], utterance)\n",
    "        incorrect += 1"
   ]
  },
  {
   "cell_type": "code",
   "execution_count": 53,
   "metadata": {},
   "outputs": [
    {
     "name": "stdout",
     "output_type": "stream",
     "text": [
      "Precision (weighted avg): 0.78\n",
      "Recall (weighted avg)   : 0.76\n",
      "F1 Score (weighted avg) : 0.75\n",
      "Accuracy                : 0.76\n",
      "ROC AUC (macro avg)     : 0.88\n"
     ]
    }
   ],
   "source": [
    "stats = perf_summary(y_val, y_val_pred)\n",
    "print_perf_summary(stats, rounded=2)"
   ]
  },
  {
   "cell_type": "code",
   "execution_count": null,
   "metadata": {},
   "outputs": [],
   "source": [
    "test_lines = []\n",
    "with tf.gfile.Open(test_csv, 'r') as f:\n",
    "    reader = csv.reader(f)\n",
    "    for line in reader:\n",
    "        test_lines.append(line)"
   ]
  },
  {
   "cell_type": "code",
   "execution_count": null,
   "metadata": {},
   "outputs": [],
   "source": [
    "for label, utterance in test_lines[:5]:\n",
    "    examples = [clf.InputExample(guid=1, text_a=tokenization.convert_to_unicode(utterance))]\n",
    "    features = clf.convert_examples_to_features(examples,\n",
    "                                                label_list,\n",
    "                                                max_seq_length=max_seq_length,\n",
    "                                                tokenizer=tokenizer)\n",
    "    input_fn = clf.input_fn_builder(\n",
    "        features=features,\n",
    "        seq_length=max_seq_length,\n",
    "        is_training=False,\n",
    "        drop_remainder=False\n",
    "    )\n",
    "    pred = next(estimator.predict(input_fn=input_fn))\n",
    "    print(classes[int(label)], classes[int(pred)], utterance)\n",
    "    print('')"
   ]
  },
  {
   "cell_type": "code",
   "execution_count": null,
   "metadata": {},
   "outputs": [],
   "source": [
    "eval_examples = processor.get_dev_examples(DATA_DIR)\n",
    "eval_features = clf.convert_examples_to_features(eval_examples, label_list, max_seq_length, tokenizer)"
   ]
  },
  {
   "cell_type": "code",
   "execution_count": null,
   "metadata": {},
   "outputs": [],
   "source": [
    "eval_input_fn = clf.input_fn_builder(\n",
    "    features=eval_features,\n",
    "    seq_length=max_seq_length,\n",
    "    is_training=False,\n",
    "    drop_remainder=False)\n",
    "\n",
    "eval_result = estimator.evaluate(input_fn=eval_input_fn, steps=None)"
   ]
  },
  {
   "cell_type": "code",
   "execution_count": null,
   "metadata": {},
   "outputs": [],
   "source": [
    "for key in sorted(eval_result.keys()):\n",
    "    print('  {} = {}'.format(key, eval_result[key]))"
   ]
  },
  {
   "cell_type": "code",
   "execution_count": null,
   "metadata": {},
   "outputs": [],
   "source": [
    "test_examples = processor.get_test_examples(DATA_DIR)\n",
    "test_features = clf.convert_examples_to_features(test_examples, label_list, max_seq_length, tokenizer)"
   ]
  },
  {
   "cell_type": "code",
   "execution_count": null,
   "metadata": {},
   "outputs": [],
   "source": [
    "test_input_fn = clf.input_fn_builder(\n",
    "    features=test_features,\n",
    "    seq_length=max_seq_length,\n",
    "    is_training=False,\n",
    "    drop_remainder=False)\n",
    "\n",
    "test_result = estimator.evaluate(input_fn=test_input_fn, steps=None)"
   ]
  },
  {
   "cell_type": "code",
   "execution_count": null,
   "metadata": {},
   "outputs": [],
   "source": [
    "for key in sorted(test_result.keys()):\n",
    "    print('  {} = {}'.format(key, test_result[key]))"
   ]
  },
  {
   "cell_type": "markdown",
   "metadata": {},
   "source": [
    "## Conclusions\n",
    "\n",
    "1. Inference slower than API services. Best suited to batch predictions."
   ]
  },
  {
   "cell_type": "code",
   "execution_count": null,
   "metadata": {},
   "outputs": [],
   "source": []
  }
 ],
 "metadata": {
  "kernelspec": {
   "display_name": "Python 3",
   "language": "python",
   "name": "python3"
  },
  "language_info": {
   "codemirror_mode": {
    "name": "ipython",
    "version": 3
   },
   "file_extension": ".py",
   "mimetype": "text/x-python",
   "name": "python",
   "nbconvert_exporter": "python",
   "pygments_lexer": "ipython3",
   "version": "3.6.7"
  }
 },
 "nbformat": 4,
 "nbformat_minor": 2
}
