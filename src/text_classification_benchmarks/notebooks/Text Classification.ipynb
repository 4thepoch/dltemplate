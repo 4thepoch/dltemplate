{
 "cells": [
  {
   "cell_type": "markdown",
   "metadata": {},
   "source": [
    "# Text Classification"
   ]
  },
  {
   "cell_type": "code",
   "execution_count": 17,
   "metadata": {},
   "outputs": [],
   "source": [
    "import importlib\n",
    "import json\n",
    "import matplotlib.pyplot as plt\n",
    "import numpy as np\n",
    "import os\n",
    "import pandas as pd\n",
    "from sklearn.metrics import classification_report\n",
    "import sys\n",
    "import zipfile\n",
    "%matplotlib inline"
   ]
  },
  {
   "cell_type": "code",
   "execution_count": 18,
   "metadata": {},
   "outputs": [],
   "source": [
    "sys.path.append('../..')"
   ]
  },
  {
   "cell_type": "code",
   "execution_count": 19,
   "metadata": {},
   "outputs": [],
   "source": [
    "import common.load_data as data_helper\n",
    "from text_classification_benchmarks.data_loader import clean_data, load_data\n",
    "from text_classification_benchmarks.data_loader import remove_classes_with_too_few_examples, tokenize\n",
    "from text_classification_benchmarks.metrics import perf_summary, print_perf_summary\n",
    "from text_classification_benchmarks.metrics import perf_by_label, print_perf_by_label\n",
    "from text_classification_benchmarks.metrics import plot_confusion_matrix, print_best_worst"
   ]
  },
  {
   "cell_type": "markdown",
   "metadata": {},
   "source": [
    "## About the data"
   ]
  },
  {
   "cell_type": "code",
   "execution_count": 5,
   "metadata": {},
   "outputs": [
    {
     "name": "stderr",
     "output_type": "stream",
     "text": [
      "INFO:root:Max sequence length: 14\n"
     ]
    }
   ],
   "source": [
    "x, y, vocab, vocab_inv, df, labels = data_helper.load_crime_dataset()"
   ]
  },
  {
   "cell_type": "code",
   "execution_count": null,
   "metadata": {},
   "outputs": [],
   "source": []
  },
  {
   "cell_type": "code",
   "execution_count": 20,
   "metadata": {},
   "outputs": [
    {
     "name": "stdout",
     "output_type": "stream",
     "text": [
      "Lengths Train: 5696, Val: 633, Test: 703, Classes: 191\n"
     ]
    }
   ],
   "source": [
    "train_df, val_df, test_df, classes = load_data()"
   ]
  },
  {
   "cell_type": "markdown",
   "metadata": {},
   "source": [
    "### Tokens per utterance"
   ]
  },
  {
   "cell_type": "code",
   "execution_count": 21,
   "metadata": {},
   "outputs": [
    {
     "name": "stdout",
     "output_type": "stream",
     "text": [
      "Length after cleaning data: 5695\n"
     ]
    }
   ],
   "source": [
    "train_df = tokenize(clean_data(train_df))"
   ]
  },
  {
   "cell_type": "code",
   "execution_count": 22,
   "metadata": {},
   "outputs": [
    {
     "data": {
      "text/html": [
       "<div>\n",
       "<table border=\"1\" class=\"dataframe\">\n",
       "  <thead>\n",
       "    <tr style=\"text-align: right;\">\n",
       "      <th></th>\n",
       "      <th>label</th>\n",
       "      <th>utterance</th>\n",
       "      <th>tokens</th>\n",
       "      <th>length</th>\n",
       "    </tr>\n",
       "  </thead>\n",
       "  <tbody>\n",
       "    <tr>\n",
       "      <th>0</th>\n",
       "      <td>111</td>\n",
       "      <td>Can you explain MMS charges for me while roaming?</td>\n",
       "      <td>[Can, you, explain, MMS, charges, for, me, whi...</td>\n",
       "      <td>10</td>\n",
       "    </tr>\n",
       "    <tr>\n",
       "      <th>1</th>\n",
       "      <td>150</td>\n",
       "      <td>youre an idiott</td>\n",
       "      <td>[you, re, an, idiott]</td>\n",
       "      <td>4</td>\n",
       "    </tr>\n",
       "    <tr>\n",
       "      <th>2</th>\n",
       "      <td>72</td>\n",
       "      <td>i am just making an enquiry today on the insto...</td>\n",
       "      <td>[i, am, just, making, an, enquiry, today, on, ...</td>\n",
       "      <td>17</td>\n",
       "    </tr>\n",
       "    <tr>\n",
       "      <th>3</th>\n",
       "      <td>75</td>\n",
       "      <td>I dnt kno wat auto pay is</td>\n",
       "      <td>[I, dnt, kno, wat, auto, pay, is]</td>\n",
       "      <td>7</td>\n",
       "    </tr>\n",
       "    <tr>\n",
       "      <th>4</th>\n",
       "      <td>92</td>\n",
       "      <td>I want to monthly recharge using my debit card</td>\n",
       "      <td>[I, want, to, monthly, recharge, using, my, de...</td>\n",
       "      <td>9</td>\n",
       "    </tr>\n",
       "  </tbody>\n",
       "</table>\n",
       "</div>"
      ],
      "text/plain": [
       "   label                                          utterance  \\\n",
       "0    111  Can you explain MMS charges for me while roaming?   \n",
       "1    150                                    youre an idiott   \n",
       "2     72  i am just making an enquiry today on the insto...   \n",
       "3     75                          I dnt kno wat auto pay is   \n",
       "4     92     I want to monthly recharge using my debit card   \n",
       "\n",
       "                                              tokens  length  \n",
       "0  [Can, you, explain, MMS, charges, for, me, whi...      10  \n",
       "1                              [you, re, an, idiott]       4  \n",
       "2  [i, am, just, making, an, enquiry, today, on, ...      17  \n",
       "3                  [I, dnt, kno, wat, auto, pay, is]       7  \n",
       "4  [I, want, to, monthly, recharge, using, my, de...       9  "
      ]
     },
     "execution_count": 22,
     "metadata": {},
     "output_type": "execute_result"
    }
   ],
   "source": [
    "train_df.head()"
   ]
  },
  {
   "cell_type": "code",
   "execution_count": 23,
   "metadata": {},
   "outputs": [
    {
     "name": "stdout",
     "output_type": "stream",
     "text": [
      "Min: 1, Max: 70, Mean: 12, Std: 8\n"
     ]
    }
   ],
   "source": [
    "# Min, Max, Mean, Std Dev. of tokens per utterance\n",
    "lengths = train_df['length']\n",
    "print('Min: {}, Max: {}, Mean: {}, Std: {}'\n",
    "      .format(int(lengths.min()), int(lengths.max()), int(lengths.mean()), int(lengths.std())))"
   ]
  },
  {
   "cell_type": "code",
   "execution_count": 24,
   "metadata": {},
   "outputs": [
    {
     "data": {
      "text/plain": [
       "(56.633713784021069, 331)"
      ]
     },
     "execution_count": 24,
     "metadata": {},
     "output_type": "execute_result"
    }
   ],
   "source": [
    "char_lengths = train_df.utterance.apply(len)\n",
    "char_lengths.mean(), char_lengths.max()"
   ]
  },
  {
   "cell_type": "code",
   "execution_count": 25,
   "metadata": {},
   "outputs": [
    {
     "name": "stdout",
     "output_type": "stream",
     "text": [
      "Mean Lengths by Label Variance: 26, Std: 5\n"
     ]
    }
   ],
   "source": [
    "# Variance, Std. Dev. of lengths by label\n",
    "lengths_by_label = train_df.groupby(['label'])['length']\n",
    "print('Mean Lengths by Label Variance: {}, Std: {}'\n",
    "      .format(int(lengths_by_label.mean().var()), int(lengths_by_label.mean().std())))"
   ]
  },
  {
   "cell_type": "code",
   "execution_count": 26,
   "metadata": {},
   "outputs": [
    {
     "data": {
      "text/plain": [
       "<matplotlib.axes._subplots.AxesSubplot at 0x12748ecf8>"
      ]
     },
     "execution_count": 26,
     "metadata": {},
     "output_type": "execute_result"
    },
    {
     "data": {
      "image/png": "[encoded data removed]",
      "text/plain": [
       "<matplotlib.figure.Figure at 0x126596978>"
      ]
     },
     "metadata": {},
     "output_type": "display_data"
    }
   ],
   "source": [
    "train_df['length'].plot.hist()"
   ]
  },
  {
   "cell_type": "markdown",
   "metadata": {},
   "source": [
    "### Class Balance?\n",
    "\n",
    "Conventional algorithms are often biased towards the majority class, not taking the data distribution into consideration."
   ]
  },
  {
   "cell_type": "code",
   "execution_count": 27,
   "metadata": {},
   "outputs": [
    {
     "name": "stdout",
     "output_type": "stream",
     "text": [
      "Number Utterances by Label Min: 1, Max: 177, Mean: 29, Std: 26\n"
     ]
    }
   ],
   "source": [
    "counts_by_label = train_df.groupby('label').utterance.count()\n",
    "print('Number Utterances by Label Min: {}, Max: {}, Mean: {}, Std: {}'\n",
    "      .format(int(counts_by_label.min()), int(counts_by_label.max()), \n",
    "              int(counts_by_label.mean()), int(counts_by_label.std())))"
   ]
  },
  {
   "cell_type": "code",
   "execution_count": 28,
   "metadata": {},
   "outputs": [
    {
     "data": {
      "image/png": "[encoded data removed]",
      "text/plain": [
       "<matplotlib.figure.Figure at 0x122f4fbe0>"
      ]
     },
     "metadata": {},
     "output_type": "display_data"
    }
   ],
   "source": [
    "fig = plt.figure(figsize=(12, 5))\n",
    "ax = plt.axes()\n",
    "train_df.groupby('label').utterance.count().plot.bar(ylim=0)\n",
    "ax.xaxis.set_major_formatter(plt.NullFormatter())  # hide labels"
   ]
  },
  {
   "cell_type": "markdown",
   "metadata": {},
   "source": [
    "### Remove classes with too few examples\n",
    "\n",
    "Necessary for later models."
   ]
  },
  {
   "cell_type": "code",
   "execution_count": 29,
   "metadata": {},
   "outputs": [
    {
     "name": "stdout",
     "output_type": "stream",
     "text": [
      "Length after processing data: 5645\n"
     ]
    }
   ],
   "source": [
    "train_df = remove_classes_with_too_few_examples(train_df, min_examples=6)"
   ]
  },
  {
   "cell_type": "code",
   "execution_count": 30,
   "metadata": {},
   "outputs": [
    {
     "name": "stdout",
     "output_type": "stream",
     "text": [
      "Number classes after removal: 175\n"
     ]
    }
   ],
   "source": [
    "print('Number classes after removal:', len(train_df.label.unique()))"
   ]
  },
  {
   "cell_type": "code",
   "execution_count": 31,
   "metadata": {},
   "outputs": [
    {
     "name": "stdout",
     "output_type": "stream",
     "text": [
      "Length after cleaning data: 632\n"
     ]
    }
   ],
   "source": [
    "val_df = clean_data(val_df)"
   ]
  },
  {
   "cell_type": "code",
   "execution_count": 32,
   "metadata": {},
   "outputs": [
    {
     "data": {
      "text/html": [
       "<div>\n",
       "<table border=\"1\" class=\"dataframe\">\n",
       "  <thead>\n",
       "    <tr style=\"text-align: right;\">\n",
       "      <th></th>\n",
       "      <th>label</th>\n",
       "      <th>utterance</th>\n",
       "    </tr>\n",
       "  </thead>\n",
       "  <tbody>\n",
       "    <tr>\n",
       "      <th>0</th>\n",
       "      <td>70</td>\n",
       "      <td>What is the customer number?</td>\n",
       "    </tr>\n",
       "    <tr>\n",
       "      <th>1</th>\n",
       "      <td>3</td>\n",
       "      <td>i want to update my contact details with telst...</td>\n",
       "    </tr>\n",
       "    <tr>\n",
       "      <th>2</th>\n",
       "      <td>47</td>\n",
       "      <td>I'm having trouble registering for Telstra air</td>\n",
       "    </tr>\n",
       "    <tr>\n",
       "      <th>3</th>\n",
       "      <td>21</td>\n",
       "      <td>I have been overcharged</td>\n",
       "    </tr>\n",
       "    <tr>\n",
       "      <th>4</th>\n",
       "      <td>108</td>\n",
       "      <td>so change to post paid, and then my Mx plan is...</td>\n",
       "    </tr>\n",
       "  </tbody>\n",
       "</table>\n",
       "</div>"
      ],
      "text/plain": [
       "   label                                          utterance\n",
       "0     70                       What is the customer number?\n",
       "1      3  i want to update my contact details with telst...\n",
       "2     47     I'm having trouble registering for Telstra air\n",
       "3     21                            I have been overcharged\n",
       "4    108  so change to post paid, and then my Mx plan is..."
      ]
     },
     "execution_count": 32,
     "metadata": {},
     "output_type": "execute_result"
    }
   ],
   "source": [
    "val_df.head()"
   ]
  },
  {
   "cell_type": "code",
   "execution_count": 33,
   "metadata": {},
   "outputs": [
    {
     "name": "stdout",
     "output_type": "stream",
     "text": [
      "Length after processing data: 271\n"
     ]
    }
   ],
   "source": [
    "val_df = remove_classes_with_too_few_examples(val_df, min_examples=6)"
   ]
  },
  {
   "cell_type": "code",
   "execution_count": 34,
   "metadata": {},
   "outputs": [
    {
     "name": "stdout",
     "output_type": "stream",
     "text": [
      "Lengths after removing labels with insufficient examples Train: 5645, Val: 271\n"
     ]
    }
   ],
   "source": [
    "print('Lengths after removing labels with insufficient examples Train: {}, Val: {}'\n",
    "      .format(len(train_df), len(val_df)))"
   ]
  },
  {
   "cell_type": "markdown",
   "metadata": {},
   "source": [
    "## Metrics"
   ]
  },
  {
   "cell_type": "markdown",
   "metadata": {},
   "source": [
    "Options:\n",
    "* ROC area under the curve\n",
    "* AUC for a precision-recall curve (sklearn.metrics.average_precision_score)\n",
    "* Generalize binary performance metrics such as precision, recall, and F1 to multi-class settings. Assuming a One-vs-All classifier, we can go with a \"micro\" average or a \"macro\" average.\n",
    "* Multi-class log loss\n",
    "\n",
    "In \"micro averaging,\" we would calculate the performance, e.g., precision, from the individualtrue positives, true negatives, false positives, and false negatives of the the k-class model, e.g.:\n",
    "\n",
    "    Precision_micro = (TP1 + ... + TPk) / (TP1 + ... + TPk + FP1 + ... + FPk)\n",
    "\n",
    "And in macro-averaging, we would average the performances of each individual class, e.g.:\n",
    "\n",
    "    Precision_macro = (P1 + ... + Pk) / k\n",
    "    \n",
    "Because the micro-average gives equal weight to each individual decision, large classes will dominate small ones. This makes it a measure of how effective your classifier is on the large classes in the collection.\n",
    "\n",
    "On the other hand, macro-averaging gives equal weight to every class, and so will give you a sense of how effective you are on the small classes."
   ]
  },
  {
   "cell_type": "markdown",
   "metadata": {},
   "source": [
    "Notes:\n",
    "* Classification Accuracy (or misclassification error) makes sense if your class labels are uniformly distributed. "
   ]
  },
  {
   "cell_type": "markdown",
   "metadata": {},
   "source": [
    "## Classical models\n",
    "\n",
    "Bag-of-words features using TF-IDF."
   ]
  },
  {
   "cell_type": "code",
   "execution_count": 17,
   "metadata": {},
   "outputs": [],
   "source": [
    "from text_classification_benchmarks.tfidf_bow import generate_tfidf_features, show_relevant_terms"
   ]
  },
  {
   "cell_type": "code",
   "execution_count": 18,
   "metadata": {},
   "outputs": [],
   "source": [
    "features, labels, tfidf, indices = generate_tfidf_features(train_df, val_df, cutoff=5, ngram_range=2)"
   ]
  },
  {
   "cell_type": "code",
   "execution_count": 19,
   "metadata": {},
   "outputs": [
    {
     "name": "stdout",
     "output_type": "stream",
     "text": [
      "Number Utterances: 5916, Features: 1387\n"
     ]
    }
   ],
   "source": [
    "print('Number Utterances: {}, Features: {}'.format(*features.shape))"
   ]
  },
  {
   "cell_type": "markdown",
   "metadata": {},
   "source": [
    "*i* utterances represented by *j* features, representing the TF-IDF score for various unigrams and bigrams."
   ]
  },
  {
   "cell_type": "code",
   "execution_count": 20,
   "metadata": {},
   "outputs": [
    {
     "name": "stdout",
     "output_type": "stream",
     "text": [
      "Label: Account_Management-E_Close_Cancel_Account\n",
      "\tMost correlated unigrams: switching, shut, cancel\n",
      "\tMost correlated bigrams: phone internet, account credit, cancel service\n",
      "\n",
      "Label: Billing-E_Bill_Explanation\n",
      "\tMost correlated unigrams: understand, charged, explain\n",
      "\tMost correlated bigrams: late fee, got email, don understand\n",
      "\n",
      "Label: Complaints-T_Troubleshooting_Device\n",
      "\tMost correlated unigrams: samsung, fault, edge\n",
      "\tMost correlated bigrams: phone says, hi mobile, samsung s7\n",
      "\n",
      "Label: Flow_Control-I_Need_More_Time\n",
      "\tMost correlated unigrams: try, ready, moment\n",
      "\tMost correlated bigrams: don know, try later, need time\n",
      "\n",
      "Label: Information-T_Share_Data\n",
      "\tMost correlated unigrams: packs, shared, share\n",
      "\tMost correlated bigrams: add data, shared data, share data\n",
      "\n",
      "Label: Service_Management-E_Add_Insurance\n",
      "\tMost correlated unigrams: stay, stayconnected, insurance\n",
      "\tMost correlated bigrams: pre paid, does work, stay connected\n",
      "\n",
      "Label: Service_Management-T_Data_Share_SIM\n",
      "\tMost correlated unigrams: additional, shared, share\n",
      "\tMost correlated bigrams: share data, share sim, data share\n",
      "\n",
      "Label: TEMP_Account_Management-T_Recharge_Amounts\n",
      "\tMost correlated unigrams: happy, happens, zealand\n",
      "\tMost correlated bigrams: having problem, haven received, having issues\n",
      "\n",
      "Label: TEMP_ChitChat-What_is_happening\n",
      "\tMost correlated unigrams: whats, doing, happening\n",
      "\tMost correlated bigrams: want know, telstra air, pre paid\n",
      "\n",
      "Label: TEMP_Information-T_Online_Purchase_Benefits\n",
      "\tMost correlated unigrams: happy, happens, zealand\n",
      "\tMost correlated bigrams: having problem, haven received, having issues\n",
      "\n"
     ]
    }
   ],
   "source": [
    "show_relevant_terms(features, labels, tfidf, classes, every=20)"
   ]
  },
  {
   "cell_type": "markdown",
   "metadata": {},
   "source": [
    "### Logistic Regression"
   ]
  },
  {
   "cell_type": "markdown",
   "metadata": {},
   "source": [
    "### Multinomial Naive Bayes Classifier"
   ]
  },
  {
   "cell_type": "markdown",
   "metadata": {},
   "source": [
    "Naive Bayes is a family of algorithms based on applying Bayes theorem with a naive assumption,\n",
    "that every feature is independent of the others, in order to predict the category of a given\n",
    "sample. They are probabilistic classifiers, therefore will calculate the probability of each\n",
    "category using Bayes theorem, and the category with the highest probability will be output.\n",
    "\n",
    "Multinomial Naive Bayes classifier is a specific instance of a Naive Bayes classifier which uses\n",
    "a multinomial distribution for each of the features.\n",
    "\n",
    "Multinomial Naive Bayes (MNB) is typically better at snippets than SVM models. ([Baselines and Bigrams: Simple, Good Sentiment\n",
    "and Topic Classification; ACL 2012](http://nlp.stanford.edu/pubs/sidaw12_simple_sentiment.pdf))"
   ]
  },
  {
   "cell_type": "code",
   "execution_count": 21,
   "metadata": {},
   "outputs": [],
   "source": [
    "from text_classification_benchmarks.multinomial_naive_bayes.model_setup import MultinomialNaiveBayesModel"
   ]
  },
  {
   "cell_type": "code",
   "execution_count": 135,
   "metadata": {},
   "outputs": [],
   "source": [
    "X_train, y_train = train_df.utterance, train_df.label\n",
    "X_val, y_val = val_df.utterance, val_df.label"
   ]
  },
  {
   "cell_type": "code",
   "execution_count": 23,
   "metadata": {},
   "outputs": [],
   "source": [
    "model = MultinomialNaiveBayesModel(X_train, y_train)"
   ]
  },
  {
   "cell_type": "code",
   "execution_count": 24,
   "metadata": {},
   "outputs": [],
   "source": [
    "def print_prediction(sample_idx):\n",
    "    utterance = X_val[sample_idx]\n",
    "    print('Utterance:', utterance)\n",
    "    print('Actual:', classes[y_val[sample_idx]])\n",
    "    print('Predicted:', classes[model.predict(utterance)])"
   ]
  },
  {
   "cell_type": "code",
   "execution_count": 25,
   "metadata": {},
   "outputs": [
    {
     "name": "stdout",
     "output_type": "stream",
     "text": [
      "Utterance: Hi I can't activate online it is playing up when it comes to a question with options\n",
      "Actual: Complaints-T_Troubleshooting_Activation\n",
      "Predicted: Information-T_Definitions\n",
      "\n",
      "Utterance: explain my bill Summary\n",
      "Actual: Billing-E_Bill_Explanation\n",
      "Predicted: Billing-E_Bill_Explanation\n",
      "\n",
      "Utterance: Hi. I am wanting to set up direct debit and am a concession card holder/pensioner. It says I could be exempt from the fee I think if so.\n",
      "Actual: Payment-E_Recurring_Payment_Autopay\n",
      "Predicted: Payment-E_Recurring_Payment_Autopay\n",
      "\n",
      "Utterance: I don't want data\n",
      "Actual: Flow_Control_Break_Flow-That_is_not_what_we_were_talking_about\n",
      "Predicted: Service_Management-E_Add_Service_Features\n",
      "\n",
      "Utterance: making telephone calls and texts from overseas\n",
      "Actual: Service_Management-E_Roaming_Inquiry\n",
      "Predicted: Service_Management-E_Roaming_Inquiry\n",
      "\n",
      "Utterance: Have not received a credit\n",
      "Actual: Billing-E_Dispute\n",
      "Predicted: Complaints-T_Troubleshooting_Credit_or_Recharge\n",
      "\n",
      "Utterance: Its only given me an extension date till 31/07/2017\n",
      "Actual: Payment-E_Defer_Payment\n",
      "Predicted: Payment-E_Defer_Payment\n",
      "\n",
      "Utterance: I want to switch offers\n",
      "Actual: Service_Management-E_Price_Plan_Change\n",
      "Predicted: Sales-E_Port_In\n",
      "\n",
      "Utterance: how do i recharge my pre-paid wifi online\n",
      "Actual: Payment-E_Recharge\n",
      "Predicted: Payment-E_Recharge\n",
      "\n",
      "Utterance: Hi Cody, my husband is out of contract\n",
      "Actual: Sales-T_Recontract_Service\n",
      "Predicted: Information-T_Definitions\n",
      "\n"
     ]
    }
   ],
   "source": [
    "samples = np.random.choice(X_val.index, size=10)\n",
    "for i in samples:\n",
    "    print_prediction(i)\n",
    "    print()"
   ]
  },
  {
   "cell_type": "code",
   "execution_count": 26,
   "metadata": {},
   "outputs": [],
   "source": [
    "y_pred = [model.predict(utterance) for utterance in X_val]"
   ]
  },
  {
   "cell_type": "code",
   "execution_count": 27,
   "metadata": {},
   "outputs": [
    {
     "name": "stdout",
     "output_type": "stream",
     "text": [
      "Precision (weighted avg): 0.66\n",
      "Recall (weighted avg)   : 0.54\n",
      "F1 Score (weighted avg) : 0.51\n",
      "Accuracy                : 0.54\n",
      "ROC AUC (macro avg)     : 0.73\n"
     ]
    }
   ],
   "source": [
    "stats = perf_summary(y_val, y_pred)\n",
    "print_perf_summary(stats, rounded=2)"
   ]
  },
  {
   "cell_type": "code",
   "execution_count": 28,
   "metadata": {},
   "outputs": [
    {
     "data": {
      "text/html": [
       "<div>\n",
       "<table border=\"1\" class=\"dataframe\">\n",
       "  <thead>\n",
       "    <tr style=\"text-align: right;\">\n",
       "      <th></th>\n",
       "      <th>name</th>\n",
       "      <th>idx</th>\n",
       "      <th>precision</th>\n",
       "      <th>recall</th>\n",
       "      <th>f1_score</th>\n",
       "      <th>roc_auc</th>\n",
       "      <th>support</th>\n",
       "      <th>n_examples</th>\n",
       "    </tr>\n",
       "  </thead>\n",
       "  <tbody>\n",
       "    <tr>\n",
       "      <th>9</th>\n",
       "      <td>Complaints-T_Troubleshooting_Telstra_Air</td>\n",
       "      <td>47</td>\n",
       "      <td>0.90</td>\n",
       "      <td>1.00</td>\n",
       "      <td>0.95</td>\n",
       "      <td>1.00</td>\n",
       "      <td>9</td>\n",
       "      <td>76</td>\n",
       "    </tr>\n",
       "    <tr>\n",
       "      <th>6</th>\n",
       "      <td>Complaints-T_Troubleshooting_Broadband</td>\n",
       "      <td>36</td>\n",
       "      <td>0.88</td>\n",
       "      <td>0.88</td>\n",
       "      <td>0.88</td>\n",
       "      <td>0.94</td>\n",
       "      <td>8</td>\n",
       "      <td>73</td>\n",
       "    </tr>\n",
       "    <tr>\n",
       "      <th>8</th>\n",
       "      <td>Complaints-T_Troubleshooting_Email</td>\n",
       "      <td>41</td>\n",
       "      <td>1.00</td>\n",
       "      <td>0.75</td>\n",
       "      <td>0.86</td>\n",
       "      <td>0.88</td>\n",
       "      <td>8</td>\n",
       "      <td>74</td>\n",
       "    </tr>\n",
       "    <tr>\n",
       "      <th>12</th>\n",
       "      <td>Help-E_Connect_to_Agent</td>\n",
       "      <td>67</td>\n",
       "      <td>1.00</td>\n",
       "      <td>0.73</td>\n",
       "      <td>0.84</td>\n",
       "      <td>0.86</td>\n",
       "      <td>11</td>\n",
       "      <td>101</td>\n",
       "    </tr>\n",
       "    <tr>\n",
       "      <th>0</th>\n",
       "      <td>Account_Management-T_Telstra_Air_Login</td>\n",
       "      <td>14</td>\n",
       "      <td>0.83</td>\n",
       "      <td>0.83</td>\n",
       "      <td>0.83</td>\n",
       "      <td>0.91</td>\n",
       "      <td>6</td>\n",
       "      <td>57</td>\n",
       "    </tr>\n",
       "    <tr>\n",
       "      <th>18</th>\n",
       "      <td>Payment-E_Payment_History</td>\n",
       "      <td>90</td>\n",
       "      <td>1.00</td>\n",
       "      <td>0.71</td>\n",
       "      <td>0.83</td>\n",
       "      <td>0.86</td>\n",
       "      <td>7</td>\n",
       "      <td>61</td>\n",
       "    </tr>\n",
       "    <tr>\n",
       "      <th>28</th>\n",
       "      <td>Service_Management-T_Apple_Music</td>\n",
       "      <td>114</td>\n",
       "      <td>0.83</td>\n",
       "      <td>0.83</td>\n",
       "      <td>0.83</td>\n",
       "      <td>0.91</td>\n",
       "      <td>6</td>\n",
       "      <td>58</td>\n",
       "    </tr>\n",
       "    <tr>\n",
       "      <th>20</th>\n",
       "      <td>Payment-E_Recurring_Payment_Autopay</td>\n",
       "      <td>92</td>\n",
       "      <td>0.86</td>\n",
       "      <td>0.75</td>\n",
       "      <td>0.80</td>\n",
       "      <td>0.87</td>\n",
       "      <td>8</td>\n",
       "      <td>73</td>\n",
       "    </tr>\n",
       "    <tr>\n",
       "      <th>29</th>\n",
       "      <td>Service_Management-T_Carrier_Billing</td>\n",
       "      <td>116</td>\n",
       "      <td>1.00</td>\n",
       "      <td>0.57</td>\n",
       "      <td>0.73</td>\n",
       "      <td>0.79</td>\n",
       "      <td>7</td>\n",
       "      <td>60</td>\n",
       "    </tr>\n",
       "    <tr>\n",
       "      <th>26</th>\n",
       "      <td>Service_Management-E_Roaming_Inquiry</td>\n",
       "      <td>111</td>\n",
       "      <td>0.83</td>\n",
       "      <td>0.62</td>\n",
       "      <td>0.71</td>\n",
       "      <td>0.81</td>\n",
       "      <td>8</td>\n",
       "      <td>74</td>\n",
       "    </tr>\n",
       "    <tr>\n",
       "      <th>14</th>\n",
       "      <td>Information-T_Definitions</td>\n",
       "      <td>75</td>\n",
       "      <td>0.49</td>\n",
       "      <td>1.00</td>\n",
       "      <td>0.66</td>\n",
       "      <td>0.96</td>\n",
       "      <td>20</td>\n",
       "      <td>177</td>\n",
       "    </tr>\n",
       "    <tr>\n",
       "      <th>3</th>\n",
       "      <td>Billing-E_Dispute</td>\n",
       "      <td>21</td>\n",
       "      <td>0.80</td>\n",
       "      <td>0.50</td>\n",
       "      <td>0.62</td>\n",
       "      <td>0.75</td>\n",
       "      <td>8</td>\n",
       "      <td>70</td>\n",
       "    </tr>\n",
       "    <tr>\n",
       "      <th>7</th>\n",
       "      <td>Complaints-T_Troubleshooting_Credit_or_Recharge</td>\n",
       "      <td>38</td>\n",
       "      <td>0.50</td>\n",
       "      <td>0.67</td>\n",
       "      <td>0.57</td>\n",
       "      <td>0.82</td>\n",
       "      <td>9</td>\n",
       "      <td>83</td>\n",
       "    </tr>\n",
       "    <tr>\n",
       "      <th>16</th>\n",
       "      <td>Payment-E_Defer_Payment</td>\n",
       "      <td>87</td>\n",
       "      <td>0.42</td>\n",
       "      <td>0.91</td>\n",
       "      <td>0.57</td>\n",
       "      <td>0.93</td>\n",
       "      <td>11</td>\n",
       "      <td>101</td>\n",
       "    </tr>\n",
       "    <tr>\n",
       "      <th>11</th>\n",
       "      <td>Flow_Control-It_Did_Not_Work</td>\n",
       "      <td>61</td>\n",
       "      <td>1.00</td>\n",
       "      <td>0.38</td>\n",
       "      <td>0.55</td>\n",
       "      <td>0.69</td>\n",
       "      <td>8</td>\n",
       "      <td>68</td>\n",
       "    </tr>\n",
       "    <tr>\n",
       "      <th>21</th>\n",
       "      <td>Sales-E_Port_In</td>\n",
       "      <td>96</td>\n",
       "      <td>0.42</td>\n",
       "      <td>0.80</td>\n",
       "      <td>0.55</td>\n",
       "      <td>0.88</td>\n",
       "      <td>10</td>\n",
       "      <td>93</td>\n",
       "    </tr>\n",
       "    <tr>\n",
       "      <th>4</th>\n",
       "      <td>Billing-T_Bill_Copy</td>\n",
       "      <td>23</td>\n",
       "      <td>1.00</td>\n",
       "      <td>0.33</td>\n",
       "      <td>0.50</td>\n",
       "      <td>0.67</td>\n",
       "      <td>6</td>\n",
       "      <td>57</td>\n",
       "    </tr>\n",
       "    <tr>\n",
       "      <th>2</th>\n",
       "      <td>Billing-E_Bill_Explanation</td>\n",
       "      <td>20</td>\n",
       "      <td>0.75</td>\n",
       "      <td>0.33</td>\n",
       "      <td>0.46</td>\n",
       "      <td>0.66</td>\n",
       "      <td>9</td>\n",
       "      <td>80</td>\n",
       "    </tr>\n",
       "    <tr>\n",
       "      <th>24</th>\n",
       "      <td>Service_Management-E_Add_Service_Features</td>\n",
       "      <td>101</td>\n",
       "      <td>0.39</td>\n",
       "      <td>0.54</td>\n",
       "      <td>0.45</td>\n",
       "      <td>0.75</td>\n",
       "      <td>13</td>\n",
       "      <td>112</td>\n",
       "    </tr>\n",
       "    <tr>\n",
       "      <th>25</th>\n",
       "      <td>Service_Management-E_Price_Plan_Change</td>\n",
       "      <td>108</td>\n",
       "      <td>1.00</td>\n",
       "      <td>0.25</td>\n",
       "      <td>0.40</td>\n",
       "      <td>0.62</td>\n",
       "      <td>8</td>\n",
       "      <td>74</td>\n",
       "    </tr>\n",
       "    <tr>\n",
       "      <th>5</th>\n",
       "      <td>Complaints-T_Troubleshooting_Activation</td>\n",
       "      <td>35</td>\n",
       "      <td>0.67</td>\n",
       "      <td>0.25</td>\n",
       "      <td>0.36</td>\n",
       "      <td>0.62</td>\n",
       "      <td>8</td>\n",
       "      <td>67</td>\n",
       "    </tr>\n",
       "    <tr>\n",
       "      <th>27</th>\n",
       "      <td>Service_Management-T_Activate_Broadband</td>\n",
       "      <td>112</td>\n",
       "      <td>1.00</td>\n",
       "      <td>0.17</td>\n",
       "      <td>0.29</td>\n",
       "      <td>0.58</td>\n",
       "      <td>6</td>\n",
       "      <td>50</td>\n",
       "    </tr>\n",
       "    <tr>\n",
       "      <th>15</th>\n",
       "      <td>Order_Management-E_Get_Product_Order_Status</td>\n",
       "      <td>85</td>\n",
       "      <td>1.00</td>\n",
       "      <td>0.17</td>\n",
       "      <td>0.29</td>\n",
       "      <td>0.58</td>\n",
       "      <td>6</td>\n",
       "      <td>53</td>\n",
       "    </tr>\n",
       "    <tr>\n",
       "      <th>19</th>\n",
       "      <td>Payment-E_Recharge</td>\n",
       "      <td>91</td>\n",
       "      <td>1.00</td>\n",
       "      <td>0.17</td>\n",
       "      <td>0.29</td>\n",
       "      <td>0.58</td>\n",
       "      <td>6</td>\n",
       "      <td>56</td>\n",
       "    </tr>\n",
       "    <tr>\n",
       "      <th>10</th>\n",
       "      <td>Flow_Control_Break_Flow-That_is_not_what_we_we...</td>\n",
       "      <td>58</td>\n",
       "      <td>1.00</td>\n",
       "      <td>0.17</td>\n",
       "      <td>0.29</td>\n",
       "      <td>0.58</td>\n",
       "      <td>6</td>\n",
       "      <td>54</td>\n",
       "    </tr>\n",
       "    <tr>\n",
       "      <th>30</th>\n",
       "      <td>Service_Management-T_Contract_Details</td>\n",
       "      <td>119</td>\n",
       "      <td>1.00</td>\n",
       "      <td>0.14</td>\n",
       "      <td>0.25</td>\n",
       "      <td>0.57</td>\n",
       "      <td>7</td>\n",
       "      <td>63</td>\n",
       "    </tr>\n",
       "    <tr>\n",
       "      <th>17</th>\n",
       "      <td>Payment-E_Missing_Misapplied_Payment</td>\n",
       "      <td>89</td>\n",
       "      <td>0.33</td>\n",
       "      <td>0.12</td>\n",
       "      <td>0.18</td>\n",
       "      <td>0.56</td>\n",
       "      <td>8</td>\n",
       "      <td>70</td>\n",
       "    </tr>\n",
       "    <tr>\n",
       "      <th>23</th>\n",
       "      <td>Service_Management-E_Activate_Prepaid_Plan</td>\n",
       "      <td>98</td>\n",
       "      <td>0.00</td>\n",
       "      <td>0.00</td>\n",
       "      <td>0.00</td>\n",
       "      <td>0.50</td>\n",
       "      <td>7</td>\n",
       "      <td>58</td>\n",
       "    </tr>\n",
       "    <tr>\n",
       "      <th>22</th>\n",
       "      <td>Sales-T_Recontract_Service</td>\n",
       "      <td>97</td>\n",
       "      <td>0.00</td>\n",
       "      <td>0.00</td>\n",
       "      <td>0.00</td>\n",
       "      <td>0.50</td>\n",
       "      <td>6</td>\n",
       "      <td>51</td>\n",
       "    </tr>\n",
       "    <tr>\n",
       "      <th>1</th>\n",
       "      <td>Billing-E_Balance_Inquiry</td>\n",
       "      <td>19</td>\n",
       "      <td>0.00</td>\n",
       "      <td>0.00</td>\n",
       "      <td>0.00</td>\n",
       "      <td>0.49</td>\n",
       "      <td>8</td>\n",
       "      <td>73</td>\n",
       "    </tr>\n",
       "    <tr>\n",
       "      <th>13</th>\n",
       "      <td>Information-E_Store_Products</td>\n",
       "      <td>72</td>\n",
       "      <td>0.00</td>\n",
       "      <td>0.00</td>\n",
       "      <td>0.00</td>\n",
       "      <td>0.50</td>\n",
       "      <td>6</td>\n",
       "      <td>58</td>\n",
       "    </tr>\n",
       "    <tr>\n",
       "      <th>32</th>\n",
       "      <td>Avg / Total</td>\n",
       "      <td></td>\n",
       "      <td>0.66</td>\n",
       "      <td>0.54</td>\n",
       "      <td>0.51</td>\n",
       "      <td>0.73</td>\n",
       "      <td>271</td>\n",
       "      <td>2427</td>\n",
       "    </tr>\n",
       "  </tbody>\n",
       "</table>\n",
       "</div>"
      ],
      "text/plain": [
       "                                                 name  idx  precision  recall  \\\n",
       "9            Complaints-T_Troubleshooting_Telstra_Air   47       0.90    1.00   \n",
       "6              Complaints-T_Troubleshooting_Broadband   36       0.88    0.88   \n",
       "8                  Complaints-T_Troubleshooting_Email   41       1.00    0.75   \n",
       "12                            Help-E_Connect_to_Agent   67       1.00    0.73   \n",
       "0              Account_Management-T_Telstra_Air_Login   14       0.83    0.83   \n",
       "18                          Payment-E_Payment_History   90       1.00    0.71   \n",
       "28                   Service_Management-T_Apple_Music  114       0.83    0.83   \n",
       "20                Payment-E_Recurring_Payment_Autopay   92       0.86    0.75   \n",
       "29               Service_Management-T_Carrier_Billing  116       1.00    0.57   \n",
       "26               Service_Management-E_Roaming_Inquiry  111       0.83    0.62   \n",
       "14                          Information-T_Definitions   75       0.49    1.00   \n",
       "3                                   Billing-E_Dispute   21       0.80    0.50   \n",
       "7     Complaints-T_Troubleshooting_Credit_or_Recharge   38       0.50    0.67   \n",
       "16                            Payment-E_Defer_Payment   87       0.42    0.91   \n",
       "11                       Flow_Control-It_Did_Not_Work   61       1.00    0.38   \n",
       "21                                    Sales-E_Port_In   96       0.42    0.80   \n",
       "4                                 Billing-T_Bill_Copy   23       1.00    0.33   \n",
       "2                          Billing-E_Bill_Explanation   20       0.75    0.33   \n",
       "24          Service_Management-E_Add_Service_Features  101       0.39    0.54   \n",
       "25             Service_Management-E_Price_Plan_Change  108       1.00    0.25   \n",
       "5             Complaints-T_Troubleshooting_Activation   35       0.67    0.25   \n",
       "27            Service_Management-T_Activate_Broadband  112       1.00    0.17   \n",
       "15        Order_Management-E_Get_Product_Order_Status   85       1.00    0.17   \n",
       "19                                 Payment-E_Recharge   91       1.00    0.17   \n",
       "10  Flow_Control_Break_Flow-That_is_not_what_we_we...   58       1.00    0.17   \n",
       "30              Service_Management-T_Contract_Details  119       1.00    0.14   \n",
       "17               Payment-E_Missing_Misapplied_Payment   89       0.33    0.12   \n",
       "23         Service_Management-E_Activate_Prepaid_Plan   98       0.00    0.00   \n",
       "22                         Sales-T_Recontract_Service   97       0.00    0.00   \n",
       "1                           Billing-E_Balance_Inquiry   19       0.00    0.00   \n",
       "13                       Information-E_Store_Products   72       0.00    0.00   \n",
       "32                                        Avg / Total            0.66    0.54   \n",
       "\n",
       "    f1_score  roc_auc  support  n_examples  \n",
       "9       0.95     1.00        9          76  \n",
       "6       0.88     0.94        8          73  \n",
       "8       0.86     0.88        8          74  \n",
       "12      0.84     0.86       11         101  \n",
       "0       0.83     0.91        6          57  \n",
       "18      0.83     0.86        7          61  \n",
       "28      0.83     0.91        6          58  \n",
       "20      0.80     0.87        8          73  \n",
       "29      0.73     0.79        7          60  \n",
       "26      0.71     0.81        8          74  \n",
       "14      0.66     0.96       20         177  \n",
       "3       0.62     0.75        8          70  \n",
       "7       0.57     0.82        9          83  \n",
       "16      0.57     0.93       11         101  \n",
       "11      0.55     0.69        8          68  \n",
       "21      0.55     0.88       10          93  \n",
       "4       0.50     0.67        6          57  \n",
       "2       0.46     0.66        9          80  \n",
       "24      0.45     0.75       13         112  \n",
       "25      0.40     0.62        8          74  \n",
       "5       0.36     0.62        8          67  \n",
       "27      0.29     0.58        6          50  \n",
       "15      0.29     0.58        6          53  \n",
       "19      0.29     0.58        6          56  \n",
       "10      0.29     0.58        6          54  \n",
       "30      0.25     0.57        7          63  \n",
       "17      0.18     0.56        8          70  \n",
       "23      0.00     0.50        7          58  \n",
       "22      0.00     0.50        6          51  \n",
       "1       0.00     0.49        8          73  \n",
       "13      0.00     0.50        6          58  \n",
       "32      0.51     0.73      271        2427  "
      ]
     },
     "execution_count": 28,
     "metadata": {},
     "output_type": "execute_result"
    }
   ],
   "source": [
    "print_perf_by_label(perf_by_label(y_val, y_pred, classes, counts_by_label), rounded=2, sort_column='f1_score')"
   ]
  },
  {
   "cell_type": "code",
   "execution_count": 29,
   "metadata": {},
   "outputs": [],
   "source": [
    "def print_classification_report(y_true, y_pred, classes):\n",
    "    labels = np.unique(y_true)\n",
    "    target_names = [classes[x] for x in labels]\n",
    "    print(classification_report(y_true, y_pred, labels=labels, target_names=target_names))"
   ]
  },
  {
   "cell_type": "code",
   "execution_count": 30,
   "metadata": {},
   "outputs": [
    {
     "name": "stdout",
     "output_type": "stream",
     "text": [
      "                                                                precision    recall  f1-score   support\n",
      "\n",
      "                        Account_Management-T_Telstra_Air_Login       0.83      0.83      0.83         6\n",
      "                                     Billing-E_Balance_Inquiry       0.00      0.00      0.00         8\n",
      "                                    Billing-E_Bill_Explanation       0.75      0.33      0.46         9\n",
      "                                             Billing-E_Dispute       0.80      0.50      0.62         8\n",
      "                                           Billing-T_Bill_Copy       1.00      0.33      0.50         6\n",
      "                       Complaints-T_Troubleshooting_Activation       0.67      0.25      0.36         8\n",
      "                        Complaints-T_Troubleshooting_Broadband       0.88      0.88      0.88         8\n",
      "               Complaints-T_Troubleshooting_Credit_or_Recharge       0.50      0.67      0.57         9\n",
      "                            Complaints-T_Troubleshooting_Email       1.00      0.75      0.86         8\n",
      "                      Complaints-T_Troubleshooting_Telstra_Air       0.90      1.00      0.95         9\n",
      "Flow_Control_Break_Flow-That_is_not_what_we_were_talking_about       1.00      0.17      0.29         6\n",
      "                                  Flow_Control-It_Did_Not_Work       1.00      0.38      0.55         8\n",
      "                                       Help-E_Connect_to_Agent       1.00      0.73      0.84        11\n",
      "                                  Information-E_Store_Products       0.00      0.00      0.00         6\n",
      "                                     Information-T_Definitions       0.49      1.00      0.66        20\n",
      "                   Order_Management-E_Get_Product_Order_Status       1.00      0.17      0.29         6\n",
      "                                       Payment-E_Defer_Payment       0.42      0.91      0.57        11\n",
      "                          Payment-E_Missing_Misapplied_Payment       0.33      0.12      0.18         8\n",
      "                                     Payment-E_Payment_History       1.00      0.71      0.83         7\n",
      "                                            Payment-E_Recharge       1.00      0.17      0.29         6\n",
      "                           Payment-E_Recurring_Payment_Autopay       0.86      0.75      0.80         8\n",
      "                                               Sales-E_Port_In       0.42      0.80      0.55        10\n",
      "                                    Sales-T_Recontract_Service       0.00      0.00      0.00         6\n",
      "                    Service_Management-E_Activate_Prepaid_Plan       0.00      0.00      0.00         7\n",
      "                     Service_Management-E_Add_Service_Features       0.39      0.54      0.45        13\n",
      "                        Service_Management-E_Price_Plan_Change       1.00      0.25      0.40         8\n",
      "                          Service_Management-E_Roaming_Inquiry       0.83      0.62      0.71         8\n",
      "                       Service_Management-T_Activate_Broadband       1.00      0.17      0.29         6\n",
      "                              Service_Management-T_Apple_Music       0.83      0.83      0.83         6\n",
      "                          Service_Management-T_Carrier_Billing       1.00      0.57      0.73         7\n",
      "                         Service_Management-T_Contract_Details       1.00      0.14      0.25         7\n",
      "                        Service_Management-T_Price_Plan_Offers       0.24      0.82      0.37        17\n",
      "\n",
      "                                                   avg / total       0.66      0.54      0.51       271\n",
      "\n"
     ]
    }
   ],
   "source": [
    "print_classification_report(y_val, y_pred, classes)"
   ]
  },
  {
   "cell_type": "code",
   "execution_count": 31,
   "metadata": {},
   "outputs": [],
   "source": [
    "columns = ['model', 'precision_weighted_avg', 'recall_weighted_avg', 'f1_weighted_avg', \n",
    "           'accuracy', 'roc_auc', 'mean_latency']"
   ]
  },
  {
   "cell_type": "code",
   "execution_count": 32,
   "metadata": {},
   "outputs": [
    {
     "name": "stdout",
     "output_type": "stream",
     "text": [
      "Mean latency (secs): 0.0008\n"
     ]
    }
   ],
   "source": [
    "mean_latency = round(model.mean_latency(), 4)\n",
    "print('Mean latency (secs):', mean_latency)"
   ]
  },
  {
   "cell_type": "code",
   "execution_count": 33,
   "metadata": {},
   "outputs": [],
   "source": [
    "data = dict({'model': 'Multinomial Naive Bayes', 'mean_latency': mean_latency}, **stats)\n",
    "benchmarks = pd.DataFrame(data, columns=columns, index=[0])"
   ]
  },
  {
   "cell_type": "code",
   "execution_count": 34,
   "metadata": {},
   "outputs": [
    {
     "data": {
      "text/html": [
       "<div>\n",
       "<table border=\"1\" class=\"dataframe\">\n",
       "  <thead>\n",
       "    <tr style=\"text-align: right;\">\n",
       "      <th></th>\n",
       "      <th>model</th>\n",
       "      <th>precision_weighted_avg</th>\n",
       "      <th>recall_weighted_avg</th>\n",
       "      <th>f1_weighted_avg</th>\n",
       "      <th>accuracy</th>\n",
       "      <th>roc_auc</th>\n",
       "      <th>mean_latency</th>\n",
       "    </tr>\n",
       "  </thead>\n",
       "  <tbody>\n",
       "    <tr>\n",
       "      <th>0</th>\n",
       "      <td>Multinomial Naive Bayes</td>\n",
       "      <td>0.656506</td>\n",
       "      <td>0.542435</td>\n",
       "      <td>0.514728</td>\n",
       "      <td>0.542435</td>\n",
       "      <td>0.733035</td>\n",
       "      <td>0.0008</td>\n",
       "    </tr>\n",
       "  </tbody>\n",
       "</table>\n",
       "</div>"
      ],
      "text/plain": [
       "                     model  precision_weighted_avg  recall_weighted_avg  \\\n",
       "0  Multinomial Naive Bayes                0.656506             0.542435   \n",
       "\n",
       "   f1_weighted_avg  accuracy   roc_auc  mean_latency  \n",
       "0         0.514728  0.542435  0.733035        0.0008  "
      ]
     },
     "execution_count": 34,
     "metadata": {},
     "output_type": "execute_result"
    }
   ],
   "source": [
    "benchmarks"
   ]
  },
  {
   "cell_type": "markdown",
   "metadata": {},
   "source": [
    "### One-vs-rest Multilabel Classifier (Logistic Regression)"
   ]
  },
  {
   "cell_type": "code",
   "execution_count": 109,
   "metadata": {},
   "outputs": [],
   "source": [
    "import nlp.multilabel_classification as logreg"
   ]
  },
  {
   "cell_type": "code",
   "execution_count": 145,
   "metadata": {},
   "outputs": [
    {
     "data": {
      "text/plain": [
       "<module 'nlp.multilabel_classification' from '../../nlp/multilabel_classification/__init__.py'>"
      ]
     },
     "execution_count": 145,
     "metadata": {},
     "output_type": "execute_result"
    }
   ],
   "source": [
    "# importlib.reload(logreg)"
   ]
  },
  {
   "cell_type": "code",
   "execution_count": 136,
   "metadata": {},
   "outputs": [
    {
     "name": "stdout",
     "output_type": "stream",
     "text": [
      "Length after cleaning data: 703\n"
     ]
    }
   ],
   "source": [
    "test_df = clean_data(test_df)"
   ]
  },
  {
   "cell_type": "code",
   "execution_count": 137,
   "metadata": {},
   "outputs": [],
   "source": [
    "X_test, y_test = test_df.utterance, test_df.label"
   ]
  },
  {
   "cell_type": "code",
   "execution_count": 146,
   "metadata": {},
   "outputs": [],
   "source": [
    "y_train_multilabel = [[y] for y in y_train]\n",
    "y_val_multilabel = [[y] for y in y_val]\n",
    "y_val_predicted_labels_bow, y_val_predicted_labels_tfidf = \\\n",
    "    logreg.train_and_test(X_train.values.tolist(), y_train_multilabel,\n",
    "                          X_val.values.tolist(), y_val_multilabel,\n",
    "                          X_test.values.tolist(), dict_size=5000)"
   ]
  },
  {
   "cell_type": "code",
   "execution_count": 147,
   "metadata": {},
   "outputs": [],
   "source": [
    "y_val_predicted_labels_bow = [x[0] if x else -1 for x in y_val_predicted_labels_bow]"
   ]
  },
  {
   "cell_type": "code",
   "execution_count": 148,
   "metadata": {},
   "outputs": [
    {
     "name": "stdout",
     "output_type": "stream",
     "text": [
      "Precision (weighted avg): 0.88\n",
      "Recall (weighted avg)   : 0.35\n",
      "F1 Score (weighted avg) : 0.48\n",
      "Accuracy                : 0.35\n",
      "ROC AUC (macro avg)     : 0.67\n"
     ]
    }
   ],
   "source": [
    "stats = perf_summary(y_val, y_val_predicted_labels_bow)\n",
    "print_perf_summary(stats, rounded=2)"
   ]
  },
  {
   "cell_type": "code",
   "execution_count": 149,
   "metadata": {},
   "outputs": [],
   "source": [
    "y_val_predicted_labels_tfidf = [x[0] if x else -1 for x in y_val_predicted_labels_tfidf]"
   ]
  },
  {
   "cell_type": "code",
   "execution_count": 150,
   "metadata": {},
   "outputs": [
    {
     "name": "stdout",
     "output_type": "stream",
     "text": [
      "Precision (weighted avg): 0.8\n",
      "Recall (weighted avg)   : 0.25\n",
      "F1 Score (weighted avg) : 0.35\n",
      "Accuracy                : 0.25\n",
      "ROC AUC (macro avg)     : 0.62\n"
     ]
    }
   ],
   "source": [
    "stats = perf_summary(y_val, y_val_predicted_labels_tfidf)\n",
    "print_perf_summary(stats, rounded=2)"
   ]
  },
  {
   "cell_type": "markdown",
   "metadata": {},
   "source": [
    "Good precision but too many unlabelled predictions."
   ]
  },
  {
   "cell_type": "markdown",
   "metadata": {},
   "source": [
    "**TODO:** evaluate performance against any label in multilabel set"
   ]
  },
  {
   "cell_type": "markdown",
   "metadata": {},
   "source": [
    "## Try multiple model types\n",
    "\n",
    "1. Random Forest\n",
    "2. Multinomimal Naive Bayes\n",
    "3. Logistic Regression\n",
    "4. Linear Support Vector Machine"
   ]
  },
  {
   "cell_type": "code",
   "execution_count": 35,
   "metadata": {},
   "outputs": [],
   "source": [
    "import seaborn as sns\n",
    "from sklearn.ensemble import RandomForestClassifier\n",
    "from sklearn.linear_model import LogisticRegression\n",
    "from sklearn.model_selection import cross_val_score\n",
    "from sklearn.naive_bayes import MultinomialNB\n",
    "from sklearn.svm import LinearSVC"
   ]
  },
  {
   "cell_type": "code",
   "execution_count": 36,
   "metadata": {},
   "outputs": [
    {
     "data": {
      "image/png": "[encoded data removed]",
      "text/plain": [
       "<matplotlib.figure.Figure at 0x1427a84e0>"
      ]
     },
     "metadata": {},
     "output_type": "display_data"
    }
   ],
   "source": [
    "models = [\n",
    "    RandomForestClassifier(n_estimators=200, max_depth=3, random_state=0),\n",
    "    MultinomialNB(),\n",
    "    LogisticRegression(random_state=0),\n",
    "    LinearSVC()\n",
    "]\n",
    "\n",
    "CV = 5  # number of folds in a (Stratified) KFold\n",
    "cv_df = pd.DataFrame(index=range(CV * len(models)))\n",
    "entries = []\n",
    "\n",
    "for model in models:\n",
    "    model_name = model.__class__.__name__\n",
    "    accuracies = cross_val_score(model, features, labels, scoring='f1_weighted', cv=CV)\n",
    "    for fold_idx, accuracy in enumerate(accuracies):\n",
    "        entries.append((model_name, fold_idx, accuracy))\n",
    "\n",
    "cv_df = pd.DataFrame(entries, columns=['model', 'fold_idx', 'f1_weighted'])\n",
    "\n",
    "fig = plt.figure(figsize=(12, 5))\n",
    "sns.boxplot(x='model', y='f1_weighted', data=cv_df)\n",
    "sns.stripplot(x='model', y='f1_weighted', data=cv_df, \n",
    "              size=8, jitter=True, edgecolor=\"gray\", linewidth=2)\n",
    "plt.show()"
   ]
  },
  {
   "cell_type": "code",
   "execution_count": 37,
   "metadata": {},
   "outputs": [
    {
     "data": {
      "text/plain": [
       "model\n",
       "LinearSVC                 0.526594\n",
       "LogisticRegression        0.443169\n",
       "MultinomialNB             0.276464\n",
       "RandomForestClassifier    0.125507\n",
       "Name: f1_weighted, dtype: float64"
      ]
     },
     "execution_count": 37,
     "metadata": {},
     "output_type": "execute_result"
    }
   ],
   "source": [
    "cv_df.groupby('model').f1_weighted.mean()"
   ]
  },
  {
   "cell_type": "markdown",
   "metadata": {},
   "source": [
    "LinearSVC is the pick. Lets continue with that..."
   ]
  },
  {
   "cell_type": "code",
   "execution_count": 38,
   "metadata": {},
   "outputs": [],
   "source": [
    "from sklearn.model_selection import train_test_split"
   ]
  },
  {
   "cell_type": "code",
   "execution_count": 39,
   "metadata": {},
   "outputs": [],
   "source": [
    "model = LinearSVC()\n",
    "X_train, X_test, y_train, y_test, indices_train, indices_test = \\\n",
    "    train_test_split(features, labels, indices, test_size=0.33, random_state=42)\n",
    "\n",
    "model.fit(X_train, y_train)\n",
    "y_pred = model.predict(X_test)"
   ]
  },
  {
   "cell_type": "code",
   "execution_count": 40,
   "metadata": {},
   "outputs": [
    {
     "data": {
      "image/png": "[encoded data removed]",
      "text/plain": [
       "<matplotlib.figure.Figure at 0x142c286a0>"
      ]
     },
     "metadata": {},
     "output_type": "display_data"
    }
   ],
   "source": [
    "plot_confusion_matrix(y_test, y_pred, classes, 0, 20)"
   ]
  },
  {
   "cell_type": "code",
   "execution_count": 41,
   "metadata": {},
   "outputs": [
    {
     "name": "stdout",
     "output_type": "stream",
     "text": [
      "Precision (weighted avg): 0.53\n",
      "Recall (weighted avg)   : 0.5\n",
      "F1 Score (weighted avg) : 0.49\n",
      "Accuracy                : 0.5\n",
      "ROC AUC (macro avg)     : 0.72\n"
     ]
    }
   ],
   "source": [
    "print_perf_summary(perf_summary(y_test, y_pred), rounded=2)"
   ]
  },
  {
   "cell_type": "code",
   "execution_count": 42,
   "metadata": {},
   "outputs": [
    {
     "data": {
      "text/html": [
       "<div>\n",
       "<table border=\"1\" class=\"dataframe\">\n",
       "  <thead>\n",
       "    <tr style=\"text-align: right;\">\n",
       "      <th></th>\n",
       "      <th>name</th>\n",
       "      <th>idx</th>\n",
       "      <th>precision</th>\n",
       "      <th>recall</th>\n",
       "      <th>f1_score</th>\n",
       "      <th>roc_auc</th>\n",
       "      <th>support</th>\n",
       "      <th>n_examples</th>\n",
       "    </tr>\n",
       "  </thead>\n",
       "  <tbody>\n",
       "    <tr>\n",
       "      <th>46</th>\n",
       "      <td>Complaints-T_Troubleshooting_Speed</td>\n",
       "      <td>46</td>\n",
       "      <td>1.00</td>\n",
       "      <td>0.90</td>\n",
       "      <td>0.95</td>\n",
       "      <td>0.95</td>\n",
       "      <td>10</td>\n",
       "      <td>31</td>\n",
       "    </tr>\n",
       "    <tr>\n",
       "      <th>51</th>\n",
       "      <td>Device_Management-T_SIM_PIN</td>\n",
       "      <td>51</td>\n",
       "      <td>1.00</td>\n",
       "      <td>0.83</td>\n",
       "      <td>0.91</td>\n",
       "      <td>0.92</td>\n",
       "      <td>6</td>\n",
       "      <td>21</td>\n",
       "    </tr>\n",
       "    <tr>\n",
       "      <th>120</th>\n",
       "      <td>Service_Management-T_Foxtel</td>\n",
       "      <td>122</td>\n",
       "      <td>0.83</td>\n",
       "      <td>1.00</td>\n",
       "      <td>0.91</td>\n",
       "      <td>1.00</td>\n",
       "      <td>5</td>\n",
       "      <td>19</td>\n",
       "    </tr>\n",
       "    <tr>\n",
       "      <th>112</th>\n",
       "      <td>Service_Management-T_Apple_Music</td>\n",
       "      <td>114</td>\n",
       "      <td>0.86</td>\n",
       "      <td>0.95</td>\n",
       "      <td>0.90</td>\n",
       "      <td>0.97</td>\n",
       "      <td>19</td>\n",
       "      <td>58</td>\n",
       "    </tr>\n",
       "    <tr>\n",
       "      <th>42</th>\n",
       "      <td>Complaints-T_Troubleshooting_Landline</td>\n",
       "      <td>42</td>\n",
       "      <td>0.76</td>\n",
       "      <td>1.00</td>\n",
       "      <td>0.87</td>\n",
       "      <td>1.00</td>\n",
       "      <td>13</td>\n",
       "      <td>44</td>\n",
       "    </tr>\n",
       "    <tr>\n",
       "      <th>47</th>\n",
       "      <td>Complaints-T_Troubleshooting_Telstra_Air</td>\n",
       "      <td>47</td>\n",
       "      <td>0.82</td>\n",
       "      <td>0.92</td>\n",
       "      <td>0.87</td>\n",
       "      <td>0.96</td>\n",
       "      <td>25</td>\n",
       "      <td>76</td>\n",
       "    </tr>\n",
       "    <tr>\n",
       "      <th>138</th>\n",
       "      <td>TEMP_ChitChat-Are_you_kidding</td>\n",
       "      <td>142</td>\n",
       "      <td>1.00</td>\n",
       "      <td>0.75</td>\n",
       "      <td>0.86</td>\n",
       "      <td>0.88</td>\n",
       "      <td>4</td>\n",
       "      <td>12</td>\n",
       "    </tr>\n",
       "    <tr>\n",
       "      <th>4</th>\n",
       "      <td>Account_Management-E_Profile_Password</td>\n",
       "      <td>4</td>\n",
       "      <td>0.85</td>\n",
       "      <td>0.85</td>\n",
       "      <td>0.85</td>\n",
       "      <td>0.92</td>\n",
       "      <td>13</td>\n",
       "      <td>36</td>\n",
       "    </tr>\n",
       "    <tr>\n",
       "      <th>118</th>\n",
       "      <td>Service_Management-T_Data_Share_SIM</td>\n",
       "      <td>120</td>\n",
       "      <td>0.83</td>\n",
       "      <td>0.83</td>\n",
       "      <td>0.83</td>\n",
       "      <td>0.92</td>\n",
       "      <td>6</td>\n",
       "      <td>18</td>\n",
       "    </tr>\n",
       "    <tr>\n",
       "      <th>144</th>\n",
       "      <td>TEMP_ChitChat-I_am_sorry</td>\n",
       "      <td>148</td>\n",
       "      <td>1.00</td>\n",
       "      <td>0.71</td>\n",
       "      <td>0.83</td>\n",
       "      <td>0.86</td>\n",
       "      <td>7</td>\n",
       "      <td>15</td>\n",
       "    </tr>\n",
       "    <tr>\n",
       "      <th>113</th>\n",
       "      <td>Service_Management-T_Benefits_Add</td>\n",
       "      <td>115</td>\n",
       "      <td>0.83</td>\n",
       "      <td>0.83</td>\n",
       "      <td>0.83</td>\n",
       "      <td>0.92</td>\n",
       "      <td>12</td>\n",
       "      <td>38</td>\n",
       "    </tr>\n",
       "    <tr>\n",
       "      <th>111</th>\n",
       "      <td>Service_Management-T_Activate_Broadband</td>\n",
       "      <td>112</td>\n",
       "      <td>0.85</td>\n",
       "      <td>0.81</td>\n",
       "      <td>0.83</td>\n",
       "      <td>0.90</td>\n",
       "      <td>21</td>\n",
       "      <td>50</td>\n",
       "    </tr>\n",
       "    <tr>\n",
       "      <th>41</th>\n",
       "      <td>Complaints-T_Troubleshooting_Email</td>\n",
       "      <td>41</td>\n",
       "      <td>0.79</td>\n",
       "      <td>0.88</td>\n",
       "      <td>0.83</td>\n",
       "      <td>0.94</td>\n",
       "      <td>25</td>\n",
       "      <td>74</td>\n",
       "    </tr>\n",
       "    <tr>\n",
       "      <th>114</th>\n",
       "      <td>Service_Management-T_Carrier_Billing</td>\n",
       "      <td>116</td>\n",
       "      <td>0.79</td>\n",
       "      <td>0.83</td>\n",
       "      <td>0.81</td>\n",
       "      <td>0.92</td>\n",
       "      <td>18</td>\n",
       "      <td>60</td>\n",
       "    </tr>\n",
       "    <tr>\n",
       "      <th>170</th>\n",
       "      <td>TEMP_Order_Management-T_NBN_Change_Appointment</td>\n",
       "      <td>185</td>\n",
       "      <td>1.00</td>\n",
       "      <td>0.67</td>\n",
       "      <td>0.80</td>\n",
       "      <td>0.83</td>\n",
       "      <td>3</td>\n",
       "      <td>13</td>\n",
       "    </tr>\n",
       "    <tr>\n",
       "      <th>9</th>\n",
       "      <td>Account_Management-T_24x7App_Technical_Faults</td>\n",
       "      <td>9</td>\n",
       "      <td>1.00</td>\n",
       "      <td>0.67</td>\n",
       "      <td>0.80</td>\n",
       "      <td>0.83</td>\n",
       "      <td>3</td>\n",
       "      <td>11</td>\n",
       "    </tr>\n",
       "    <tr>\n",
       "      <th>153</th>\n",
       "      <td>TEMP_ChitChat-What_do_you_think_about_movies</td>\n",
       "      <td>159</td>\n",
       "      <td>1.00</td>\n",
       "      <td>0.67</td>\n",
       "      <td>0.80</td>\n",
       "      <td>0.83</td>\n",
       "      <td>3</td>\n",
       "      <td>8</td>\n",
       "    </tr>\n",
       "    <tr>\n",
       "      <th>53</th>\n",
       "      <td>Device-T_Wifi_Password</td>\n",
       "      <td>53</td>\n",
       "      <td>0.90</td>\n",
       "      <td>0.69</td>\n",
       "      <td>0.78</td>\n",
       "      <td>0.85</td>\n",
       "      <td>13</td>\n",
       "      <td>27</td>\n",
       "    </tr>\n",
       "    <tr>\n",
       "      <th>136</th>\n",
       "      <td>Service_Management-T_Return_Device</td>\n",
       "      <td>138</td>\n",
       "      <td>0.75</td>\n",
       "      <td>0.82</td>\n",
       "      <td>0.78</td>\n",
       "      <td>0.91</td>\n",
       "      <td>11</td>\n",
       "      <td>36</td>\n",
       "    </tr>\n",
       "    <tr>\n",
       "      <th>168</th>\n",
       "      <td>TEMP_Information-T_Credit_Information</td>\n",
       "      <td>178</td>\n",
       "      <td>0.88</td>\n",
       "      <td>0.70</td>\n",
       "      <td>0.78</td>\n",
       "      <td>0.85</td>\n",
       "      <td>10</td>\n",
       "      <td>31</td>\n",
       "    </tr>\n",
       "    <tr>\n",
       "      <th>126</th>\n",
       "      <td>Service_Management-T_MessageBank_PIN</td>\n",
       "      <td>128</td>\n",
       "      <td>0.62</td>\n",
       "      <td>1.00</td>\n",
       "      <td>0.77</td>\n",
       "      <td>1.00</td>\n",
       "      <td>5</td>\n",
       "      <td>22</td>\n",
       "    </tr>\n",
       "    <tr>\n",
       "      <th>77</th>\n",
       "      <td>Information-T_Internet_Speed</td>\n",
       "      <td>77</td>\n",
       "      <td>0.60</td>\n",
       "      <td>1.00</td>\n",
       "      <td>0.75</td>\n",
       "      <td>1.00</td>\n",
       "      <td>3</td>\n",
       "      <td>20</td>\n",
       "    </tr>\n",
       "    <tr>\n",
       "      <th>106</th>\n",
       "      <td>Service_Management-E_Network_Unlock</td>\n",
       "      <td>107</td>\n",
       "      <td>0.70</td>\n",
       "      <td>0.78</td>\n",
       "      <td>0.74</td>\n",
       "      <td>0.89</td>\n",
       "      <td>9</td>\n",
       "      <td>33</td>\n",
       "    </tr>\n",
       "    <tr>\n",
       "      <th>14</th>\n",
       "      <td>Account_Management-T_Telstra_Air_Login</td>\n",
       "      <td>14</td>\n",
       "      <td>0.76</td>\n",
       "      <td>0.73</td>\n",
       "      <td>0.74</td>\n",
       "      <td>0.86</td>\n",
       "      <td>22</td>\n",
       "      <td>57</td>\n",
       "    </tr>\n",
       "    <tr>\n",
       "      <th>11</th>\n",
       "      <td>Account_Management-T_Email_Setup</td>\n",
       "      <td>11</td>\n",
       "      <td>0.77</td>\n",
       "      <td>0.71</td>\n",
       "      <td>0.74</td>\n",
       "      <td>0.86</td>\n",
       "      <td>14</td>\n",
       "      <td>41</td>\n",
       "    </tr>\n",
       "    <tr>\n",
       "      <th>18</th>\n",
       "      <td>Benefits-T_Telstra_Thanks</td>\n",
       "      <td>18</td>\n",
       "      <td>0.80</td>\n",
       "      <td>0.67</td>\n",
       "      <td>0.73</td>\n",
       "      <td>0.83</td>\n",
       "      <td>6</td>\n",
       "      <td>18</td>\n",
       "    </tr>\n",
       "    <tr>\n",
       "      <th>10</th>\n",
       "      <td>Account_Management-T_Bereavement</td>\n",
       "      <td>10</td>\n",
       "      <td>0.57</td>\n",
       "      <td>1.00</td>\n",
       "      <td>0.73</td>\n",
       "      <td>1.00</td>\n",
       "      <td>4</td>\n",
       "      <td>14</td>\n",
       "    </tr>\n",
       "    <tr>\n",
       "      <th>91</th>\n",
       "      <td>Payment-E_Recurring_Payment_Autopay</td>\n",
       "      <td>92</td>\n",
       "      <td>0.62</td>\n",
       "      <td>0.88</td>\n",
       "      <td>0.73</td>\n",
       "      <td>0.94</td>\n",
       "      <td>26</td>\n",
       "      <td>73</td>\n",
       "    </tr>\n",
       "    <tr>\n",
       "      <th>103</th>\n",
       "      <td>Service_Management-E_De_Activate_Roaming</td>\n",
       "      <td>104</td>\n",
       "      <td>0.67</td>\n",
       "      <td>0.75</td>\n",
       "      <td>0.71</td>\n",
       "      <td>0.87</td>\n",
       "      <td>8</td>\n",
       "      <td>28</td>\n",
       "    </tr>\n",
       "    <tr>\n",
       "      <th>86</th>\n",
       "      <td>Payment-E_Defer_Payment</td>\n",
       "      <td>87</td>\n",
       "      <td>0.65</td>\n",
       "      <td>0.78</td>\n",
       "      <td>0.70</td>\n",
       "      <td>0.88</td>\n",
       "      <td>40</td>\n",
       "      <td>101</td>\n",
       "    </tr>\n",
       "    <tr>\n",
       "      <th>...</th>\n",
       "      <td>...</td>\n",
       "      <td>...</td>\n",
       "      <td>...</td>\n",
       "      <td>...</td>\n",
       "      <td>...</td>\n",
       "      <td>...</td>\n",
       "      <td>...</td>\n",
       "      <td>...</td>\n",
       "    </tr>\n",
       "    <tr>\n",
       "      <th>83</th>\n",
       "      <td>Off_Topic-T_Out_of_Scope</td>\n",
       "      <td>83</td>\n",
       "      <td>0.20</td>\n",
       "      <td>0.12</td>\n",
       "      <td>0.15</td>\n",
       "      <td>0.56</td>\n",
       "      <td>8</td>\n",
       "      <td>20</td>\n",
       "    </tr>\n",
       "    <tr>\n",
       "      <th>12</th>\n",
       "      <td>Account_Management-T_Link_Account</td>\n",
       "      <td>12</td>\n",
       "      <td>0.20</td>\n",
       "      <td>0.11</td>\n",
       "      <td>0.14</td>\n",
       "      <td>0.55</td>\n",
       "      <td>9</td>\n",
       "      <td>27</td>\n",
       "    </tr>\n",
       "    <tr>\n",
       "      <th>44</th>\n",
       "      <td>Complaints-T_Troubleshooting_Profile</td>\n",
       "      <td>44</td>\n",
       "      <td>0.20</td>\n",
       "      <td>0.08</td>\n",
       "      <td>0.11</td>\n",
       "      <td>0.54</td>\n",
       "      <td>13</td>\n",
       "      <td>34</td>\n",
       "    </tr>\n",
       "    <tr>\n",
       "      <th>160</th>\n",
       "      <td>TEMP_ChitChat-Where_were_you_originally_from</td>\n",
       "      <td>166</td>\n",
       "      <td>0.00</td>\n",
       "      <td>0.00</td>\n",
       "      <td>0.00</td>\n",
       "      <td>0.50</td>\n",
       "      <td>1</td>\n",
       "      <td>6</td>\n",
       "    </tr>\n",
       "    <tr>\n",
       "      <th>161</th>\n",
       "      <td>TEMP_ChitChat-You_are_funny</td>\n",
       "      <td>168</td>\n",
       "      <td>0.00</td>\n",
       "      <td>0.00</td>\n",
       "      <td>0.00</td>\n",
       "      <td>0.50</td>\n",
       "      <td>8</td>\n",
       "      <td>22</td>\n",
       "    </tr>\n",
       "    <tr>\n",
       "      <th>55</th>\n",
       "      <td>Flow_Control_Break_Flow-Good_night</td>\n",
       "      <td>55</td>\n",
       "      <td>0.00</td>\n",
       "      <td>0.00</td>\n",
       "      <td>0.00</td>\n",
       "      <td>0.50</td>\n",
       "      <td>4</td>\n",
       "      <td>9</td>\n",
       "    </tr>\n",
       "    <tr>\n",
       "      <th>82</th>\n",
       "      <td>Information-T_Valid_ID</td>\n",
       "      <td>82</td>\n",
       "      <td>0.00</td>\n",
       "      <td>0.00</td>\n",
       "      <td>0.00</td>\n",
       "      <td>0.50</td>\n",
       "      <td>2</td>\n",
       "      <td>8</td>\n",
       "    </tr>\n",
       "    <tr>\n",
       "      <th>54</th>\n",
       "      <td>Flow_Control_Break_Flow-Another_Question</td>\n",
       "      <td>54</td>\n",
       "      <td>0.00</td>\n",
       "      <td>0.00</td>\n",
       "      <td>0.00</td>\n",
       "      <td>0.50</td>\n",
       "      <td>3</td>\n",
       "      <td>8</td>\n",
       "    </tr>\n",
       "    <tr>\n",
       "      <th>22</th>\n",
       "      <td>Billing-E_Misc</td>\n",
       "      <td>22</td>\n",
       "      <td>0.00</td>\n",
       "      <td>0.00</td>\n",
       "      <td>0.00</td>\n",
       "      <td>0.50</td>\n",
       "      <td>9</td>\n",
       "      <td>26</td>\n",
       "    </tr>\n",
       "    <tr>\n",
       "      <th>159</th>\n",
       "      <td>TEMP_ChitChat-Where_are_you</td>\n",
       "      <td>165</td>\n",
       "      <td>0.00</td>\n",
       "      <td>0.00</td>\n",
       "      <td>0.00</td>\n",
       "      <td>0.50</td>\n",
       "      <td>2</td>\n",
       "      <td>10</td>\n",
       "    </tr>\n",
       "    <tr>\n",
       "      <th>59</th>\n",
       "      <td>Flow_Control-I_do_not_know</td>\n",
       "      <td>59</td>\n",
       "      <td>0.00</td>\n",
       "      <td>0.00</td>\n",
       "      <td>0.00</td>\n",
       "      <td>0.50</td>\n",
       "      <td>6</td>\n",
       "      <td>14</td>\n",
       "    </tr>\n",
       "    <tr>\n",
       "      <th>105</th>\n",
       "      <td>Service_Management-E_Misc</td>\n",
       "      <td>106</td>\n",
       "      <td>0.00</td>\n",
       "      <td>0.00</td>\n",
       "      <td>0.00</td>\n",
       "      <td>0.50</td>\n",
       "      <td>6</td>\n",
       "      <td>10</td>\n",
       "    </tr>\n",
       "    <tr>\n",
       "      <th>171</th>\n",
       "      <td>TEMP_Payment-E_Method_Of_Payment_Inquiry</td>\n",
       "      <td>186</td>\n",
       "      <td>0.00</td>\n",
       "      <td>0.00</td>\n",
       "      <td>0.00</td>\n",
       "      <td>0.50</td>\n",
       "      <td>4</td>\n",
       "      <td>9</td>\n",
       "    </tr>\n",
       "    <tr>\n",
       "      <th>167</th>\n",
       "      <td>TEMP_Information-T_Benefits_Telstra</td>\n",
       "      <td>177</td>\n",
       "      <td>0.00</td>\n",
       "      <td>0.00</td>\n",
       "      <td>0.00</td>\n",
       "      <td>0.50</td>\n",
       "      <td>4</td>\n",
       "      <td>6</td>\n",
       "    </tr>\n",
       "    <tr>\n",
       "      <th>28</th>\n",
       "      <td>ChitChat-I_am_angry</td>\n",
       "      <td>28</td>\n",
       "      <td>0.00</td>\n",
       "      <td>0.00</td>\n",
       "      <td>0.00</td>\n",
       "      <td>0.50</td>\n",
       "      <td>6</td>\n",
       "      <td>16</td>\n",
       "    </tr>\n",
       "    <tr>\n",
       "      <th>158</th>\n",
       "      <td>TEMP_ChitChat-When_is_your_birthday</td>\n",
       "      <td>164</td>\n",
       "      <td>0.00</td>\n",
       "      <td>0.00</td>\n",
       "      <td>0.00</td>\n",
       "      <td>0.50</td>\n",
       "      <td>2</td>\n",
       "      <td>9</td>\n",
       "    </tr>\n",
       "    <tr>\n",
       "      <th>156</th>\n",
       "      <td>TEMP_ChitChat-What_is_your_name</td>\n",
       "      <td>162</td>\n",
       "      <td>0.00</td>\n",
       "      <td>0.00</td>\n",
       "      <td>0.00</td>\n",
       "      <td>0.50</td>\n",
       "      <td>1</td>\n",
       "      <td>13</td>\n",
       "    </tr>\n",
       "    <tr>\n",
       "      <th>155</th>\n",
       "      <td>TEMP_ChitChat-What_is_the_meaning_of_life</td>\n",
       "      <td>161</td>\n",
       "      <td>0.00</td>\n",
       "      <td>0.00</td>\n",
       "      <td>0.00</td>\n",
       "      <td>0.50</td>\n",
       "      <td>1</td>\n",
       "      <td>12</td>\n",
       "    </tr>\n",
       "    <tr>\n",
       "      <th>139</th>\n",
       "      <td>TEMP_ChitChat-Ask_me_a_question</td>\n",
       "      <td>143</td>\n",
       "      <td>0.00</td>\n",
       "      <td>0.00</td>\n",
       "      <td>0.00</td>\n",
       "      <td>0.50</td>\n",
       "      <td>4</td>\n",
       "      <td>8</td>\n",
       "    </tr>\n",
       "    <tr>\n",
       "      <th>65</th>\n",
       "      <td>Flow_Control-No_Problem</td>\n",
       "      <td>65</td>\n",
       "      <td>0.00</td>\n",
       "      <td>0.00</td>\n",
       "      <td>0.00</td>\n",
       "      <td>0.50</td>\n",
       "      <td>3</td>\n",
       "      <td>10</td>\n",
       "    </tr>\n",
       "    <tr>\n",
       "      <th>39</th>\n",
       "      <td>Complaints-T_Troubleshooting_Data</td>\n",
       "      <td>39</td>\n",
       "      <td>0.00</td>\n",
       "      <td>0.00</td>\n",
       "      <td>0.00</td>\n",
       "      <td>0.50</td>\n",
       "      <td>12</td>\n",
       "      <td>35</td>\n",
       "    </tr>\n",
       "    <tr>\n",
       "      <th>151</th>\n",
       "      <td>TEMP_ChitChat-This_is_good</td>\n",
       "      <td>156</td>\n",
       "      <td>0.00</td>\n",
       "      <td>0.00</td>\n",
       "      <td>0.00</td>\n",
       "      <td>0.50</td>\n",
       "      <td>3</td>\n",
       "      <td>11</td>\n",
       "    </tr>\n",
       "    <tr>\n",
       "      <th>150</th>\n",
       "      <td>TEMP_ChitChat-Tell_me_about_yourself</td>\n",
       "      <td>155</td>\n",
       "      <td>0.00</td>\n",
       "      <td>0.00</td>\n",
       "      <td>0.00</td>\n",
       "      <td>0.50</td>\n",
       "      <td>8</td>\n",
       "      <td>17</td>\n",
       "    </tr>\n",
       "    <tr>\n",
       "      <th>43</th>\n",
       "      <td>Complaints-T_Troubleshooting_Payment</td>\n",
       "      <td>43</td>\n",
       "      <td>0.00</td>\n",
       "      <td>0.00</td>\n",
       "      <td>0.00</td>\n",
       "      <td>0.50</td>\n",
       "      <td>4</td>\n",
       "      <td>14</td>\n",
       "    </tr>\n",
       "    <tr>\n",
       "      <th>148</th>\n",
       "      <td>TEMP_ChitChat-Oh</td>\n",
       "      <td>153</td>\n",
       "      <td>0.00</td>\n",
       "      <td>0.00</td>\n",
       "      <td>0.00</td>\n",
       "      <td>0.50</td>\n",
       "      <td>1</td>\n",
       "      <td>7</td>\n",
       "    </tr>\n",
       "    <tr>\n",
       "      <th>140</th>\n",
       "      <td>TEMP_ChitChat-Do_not_worry</td>\n",
       "      <td>144</td>\n",
       "      <td>0.00</td>\n",
       "      <td>0.00</td>\n",
       "      <td>0.00</td>\n",
       "      <td>0.50</td>\n",
       "      <td>4</td>\n",
       "      <td>13</td>\n",
       "    </tr>\n",
       "    <tr>\n",
       "      <th>64</th>\n",
       "      <td>Flow_Control-No</td>\n",
       "      <td>64</td>\n",
       "      <td>0.00</td>\n",
       "      <td>0.00</td>\n",
       "      <td>0.00</td>\n",
       "      <td>0.50</td>\n",
       "      <td>4</td>\n",
       "      <td>23</td>\n",
       "    </tr>\n",
       "    <tr>\n",
       "      <th>143</th>\n",
       "      <td>TEMP_ChitChat-I_am_not_well</td>\n",
       "      <td>147</td>\n",
       "      <td>0.00</td>\n",
       "      <td>0.00</td>\n",
       "      <td>0.00</td>\n",
       "      <td>0.50</td>\n",
       "      <td>3</td>\n",
       "      <td>9</td>\n",
       "    </tr>\n",
       "    <tr>\n",
       "      <th>134</th>\n",
       "      <td>Service_Management-T_Recharge_Service_Features</td>\n",
       "      <td>136</td>\n",
       "      <td>0.00</td>\n",
       "      <td>0.00</td>\n",
       "      <td>0.00</td>\n",
       "      <td>0.50</td>\n",
       "      <td>4</td>\n",
       "      <td>15</td>\n",
       "    </tr>\n",
       "    <tr>\n",
       "      <th>174</th>\n",
       "      <td>Avg / Total</td>\n",
       "      <td></td>\n",
       "      <td>0.53</td>\n",
       "      <td>0.50</td>\n",
       "      <td>0.49</td>\n",
       "      <td>0.72</td>\n",
       "      <td>1953</td>\n",
       "      <td>5636</td>\n",
       "    </tr>\n",
       "  </tbody>\n",
       "</table>\n",
       "<p>174 rows × 8 columns</p>\n",
       "</div>"
      ],
      "text/plain": [
       "                                               name  idx  precision  recall  \\\n",
       "46               Complaints-T_Troubleshooting_Speed   46       1.00    0.90   \n",
       "51                      Device_Management-T_SIM_PIN   51       1.00    0.83   \n",
       "120                     Service_Management-T_Foxtel  122       0.83    1.00   \n",
       "112                Service_Management-T_Apple_Music  114       0.86    0.95   \n",
       "42            Complaints-T_Troubleshooting_Landline   42       0.76    1.00   \n",
       "47         Complaints-T_Troubleshooting_Telstra_Air   47       0.82    0.92   \n",
       "138                   TEMP_ChitChat-Are_you_kidding  142       1.00    0.75   \n",
       "4             Account_Management-E_Profile_Password    4       0.85    0.85   \n",
       "118             Service_Management-T_Data_Share_SIM  120       0.83    0.83   \n",
       "144                        TEMP_ChitChat-I_am_sorry  148       1.00    0.71   \n",
       "113               Service_Management-T_Benefits_Add  115       0.83    0.83   \n",
       "111         Service_Management-T_Activate_Broadband  112       0.85    0.81   \n",
       "41               Complaints-T_Troubleshooting_Email   41       0.79    0.88   \n",
       "114            Service_Management-T_Carrier_Billing  116       0.79    0.83   \n",
       "170  TEMP_Order_Management-T_NBN_Change_Appointment  185       1.00    0.67   \n",
       "9     Account_Management-T_24x7App_Technical_Faults    9       1.00    0.67   \n",
       "153    TEMP_ChitChat-What_do_you_think_about_movies  159       1.00    0.67   \n",
       "53                           Device-T_Wifi_Password   53       0.90    0.69   \n",
       "136              Service_Management-T_Return_Device  138       0.75    0.82   \n",
       "168           TEMP_Information-T_Credit_Information  178       0.88    0.70   \n",
       "126            Service_Management-T_MessageBank_PIN  128       0.62    1.00   \n",
       "77                     Information-T_Internet_Speed   77       0.60    1.00   \n",
       "106             Service_Management-E_Network_Unlock  107       0.70    0.78   \n",
       "14           Account_Management-T_Telstra_Air_Login   14       0.76    0.73   \n",
       "11                 Account_Management-T_Email_Setup   11       0.77    0.71   \n",
       "18                        Benefits-T_Telstra_Thanks   18       0.80    0.67   \n",
       "10                 Account_Management-T_Bereavement   10       0.57    1.00   \n",
       "91              Payment-E_Recurring_Payment_Autopay   92       0.62    0.88   \n",
       "103        Service_Management-E_De_Activate_Roaming  104       0.67    0.75   \n",
       "86                          Payment-E_Defer_Payment   87       0.65    0.78   \n",
       "..                                              ...  ...        ...     ...   \n",
       "83                         Off_Topic-T_Out_of_Scope   83       0.20    0.12   \n",
       "12                Account_Management-T_Link_Account   12       0.20    0.11   \n",
       "44             Complaints-T_Troubleshooting_Profile   44       0.20    0.08   \n",
       "160    TEMP_ChitChat-Where_were_you_originally_from  166       0.00    0.00   \n",
       "161                     TEMP_ChitChat-You_are_funny  168       0.00    0.00   \n",
       "55               Flow_Control_Break_Flow-Good_night   55       0.00    0.00   \n",
       "82                           Information-T_Valid_ID   82       0.00    0.00   \n",
       "54         Flow_Control_Break_Flow-Another_Question   54       0.00    0.00   \n",
       "22                                   Billing-E_Misc   22       0.00    0.00   \n",
       "159                     TEMP_ChitChat-Where_are_you  165       0.00    0.00   \n",
       "59                       Flow_Control-I_do_not_know   59       0.00    0.00   \n",
       "105                       Service_Management-E_Misc  106       0.00    0.00   \n",
       "171        TEMP_Payment-E_Method_Of_Payment_Inquiry  186       0.00    0.00   \n",
       "167             TEMP_Information-T_Benefits_Telstra  177       0.00    0.00   \n",
       "28                              ChitChat-I_am_angry   28       0.00    0.00   \n",
       "158             TEMP_ChitChat-When_is_your_birthday  164       0.00    0.00   \n",
       "156                 TEMP_ChitChat-What_is_your_name  162       0.00    0.00   \n",
       "155       TEMP_ChitChat-What_is_the_meaning_of_life  161       0.00    0.00   \n",
       "139                 TEMP_ChitChat-Ask_me_a_question  143       0.00    0.00   \n",
       "65                          Flow_Control-No_Problem   65       0.00    0.00   \n",
       "39                Complaints-T_Troubleshooting_Data   39       0.00    0.00   \n",
       "151                      TEMP_ChitChat-This_is_good  156       0.00    0.00   \n",
       "150            TEMP_ChitChat-Tell_me_about_yourself  155       0.00    0.00   \n",
       "43             Complaints-T_Troubleshooting_Payment   43       0.00    0.00   \n",
       "148                                TEMP_ChitChat-Oh  153       0.00    0.00   \n",
       "140                      TEMP_ChitChat-Do_not_worry  144       0.00    0.00   \n",
       "64                                  Flow_Control-No   64       0.00    0.00   \n",
       "143                     TEMP_ChitChat-I_am_not_well  147       0.00    0.00   \n",
       "134  Service_Management-T_Recharge_Service_Features  136       0.00    0.00   \n",
       "174                                     Avg / Total            0.53    0.50   \n",
       "\n",
       "     f1_score  roc_auc  support  n_examples  \n",
       "46       0.95     0.95       10          31  \n",
       "51       0.91     0.92        6          21  \n",
       "120      0.91     1.00        5          19  \n",
       "112      0.90     0.97       19          58  \n",
       "42       0.87     1.00       13          44  \n",
       "47       0.87     0.96       25          76  \n",
       "138      0.86     0.88        4          12  \n",
       "4        0.85     0.92       13          36  \n",
       "118      0.83     0.92        6          18  \n",
       "144      0.83     0.86        7          15  \n",
       "113      0.83     0.92       12          38  \n",
       "111      0.83     0.90       21          50  \n",
       "41       0.83     0.94       25          74  \n",
       "114      0.81     0.92       18          60  \n",
       "170      0.80     0.83        3          13  \n",
       "9        0.80     0.83        3          11  \n",
       "153      0.80     0.83        3           8  \n",
       "53       0.78     0.85       13          27  \n",
       "136      0.78     0.91       11          36  \n",
       "168      0.78     0.85       10          31  \n",
       "126      0.77     1.00        5          22  \n",
       "77       0.75     1.00        3          20  \n",
       "106      0.74     0.89        9          33  \n",
       "14       0.74     0.86       22          57  \n",
       "11       0.74     0.86       14          41  \n",
       "18       0.73     0.83        6          18  \n",
       "10       0.73     1.00        4          14  \n",
       "91       0.73     0.94       26          73  \n",
       "103      0.71     0.87        8          28  \n",
       "86       0.70     0.88       40         101  \n",
       "..        ...      ...      ...         ...  \n",
       "83       0.15     0.56        8          20  \n",
       "12       0.14     0.55        9          27  \n",
       "44       0.11     0.54       13          34  \n",
       "160      0.00     0.50        1           6  \n",
       "161      0.00     0.50        8          22  \n",
       "55       0.00     0.50        4           9  \n",
       "82       0.00     0.50        2           8  \n",
       "54       0.00     0.50        3           8  \n",
       "22       0.00     0.50        9          26  \n",
       "159      0.00     0.50        2          10  \n",
       "59       0.00     0.50        6          14  \n",
       "105      0.00     0.50        6          10  \n",
       "171      0.00     0.50        4           9  \n",
       "167      0.00     0.50        4           6  \n",
       "28       0.00     0.50        6          16  \n",
       "158      0.00     0.50        2           9  \n",
       "156      0.00     0.50        1          13  \n",
       "155      0.00     0.50        1          12  \n",
       "139      0.00     0.50        4           8  \n",
       "65       0.00     0.50        3          10  \n",
       "39       0.00     0.50       12          35  \n",
       "151      0.00     0.50        3          11  \n",
       "150      0.00     0.50        8          17  \n",
       "43       0.00     0.50        4          14  \n",
       "148      0.00     0.50        1           7  \n",
       "140      0.00     0.50        4          13  \n",
       "64       0.00     0.50        4          23  \n",
       "143      0.00     0.50        3           9  \n",
       "134      0.00     0.50        4          15  \n",
       "174      0.49     0.72     1953        5636  \n",
       "\n",
       "[174 rows x 8 columns]"
      ]
     },
     "execution_count": 42,
     "metadata": {},
     "output_type": "execute_result"
    }
   ],
   "source": [
    "stats = perf_by_label(y_test, y_pred, classes, counts_by_label)\n",
    "print_perf_by_label(stats, rounded=2, sort_column='f1_score')"
   ]
  },
  {
   "cell_type": "code",
   "execution_count": 43,
   "metadata": {
    "scrolled": true
   },
   "outputs": [
    {
     "name": "stdout",
     "output_type": "stream",
     "text": [
      "                                                                precision    recall  f1-score   support\n",
      "\n",
      "                     Account_Management-E_Close_Cancel_Account       0.29      0.20      0.24        10\n",
      "                             Account_Management-E_Email_Change       0.67      0.40      0.50        10\n",
      "                                     Account_Management-E_Misc       0.45      0.50      0.48        10\n",
      "                              Account_Management-E_Name_Change       0.50      0.60      0.55         5\n",
      "                         Account_Management-E_Profile_Password       0.85      0.85      0.85        13\n",
      "                          Account_Management-E_Transfer_Points       0.57      0.89      0.70         9\n",
      "                    Account_Management-E_Update_Change_Address       0.50      0.40      0.44        10\n",
      "       Account_Management-E_Update_Change_Contact_Phone_Number       0.43      0.75      0.55         4\n",
      "              Account_Management-T_24x7App_Registration_Faults       0.50      0.62      0.55        13\n",
      "                 Account_Management-T_24x7App_Technical_Faults       1.00      0.67      0.80         3\n",
      "                              Account_Management-T_Bereavement       0.57      1.00      0.73         4\n",
      "                              Account_Management-T_Email_Setup       0.77      0.71      0.74        14\n",
      "                             Account_Management-T_Link_Account       0.20      0.11      0.14         9\n",
      "                          Account_Management-T_Profile_Inquiry       0.58      0.47      0.52        15\n",
      "                        Account_Management-T_Telstra_Air_Login       0.76      0.73      0.74        22\n",
      "                        Account_Management-T_Telstra_Air_Setup       0.67      0.44      0.53         9\n",
      "                            Account_Management-T_Usage_History       0.55      0.46      0.50        13\n",
      "                                     Benefits-T_Bigpond_Movies       0.57      0.67      0.62         6\n",
      "                                     Benefits-T_Telstra_Thanks       0.80      0.67      0.73         6\n",
      "                                     Billing-E_Balance_Inquiry       0.39      0.52      0.45        25\n",
      "                                    Billing-E_Bill_Explanation       0.26      0.30      0.28        30\n",
      "                                             Billing-E_Dispute       0.23      0.33      0.27        18\n",
      "                                                Billing-E_Misc       0.00      0.00      0.00         9\n",
      "                                           Billing-T_Bill_Copy       0.52      0.57      0.54        23\n",
      "                                                ChitChat-Hello       0.40      0.25      0.31         8\n",
      "                                          ChitChat-Hello_again       1.00      0.20      0.33         5\n",
      "                                           ChitChat-Hot_Topics       0.43      0.60      0.50         5\n",
      "                                          ChitChat-How_are_you       0.33      0.25      0.29         4\n",
      "                                           ChitChat-I_am_angry       0.00      0.00      0.00         6\n",
      "                                            ChitChat-Thank_you       0.50      0.60      0.55         5\n",
      "                                             Complaints-E_Misc       0.67      0.22      0.33         9\n",
      "                                          Complaints-E_Network       0.71      0.28      0.40        18\n",
      "                                  Complaints-E_Troubleshooting       1.00      0.17      0.29         6\n",
      "                                             Complaints-T_Scam       0.50      0.60      0.55         5\n",
      "                          Complaints-T_Troubleshooting_24x7App       0.54      0.47      0.50        15\n",
      "                       Complaints-T_Troubleshooting_Activation       0.54      0.50      0.52        30\n",
      "                        Complaints-T_Troubleshooting_Broadband       0.48      0.76      0.59        21\n",
      "                             Complaints-T_Troubleshooting_Call       0.55      0.35      0.43        17\n",
      "               Complaints-T_Troubleshooting_Credit_or_Recharge       0.48      0.47      0.47        30\n",
      "                             Complaints-T_Troubleshooting_Data       0.00      0.00      0.00        12\n",
      "                           Complaints-T_Troubleshooting_Device       0.38      0.33      0.35         9\n",
      "                            Complaints-T_Troubleshooting_Email       0.79      0.88      0.83        25\n",
      "                         Complaints-T_Troubleshooting_Landline       0.76      1.00      0.87        13\n",
      "                          Complaints-T_Troubleshooting_Payment       0.00      0.00      0.00         4\n",
      "                          Complaints-T_Troubleshooting_Profile       0.20      0.08      0.11        13\n",
      "                          Complaints-T_Troubleshooting_Roaming       0.25      0.11      0.15        18\n",
      "                            Complaints-T_Troubleshooting_Speed       1.00      0.90      0.95        10\n",
      "                      Complaints-T_Troubleshooting_Telstra_Air       0.82      0.92      0.87        25\n",
      "                              Device_Management-T_Lodge_Repair       0.75      0.33      0.46         9\n",
      "                         Device_Management-T_Phone_Lost_Stolen       0.50      1.00      0.67         4\n",
      "                               Device_Management-T_Replace_SIM       0.53      0.56      0.55        16\n",
      "                                   Device_Management-T_SIM_PIN       1.00      0.83      0.91         6\n",
      "                                          Device-T_New_Devices       1.00      0.50      0.67         6\n",
      "                                        Device-T_Wifi_Password       0.90      0.69      0.78        13\n",
      "                      Flow_Control_Break_Flow-Another_Question       0.00      0.00      0.00         3\n",
      "                            Flow_Control_Break_Flow-Good_night       0.00      0.00      0.00         4\n",
      "            Flow_Control_Break_Flow-It_Was_Nice_Talking_To_You       1.00      0.50      0.67         2\n",
      "                     Flow_Control_Break_Flow-No_More_Questions       0.17      0.25      0.20         4\n",
      "Flow_Control_Break_Flow-That_is_not_what_we_were_talking_about       0.32      0.35      0.33        20\n",
      "                                    Flow_Control-I_do_not_know       0.00      0.00      0.00         6\n",
      "                                 Flow_Control-I_Need_More_Time       0.43      0.33      0.38         9\n",
      "                                  Flow_Control-It_Did_Not_Work       0.32      0.29      0.30        21\n",
      "                                        Flow_Control-It_Worked       0.50      0.33      0.40         3\n",
      "                                            Flow_Control-Maybe       0.67      0.33      0.44         6\n",
      "                                               Flow_Control-No       0.00      0.00      0.00         4\n",
      "                                       Flow_Control-No_Problem       0.00      0.00      0.00         3\n",
      "                                              Flow_Control-Yes       0.10      0.85      0.18        13\n",
      "                                       Help-E_Connect_to_Agent       0.65      0.60      0.62        47\n",
      "                                                 Help-E_Ending       0.50      0.50      0.50         6\n",
      "                                        Information-E_About_Us       0.40      0.50      0.44        12\n",
      "                                      Information-E_Contact_Us       0.55      0.60      0.57        10\n",
      "                              Information-E_Find_Nearest_Store       0.67      0.57      0.62         7\n",
      "                                  Information-E_Store_Products       0.53      0.32      0.40        25\n",
      "                                Information-T_Benefits_Prepaid       0.33      0.29      0.31         7\n",
      "                                Information-T_Bot_Capabilities       0.60      0.50      0.55         6\n",
      "                                     Information-T_Definitions       0.52      0.54      0.53        67\n",
      "                       Information-T_International_Call_Method       0.50      0.12      0.20         8\n",
      "                                  Information-T_Internet_Speed       0.60      1.00      0.75         3\n",
      "                                        Information-T_Rollover       1.00      0.17      0.29         6\n",
      "                            Information-T_Serviceability_Check       0.67      0.29      0.40         7\n",
      "                                      Information-T_Share_Data       0.67      0.50      0.57         4\n",
      "                            Information-T_Terms_and_Conditions       0.50      1.00      0.67         1\n",
      "                                        Information-T_Valid_ID       0.00      0.00      0.00         2\n",
      "                                      Off_Topic-T_Out_of_Scope       0.20      0.12      0.15         8\n",
      "                   Order_Management-E_Get_Product_Order_Status       0.47      0.47      0.47        19\n",
      "                                       Order_Management-E_Misc       0.86      0.46      0.60        13\n",
      "                                       Payment-E_Defer_Payment       0.65      0.78      0.70        40\n",
      "                                      Payment-E_Make_A_Payment       0.39      0.58      0.47        12\n",
      "                          Payment-E_Missing_Misapplied_Payment       0.48      0.48      0.48        29\n",
      "                                     Payment-E_Payment_History       0.74      0.54      0.62        26\n",
      "                                            Payment-E_Recharge       0.38      0.29      0.32        21\n",
      "                           Payment-E_Recurring_Payment_Autopay       0.62      0.88      0.73        26\n",
      "                                      Payment-E_Refund_Payment       0.47      0.54      0.50        13\n",
      "                                    Payment-E_Report_A_Payment       0.45      0.42      0.43        12\n",
      "                              Payment-T_Update_Payment_Details       0.83      0.56      0.67         9\n",
      "                                               Sales-E_Port_In       0.51      0.50      0.51        38\n",
      "                                    Sales-T_Recontract_Service       0.48      0.50      0.49        20\n",
      "                    Service_Management-E_Activate_Prepaid_Plan       0.33      0.41      0.37        22\n",
      "                         Service_Management-E_Activate_Roaming       0.40      0.40      0.40        10\n",
      "                            Service_Management-E_Add_Insurance       0.50      0.67      0.57         3\n",
      "                     Service_Management-E_Add_Service_Features       0.47      0.61      0.53        38\n",
      "                    Service_Management-E_Coverage_Area_Inquiry       0.70      0.54      0.61        13\n",
      "                 Service_Management-E_De_Activate_Prepaid_Plan       0.20      0.12      0.15         8\n",
      "                      Service_Management-E_De_Activate_Roaming       0.67      0.75      0.71         8\n",
      "          Service_Management-E_International_Rate_Plan_Inquiry       0.15      0.25      0.19         8\n",
      "                                     Service_Management-E_Misc       0.00      0.00      0.00         6\n",
      "                           Service_Management-E_Network_Unlock       0.70      0.78      0.74         9\n",
      "                        Service_Management-E_Price_Plan_Change       0.46      0.36      0.41        33\n",
      "                       Service_Management-E_Price_Plan_Inquiry       0.14      0.18      0.16        11\n",
      "                  Service_Management-E_Remove_Service_Features       0.69      0.60      0.64        15\n",
      "                          Service_Management-E_Roaming_Inquiry       0.44      0.52      0.48        29\n",
      "                       Service_Management-T_Activate_Broadband       0.85      0.81      0.83        21\n",
      "                              Service_Management-T_Apple_Music       0.86      0.95      0.90        19\n",
      "                             Service_Management-T_Benefits_Add       0.83      0.83      0.83        12\n",
      "                          Service_Management-T_Carrier_Billing       0.79      0.83      0.81        18\n",
      "                         Service_Management-T_Change_Ownership       0.25      0.50      0.33         6\n",
      "                          Service_Management-T_Claim_Insurance       0.44      1.00      0.62         4\n",
      "                         Service_Management-T_Contract_Details       0.45      0.45      0.45        20\n",
      "                           Service_Management-T_Data_Share_SIM       0.83      0.83      0.83         6\n",
      "                        Service_Management-T_Find_Phone_Number       0.67      0.67      0.67         9\n",
      "                                   Service_Management-T_Foxtel       0.83      1.00      0.91         5\n",
      "                  Service_Management-T_MessageBank_Callforward       0.75      0.38      0.50         8\n",
      "                     Service_Management-T_MessageBank_Greeting       1.00      0.25      0.40         4\n",
      "                Service_Management-T_MessageBank_Hangupmessage       0.20      0.50      0.29         2\n",
      "                  Service_Management-T_MessageBank_Message2Txt       0.50      0.67      0.57         3\n",
      "                         Service_Management-T_MessageBank_Misc       0.50      0.50      0.50         8\n",
      "                          Service_Management-T_MessageBank_PIN       0.62      1.00      0.77         5\n",
      "                 Service_Management-T_MessageBank_Remoteaccess       0.67      0.25      0.36         8\n",
      "                     Service_Management-T_MessageBank_Ringtime       0.60      0.50      0.55         6\n",
      "                        Service_Management-T_MessageBank_Setup       1.00      0.29      0.44        14\n",
      "                      Service_Management-T_MessageBank_Turnoff       0.31      0.50      0.38         8\n",
      "                              Service_Management-T_Moving_Home       0.53      0.60      0.56        15\n",
      "                              Service_Management-T_Premium_SMS       0.50      0.31      0.38        13\n",
      "                        Service_Management-T_Price_Plan_Offers       0.52      0.68      0.59        63\n",
      "                Service_Management-T_Recharge_Service_Features       0.00      0.00      0.00         4\n",
      "                        Service_Management-T_Reconnect_Service       0.31      0.36      0.33        14\n",
      "                            Service_Management-T_Return_Device       0.75      0.82      0.78        11\n",
      "                         Service_Management-T_Status_Insurance       1.00      0.17      0.29         6\n",
      "                                 TEMP_ChitChat-Are_you_kidding       1.00      0.75      0.86         4\n",
      "                               TEMP_ChitChat-Ask_me_a_question       0.00      0.00      0.00         4\n",
      "                                    TEMP_ChitChat-Do_not_worry       0.00      0.00      0.00         4\n",
      "                                 TEMP_ChitChat-How_old_are_you       0.33      0.67      0.44         3\n",
      "                               TEMP_ChitChat-I_am_just_kidding       1.00      0.33      0.50         3\n",
      "                                   TEMP_ChitChat-I_am_not_well       0.00      0.00      0.00         3\n",
      "                                      TEMP_ChitChat-I_am_sorry       1.00      0.71      0.83         7\n",
      "                                       TEMP_ChitChat-I_am_well       0.25      0.17      0.20         6\n",
      "                               TEMP_ChitChat-I_do_not_like_you       0.38      0.27      0.32        11\n",
      "                           TEMP_ChitChat-I_want_to_tell_a_joke       0.25      0.20      0.22         5\n",
      "                                              TEMP_ChitChat-Oh       0.00      0.00      0.00         1\n",
      "                                      TEMP_ChitChat-Talk_to_me       0.33      0.67      0.44         3\n",
      "                          TEMP_ChitChat-Tell_me_about_yourself       0.00      0.00      0.00         8\n",
      "                                    TEMP_ChitChat-This_is_good       0.00      0.00      0.00         3\n",
      "                  TEMP_ChitChat-What_do_you_like_to_do_for_fun       0.25      0.50      0.33         2\n",
      "                  TEMP_ChitChat-What_do_you_think_about_movies       1.00      0.67      0.80         3\n",
      "                               TEMP_ChitChat-What_is_happening       0.43      0.43      0.43         7\n",
      "                     TEMP_ChitChat-What_is_the_meaning_of_life       0.00      0.00      0.00         1\n",
      "                               TEMP_ChitChat-What_is_your_name       0.00      0.00      0.00         1\n",
      "                     TEMP_ChitChat-What_languages_do_you_speak       1.00      0.50      0.67         2\n",
      "                           TEMP_ChitChat-When_is_your_birthday       0.00      0.00      0.00         2\n",
      "                                   TEMP_ChitChat-Where_are_you       0.00      0.00      0.00         2\n",
      "                  TEMP_ChitChat-Where_were_you_originally_from       0.00      0.00      0.00         1\n",
      "                                   TEMP_ChitChat-You_are_funny       0.00      0.00      0.00         8\n",
      "                                    TEMP_ChitChat-You_are_good       0.29      0.40      0.33         5\n",
      "                               TEMP_ChitChat-You_are_not_funny       0.40      0.33      0.36         6\n",
      "                            TEMP_ChitChat-You_have_a_nice_name       0.33      0.50      0.40         2\n",
      "                        TEMP_Complaints-T_Troubleshooting_Plan       0.33      0.20      0.25         5\n",
      "                                TEMP_Help-E_Reconnect_to_Agent       0.50      0.67      0.57         3\n",
      "                           TEMP_Information-T_Benefits_Telstra       0.00      0.00      0.00         4\n",
      "                         TEMP_Information-T_Credit_Information       0.88      0.70      0.78        10\n",
      "                            TEMP_Information-T_Unwelcome_Calls       0.55      0.50      0.52        12\n",
      "                TEMP_Order_Management-T_NBN_Change_Appointment       1.00      0.67      0.80         3\n",
      "                      TEMP_Payment-E_Method_Of_Payment_Inquiry       0.00      0.00      0.00         4\n",
      "                              TEMP_Sales-T_Discontinued_Offers       1.00      0.20      0.33         5\n",
      "                   TEMP_Service_Management-T_Directory_Listing       0.82      0.88      0.85        16\n",
      "\n",
      "                                                   avg / total       0.53      0.50      0.49      1953\n",
      "\n"
     ]
    }
   ],
   "source": [
    "print_classification_report(y_test, y_pred, classes)"
   ]
  },
  {
   "cell_type": "code",
   "execution_count": 44,
   "metadata": {},
   "outputs": [
    {
     "name": "stdout",
     "output_type": "stream",
     "text": [
      "name                                 idx    precision    recall    f1_score    roc_auc    support    n_examples\n",
      "-----------------------------------  -----  -----------  --------  ----------  ---------  ---------  ------------\n",
      "Best 5:\n",
      "Complaints-T_Troubleshooting_Speed   46     1.0          0.9       0.95        0.95       10         31\n",
      "Device_Management-T_SIM_PIN          51     1.0          0.83      0.91        0.92       6          21\n",
      "Service_Management-T_Foxtel          122    0.83         1.0       0.91        1.0        5          19\n",
      "Service_Management-T_Apple_Music     114    0.86         0.95      0.9         0.97       19         58\n",
      "Complaints-T_Troubleshooting_Landli  42     0.76         1.0       0.87        1.0        13         44\n",
      "\n",
      "Worst 5:\n",
      "Complaints-T_Troubleshooting_Roamin  45     0.25         0.11      0.15        0.55       18         36\n",
      "Service_Management-E_De_Activate_Pr  103    0.2          0.12      0.15        0.56       8          23\n",
      "Off_Topic-T_Out_of_Scope             83     0.2          0.12      0.15        0.56       8          20\n",
      "Account_Management-T_Link_Account    12     0.2          0.11      0.14        0.55       9          27\n",
      "Complaints-T_Troubleshooting_Profil  44     0.2          0.08      0.11        0.54       13         34\n",
      "\n",
      "Avg / Total                                 0.53         0.5       0.49        0.72       1953       5636\n"
     ]
    }
   ],
   "source": [
    "print_best_worst(stats, rounded=2, sort_column='f1_score', top_n=5, max_name_len=35)"
   ]
  },
  {
   "cell_type": "markdown",
   "metadata": {},
   "source": [
    "The reported averages are a prevalence-weighted macro-average across classes (equivalent to precision_recall_fscore_support with average='weighted')."
   ]
  },
  {
   "cell_type": "markdown",
   "metadata": {},
   "source": [
    "## NB-SVM -  SVM with NB features\n",
    "\n",
    "A simple but novel SVM variant using NB log-count ratios as feature values.\n",
    "\n",
    "By combining generative and discriminative classifiers, we present a simple model variant where an SVM is built over NB log-count ratios as feature values, and show that it is a strong and robust performer over all the presented tasks.\n",
    "\n",
    "Otherwise identical to the SVM, except we use x(k) = ˜f^(k), where ˜f(k) = ˆr ◦ ˆf(k) is the elementwise product. While this does very well for long documents, we find that an interpolation between MNB and SVM performs excellently for all documents and we report results using this model:\n",
    "\n",
    "    w' = (1 − β)w¯ + βw\n",
    "\n",
    "where w¯ = ||w||1 / |V| is the mean magnitude of w, and β ∈ [0, 1] is the interpolation parameter. This interpolation can be seen as a form of regularization: trust NB unless the SVM is very confident.\n",
    "\n",
    "While (Ng and Jordan, 2002) showed that NB is better than SVM/logistic regression (LR) with few training cases, we show that MNB is also better with short documents. In contrast to their result that an SVM usually beats NB when it has more than 30–50 training cases, we show that MNB is still better on snippets even with relatively large training sets (9k cases)."
   ]
  },
  {
   "cell_type": "code",
   "execution_count": 151,
   "metadata": {},
   "outputs": [],
   "source": [
    "import text_classification_benchmarks.nbsvm as nbsvm"
   ]
  },
  {
   "cell_type": "code",
   "execution_count": 156,
   "metadata": {},
   "outputs": [],
   "source": [
    "# import text_classification_benchmarks.nbsvm.model_setup"
   ]
  },
  {
   "cell_type": "code",
   "execution_count": 157,
   "metadata": {},
   "outputs": [
    {
     "data": {
      "text/plain": [
       "<module 'text_classification_benchmarks.nbsvm.model_setup' from '../../text_classification_benchmarks/nbsvm/model_setup.py'>"
      ]
     },
     "execution_count": 157,
     "metadata": {},
     "output_type": "execute_result"
    }
   ],
   "source": [
    "# importlib.reload(text_classification_benchmarks.nbsvm.model_setup)"
   ]
  },
  {
   "cell_type": "code",
   "execution_count": 158,
   "metadata": {},
   "outputs": [
    {
     "data": {
      "text/plain": [
       "<module 'text_classification_benchmarks.nbsvm' from '../../text_classification_benchmarks/nbsvm/__init__.py'>"
      ]
     },
     "execution_count": 158,
     "metadata": {},
     "output_type": "execute_result"
    }
   ],
   "source": [
    "# importlib.reload(nbsvm)"
   ]
  },
  {
   "cell_type": "code",
   "execution_count": 159,
   "metadata": {},
   "outputs": [
    {
     "name": "stdout",
     "output_type": "stream",
     "text": [
      "Vectorizing...\n",
      "ngram_range: (1, 3)\n",
      "Fitting...\n",
      "Classifying...\n"
     ]
    }
   ],
   "source": [
    "preds, model = nbsvm.train_and_test(train_df, val_df)"
   ]
  },
  {
   "cell_type": "code",
   "execution_count": 154,
   "metadata": {},
   "outputs": [
    {
     "name": "stdout",
     "output_type": "stream",
     "text": [
      "Precision (weighted avg): 0.74\n",
      "Recall (weighted avg)   : 0.6\n",
      "F1 Score (weighted avg) : 0.65\n",
      "Accuracy                : 0.6\n",
      "ROC AUC (macro avg)     : 0.79\n"
     ]
    }
   ],
   "source": [
    "stats = perf_summary(val_df.label, preds)\n",
    "print_perf_summary(stats, rounded=2)"
   ]
  },
  {
   "cell_type": "code",
   "execution_count": 160,
   "metadata": {},
   "outputs": [
    {
     "name": "stdout",
     "output_type": "stream",
     "text": [
      "Mean latency (secs): 0.3411\n"
     ]
    }
   ],
   "source": [
    "mean_latency = round(model.mean_latency(), 4)\n",
    "print('Mean latency (secs):', mean_latency)"
   ]
  },
  {
   "cell_type": "code",
   "execution_count": 161,
   "metadata": {},
   "outputs": [],
   "source": [
    "data = dict({'model': 'NBSVM', 'mean_latency': mean_latency}, **stats)\n",
    "benchmarks = benchmarks.append(data, ignore_index=True)"
   ]
  },
  {
   "cell_type": "code",
   "execution_count": 162,
   "metadata": {},
   "outputs": [
    {
     "data": {
      "text/html": [
       "<div>\n",
       "<table border=\"1\" class=\"dataframe\">\n",
       "  <thead>\n",
       "    <tr style=\"text-align: right;\">\n",
       "      <th></th>\n",
       "      <th>model</th>\n",
       "      <th>precision_weighted_avg</th>\n",
       "      <th>recall_weighted_avg</th>\n",
       "      <th>f1_weighted_avg</th>\n",
       "      <th>accuracy</th>\n",
       "      <th>roc_auc</th>\n",
       "      <th>mean_latency</th>\n",
       "    </tr>\n",
       "  </thead>\n",
       "  <tbody>\n",
       "    <tr>\n",
       "      <th>0</th>\n",
       "      <td>Multinomial Naive Bayes</td>\n",
       "      <td>0.656506</td>\n",
       "      <td>0.542435</td>\n",
       "      <td>0.514728</td>\n",
       "      <td>0.542435</td>\n",
       "      <td>0.733035</td>\n",
       "      <td>0.0008</td>\n",
       "    </tr>\n",
       "    <tr>\n",
       "      <th>1</th>\n",
       "      <td>RASA NLU</td>\n",
       "      <td>0.785428</td>\n",
       "      <td>0.630996</td>\n",
       "      <td>0.682865</td>\n",
       "      <td>0.630996</td>\n",
       "      <td>0.804886</td>\n",
       "      <td>0.0010</td>\n",
       "    </tr>\n",
       "    <tr>\n",
       "      <th>2</th>\n",
       "      <td>IBM Watson</td>\n",
       "      <td>0.857916</td>\n",
       "      <td>0.686347</td>\n",
       "      <td>0.751115</td>\n",
       "      <td>0.686347</td>\n",
       "      <td>0.837539</td>\n",
       "      <td>0.1462</td>\n",
       "    </tr>\n",
       "    <tr>\n",
       "      <th>3</th>\n",
       "      <td>Google Dialogflow</td>\n",
       "      <td>0.804371</td>\n",
       "      <td>0.690037</td>\n",
       "      <td>0.732270</td>\n",
       "      <td>0.690037</td>\n",
       "      <td>0.838199</td>\n",
       "      <td>0.5415</td>\n",
       "    </tr>\n",
       "    <tr>\n",
       "      <th>4</th>\n",
       "      <td>Microsoft LUIS</td>\n",
       "      <td>0.762499</td>\n",
       "      <td>0.619926</td>\n",
       "      <td>0.672307</td>\n",
       "      <td>0.619926</td>\n",
       "      <td>0.804848</td>\n",
       "      <td>1.2942</td>\n",
       "    </tr>\n",
       "    <tr>\n",
       "      <th>5</th>\n",
       "      <td>Amazon Lex</td>\n",
       "      <td>0.712986</td>\n",
       "      <td>0.572864</td>\n",
       "      <td>0.619189</td>\n",
       "      <td>0.572864</td>\n",
       "      <td>0.775990</td>\n",
       "      <td>0.3801</td>\n",
       "    </tr>\n",
       "    <tr>\n",
       "      <th>6</th>\n",
       "      <td>NBSVM</td>\n",
       "      <td>0.741484</td>\n",
       "      <td>0.597786</td>\n",
       "      <td>0.648603</td>\n",
       "      <td>0.597786</td>\n",
       "      <td>0.786707</td>\n",
       "      <td>0.3411</td>\n",
       "    </tr>\n",
       "  </tbody>\n",
       "</table>\n",
       "</div>"
      ],
      "text/plain": [
       "                     model  precision_weighted_avg  recall_weighted_avg  \\\n",
       "0  Multinomial Naive Bayes                0.656506             0.542435   \n",
       "1                 RASA NLU                0.785428             0.630996   \n",
       "2               IBM Watson                0.857916             0.686347   \n",
       "3        Google Dialogflow                0.804371             0.690037   \n",
       "4           Microsoft LUIS                0.762499             0.619926   \n",
       "5               Amazon Lex                0.712986             0.572864   \n",
       "6                    NBSVM                0.741484             0.597786   \n",
       "\n",
       "   f1_weighted_avg  accuracy   roc_auc  mean_latency  \n",
       "0         0.514728  0.542435  0.733035        0.0008  \n",
       "1         0.682865  0.630996  0.804886        0.0010  \n",
       "2         0.751115  0.686347  0.837539        0.1462  \n",
       "3         0.732270  0.690037  0.838199        0.5415  \n",
       "4         0.672307  0.619926  0.804848        1.2942  \n",
       "5         0.619189  0.572864  0.775990        0.3801  \n",
       "6         0.648603  0.597786  0.786707        0.3411  "
      ]
     },
     "execution_count": 162,
     "metadata": {},
     "output_type": "execute_result"
    }
   ],
   "source": [
    "benchmarks"
   ]
  },
  {
   "cell_type": "markdown",
   "metadata": {},
   "source": [
    "# Open Source Options"
   ]
  },
  {
   "cell_type": "markdown",
   "metadata": {},
   "source": [
    "## RASA NLU"
   ]
  },
  {
   "cell_type": "code",
   "execution_count": 45,
   "metadata": {},
   "outputs": [],
   "source": [
    "from text_classification_benchmarks.api_services.rasa_service import create_import_file, RasaService"
   ]
  },
  {
   "cell_type": "markdown",
   "metadata": {},
   "source": [
    "### Create RASA NLU Training Set"
   ]
  },
  {
   "cell_type": "code",
   "execution_count": 46,
   "metadata": {},
   "outputs": [],
   "source": [
    "# create_import_file(train_df, classes)"
   ]
  },
  {
   "cell_type": "markdown",
   "metadata": {},
   "source": [
    "### Call RASA NLU API Service"
   ]
  },
  {
   "cell_type": "code",
   "execution_count": 47,
   "metadata": {},
   "outputs": [],
   "source": [
    "max_api_calls = 500"
   ]
  },
  {
   "cell_type": "code",
   "execution_count": 48,
   "metadata": {},
   "outputs": [
    {
     "name": "stdout",
     "output_type": "stream",
     "text": [
      "INFO:tensorflow:Restoring parameters from ./models/current/nlu/intent_classifier_tensorflow_embedding.ckpt\n"
     ]
    }
   ],
   "source": [
    "rasa_service = RasaService('./models/current/nlu', classes, max_api_calls=max_api_calls, verbose=False)"
   ]
  },
  {
   "cell_type": "code",
   "execution_count": 49,
   "metadata": {},
   "outputs": [],
   "source": [
    "y_pred = rasa_service.predict_batch(val_df)"
   ]
  },
  {
   "cell_type": "code",
   "execution_count": 262,
   "metadata": {},
   "outputs": [],
   "source": [
    "y_val = val_df.label.values"
   ]
  },
  {
   "cell_type": "code",
   "execution_count": 51,
   "metadata": {},
   "outputs": [
    {
     "name": "stdout",
     "output_type": "stream",
     "text": [
      "Precision (weighted avg): 0.79\n",
      "Recall (weighted avg)   : 0.63\n",
      "F1 Score (weighted avg) : 0.68\n",
      "Accuracy                : 0.63\n",
      "ROC AUC (macro avg)     : 0.8\n"
     ]
    }
   ],
   "source": [
    "stats = perf_summary(y_val[:max_api_calls + 1], y_pred)\n",
    "print_perf_summary(stats, rounded=2)"
   ]
  },
  {
   "cell_type": "code",
   "execution_count": 52,
   "metadata": {},
   "outputs": [
    {
     "name": "stdout",
     "output_type": "stream",
     "text": [
      "Mean latency (secs): 0.001\n"
     ]
    }
   ],
   "source": [
    "mean_latency = round(rasa_service.mean_latency(), 4)\n",
    "print('Mean latency (secs):', mean_latency)"
   ]
  },
  {
   "cell_type": "code",
   "execution_count": 53,
   "metadata": {},
   "outputs": [],
   "source": [
    "data = dict({'model': 'RASA NLU', 'mean_latency': mean_latency}, **stats)\n",
    "benchmarks = benchmarks.append(data, ignore_index=True)"
   ]
  },
  {
   "cell_type": "code",
   "execution_count": 54,
   "metadata": {},
   "outputs": [
    {
     "data": {
      "text/html": [
       "<div>\n",
       "<table border=\"1\" class=\"dataframe\">\n",
       "  <thead>\n",
       "    <tr style=\"text-align: right;\">\n",
       "      <th></th>\n",
       "      <th>model</th>\n",
       "      <th>precision_weighted_avg</th>\n",
       "      <th>recall_weighted_avg</th>\n",
       "      <th>f1_weighted_avg</th>\n",
       "      <th>accuracy</th>\n",
       "      <th>roc_auc</th>\n",
       "      <th>mean_latency</th>\n",
       "    </tr>\n",
       "  </thead>\n",
       "  <tbody>\n",
       "    <tr>\n",
       "      <th>0</th>\n",
       "      <td>Multinomial Naive Bayes</td>\n",
       "      <td>0.656506</td>\n",
       "      <td>0.542435</td>\n",
       "      <td>0.514728</td>\n",
       "      <td>0.542435</td>\n",
       "      <td>0.733035</td>\n",
       "      <td>0.0008</td>\n",
       "    </tr>\n",
       "    <tr>\n",
       "      <th>1</th>\n",
       "      <td>RASA NLU</td>\n",
       "      <td>0.785428</td>\n",
       "      <td>0.630996</td>\n",
       "      <td>0.682865</td>\n",
       "      <td>0.630996</td>\n",
       "      <td>0.804886</td>\n",
       "      <td>0.0010</td>\n",
       "    </tr>\n",
       "  </tbody>\n",
       "</table>\n",
       "</div>"
      ],
      "text/plain": [
       "                     model  precision_weighted_avg  recall_weighted_avg  \\\n",
       "0  Multinomial Naive Bayes                0.656506             0.542435   \n",
       "1                 RASA NLU                0.785428             0.630996   \n",
       "\n",
       "   f1_weighted_avg  accuracy   roc_auc  mean_latency  \n",
       "0         0.514728  0.542435  0.733035        0.0008  \n",
       "1         0.682865  0.630996  0.804886        0.0010  "
      ]
     },
     "execution_count": 54,
     "metadata": {},
     "output_type": "execute_result"
    }
   ],
   "source": [
    "benchmarks"
   ]
  },
  {
   "cell_type": "markdown",
   "metadata": {},
   "source": [
    "# Commercial Options"
   ]
  },
  {
   "cell_type": "markdown",
   "metadata": {},
   "source": [
    "## IBM Watson"
   ]
  },
  {
   "cell_type": "code",
   "execution_count": 55,
   "metadata": {},
   "outputs": [],
   "source": [
    "from text_classification_benchmarks.api_services.watson_service import create_import_file, WatsonService"
   ]
  },
  {
   "cell_type": "markdown",
   "metadata": {},
   "source": [
    "### Create Import File"
   ]
  },
  {
   "cell_type": "code",
   "execution_count": 56,
   "metadata": {},
   "outputs": [],
   "source": [
    "# create_import_file(train_df, classes)"
   ]
  },
  {
   "cell_type": "markdown",
   "metadata": {},
   "source": [
    "### Call Watson API Service"
   ]
  },
  {
   "cell_type": "code",
   "execution_count": 57,
   "metadata": {},
   "outputs": [
    {
     "name": "stdout",
     "output_type": "stream",
     "text": [
      "env: VAULT_TOKEN=4hn3XkC0ia8Lt37dn7EvBxwv\n"
     ]
    }
   ],
   "source": [
    "%env VAULT_TOKEN=4hn3XkC0ia8Lt37dn7EvBxwv"
   ]
  },
  {
   "cell_type": "code",
   "execution_count": 58,
   "metadata": {},
   "outputs": [],
   "source": [
    "watson_service = WatsonService(classes, max_api_calls=max_api_calls, verbose=False)"
   ]
  },
  {
   "cell_type": "code",
   "execution_count": 59,
   "metadata": {},
   "outputs": [],
   "source": [
    "y_pred = watson_service.predict_batch(val_df)"
   ]
  },
  {
   "cell_type": "code",
   "execution_count": 60,
   "metadata": {},
   "outputs": [
    {
     "name": "stdout",
     "output_type": "stream",
     "text": [
      "Precision (weighted avg): 0.86\n",
      "Recall (weighted avg)   : 0.69\n",
      "F1 Score (weighted avg) : 0.75\n",
      "Accuracy                : 0.69\n",
      "ROC AUC (macro avg)     : 0.84\n"
     ]
    }
   ],
   "source": [
    "stats = perf_summary(y_val[:max_api_calls + 1], y_pred)\n",
    "print_perf_summary(stats, rounded=2)"
   ]
  },
  {
   "cell_type": "code",
   "execution_count": 61,
   "metadata": {},
   "outputs": [
    {
     "name": "stdout",
     "output_type": "stream",
     "text": [
      "Mean latency (secs): 0.1462\n"
     ]
    }
   ],
   "source": [
    "mean_latency = round(watson_service.mean_latency(), 4)\n",
    "print('Mean latency (secs):', mean_latency)"
   ]
  },
  {
   "cell_type": "code",
   "execution_count": 62,
   "metadata": {},
   "outputs": [],
   "source": [
    "data = dict({'model': 'IBM Watson', 'mean_latency': mean_latency}, **stats)\n",
    "benchmarks = benchmarks.append(data, ignore_index=True)"
   ]
  },
  {
   "cell_type": "code",
   "execution_count": 63,
   "metadata": {},
   "outputs": [
    {
     "data": {
      "text/html": [
       "<div>\n",
       "<table border=\"1\" class=\"dataframe\">\n",
       "  <thead>\n",
       "    <tr style=\"text-align: right;\">\n",
       "      <th></th>\n",
       "      <th>model</th>\n",
       "      <th>precision_weighted_avg</th>\n",
       "      <th>recall_weighted_avg</th>\n",
       "      <th>f1_weighted_avg</th>\n",
       "      <th>accuracy</th>\n",
       "      <th>roc_auc</th>\n",
       "      <th>mean_latency</th>\n",
       "    </tr>\n",
       "  </thead>\n",
       "  <tbody>\n",
       "    <tr>\n",
       "      <th>0</th>\n",
       "      <td>Multinomial Naive Bayes</td>\n",
       "      <td>0.656506</td>\n",
       "      <td>0.542435</td>\n",
       "      <td>0.514728</td>\n",
       "      <td>0.542435</td>\n",
       "      <td>0.733035</td>\n",
       "      <td>0.0008</td>\n",
       "    </tr>\n",
       "    <tr>\n",
       "      <th>1</th>\n",
       "      <td>RASA NLU</td>\n",
       "      <td>0.785428</td>\n",
       "      <td>0.630996</td>\n",
       "      <td>0.682865</td>\n",
       "      <td>0.630996</td>\n",
       "      <td>0.804886</td>\n",
       "      <td>0.0010</td>\n",
       "    </tr>\n",
       "    <tr>\n",
       "      <th>2</th>\n",
       "      <td>IBM Watson</td>\n",
       "      <td>0.857916</td>\n",
       "      <td>0.686347</td>\n",
       "      <td>0.751115</td>\n",
       "      <td>0.686347</td>\n",
       "      <td>0.837539</td>\n",
       "      <td>0.1462</td>\n",
       "    </tr>\n",
       "  </tbody>\n",
       "</table>\n",
       "</div>"
      ],
      "text/plain": [
       "                     model  precision_weighted_avg  recall_weighted_avg  \\\n",
       "0  Multinomial Naive Bayes                0.656506             0.542435   \n",
       "1                 RASA NLU                0.785428             0.630996   \n",
       "2               IBM Watson                0.857916             0.686347   \n",
       "\n",
       "   f1_weighted_avg  accuracy   roc_auc  mean_latency  \n",
       "0         0.514728  0.542435  0.733035        0.0008  \n",
       "1         0.682865  0.630996  0.804886        0.0010  \n",
       "2         0.751115  0.686347  0.837539        0.1462  "
      ]
     },
     "execution_count": 63,
     "metadata": {},
     "output_type": "execute_result"
    }
   ],
   "source": [
    "benchmarks"
   ]
  },
  {
   "cell_type": "markdown",
   "metadata": {},
   "source": [
    "## Google Dialogflow"
   ]
  },
  {
   "cell_type": "code",
   "execution_count": 72,
   "metadata": {},
   "outputs": [],
   "source": [
    "import text_classification_benchmarks.api_services.dialogflow_service as dialogflow\n",
    "from text_classification_benchmarks.api_services.dialogflow_service import create_import_file, DialogflowService"
   ]
  },
  {
   "cell_type": "code",
   "execution_count": 71,
   "metadata": {},
   "outputs": [
    {
     "data": {
      "text/plain": [
       "<module 'text_classification_benchmarks.api_services.dialogflow_service' from '../../text_classification_benchmarks/api_services/dialogflow_service.py'>"
      ]
     },
     "execution_count": 71,
     "metadata": {},
     "output_type": "execute_result"
    }
   ],
   "source": [
    "# importlib.reload(dialogflow)"
   ]
  },
  {
   "cell_type": "markdown",
   "metadata": {},
   "source": [
    "### Create Import File"
   ]
  },
  {
   "cell_type": "code",
   "execution_count": 65,
   "metadata": {},
   "outputs": [],
   "source": [
    "# create_import_file(train_df, classes, output_path='./import')"
   ]
  },
  {
   "cell_type": "markdown",
   "metadata": {},
   "source": [
    "### Call Dialogflow API Service"
   ]
  },
  {
   "cell_type": "code",
   "execution_count": 73,
   "metadata": {},
   "outputs": [],
   "source": [
    "dialogflow_service = dialogflow.DialogflowService(classes, max_api_calls=max_api_calls, verbose=False)"
   ]
  },
  {
   "cell_type": "code",
   "execution_count": 74,
   "metadata": {},
   "outputs": [],
   "source": [
    "y_pred = dialogflow_service.predict_batch(val_df)"
   ]
  },
  {
   "cell_type": "code",
   "execution_count": 75,
   "metadata": {},
   "outputs": [
    {
     "name": "stdout",
     "output_type": "stream",
     "text": [
      "Precision (weighted avg): 0.8\n",
      "Recall (weighted avg)   : 0.69\n",
      "F1 Score (weighted avg) : 0.73\n",
      "Accuracy                : 0.69\n",
      "ROC AUC (macro avg)     : 0.84\n"
     ]
    }
   ],
   "source": [
    "stats = perf_summary(y_val[:max_api_calls + 1], y_pred)\n",
    "print_perf_summary(stats, rounded=2)"
   ]
  },
  {
   "cell_type": "code",
   "execution_count": 76,
   "metadata": {},
   "outputs": [
    {
     "name": "stdout",
     "output_type": "stream",
     "text": [
      "Mean latency (secs): 0.5415\n"
     ]
    }
   ],
   "source": [
    "mean_latency = round(dialogflow_service.mean_latency(), 4)\n",
    "print('Mean latency (secs):', mean_latency)"
   ]
  },
  {
   "cell_type": "code",
   "execution_count": 77,
   "metadata": {},
   "outputs": [],
   "source": [
    "data = dict({'model': 'Google Dialogflow', 'mean_latency': mean_latency}, **stats)\n",
    "benchmarks = benchmarks.append(data, ignore_index=True)"
   ]
  },
  {
   "cell_type": "code",
   "execution_count": 78,
   "metadata": {},
   "outputs": [
    {
     "data": {
      "text/html": [
       "<div>\n",
       "<table border=\"1\" class=\"dataframe\">\n",
       "  <thead>\n",
       "    <tr style=\"text-align: right;\">\n",
       "      <th></th>\n",
       "      <th>model</th>\n",
       "      <th>precision_weighted_avg</th>\n",
       "      <th>recall_weighted_avg</th>\n",
       "      <th>f1_weighted_avg</th>\n",
       "      <th>accuracy</th>\n",
       "      <th>roc_auc</th>\n",
       "      <th>mean_latency</th>\n",
       "    </tr>\n",
       "  </thead>\n",
       "  <tbody>\n",
       "    <tr>\n",
       "      <th>0</th>\n",
       "      <td>Multinomial Naive Bayes</td>\n",
       "      <td>0.656506</td>\n",
       "      <td>0.542435</td>\n",
       "      <td>0.514728</td>\n",
       "      <td>0.542435</td>\n",
       "      <td>0.733035</td>\n",
       "      <td>0.0008</td>\n",
       "    </tr>\n",
       "    <tr>\n",
       "      <th>1</th>\n",
       "      <td>RASA NLU</td>\n",
       "      <td>0.785428</td>\n",
       "      <td>0.630996</td>\n",
       "      <td>0.682865</td>\n",
       "      <td>0.630996</td>\n",
       "      <td>0.804886</td>\n",
       "      <td>0.0010</td>\n",
       "    </tr>\n",
       "    <tr>\n",
       "      <th>2</th>\n",
       "      <td>IBM Watson</td>\n",
       "      <td>0.857916</td>\n",
       "      <td>0.686347</td>\n",
       "      <td>0.751115</td>\n",
       "      <td>0.686347</td>\n",
       "      <td>0.837539</td>\n",
       "      <td>0.1462</td>\n",
       "    </tr>\n",
       "    <tr>\n",
       "      <th>3</th>\n",
       "      <td>Google Dialogflow</td>\n",
       "      <td>0.804371</td>\n",
       "      <td>0.690037</td>\n",
       "      <td>0.732270</td>\n",
       "      <td>0.690037</td>\n",
       "      <td>0.838199</td>\n",
       "      <td>0.5415</td>\n",
       "    </tr>\n",
       "  </tbody>\n",
       "</table>\n",
       "</div>"
      ],
      "text/plain": [
       "                     model  precision_weighted_avg  recall_weighted_avg  \\\n",
       "0  Multinomial Naive Bayes                0.656506             0.542435   \n",
       "1                 RASA NLU                0.785428             0.630996   \n",
       "2               IBM Watson                0.857916             0.686347   \n",
       "3        Google Dialogflow                0.804371             0.690037   \n",
       "\n",
       "   f1_weighted_avg  accuracy   roc_auc  mean_latency  \n",
       "0         0.514728  0.542435  0.733035        0.0008  \n",
       "1         0.682865  0.630996  0.804886        0.0010  \n",
       "2         0.751115  0.686347  0.837539        0.1462  \n",
       "3         0.732270  0.690037  0.838199        0.5415  "
      ]
     },
     "execution_count": 78,
     "metadata": {},
     "output_type": "execute_result"
    }
   ],
   "source": [
    "benchmarks"
   ]
  },
  {
   "cell_type": "markdown",
   "metadata": {},
   "source": [
    "## Microsoft LUIS"
   ]
  },
  {
   "cell_type": "code",
   "execution_count": 80,
   "metadata": {},
   "outputs": [],
   "source": [
    "import text_classification_benchmarks.api_services.luis_service as luis\n",
    "from text_classification_benchmarks.api_services.luis_service import create_import_file, LuisService"
   ]
  },
  {
   "cell_type": "code",
   "execution_count": null,
   "metadata": {},
   "outputs": [],
   "source": [
    "# importlib.reload(luis)"
   ]
  },
  {
   "cell_type": "code",
   "execution_count": 83,
   "metadata": {},
   "outputs": [],
   "source": [
    "# luis_service = luis.LuisService(classes.tolist(), max_api_calls=5, verbose=True)"
   ]
  },
  {
   "cell_type": "code",
   "execution_count": 84,
   "metadata": {},
   "outputs": [],
   "source": [
    "# y_pred = luis_service.predict_batch(val_df)"
   ]
  },
  {
   "cell_type": "markdown",
   "metadata": {},
   "source": [
    "### Create Training Set"
   ]
  },
  {
   "cell_type": "code",
   "execution_count": null,
   "metadata": {},
   "outputs": [],
   "source": [
    "# create_import_file(train_df, classes)"
   ]
  },
  {
   "cell_type": "markdown",
   "metadata": {},
   "source": [
    "### Call LUIS Service"
   ]
  },
  {
   "cell_type": "code",
   "execution_count": 85,
   "metadata": {},
   "outputs": [],
   "source": [
    "luis_service = LuisService(classes, max_api_calls=max_api_calls, verbose=False)"
   ]
  },
  {
   "cell_type": "code",
   "execution_count": 86,
   "metadata": {},
   "outputs": [],
   "source": [
    "y_pred = luis_service.predict_batch(val_df)"
   ]
  },
  {
   "cell_type": "code",
   "execution_count": 87,
   "metadata": {},
   "outputs": [
    {
     "name": "stdout",
     "output_type": "stream",
     "text": [
      "Precision (weighted avg): 0.76\n",
      "Recall (weighted avg)   : 0.62\n",
      "F1 Score (weighted avg) : 0.67\n",
      "Accuracy                : 0.62\n",
      "ROC AUC (macro avg)     : 0.8\n"
     ]
    }
   ],
   "source": [
    "stats = perf_summary(y_val[:max_api_calls + 1], y_pred)\n",
    "print_perf_summary(stats, rounded=2)"
   ]
  },
  {
   "cell_type": "code",
   "execution_count": 88,
   "metadata": {},
   "outputs": [
    {
     "name": "stdout",
     "output_type": "stream",
     "text": [
      "Mean latency (secs): 1.2942\n"
     ]
    }
   ],
   "source": [
    "mean_latency = round(luis_service.mean_latency(), 4)\n",
    "print('Mean latency (secs):', mean_latency)"
   ]
  },
  {
   "cell_type": "code",
   "execution_count": 89,
   "metadata": {},
   "outputs": [],
   "source": [
    "data = dict({'model': 'Microsoft LUIS', 'mean_latency': mean_latency}, **stats)\n",
    "benchmarks = benchmarks.append(data, ignore_index=True)"
   ]
  },
  {
   "cell_type": "code",
   "execution_count": 90,
   "metadata": {},
   "outputs": [
    {
     "data": {
      "text/html": [
       "<div>\n",
       "<table border=\"1\" class=\"dataframe\">\n",
       "  <thead>\n",
       "    <tr style=\"text-align: right;\">\n",
       "      <th></th>\n",
       "      <th>model</th>\n",
       "      <th>precision_weighted_avg</th>\n",
       "      <th>recall_weighted_avg</th>\n",
       "      <th>f1_weighted_avg</th>\n",
       "      <th>accuracy</th>\n",
       "      <th>roc_auc</th>\n",
       "      <th>mean_latency</th>\n",
       "    </tr>\n",
       "  </thead>\n",
       "  <tbody>\n",
       "    <tr>\n",
       "      <th>0</th>\n",
       "      <td>Multinomial Naive Bayes</td>\n",
       "      <td>0.656506</td>\n",
       "      <td>0.542435</td>\n",
       "      <td>0.514728</td>\n",
       "      <td>0.542435</td>\n",
       "      <td>0.733035</td>\n",
       "      <td>0.0008</td>\n",
       "    </tr>\n",
       "    <tr>\n",
       "      <th>1</th>\n",
       "      <td>RASA NLU</td>\n",
       "      <td>0.785428</td>\n",
       "      <td>0.630996</td>\n",
       "      <td>0.682865</td>\n",
       "      <td>0.630996</td>\n",
       "      <td>0.804886</td>\n",
       "      <td>0.0010</td>\n",
       "    </tr>\n",
       "    <tr>\n",
       "      <th>2</th>\n",
       "      <td>IBM Watson</td>\n",
       "      <td>0.857916</td>\n",
       "      <td>0.686347</td>\n",
       "      <td>0.751115</td>\n",
       "      <td>0.686347</td>\n",
       "      <td>0.837539</td>\n",
       "      <td>0.1462</td>\n",
       "    </tr>\n",
       "    <tr>\n",
       "      <th>3</th>\n",
       "      <td>Google Dialogflow</td>\n",
       "      <td>0.804371</td>\n",
       "      <td>0.690037</td>\n",
       "      <td>0.732270</td>\n",
       "      <td>0.690037</td>\n",
       "      <td>0.838199</td>\n",
       "      <td>0.5415</td>\n",
       "    </tr>\n",
       "    <tr>\n",
       "      <th>4</th>\n",
       "      <td>Microsoft LUIS</td>\n",
       "      <td>0.762499</td>\n",
       "      <td>0.619926</td>\n",
       "      <td>0.672307</td>\n",
       "      <td>0.619926</td>\n",
       "      <td>0.804848</td>\n",
       "      <td>1.2942</td>\n",
       "    </tr>\n",
       "  </tbody>\n",
       "</table>\n",
       "</div>"
      ],
      "text/plain": [
       "                     model  precision_weighted_avg  recall_weighted_avg  \\\n",
       "0  Multinomial Naive Bayes                0.656506             0.542435   \n",
       "1                 RASA NLU                0.785428             0.630996   \n",
       "2               IBM Watson                0.857916             0.686347   \n",
       "3        Google Dialogflow                0.804371             0.690037   \n",
       "4           Microsoft LUIS                0.762499             0.619926   \n",
       "\n",
       "   f1_weighted_avg  accuracy   roc_auc  mean_latency  \n",
       "0         0.514728  0.542435  0.733035        0.0008  \n",
       "1         0.682865  0.630996  0.804886        0.0010  \n",
       "2         0.751115  0.686347  0.837539        0.1462  \n",
       "3         0.732270  0.690037  0.838199        0.5415  \n",
       "4         0.672307  0.619926  0.804848        1.2942  "
      ]
     },
     "execution_count": 90,
     "metadata": {},
     "output_type": "execute_result"
    }
   ],
   "source": [
    "benchmarks"
   ]
  },
  {
   "cell_type": "markdown",
   "metadata": {},
   "source": [
    "## Amazon Lex"
   ]
  },
  {
   "cell_type": "code",
   "execution_count": 98,
   "metadata": {},
   "outputs": [],
   "source": [
    "import text_classification_benchmarks.api_services.lex_service as lex\n",
    "from text_classification_benchmarks.api_services.lex_service import create_import_file, LexService"
   ]
  },
  {
   "cell_type": "code",
   "execution_count": 102,
   "metadata": {},
   "outputs": [],
   "source": [
    "# importlib.reload(lex)"
   ]
  },
  {
   "cell_type": "markdown",
   "metadata": {},
   "source": [
    "### Create Training Set"
   ]
  },
  {
   "cell_type": "code",
   "execution_count": 92,
   "metadata": {},
   "outputs": [],
   "source": [
    "# create_import_file(train_df, classes, output_path='./lex_import')"
   ]
  },
  {
   "cell_type": "markdown",
   "metadata": {},
   "source": [
    "### Call Lex API Service"
   ]
  },
  {
   "cell_type": "code",
   "execution_count": 100,
   "metadata": {},
   "outputs": [],
   "source": [
    "lex_service = lex.LexService('intent_test', 'Prod', classes, max_api_calls=max_api_calls, verbose=False)"
   ]
  },
  {
   "cell_type": "code",
   "execution_count": 101,
   "metadata": {},
   "outputs": [],
   "source": [
    "y_pred = lex_service.predict_batch(val_df)"
   ]
  },
  {
   "cell_type": "code",
   "execution_count": 103,
   "metadata": {},
   "outputs": [],
   "source": [
    "y_val = list(filter(lambda x: x < 100, val_df.label))"
   ]
  },
  {
   "cell_type": "code",
   "execution_count": 104,
   "metadata": {},
   "outputs": [
    {
     "name": "stdout",
     "output_type": "stream",
     "text": [
      "Precision (weighted avg): 0.71\n",
      "Recall (weighted avg)   : 0.57\n",
      "F1 Score (weighted avg) : 0.62\n",
      "Accuracy                : 0.57\n",
      "ROC AUC (macro avg)     : 0.78\n"
     ]
    }
   ],
   "source": [
    "stats = perf_summary(y_val[:max_api_calls + 1], y_pred)\n",
    "print_perf_summary(stats, rounded=2)"
   ]
  },
  {
   "cell_type": "code",
   "execution_count": 105,
   "metadata": {},
   "outputs": [
    {
     "name": "stdout",
     "output_type": "stream",
     "text": [
      "Mean latency (secs): 0.3801\n"
     ]
    }
   ],
   "source": [
    "mean_latency = round(lex_service.mean_latency(), 4)\n",
    "print('Mean latency (secs):', mean_latency)"
   ]
  },
  {
   "cell_type": "code",
   "execution_count": 106,
   "metadata": {},
   "outputs": [],
   "source": [
    "data = dict({'model': 'Amazon Lex', 'mean_latency': mean_latency}, **stats)\n",
    "benchmarks = benchmarks.append(data, ignore_index=True)"
   ]
  },
  {
   "cell_type": "markdown",
   "metadata": {},
   "source": [
    "## fastText"
   ]
  },
  {
   "cell_type": "markdown",
   "metadata": {},
   "source": [
    "[Bag of Tricks for Efficient Text Classification](https://arxiv.org/pdf/1607.01759.pdf)\n",
    "\n",
    "NOTE: This does not use the fastText embeddings. It is their classification model.\n",
    "\n",
    "Recently, models based on neural networks have become increasingly popular (Kim, 2014; Zhang and LeCun, 2015; Conneau et al., 2016). While these models achieve very good performance in practice, they tend to be relatively slow both at train and test time, limiting their use on very large datasets.\n",
    "\n",
    "A simple and efficient baseline for sentence classification is to represent sentences as bag of words (BoW) and train a linear classifier, e.g., a logistic regression or an SVM (Joachims, 1998; Fan et al., 2008). However, linear classifiers do not share parameters among features and classes. This possibly limits their generalization in the context of large output space where some classes have very few examples. Common solutions to this problem are to factorize the linear classifier into low rank matrices (Schutze, 1992; Mikolov et al., 2013) or to use multilayer neural networks (Collobert and Weston, 2008; Zhang et al., 2015).\n",
    "\n",
    "Hierarchical Softmax\n",
    "\n",
    "When the number of classes is large, computing the linear classifier is computationally expensive. More precisely, the computational complexity is `O(kh)` where `k` is the number of classes and `h` the dimension of the text representation. In order to improve our running time, we use a hierarchical softmax (Goodman, 2001) based on the Huffman coding tree (Mikolov et al., 2013). During training, the computational complexity drops to `O(h log2(k))`.\n",
    "\n",
    "Model architecture of a fastText for a sentence with `N` ngram features `x1, ...xn`. The features are embedded and averaged to calculate the hidden variable.\n",
    "\n",
    "This architecture is similar to the CBOW model of Mikolov et al. (2013), where the middle word is replaced by a label. We use the softmax function `f` to compute the probability distribution over the predefined classes. Cross entropy is used to compute loss. As bag-of-word representation does not consider word order, n-gram features is used to capture some partial information about the local word order."
   ]
  },
  {
   "cell_type": "code",
   "execution_count": 321,
   "metadata": {},
   "outputs": [],
   "source": [
    "import fastText as ft"
   ]
  },
  {
   "cell_type": "markdown",
   "metadata": {},
   "source": [
    "### Bigrams"
   ]
  },
  {
   "cell_type": "code",
   "execution_count": 322,
   "metadata": {},
   "outputs": [],
   "source": [
    "model = ft.load_model('../fasttext/classifier.ftz')"
   ]
  },
  {
   "cell_type": "code",
   "execution_count": 336,
   "metadata": {},
   "outputs": [],
   "source": [
    "y_pred = []\n",
    "for i, utterance in enumerate(val_df.utterance.values):\n",
    "    label = model.predict(utterance)\n",
    "    y_pred.append(classes.tolist().index(label[0][0][9:]))"
   ]
  },
  {
   "cell_type": "code",
   "execution_count": 338,
   "metadata": {},
   "outputs": [],
   "source": [
    "y_val = val_df.label"
   ]
  },
  {
   "cell_type": "code",
   "execution_count": 343,
   "metadata": {},
   "outputs": [
    {
     "name": "stdout",
     "output_type": "stream",
     "text": [
      "Precision (weighted avg): 0.92\n",
      "Recall (weighted avg)   : 0.83\n",
      "F1 Score (weighted avg) : 0.86\n",
      "Accuracy                : 0.83\n",
      "ROC AUC (macro avg)     : 0.91\n"
     ]
    }
   ],
   "source": [
    "stats = perf_summary(y_val, y_pred)\n",
    "print_perf_summary(stats, rounded=2)"
   ]
  },
  {
   "cell_type": "code",
   "execution_count": 344,
   "metadata": {},
   "outputs": [],
   "source": [
    "y_pred_test = []\n",
    "for i, utterance in enumerate(test_df.utterance.values):\n",
    "    label = model.predict(utterance)\n",
    "    y_pred_test.append(classes.tolist().index(label[0][0][9:]))"
   ]
  },
  {
   "cell_type": "code",
   "execution_count": 345,
   "metadata": {},
   "outputs": [],
   "source": [
    "y_test = test_df.label"
   ]
  },
  {
   "cell_type": "code",
   "execution_count": 346,
   "metadata": {},
   "outputs": [
    {
     "name": "stdout",
     "output_type": "stream",
     "text": [
      "Precision (weighted avg): 0.72\n",
      "Recall (weighted avg)   : 0.73\n",
      "F1 Score (weighted avg) : 0.7\n",
      "Accuracy                : 0.73\n",
      "ROC AUC (macro avg)     : 0.86\n"
     ]
    }
   ],
   "source": [
    "stats = perf_summary(y_test, y_pred_test)\n",
    "print_perf_summary(stats, rounded=2)"
   ]
  },
  {
   "cell_type": "code",
   "execution_count": 347,
   "metadata": {},
   "outputs": [
    {
     "data": {
      "text/html": [
       "<div>\n",
       "<table border=\"1\" class=\"dataframe\">\n",
       "  <thead>\n",
       "    <tr style=\"text-align: right;\">\n",
       "      <th></th>\n",
       "      <th>model</th>\n",
       "      <th>precision_weighted_avg</th>\n",
       "      <th>recall_weighted_avg</th>\n",
       "      <th>f1_weighted_avg</th>\n",
       "      <th>accuracy</th>\n",
       "      <th>roc_auc</th>\n",
       "      <th>mean_latency</th>\n",
       "    </tr>\n",
       "  </thead>\n",
       "  <tbody>\n",
       "    <tr>\n",
       "      <th>0</th>\n",
       "      <td>Multinomial Naive Bayes</td>\n",
       "      <td>0.656506</td>\n",
       "      <td>0.542435</td>\n",
       "      <td>0.514728</td>\n",
       "      <td>0.542435</td>\n",
       "      <td>0.733035</td>\n",
       "      <td>0.0008</td>\n",
       "    </tr>\n",
       "    <tr>\n",
       "      <th>1</th>\n",
       "      <td>RASA NLU</td>\n",
       "      <td>0.785428</td>\n",
       "      <td>0.630996</td>\n",
       "      <td>0.682865</td>\n",
       "      <td>0.630996</td>\n",
       "      <td>0.804886</td>\n",
       "      <td>0.0010</td>\n",
       "    </tr>\n",
       "    <tr>\n",
       "      <th>2</th>\n",
       "      <td>IBM Watson</td>\n",
       "      <td>0.857916</td>\n",
       "      <td>0.686347</td>\n",
       "      <td>0.751115</td>\n",
       "      <td>0.686347</td>\n",
       "      <td>0.837539</td>\n",
       "      <td>0.1462</td>\n",
       "    </tr>\n",
       "    <tr>\n",
       "      <th>3</th>\n",
       "      <td>Google Dialogflow</td>\n",
       "      <td>0.804371</td>\n",
       "      <td>0.690037</td>\n",
       "      <td>0.732270</td>\n",
       "      <td>0.690037</td>\n",
       "      <td>0.838199</td>\n",
       "      <td>0.5415</td>\n",
       "    </tr>\n",
       "    <tr>\n",
       "      <th>4</th>\n",
       "      <td>Microsoft LUIS</td>\n",
       "      <td>0.762499</td>\n",
       "      <td>0.619926</td>\n",
       "      <td>0.672307</td>\n",
       "      <td>0.619926</td>\n",
       "      <td>0.804848</td>\n",
       "      <td>1.2942</td>\n",
       "    </tr>\n",
       "    <tr>\n",
       "      <th>5</th>\n",
       "      <td>Amazon Lex</td>\n",
       "      <td>0.712986</td>\n",
       "      <td>0.572864</td>\n",
       "      <td>0.619189</td>\n",
       "      <td>0.572864</td>\n",
       "      <td>0.775990</td>\n",
       "      <td>0.3801</td>\n",
       "    </tr>\n",
       "    <tr>\n",
       "      <th>6</th>\n",
       "      <td>NBSVM</td>\n",
       "      <td>0.741484</td>\n",
       "      <td>0.597786</td>\n",
       "      <td>0.648603</td>\n",
       "      <td>0.597786</td>\n",
       "      <td>0.786707</td>\n",
       "      <td>0.3411</td>\n",
       "    </tr>\n",
       "  </tbody>\n",
       "</table>\n",
       "</div>"
      ],
      "text/plain": [
       "                     model  precision_weighted_avg  recall_weighted_avg  \\\n",
       "0  Multinomial Naive Bayes                0.656506             0.542435   \n",
       "1                 RASA NLU                0.785428             0.630996   \n",
       "2               IBM Watson                0.857916             0.686347   \n",
       "3        Google Dialogflow                0.804371             0.690037   \n",
       "4           Microsoft LUIS                0.762499             0.619926   \n",
       "5               Amazon Lex                0.712986             0.572864   \n",
       "6                    NBSVM                0.741484             0.597786   \n",
       "\n",
       "   f1_weighted_avg  accuracy   roc_auc  mean_latency  \n",
       "0         0.514728  0.542435  0.733035        0.0008  \n",
       "1         0.682865  0.630996  0.804886        0.0010  \n",
       "2         0.751115  0.686347  0.837539        0.1462  \n",
       "3         0.732270  0.690037  0.838199        0.5415  \n",
       "4         0.672307  0.619926  0.804848        1.2942  \n",
       "5         0.619189  0.572864  0.775990        0.3801  \n",
       "6         0.648603  0.597786  0.786707        0.3411  "
      ]
     },
     "execution_count": 347,
     "metadata": {},
     "output_type": "execute_result"
    }
   ],
   "source": [
    "benchmarks"
   ]
  },
  {
   "cell_type": "markdown",
   "metadata": {},
   "source": [
    "### Trigrams"
   ]
  },
  {
   "cell_type": "code",
   "execution_count": 349,
   "metadata": {},
   "outputs": [],
   "source": [
    "model = ft.load_model('../fasttext/classifier.ftz')"
   ]
  },
  {
   "cell_type": "code",
   "execution_count": 350,
   "metadata": {},
   "outputs": [],
   "source": [
    "y_pred = []\n",
    "for i, utterance in enumerate(val_df.utterance.values):\n",
    "    label = model.predict(utterance)\n",
    "    y_pred.append(classes.tolist().index(label[0][0][9:]))"
   ]
  },
  {
   "cell_type": "code",
   "execution_count": 351,
   "metadata": {},
   "outputs": [
    {
     "name": "stdout",
     "output_type": "stream",
     "text": [
      "Precision (weighted avg): 0.94\n",
      "Recall (weighted avg)   : 0.85\n",
      "F1 Score (weighted avg) : 0.88\n",
      "Accuracy                : 0.85\n",
      "ROC AUC (macro avg)     : 0.92\n"
     ]
    }
   ],
   "source": [
    "stats = perf_summary(y_val, y_pred)\n",
    "print_perf_summary(stats, rounded=2)"
   ]
  },
  {
   "cell_type": "code",
   "execution_count": 352,
   "metadata": {},
   "outputs": [],
   "source": [
    "y_pred_test = []\n",
    "for i, utterance in enumerate(test_df.utterance.values):\n",
    "    label = model.predict(utterance)\n",
    "    y_pred_test.append(classes.tolist().index(label[0][0][9:]))"
   ]
  },
  {
   "cell_type": "code",
   "execution_count": 353,
   "metadata": {},
   "outputs": [
    {
     "name": "stdout",
     "output_type": "stream",
     "text": [
      "Precision (weighted avg): 0.72\n",
      "Recall (weighted avg)   : 0.72\n",
      "F1 Score (weighted avg) : 0.7\n",
      "Accuracy                : 0.72\n",
      "ROC AUC (macro avg)     : 0.86\n"
     ]
    }
   ],
   "source": [
    "stats = perf_summary(y_test, y_pred_test)\n",
    "print_perf_summary(stats, rounded=2)"
   ]
  },
  {
   "cell_type": "markdown",
   "metadata": {},
   "source": [
    "# Deep Learning Models"
   ]
  },
  {
   "cell_type": "markdown",
   "metadata": {},
   "source": [
    "## Word-level CNN (Kim 2014)"
   ]
  },
  {
   "cell_type": "markdown",
   "metadata": {},
   "source": [
    "CNNs have become a modern standard baseline method akin to Naive Bayes models, Support Vector Machine (SVMs) and logistic regression.\n",
    "\n",
    "Originally invented for computer vision, CNN models have subsequently been shown to be effective\n",
    "for NLP and have achieved excellent results in semantic parsing (Yih et al., 2014), search query\n",
    "retrieval (Shen et al., 2014), sentence modeling (Kalchbrenner et al., 2014), and other traditional\n",
    "NLP tasks (Collobert et al., 2011).\n",
    "\n",
    "The first layers embeds words into low-dimensional vectors. The next layer performs convolutions over\n",
    "the embedded word vectors using multiple filter sizes. For example, sliding over 3, 4 or 5 words at a\n",
    "time. Next, we max-pool the result of the convolutional layer into a long feature vector, add dropout\n",
    "regularization, and classify the result using a softmax layer.\n",
    "\n",
    "See [Convolutional Neural Networks for Sentence Classification](https://arxiv.org/pdf/1408.5882.pdf)."
   ]
  },
  {
   "cell_type": "code",
   "execution_count": 35,
   "metadata": {},
   "outputs": [],
   "source": [
    "from tensorflow.contrib import learn\n",
    "import text_classification_benchmarks.word_cnn.util as util"
   ]
  },
  {
   "cell_type": "code",
   "execution_count": 361,
   "metadata": {},
   "outputs": [],
   "source": [
    "checkpoint_dir = '../word_cnn/runs/1540695350/checkpoints'\n",
    "vocab_path = os.path.join(checkpoint_dir, '..', 'vocab')"
   ]
  },
  {
   "cell_type": "code",
   "execution_count": 362,
   "metadata": {},
   "outputs": [],
   "source": [
    "vocab_processor = learn.preprocessing.VocabularyProcessor.restore(vocab_path)"
   ]
  },
  {
   "cell_type": "code",
   "execution_count": 363,
   "metadata": {},
   "outputs": [],
   "source": [
    "x_raw = val_df.utterance.values\n",
    "x_test = np.array(list(vocab_processor.transform(x_raw)))"
   ]
  },
  {
   "cell_type": "code",
   "execution_count": 365,
   "metadata": {},
   "outputs": [
    {
     "name": "stdout",
     "output_type": "stream",
     "text": [
      "INFO:tensorflow:Restoring parameters from /Users/d777710/src/DeepLearning/dltemplate/src/text_classification_benchmarks/word_cnn/runs/1540695350/checkpoints/model-17800\n"
     ]
    },
    {
     "name": "stderr",
     "output_type": "stream",
     "text": [
      "INFO:tensorflow:Restoring parameters from /Users/d777710/src/DeepLearning/dltemplate/src/text_classification_benchmarks/word_cnn/runs/1540695350/checkpoints/model-17800\n"
     ]
    }
   ],
   "source": [
    "y_pred = util.test(x_test, batch_size=64, checkpoint_dir=checkpoint_dir, \n",
    "                   allow_soft_placement=True, log_device_placement=False)"
   ]
  },
  {
   "cell_type": "code",
   "execution_count": 41,
   "metadata": {},
   "outputs": [],
   "source": [
    "y_val = val_df.label.values"
   ]
  },
  {
   "cell_type": "code",
   "execution_count": 367,
   "metadata": {},
   "outputs": [
    {
     "name": "stdout",
     "output_type": "stream",
     "text": [
      "Precision (weighted avg): 0.74\n",
      "Recall (weighted avg)   : 0.59\n",
      "F1 Score (weighted avg) : 0.64\n",
      "Accuracy                : 0.59\n",
      "ROC AUC (macro avg)     : 0.79\n"
     ]
    }
   ],
   "source": [
    "stats = perf_summary(y_val, y_pred)\n",
    "print_perf_summary(stats, rounded=2)"
   ]
  },
  {
   "cell_type": "markdown",
   "metadata": {},
   "source": [
    "## Word-level CNN initialised with Word2Vec embeddings"
   ]
  },
  {
   "cell_type": "markdown",
   "metadata": {},
   "source": [
    "Trains the above CNN initialised with word vectors obtained from an unsupervised neural language\n",
    "model. These vectors were trained by Mikolov et al. (2013) on 100 billion words of Google News.\n",
    "The vectors have dimensionality of 300 and were trained using the continuous bag-of-words\n",
    "architecture.\n",
    "\n",
    "We keep the word vectors static and learn only the other parameters of the model."
   ]
  },
  {
   "cell_type": "code",
   "execution_count": 36,
   "metadata": {},
   "outputs": [],
   "source": [
    "checkpoint_dir = '../word_cnn/runs/1541065783/checkpoints'\n",
    "vocab_path = os.path.join(checkpoint_dir, '..', 'vocab')"
   ]
  },
  {
   "cell_type": "code",
   "execution_count": 37,
   "metadata": {},
   "outputs": [],
   "source": [
    "vocab_processor = learn.preprocessing.VocabularyProcessor.restore(vocab_path)"
   ]
  },
  {
   "cell_type": "code",
   "execution_count": 38,
   "metadata": {},
   "outputs": [],
   "source": [
    "x_raw = val_df.utterance.values\n",
    "x_test = np.array(list(vocab_processor.transform(x_raw)))"
   ]
  },
  {
   "cell_type": "code",
   "execution_count": 39,
   "metadata": {},
   "outputs": [
    {
     "name": "stdout",
     "output_type": "stream",
     "text": [
      "INFO:tensorflow:Restoring parameters from /Users/d777710/src/DeepLearning/dltemplate/src/text_classification_benchmarks/word_cnn/runs/1541065783/checkpoints/model-17800\n"
     ]
    },
    {
     "name": "stderr",
     "output_type": "stream",
     "text": [
      "INFO:tensorflow:Restoring parameters from /Users/d777710/src/DeepLearning/dltemplate/src/text_classification_benchmarks/word_cnn/runs/1541065783/checkpoints/model-17800\n"
     ]
    }
   ],
   "source": [
    "y_pred = util.test(x_test, batch_size=64, checkpoint_dir=checkpoint_dir, \n",
    "                   allow_soft_placement=True, log_device_placement=False)"
   ]
  },
  {
   "cell_type": "code",
   "execution_count": 42,
   "metadata": {},
   "outputs": [
    {
     "name": "stdout",
     "output_type": "stream",
     "text": [
      "Precision (weighted avg): 0.77\n",
      "Recall (weighted avg)   : 0.62\n",
      "F1 Score (weighted avg) : 0.67\n",
      "Accuracy                : 0.62\n",
      "ROC AUC (macro avg)     : 0.8\n"
     ]
    }
   ],
   "source": [
    "stats = perf_summary(y_val, y_pred)\n",
    "print_perf_summary(stats, rounded=2)"
   ]
  },
  {
   "cell_type": "markdown",
   "metadata": {},
   "source": [
    "A little bit better.\n",
    "\n",
    "See also [A Sensitivity Analysis of (and Practitioners’ Guide to) Convolutional Neural Networks for Sentence Classification](https://arxiv.org/pdf/1510.03820.pdf)."
   ]
  },
  {
   "cell_type": "markdown",
   "metadata": {},
   "source": [
    "### With L2 regularization"
   ]
  },
  {
   "cell_type": "code",
   "execution_count": 43,
   "metadata": {},
   "outputs": [],
   "source": [
    "checkpoint_dir = '../word_cnn/runs/1541112212/checkpoints'\n",
    "vocab_path = os.path.join(checkpoint_dir, '..', 'vocab')"
   ]
  },
  {
   "cell_type": "code",
   "execution_count": 44,
   "metadata": {},
   "outputs": [],
   "source": [
    "vocab_processor = learn.preprocessing.VocabularyProcessor.restore(vocab_path)"
   ]
  },
  {
   "cell_type": "code",
   "execution_count": 45,
   "metadata": {},
   "outputs": [],
   "source": [
    "x_raw = val_df.utterance.values\n",
    "x_test = np.array(list(vocab_processor.transform(x_raw)))"
   ]
  },
  {
   "cell_type": "code",
   "execution_count": 46,
   "metadata": {},
   "outputs": [
    {
     "name": "stdout",
     "output_type": "stream",
     "text": [
      "INFO:tensorflow:Restoring parameters from /Users/d777710/src/DeepLearning/dltemplate/src/text_classification_benchmarks/word_cnn/runs/1541112212/checkpoints/model-8900\n"
     ]
    },
    {
     "name": "stderr",
     "output_type": "stream",
     "text": [
      "INFO:tensorflow:Restoring parameters from /Users/d777710/src/DeepLearning/dltemplate/src/text_classification_benchmarks/word_cnn/runs/1541112212/checkpoints/model-8900\n"
     ]
    }
   ],
   "source": [
    "y_pred = util.test(x_test, batch_size=64, checkpoint_dir=checkpoint_dir, \n",
    "                   allow_soft_placement=True, log_device_placement=False)"
   ]
  },
  {
   "cell_type": "code",
   "execution_count": 47,
   "metadata": {},
   "outputs": [
    {
     "name": "stdout",
     "output_type": "stream",
     "text": [
      "Precision (weighted avg): 0.77\n",
      "Recall (weighted avg)   : 0.6\n",
      "F1 Score (weighted avg) : 0.66\n",
      "Accuracy                : 0.6\n",
      "ROC AUC (macro avg)     : 0.79\n"
     ]
    }
   ],
   "source": [
    "stats = perf_summary(y_val, y_pred)\n",
    "print_perf_summary(stats, rounded=2)"
   ]
  },
  {
   "cell_type": "markdown",
   "metadata": {},
   "source": [
    "### With higher dropout rate (keep_prob = 0.25)"
   ]
  },
  {
   "cell_type": "code",
   "execution_count": 48,
   "metadata": {},
   "outputs": [],
   "source": [
    "checkpoint_dir = '../word_cnn/runs/1541241817/checkpoints'\n",
    "vocab_path = os.path.join(checkpoint_dir, '..', 'vocab')"
   ]
  },
  {
   "cell_type": "code",
   "execution_count": 49,
   "metadata": {},
   "outputs": [],
   "source": [
    "vocab_processor = learn.preprocessing.VocabularyProcessor.restore(vocab_path)"
   ]
  },
  {
   "cell_type": "code",
   "execution_count": 50,
   "metadata": {},
   "outputs": [],
   "source": [
    "x_raw = val_df.utterance.values\n",
    "x_test = np.array(list(vocab_processor.transform(x_raw)))"
   ]
  },
  {
   "cell_type": "code",
   "execution_count": 51,
   "metadata": {},
   "outputs": [
    {
     "name": "stdout",
     "output_type": "stream",
     "text": [
      "INFO:tensorflow:Restoring parameters from /Users/d777710/src/DeepLearning/dltemplate/src/text_classification_benchmarks/word_cnn/runs/1541241817/checkpoints/model-8900\n"
     ]
    },
    {
     "name": "stderr",
     "output_type": "stream",
     "text": [
      "INFO:tensorflow:Restoring parameters from /Users/d777710/src/DeepLearning/dltemplate/src/text_classification_benchmarks/word_cnn/runs/1541241817/checkpoints/model-8900\n"
     ]
    }
   ],
   "source": [
    "y_pred = util.test(x_test, batch_size=64, checkpoint_dir=checkpoint_dir, \n",
    "                   allow_soft_placement=True, log_device_placement=False)"
   ]
  },
  {
   "cell_type": "code",
   "execution_count": 52,
   "metadata": {},
   "outputs": [
    {
     "name": "stdout",
     "output_type": "stream",
     "text": [
      "Precision (weighted avg): 0.81\n",
      "Recall (weighted avg)   : 0.69\n",
      "F1 Score (weighted avg) : 0.73\n",
      "Accuracy                : 0.69\n",
      "ROC AUC (macro avg)     : 0.84\n"
     ]
    }
   ],
   "source": [
    "stats = perf_summary(y_val, y_pred)\n",
    "print_perf_summary(stats, rounded=2)"
   ]
  },
  {
   "cell_type": "markdown",
   "metadata": {},
   "source": [
    "## Character-level CNN (Kim et al. 2015)"
   ]
  },
  {
   "cell_type": "markdown",
   "metadata": {},
   "source": [
    "[Character-Aware Neural Language Models](https://arxiv.org/pdf/1508.06615.pdf)"
   ]
  },
  {
   "cell_type": "markdown",
   "metadata": {},
   "source": [
    "Character-level ConvNet is an effective method for text classification without the need for words.\n",
    "\n",
    "Historically, ConvNets usually require large-scale datasets to work. In this case, it appears to be competitive on our small dataset.\n",
    "\n",
    "ConvNets may work well for user-generated data. Further analysis is needed to validate the\n",
    "hypothesis that ConvNets are truly good at identifying exotic character combinations such as\n",
    "misspellings and emoticons."
   ]
  },
  {
   "cell_type": "code",
   "execution_count": 232,
   "metadata": {},
   "outputs": [
    {
     "name": "stderr",
     "output_type": "stream",
     "text": [
      "Using TensorFlow backend.\n"
     ]
    }
   ],
   "source": [
    "import text_classification_benchmarks.char_cnn.model_setup as setup\n",
    "import text_classification_benchmarks.char_cnn.util as util"
   ]
  },
  {
   "cell_type": "code",
   "execution_count": 313,
   "metadata": {},
   "outputs": [],
   "source": [
    "alphabet = \"abcdefghijklmnopqrstuvwxyz0123456789-,;.!?:'\\\"\\/\\\\|_@#$%^&*~`+-=<>()[]{}\"\n",
    "input_size = 400\n",
    "n_classes = len(classes)\n",
    "x_val = val_df.utterance.values\n",
    "y_val = val_df.label.values"
   ]
  },
  {
   "cell_type": "code",
   "execution_count": 314,
   "metadata": {},
   "outputs": [],
   "source": [
    "val_data = util.Data(x_val, y_val, alphabet, input_size, n_classes)\n",
    "val_data.load_data()\n",
    "x_val_, y_val_ = val_data.get_all_data()"
   ]
  },
  {
   "cell_type": "code",
   "execution_count": 315,
   "metadata": {},
   "outputs": [
    {
     "name": "stdout",
     "output_type": "stream",
     "text": [
      "Loading model at ../char_cnn/models/weights.best.hdf5\n",
      "____________________________________________________________________________________________________\n",
      "Layer (type)                     Output Shape          Param #     Connected to                     \n",
      "====================================================================================================\n",
      "sent_input (InputLayer)          (None, 400)           0                                            \n",
      "____________________________________________________________________________________________________\n",
      "embedding_4 (Embedding)          (None, 400, 128)      8960        sent_input[0][0]                 \n",
      "____________________________________________________________________________________________________\n",
      "Conv1D_256_10 (Conv1D)           (None, 391, 256)      327936      embedding_4[0][0]                \n",
      "____________________________________________________________________________________________________\n",
      "Conv1D_256_7 (Conv1D)            (None, 394, 256)      229632      embedding_4[0][0]                \n",
      "____________________________________________________________________________________________________\n",
      "Conv1D_256_5 (Conv1D)            (None, 396, 256)      164096      embedding_4[0][0]                \n",
      "____________________________________________________________________________________________________\n",
      "Conv1D_256_3 (Conv1D)            (None, 398, 256)      98560       embedding_4[0][0]                \n",
      "____________________________________________________________________________________________________\n",
      "MaxPoolingOverTime_256_10 (Globa (None, 256)           0           Conv1D_256_10[0][0]              \n",
      "____________________________________________________________________________________________________\n",
      "MaxPoolingOverTime_256_7 (Global (None, 256)           0           Conv1D_256_7[0][0]               \n",
      "____________________________________________________________________________________________________\n",
      "MaxPoolingOverTime_256_5 (Global (None, 256)           0           Conv1D_256_5[0][0]               \n",
      "____________________________________________________________________________________________________\n",
      "MaxPoolingOverTime_256_3 (Global (None, 256)           0           Conv1D_256_3[0][0]               \n",
      "____________________________________________________________________________________________________\n",
      "concatenate_4 (Concatenate)      (None, 1024)          0           MaxPoolingOverTime_256_10[0][0]  \n",
      "                                                                   MaxPoolingOverTime_256_7[0][0]   \n",
      "                                                                   MaxPoolingOverTime_256_5[0][0]   \n",
      "                                                                   MaxPoolingOverTime_256_3[0][0]   \n",
      "____________________________________________________________________________________________________\n",
      "dense_10 (Dense)                 (None, 1024)          1049600     concatenate_4[0][0]              \n",
      "____________________________________________________________________________________________________\n",
      "alpha_dropout_7 (AlphaDropout)   (None, 1024)          0           dense_10[0][0]                   \n",
      "____________________________________________________________________________________________________\n",
      "dense_11 (Dense)                 (None, 1024)          1049600     alpha_dropout_7[0][0]            \n",
      "____________________________________________________________________________________________________\n",
      "alpha_dropout_8 (AlphaDropout)   (None, 1024)          0           dense_11[0][0]                   \n",
      "____________________________________________________________________________________________________\n",
      "dense_12 (Dense)                 (None, 191)           195775      alpha_dropout_8[0][0]            \n",
      "====================================================================================================\n",
      "Total params: 3,124,159\n",
      "Trainable params: 3,124,159\n",
      "Non-trainable params: 0\n",
      "____________________________________________________________________________________________________\n"
     ]
    }
   ],
   "source": [
    "model = setup.CharCNN(input_size,\n",
    "                      alphabet_size=69,\n",
    "                      embedding_size=128,\n",
    "                      conv_layers=[[256, 10], [256, 7], [256, 5], [256, 3]],\n",
    "                      fully_connected_layers=[1024, 1024],\n",
    "                      n_classes=n_classes,\n",
    "                      keep_prob=0.1,\n",
    "                      model_filename='../char_cnn/models/weights.best.hdf5',\n",
    "                      optimizer='adam',\n",
    "                      loss='categorical_crossentropy')"
   ]
  },
  {
   "cell_type": "code",
   "execution_count": 316,
   "metadata": {},
   "outputs": [],
   "source": [
    "preds = model.predict(x_val_, batch_size=128)"
   ]
  },
  {
   "cell_type": "code",
   "execution_count": 317,
   "metadata": {},
   "outputs": [],
   "source": [
    "y_pred = np.argmax(preds, axis=1) + 1"
   ]
  },
  {
   "cell_type": "code",
   "execution_count": 318,
   "metadata": {},
   "outputs": [
    {
     "name": "stdout",
     "output_type": "stream",
     "text": [
      "Precision (weighted avg): 0.81\n",
      "Recall (weighted avg)   : 0.66\n",
      "F1 Score (weighted avg) : 0.72\n",
      "Accuracy                : 0.66\n",
      "ROC AUC (macro avg)     : 0.83\n"
     ]
    }
   ],
   "source": [
    "stats = perf_summary(y_val, y_pred)\n",
    "print_perf_summary(stats, rounded=2)"
   ]
  },
  {
   "cell_type": "code",
   "execution_count": 319,
   "metadata": {},
   "outputs": [
    {
     "data": {
      "text/html": [
       "<div>\n",
       "<table border=\"1\" class=\"dataframe\">\n",
       "  <thead>\n",
       "    <tr style=\"text-align: right;\">\n",
       "      <th></th>\n",
       "      <th>model</th>\n",
       "      <th>precision_weighted_avg</th>\n",
       "      <th>recall_weighted_avg</th>\n",
       "      <th>f1_weighted_avg</th>\n",
       "      <th>accuracy</th>\n",
       "      <th>roc_auc</th>\n",
       "      <th>mean_latency</th>\n",
       "    </tr>\n",
       "  </thead>\n",
       "  <tbody>\n",
       "    <tr>\n",
       "      <th>0</th>\n",
       "      <td>Multinomial Naive Bayes</td>\n",
       "      <td>0.656506</td>\n",
       "      <td>0.542435</td>\n",
       "      <td>0.514728</td>\n",
       "      <td>0.542435</td>\n",
       "      <td>0.733035</td>\n",
       "      <td>0.0008</td>\n",
       "    </tr>\n",
       "    <tr>\n",
       "      <th>1</th>\n",
       "      <td>RASA NLU</td>\n",
       "      <td>0.785428</td>\n",
       "      <td>0.630996</td>\n",
       "      <td>0.682865</td>\n",
       "      <td>0.630996</td>\n",
       "      <td>0.804886</td>\n",
       "      <td>0.0010</td>\n",
       "    </tr>\n",
       "    <tr>\n",
       "      <th>2</th>\n",
       "      <td>IBM Watson</td>\n",
       "      <td>0.857916</td>\n",
       "      <td>0.686347</td>\n",
       "      <td>0.751115</td>\n",
       "      <td>0.686347</td>\n",
       "      <td>0.837539</td>\n",
       "      <td>0.1462</td>\n",
       "    </tr>\n",
       "    <tr>\n",
       "      <th>3</th>\n",
       "      <td>Google Dialogflow</td>\n",
       "      <td>0.804371</td>\n",
       "      <td>0.690037</td>\n",
       "      <td>0.732270</td>\n",
       "      <td>0.690037</td>\n",
       "      <td>0.838199</td>\n",
       "      <td>0.5415</td>\n",
       "    </tr>\n",
       "    <tr>\n",
       "      <th>4</th>\n",
       "      <td>Microsoft LUIS</td>\n",
       "      <td>0.762499</td>\n",
       "      <td>0.619926</td>\n",
       "      <td>0.672307</td>\n",
       "      <td>0.619926</td>\n",
       "      <td>0.804848</td>\n",
       "      <td>1.2942</td>\n",
       "    </tr>\n",
       "    <tr>\n",
       "      <th>5</th>\n",
       "      <td>Amazon Lex</td>\n",
       "      <td>0.712986</td>\n",
       "      <td>0.572864</td>\n",
       "      <td>0.619189</td>\n",
       "      <td>0.572864</td>\n",
       "      <td>0.775990</td>\n",
       "      <td>0.3801</td>\n",
       "    </tr>\n",
       "    <tr>\n",
       "      <th>6</th>\n",
       "      <td>NBSVM</td>\n",
       "      <td>0.741484</td>\n",
       "      <td>0.597786</td>\n",
       "      <td>0.648603</td>\n",
       "      <td>0.597786</td>\n",
       "      <td>0.786707</td>\n",
       "      <td>0.3411</td>\n",
       "    </tr>\n",
       "  </tbody>\n",
       "</table>\n",
       "</div>"
      ],
      "text/plain": [
       "                     model  precision_weighted_avg  recall_weighted_avg  \\\n",
       "0  Multinomial Naive Bayes                0.656506             0.542435   \n",
       "1                 RASA NLU                0.785428             0.630996   \n",
       "2               IBM Watson                0.857916             0.686347   \n",
       "3        Google Dialogflow                0.804371             0.690037   \n",
       "4           Microsoft LUIS                0.762499             0.619926   \n",
       "5               Amazon Lex                0.712986             0.572864   \n",
       "6                    NBSVM                0.741484             0.597786   \n",
       "\n",
       "   f1_weighted_avg  accuracy   roc_auc  mean_latency  \n",
       "0         0.514728  0.542435  0.733035        0.0008  \n",
       "1         0.682865  0.630996  0.804886        0.0010  \n",
       "2         0.751115  0.686347  0.837539        0.1462  \n",
       "3         0.732270  0.690037  0.838199        0.5415  \n",
       "4         0.672307  0.619926  0.804848        1.2942  \n",
       "5         0.619189  0.572864  0.775990        0.3801  \n",
       "6         0.648603  0.597786  0.786707        0.3411  "
      ]
     },
     "execution_count": 319,
     "metadata": {},
     "output_type": "execute_result"
    }
   ],
   "source": [
    "benchmarks"
   ]
  },
  {
   "cell_type": "markdown",
   "metadata": {},
   "source": [
    "## Bidirectional LSTM (Recurrent Neural Network)"
   ]
  },
  {
   "cell_type": "code",
   "execution_count": 168,
   "metadata": {},
   "outputs": [],
   "source": [
    "import text_classification_benchmarks.bi_lstm.util as util"
   ]
  },
  {
   "cell_type": "code",
   "execution_count": 196,
   "metadata": {},
   "outputs": [
    {
     "data": {
      "text/plain": [
       "<module 'text_classification_benchmarks.bi_lstm.util' from '../../text_classification_benchmarks/bi_lstm/util.py'>"
      ]
     },
     "execution_count": 196,
     "metadata": {},
     "output_type": "execute_result"
    }
   ],
   "source": [
    "# importlib.reload(util)"
   ]
  },
  {
   "cell_type": "code",
   "execution_count": 193,
   "metadata": {},
   "outputs": [],
   "source": [
    "# Show warnings and errors only\n",
    "os.environ['TF_CPP_MIN_LOG_LEVEL'] = '2'"
   ]
  },
  {
   "cell_type": "code",
   "execution_count": 197,
   "metadata": {},
   "outputs": [],
   "source": [
    "train_labels, train_utterances, train_lengths = util.prepare_data(train_df)\n",
    "val_labels, val_utterances, val_lengths = util.prepare_data(val_df)\n",
    "x_train, y_train, train_lengths, x_val, y_val, val_lengths, max_length, vocab_size, _ = \\\n",
    "    util.process_data(train_labels, train_utterances, train_lengths, \n",
    "                      val_labels, val_utterances, val_lengths, min_frequency=0)"
   ]
  },
  {
   "cell_type": "code",
   "execution_count": 203,
   "metadata": {},
   "outputs": [
    {
     "name": "stdout",
     "output_type": "stream",
     "text": [
      "INFO:tensorflow:Restoring parameters from ../bi_lstm/model/clf-8000\n",
      "Test accuracy: 0.9643793708898805\n"
     ]
    }
   ],
   "source": [
    "# Training performance\n",
    "y_pred = util.test(x_train, y_train, train_lengths, batch_size=64, run_dir='../bi_lstm/', checkpoint='clf-8000')"
   ]
  },
  {
   "cell_type": "code",
   "execution_count": 206,
   "metadata": {},
   "outputs": [
    {
     "name": "stdout",
     "output_type": "stream",
     "text": [
      "INFO:tensorflow:Restoring parameters from ../bi_lstm/model/clf-8000\n",
      "Test accuracy: 0.7398437559604645\n"
     ]
    }
   ],
   "source": [
    "# Test performance\n",
    "y_pred = util.test(x_val, y_val, val_lengths, batch_size=64, run_dir='../bi_lstm/', checkpoint='clf-8000')"
   ]
  },
  {
   "cell_type": "markdown",
   "metadata": {},
   "source": [
    "Looks like overfitting. Need a more data!\n",
    "\n",
    "But look, **no feature engineering!**"
   ]
  },
  {
   "cell_type": "code",
   "execution_count": 207,
   "metadata": {},
   "outputs": [
    {
     "name": "stdout",
     "output_type": "stream",
     "text": [
      "Precision (weighted avg): 0.77\n",
      "Recall (weighted avg)   : 0.59\n",
      "F1 Score (weighted avg) : 0.65\n",
      "Accuracy                : 0.59\n",
      "ROC AUC (macro avg)     : 0.79\n"
     ]
    }
   ],
   "source": [
    "stats = perf_summary(y_val, y_pred)\n",
    "print_perf_summary(stats, rounded=2)"
   ]
  },
  {
   "cell_type": "markdown",
   "metadata": {},
   "source": [
    "## Combined CNN and RNN"
   ]
  },
  {
   "cell_type": "code",
   "execution_count": 219,
   "metadata": {},
   "outputs": [],
   "source": [
    "import common.load_data as load_data\n",
    "import common.util as data_util\n",
    "import tf_model.text_classifier.util as util"
   ]
  },
  {
   "cell_type": "code",
   "execution_count": 227,
   "metadata": {},
   "outputs": [],
   "source": [
    "# importlib.reload(load_data)\n",
    "# importlib.reload(data_util)"
   ]
  },
  {
   "cell_type": "code",
   "execution_count": 221,
   "metadata": {},
   "outputs": [
    {
     "name": "stderr",
     "output_type": "stream",
     "text": [
      "INFO:root:Max sequence length: 62\n"
     ]
    }
   ],
   "source": [
    "x, y, vocab, vocab_inv, df, labels = \\\n",
    "    load_data.prepare_classification_training_set(train_df, selected=['label', 'utterance'])"
   ]
  },
  {
   "cell_type": "code",
   "execution_count": 229,
   "metadata": {},
   "outputs": [
    {
     "name": "stderr",
     "output_type": "stream",
     "text": [
      "INFO:root:x_train: 4572, x_val: 508, x_test: 565\n",
      "INFO:root:y_train: 4572, y_val: 508, y_test: 565\n",
      "INFO:root:Accuracy on val set: 0.23031496062992127\n",
      "CRITICAL:root:Saved model checkpoints_1540096722/model-500 at step 500\n",
      "CRITICAL:root:Best accuracy 0.23031496062992127 at step 500\n",
      "INFO:root:Accuracy on val set: 0.3838582677165354\n",
      "CRITICAL:root:Saved model checkpoints_1540096722/model-1000 at step 1000\n",
      "CRITICAL:root:Best accuracy 0.3838582677165354 at step 1000\n",
      "INFO:root:Accuracy on val set: 0.4311023622047244\n",
      "CRITICAL:root:Saved model checkpoints_1540096722/model-1500 at step 1500\n",
      "CRITICAL:root:Best accuracy 0.4311023622047244 at step 1500\n",
      "INFO:root:Accuracy on val set: 0.4389763779527559\n",
      "CRITICAL:root:Saved model checkpoints_1540096722/model-2000 at step 2000\n",
      "CRITICAL:root:Best accuracy 0.4389763779527559 at step 2000\n",
      "INFO:root:Accuracy on val set: 0.4547244094488189\n",
      "CRITICAL:root:Saved model checkpoints_1540096722/model-2500 at step 2500\n",
      "CRITICAL:root:Best accuracy 0.4547244094488189 at step 2500\n",
      "INFO:root:Accuracy on val set: 0.4822834645669291\n",
      "CRITICAL:root:Saved model checkpoints_1540096722/model-3000 at step 3000\n",
      "CRITICAL:root:Best accuracy 0.4822834645669291 at step 3000\n",
      "INFO:root:Accuracy on val set: 0.4645669291338583\n",
      "INFO:root:Accuracy on val set: 0.45866141732283466\n",
      "INFO:root:Accuracy on val set: 0.452755905511811\n",
      "INFO:root:Accuracy on val set: 0.4645669291338583\n",
      "INFO:root:Accuracy on val set: 0.46062992125984253\n",
      "INFO:root:Accuracy on val set: 0.46653543307086615\n",
      "INFO:root:Accuracy on val set: 0.45866141732283466\n",
      "INFO:root:Accuracy on val set: 0.48031496062992124\n",
      "INFO:root:Accuracy on val set: 0.4704724409448819\n",
      "INFO:root:Accuracy on val set: 0.4507874015748031\n",
      "INFO:root:Accuracy on val set: 0.46653543307086615\n",
      "INFO:root:Accuracy on val set: 0.4448818897637795\n",
      "INFO:root:Accuracy on val set: 0.4881889763779528\n",
      "CRITICAL:root:Saved model checkpoints_1540096722/model-9500 at step 9500\n",
      "CRITICAL:root:Best accuracy 0.4881889763779528 at step 9500\n",
      "INFO:root:Accuracy on val set: 0.468503937007874\n",
      "INFO:root:Accuracy on val set: 0.4822834645669291\n",
      "INFO:root:Accuracy on val set: 0.48031496062992124\n",
      "INFO:root:Accuracy on val set: 0.45866141732283466\n",
      "INFO:root:Accuracy on val set: 0.46062992125984253\n",
      "INFO:root:Accuracy on val set: 0.4744094488188976\n",
      "INFO:root:Accuracy on val set: 0.47834645669291337\n",
      "INFO:root:Accuracy on val set: 0.48031496062992124\n",
      "INFO:root:Accuracy on val set: 0.4881889763779528\n",
      "CRITICAL:root:Saved model checkpoints_1540096722/model-14000 at step 14000\n",
      "CRITICAL:root:Best accuracy 0.4881889763779528 at step 14000\n",
      "INFO:root:Accuracy on val set: 0.4763779527559055\n",
      "INFO:root:Accuracy on val set: 0.4566929133858268\n",
      "INFO:root:Accuracy on val set: 0.4763779527559055\n",
      "INFO:root:Accuracy on val set: 0.4645669291338583\n",
      "INFO:root:Accuracy on val set: 0.4822834645669291\n",
      "INFO:root:Accuracy on val set: 0.45866141732283466\n",
      "INFO:root:Accuracy on val set: 0.4547244094488189\n",
      "INFO:root:Accuracy on val set: 0.47244094488188976\n",
      "INFO:root:Accuracy on val set: 0.4921259842519685\n",
      "CRITICAL:root:Saved model checkpoints_1540096722/model-18500 at step 18500\n",
      "CRITICAL:root:Best accuracy 0.4921259842519685 at step 18500\n",
      "INFO:root:Accuracy on val set: 0.4744094488188976\n",
      "INFO:root:Accuracy on val set: 0.4940944881889764\n",
      "CRITICAL:root:Saved model checkpoints_1540096722/model-19500 at step 19500\n",
      "CRITICAL:root:Best accuracy 0.4940944881889764 at step 19500\n",
      "INFO:root:Accuracy on val set: 0.49015748031496065\n",
      "INFO:root:Accuracy on val set: 0.484251968503937\n",
      "INFO:root:Accuracy on val set: 0.49606299212598426\n",
      "CRITICAL:root:Saved model checkpoints_1540096722/model-21000 at step 21000\n",
      "CRITICAL:root:Best accuracy 0.49606299212598426 at step 21000\n",
      "INFO:root:Accuracy on val set: 0.4881889763779528\n",
      "INFO:root:Accuracy on val set: 0.4704724409448819\n",
      "INFO:root:Accuracy on val set: 0.4744094488188976\n",
      "INFO:root:Accuracy on val set: 0.4744094488188976\n",
      "INFO:root:Accuracy on val set: 0.4822834645669291\n",
      "INFO:root:Accuracy on val set: 0.4862204724409449\n",
      "INFO:root:Accuracy on val set: 0.4704724409448819\n"
     ]
    },
    {
     "ename": "KeyboardInterrupt",
     "evalue": "",
     "output_type": "error",
     "traceback": [
      "\u001b[0;31m---------------------------------------------------------------------------\u001b[0m",
      "\u001b[0;31mKeyboardInterrupt\u001b[0m                         Traceback (most recent call last)",
      "\u001b[0;32m<ipython-input-229-eb7936c98dc5>\u001b[0m in \u001b[0;36m<module>\u001b[0;34m()\u001b[0m\n\u001b[1;32m     14\u001b[0m     \u001b[0;34m'decay'\u001b[0m\u001b[0;34m:\u001b[0m \u001b[0;36m0.9\u001b[0m\u001b[0;34m\u001b[0m\u001b[0m\n\u001b[1;32m     15\u001b[0m }\n\u001b[0;32m---> 16\u001b[0;31m \u001b[0mutil\u001b[0m\u001b[0;34m.\u001b[0m\u001b[0mtrain\u001b[0m\u001b[0;34m(\u001b[0m\u001b[0mx\u001b[0m\u001b[0;34m,\u001b[0m \u001b[0my\u001b[0m\u001b[0;34m,\u001b[0m \u001b[0mvocab\u001b[0m\u001b[0;34m,\u001b[0m \u001b[0mvocab_inv\u001b[0m\u001b[0;34m,\u001b[0m \u001b[0mlabels\u001b[0m\u001b[0;34m,\u001b[0m \u001b[0mconstants\u001b[0m\u001b[0;34m)\u001b[0m\u001b[0;34m\u001b[0m\u001b[0m\n\u001b[0m",
      "\u001b[0;32m~/src/DeepLearning/dltemplate/src/tf_model/text_classifier/util.py\u001b[0m in \u001b[0;36mtrain\u001b[0;34m(x, y, vocab, vocab_inv, labels, constants)\u001b[0m\n\u001b[1;32m    234\u001b[0m             \u001b[0;32mfor\u001b[0m \u001b[0mtrain_batch\u001b[0m \u001b[0;32min\u001b[0m \u001b[0mtrain_batches\u001b[0m\u001b[0;34m:\u001b[0m\u001b[0;34m\u001b[0m\u001b[0m\n\u001b[1;32m    235\u001b[0m                 \u001b[0mx_train_batch\u001b[0m\u001b[0;34m,\u001b[0m \u001b[0my_train_batch\u001b[0m \u001b[0;34m=\u001b[0m \u001b[0mzip\u001b[0m\u001b[0;34m(\u001b[0m\u001b[0;34m*\u001b[0m\u001b[0mtrain_batch\u001b[0m\u001b[0;34m)\u001b[0m\u001b[0;34m\u001b[0m\u001b[0m\n\u001b[0;32m--> 236\u001b[0;31m                 \u001b[0mtrain_step\u001b[0m\u001b[0;34m(\u001b[0m\u001b[0mx_train_batch\u001b[0m\u001b[0;34m,\u001b[0m \u001b[0my_train_batch\u001b[0m\u001b[0;34m)\u001b[0m\u001b[0;34m\u001b[0m\u001b[0m\n\u001b[0m\u001b[1;32m    237\u001b[0m                 \u001b[0mcurrent_step\u001b[0m \u001b[0;34m=\u001b[0m \u001b[0mtf\u001b[0m\u001b[0;34m.\u001b[0m\u001b[0mtrain\u001b[0m\u001b[0;34m.\u001b[0m\u001b[0mglobal_step\u001b[0m\u001b[0;34m(\u001b[0m\u001b[0msess\u001b[0m\u001b[0;34m,\u001b[0m \u001b[0mglobal_step\u001b[0m\u001b[0;34m)\u001b[0m\u001b[0;34m\u001b[0m\u001b[0m\n\u001b[1;32m    238\u001b[0m \u001b[0;34m\u001b[0m\u001b[0m\n",
      "\u001b[0;32m~/src/DeepLearning/dltemplate/src/tf_model/text_classifier/util.py\u001b[0m in \u001b[0;36mtrain_step\u001b[0;34m(x_batch, y_batch)\u001b[0m\n\u001b[1;32m    209\u001b[0m                     \u001b[0mmodel\u001b[0m\u001b[0;34m.\u001b[0m\u001b[0mreal_len\u001b[0m\u001b[0;34m:\u001b[0m \u001b[0mreal_len\u001b[0m\u001b[0;34m(\u001b[0m\u001b[0mx_batch\u001b[0m\u001b[0;34m)\u001b[0m\u001b[0;34m\u001b[0m\u001b[0m\n\u001b[1;32m    210\u001b[0m                 }\n\u001b[0;32m--> 211\u001b[0;31m                 \u001b[0m_\u001b[0m\u001b[0;34m,\u001b[0m \u001b[0mstep\u001b[0m\u001b[0;34m,\u001b[0m \u001b[0mloss_\u001b[0m\u001b[0;34m,\u001b[0m \u001b[0maccuracy_\u001b[0m \u001b[0;34m=\u001b[0m \u001b[0msess\u001b[0m\u001b[0;34m.\u001b[0m\u001b[0mrun\u001b[0m\u001b[0;34m(\u001b[0m\u001b[0;34m[\u001b[0m\u001b[0mtrain_op\u001b[0m\u001b[0;34m,\u001b[0m \u001b[0mglobal_step\u001b[0m\u001b[0;34m,\u001b[0m \u001b[0mmodel\u001b[0m\u001b[0;34m.\u001b[0m\u001b[0mloss\u001b[0m\u001b[0;34m,\u001b[0m \u001b[0mmodel\u001b[0m\u001b[0;34m.\u001b[0m\u001b[0maccuracy\u001b[0m\u001b[0;34m]\u001b[0m\u001b[0;34m,\u001b[0m \u001b[0mfeed_dict\u001b[0m\u001b[0;34m)\u001b[0m\u001b[0;34m\u001b[0m\u001b[0m\n\u001b[0m\u001b[1;32m    212\u001b[0m \u001b[0;34m\u001b[0m\u001b[0m\n\u001b[1;32m    213\u001b[0m             \u001b[0;32mdef\u001b[0m \u001b[0mval_step\u001b[0m\u001b[0;34m(\u001b[0m\u001b[0mx_batch\u001b[0m\u001b[0;34m,\u001b[0m \u001b[0my_batch\u001b[0m\u001b[0;34m)\u001b[0m\u001b[0;34m:\u001b[0m\u001b[0;34m\u001b[0m\u001b[0m\n",
      "\u001b[0;32m~/miniconda3/envs/dltemplate_rasa/lib/python3.6/site-packages/tensorflow/python/client/session.py\u001b[0m in \u001b[0;36mrun\u001b[0;34m(self, fetches, feed_dict, options, run_metadata)\u001b[0m\n\u001b[1;32m    885\u001b[0m     \u001b[0;32mtry\u001b[0m\u001b[0;34m:\u001b[0m\u001b[0;34m\u001b[0m\u001b[0m\n\u001b[1;32m    886\u001b[0m       result = self._run(None, fetches, feed_dict, options_ptr,\n\u001b[0;32m--> 887\u001b[0;31m                          run_metadata_ptr)\n\u001b[0m\u001b[1;32m    888\u001b[0m       \u001b[0;32mif\u001b[0m \u001b[0mrun_metadata\u001b[0m\u001b[0;34m:\u001b[0m\u001b[0;34m\u001b[0m\u001b[0m\n\u001b[1;32m    889\u001b[0m         \u001b[0mproto_data\u001b[0m \u001b[0;34m=\u001b[0m \u001b[0mtf_session\u001b[0m\u001b[0;34m.\u001b[0m\u001b[0mTF_GetBuffer\u001b[0m\u001b[0;34m(\u001b[0m\u001b[0mrun_metadata_ptr\u001b[0m\u001b[0;34m)\u001b[0m\u001b[0;34m\u001b[0m\u001b[0m\n",
      "\u001b[0;32m~/miniconda3/envs/dltemplate_rasa/lib/python3.6/site-packages/tensorflow/python/client/session.py\u001b[0m in \u001b[0;36m_run\u001b[0;34m(self, handle, fetches, feed_dict, options, run_metadata)\u001b[0m\n\u001b[1;32m   1108\u001b[0m     \u001b[0;32mif\u001b[0m \u001b[0mfinal_fetches\u001b[0m \u001b[0;32mor\u001b[0m \u001b[0mfinal_targets\u001b[0m \u001b[0;32mor\u001b[0m \u001b[0;34m(\u001b[0m\u001b[0mhandle\u001b[0m \u001b[0;32mand\u001b[0m \u001b[0mfeed_dict_tensor\u001b[0m\u001b[0;34m)\u001b[0m\u001b[0;34m:\u001b[0m\u001b[0;34m\u001b[0m\u001b[0m\n\u001b[1;32m   1109\u001b[0m       results = self._do_run(handle, final_targets, final_fetches,\n\u001b[0;32m-> 1110\u001b[0;31m                              feed_dict_tensor, options, run_metadata)\n\u001b[0m\u001b[1;32m   1111\u001b[0m     \u001b[0;32melse\u001b[0m\u001b[0;34m:\u001b[0m\u001b[0;34m\u001b[0m\u001b[0m\n\u001b[1;32m   1112\u001b[0m       \u001b[0mresults\u001b[0m \u001b[0;34m=\u001b[0m \u001b[0;34m[\u001b[0m\u001b[0;34m]\u001b[0m\u001b[0;34m\u001b[0m\u001b[0m\n",
      "\u001b[0;32m~/miniconda3/envs/dltemplate_rasa/lib/python3.6/site-packages/tensorflow/python/client/session.py\u001b[0m in \u001b[0;36m_do_run\u001b[0;34m(self, handle, target_list, fetch_list, feed_dict, options, run_metadata)\u001b[0m\n\u001b[1;32m   1284\u001b[0m     \u001b[0;32mif\u001b[0m \u001b[0mhandle\u001b[0m \u001b[0;32mis\u001b[0m \u001b[0;32mNone\u001b[0m\u001b[0;34m:\u001b[0m\u001b[0;34m\u001b[0m\u001b[0m\n\u001b[1;32m   1285\u001b[0m       return self._do_call(_run_fn, feeds, fetches, targets, options,\n\u001b[0;32m-> 1286\u001b[0;31m                            run_metadata)\n\u001b[0m\u001b[1;32m   1287\u001b[0m     \u001b[0;32melse\u001b[0m\u001b[0;34m:\u001b[0m\u001b[0;34m\u001b[0m\u001b[0m\n\u001b[1;32m   1288\u001b[0m       \u001b[0;32mreturn\u001b[0m \u001b[0mself\u001b[0m\u001b[0;34m.\u001b[0m\u001b[0m_do_call\u001b[0m\u001b[0;34m(\u001b[0m\u001b[0m_prun_fn\u001b[0m\u001b[0;34m,\u001b[0m \u001b[0mhandle\u001b[0m\u001b[0;34m,\u001b[0m \u001b[0mfeeds\u001b[0m\u001b[0;34m,\u001b[0m \u001b[0mfetches\u001b[0m\u001b[0;34m)\u001b[0m\u001b[0;34m\u001b[0m\u001b[0m\n",
      "\u001b[0;32m~/miniconda3/envs/dltemplate_rasa/lib/python3.6/site-packages/tensorflow/python/client/session.py\u001b[0m in \u001b[0;36m_do_call\u001b[0;34m(self, fn, *args)\u001b[0m\n\u001b[1;32m   1290\u001b[0m   \u001b[0;32mdef\u001b[0m \u001b[0m_do_call\u001b[0m\u001b[0;34m(\u001b[0m\u001b[0mself\u001b[0m\u001b[0;34m,\u001b[0m \u001b[0mfn\u001b[0m\u001b[0;34m,\u001b[0m \u001b[0;34m*\u001b[0m\u001b[0margs\u001b[0m\u001b[0;34m)\u001b[0m\u001b[0;34m:\u001b[0m\u001b[0;34m\u001b[0m\u001b[0m\n\u001b[1;32m   1291\u001b[0m     \u001b[0;32mtry\u001b[0m\u001b[0;34m:\u001b[0m\u001b[0;34m\u001b[0m\u001b[0m\n\u001b[0;32m-> 1292\u001b[0;31m       \u001b[0;32mreturn\u001b[0m \u001b[0mfn\u001b[0m\u001b[0;34m(\u001b[0m\u001b[0;34m*\u001b[0m\u001b[0margs\u001b[0m\u001b[0;34m)\u001b[0m\u001b[0;34m\u001b[0m\u001b[0m\n\u001b[0m\u001b[1;32m   1293\u001b[0m     \u001b[0;32mexcept\u001b[0m \u001b[0merrors\u001b[0m\u001b[0;34m.\u001b[0m\u001b[0mOpError\u001b[0m \u001b[0;32mas\u001b[0m \u001b[0me\u001b[0m\u001b[0;34m:\u001b[0m\u001b[0;34m\u001b[0m\u001b[0m\n\u001b[1;32m   1294\u001b[0m       \u001b[0mmessage\u001b[0m \u001b[0;34m=\u001b[0m \u001b[0mcompat\u001b[0m\u001b[0;34m.\u001b[0m\u001b[0mas_text\u001b[0m\u001b[0;34m(\u001b[0m\u001b[0me\u001b[0m\u001b[0;34m.\u001b[0m\u001b[0mmessage\u001b[0m\u001b[0;34m)\u001b[0m\u001b[0;34m\u001b[0m\u001b[0m\n",
      "\u001b[0;32m~/miniconda3/envs/dltemplate_rasa/lib/python3.6/site-packages/tensorflow/python/client/session.py\u001b[0m in \u001b[0;36m_run_fn\u001b[0;34m(feed_dict, fetch_list, target_list, options, run_metadata)\u001b[0m\n\u001b[1;32m   1275\u001b[0m       \u001b[0mself\u001b[0m\u001b[0;34m.\u001b[0m\u001b[0m_extend_graph\u001b[0m\u001b[0;34m(\u001b[0m\u001b[0;34m)\u001b[0m\u001b[0;34m\u001b[0m\u001b[0m\n\u001b[1;32m   1276\u001b[0m       return self._call_tf_sessionrun(\n\u001b[0;32m-> 1277\u001b[0;31m           options, feed_dict, fetch_list, target_list, run_metadata)\n\u001b[0m\u001b[1;32m   1278\u001b[0m \u001b[0;34m\u001b[0m\u001b[0m\n\u001b[1;32m   1279\u001b[0m     \u001b[0;32mdef\u001b[0m \u001b[0m_prun_fn\u001b[0m\u001b[0;34m(\u001b[0m\u001b[0mhandle\u001b[0m\u001b[0;34m,\u001b[0m \u001b[0mfeed_dict\u001b[0m\u001b[0;34m,\u001b[0m \u001b[0mfetch_list\u001b[0m\u001b[0;34m)\u001b[0m\u001b[0;34m:\u001b[0m\u001b[0;34m\u001b[0m\u001b[0m\n",
      "\u001b[0;32m~/miniconda3/envs/dltemplate_rasa/lib/python3.6/site-packages/tensorflow/python/client/session.py\u001b[0m in \u001b[0;36m_call_tf_sessionrun\u001b[0;34m(self, options, feed_dict, fetch_list, target_list, run_metadata)\u001b[0m\n\u001b[1;32m   1365\u001b[0m     return tf_session.TF_SessionRun_wrapper(\n\u001b[1;32m   1366\u001b[0m         \u001b[0mself\u001b[0m\u001b[0;34m.\u001b[0m\u001b[0m_session\u001b[0m\u001b[0;34m,\u001b[0m \u001b[0moptions\u001b[0m\u001b[0;34m,\u001b[0m \u001b[0mfeed_dict\u001b[0m\u001b[0;34m,\u001b[0m \u001b[0mfetch_list\u001b[0m\u001b[0;34m,\u001b[0m \u001b[0mtarget_list\u001b[0m\u001b[0;34m,\u001b[0m\u001b[0;34m\u001b[0m\u001b[0m\n\u001b[0;32m-> 1367\u001b[0;31m         run_metadata)\n\u001b[0m\u001b[1;32m   1368\u001b[0m \u001b[0;34m\u001b[0m\u001b[0m\n\u001b[1;32m   1369\u001b[0m   \u001b[0;32mdef\u001b[0m \u001b[0m_call_tf_sessionprun\u001b[0m\u001b[0;34m(\u001b[0m\u001b[0mself\u001b[0m\u001b[0;34m,\u001b[0m \u001b[0mhandle\u001b[0m\u001b[0;34m,\u001b[0m \u001b[0mfeed_dict\u001b[0m\u001b[0;34m,\u001b[0m \u001b[0mfetch_list\u001b[0m\u001b[0;34m)\u001b[0m\u001b[0;34m:\u001b[0m\u001b[0;34m\u001b[0m\u001b[0m\n",
      "\u001b[0;31mKeyboardInterrupt\u001b[0m: "
     ]
    }
   ],
   "source": [
    "constants = {\n",
    "    'batch_size': 128,\n",
    "    'keep_prob': 0.5,\n",
    "    'emb_dim': 300,\n",
    "    'eval_every': 500,\n",
    "    'filter_sizes': [3, 4, 5],\n",
    "    'n_hidden': 300,\n",
    "    'l2_reg_lambda': 0.0,\n",
    "    'max_pool_size': 4,\n",
    "    'non_static': False,\n",
    "    'n_epochs': 1000,\n",
    "    'n_filters': 32,\n",
    "    'learning_rate': 0.001,\n",
    "    'decay': 0.9\n",
    "}\n",
    "util.train(x, y, vocab, vocab_inv, labels, constants)"
   ]
  },
  {
   "cell_type": "markdown",
   "metadata": {},
   "source": [
    "# Rankings"
   ]
  },
  {
   "cell_type": "code",
   "execution_count": 107,
   "metadata": {},
   "outputs": [
    {
     "data": {
      "text/html": [
       "<div>\n",
       "<table border=\"1\" class=\"dataframe\">\n",
       "  <thead>\n",
       "    <tr style=\"text-align: right;\">\n",
       "      <th></th>\n",
       "      <th>model</th>\n",
       "      <th>precision_weighted_avg</th>\n",
       "      <th>recall_weighted_avg</th>\n",
       "      <th>f1_weighted_avg</th>\n",
       "      <th>accuracy</th>\n",
       "      <th>roc_auc</th>\n",
       "      <th>mean_latency</th>\n",
       "    </tr>\n",
       "  </thead>\n",
       "  <tbody>\n",
       "    <tr>\n",
       "      <th>2</th>\n",
       "      <td>IBM Watson</td>\n",
       "      <td>0.857916</td>\n",
       "      <td>0.686347</td>\n",
       "      <td>0.751115</td>\n",
       "      <td>0.686347</td>\n",
       "      <td>0.837539</td>\n",
       "      <td>0.1462</td>\n",
       "    </tr>\n",
       "    <tr>\n",
       "      <th>3</th>\n",
       "      <td>Google Dialogflow</td>\n",
       "      <td>0.804371</td>\n",
       "      <td>0.690037</td>\n",
       "      <td>0.732270</td>\n",
       "      <td>0.690037</td>\n",
       "      <td>0.838199</td>\n",
       "      <td>0.5415</td>\n",
       "    </tr>\n",
       "    <tr>\n",
       "      <th>1</th>\n",
       "      <td>RASA NLU</td>\n",
       "      <td>0.785428</td>\n",
       "      <td>0.630996</td>\n",
       "      <td>0.682865</td>\n",
       "      <td>0.630996</td>\n",
       "      <td>0.804886</td>\n",
       "      <td>0.0010</td>\n",
       "    </tr>\n",
       "    <tr>\n",
       "      <th>4</th>\n",
       "      <td>Microsoft LUIS</td>\n",
       "      <td>0.762499</td>\n",
       "      <td>0.619926</td>\n",
       "      <td>0.672307</td>\n",
       "      <td>0.619926</td>\n",
       "      <td>0.804848</td>\n",
       "      <td>1.2942</td>\n",
       "    </tr>\n",
       "    <tr>\n",
       "      <th>5</th>\n",
       "      <td>Amazon Lex</td>\n",
       "      <td>0.712986</td>\n",
       "      <td>0.572864</td>\n",
       "      <td>0.619189</td>\n",
       "      <td>0.572864</td>\n",
       "      <td>0.775990</td>\n",
       "      <td>0.3801</td>\n",
       "    </tr>\n",
       "    <tr>\n",
       "      <th>0</th>\n",
       "      <td>Multinomial Naive Bayes</td>\n",
       "      <td>0.656506</td>\n",
       "      <td>0.542435</td>\n",
       "      <td>0.514728</td>\n",
       "      <td>0.542435</td>\n",
       "      <td>0.733035</td>\n",
       "      <td>0.0008</td>\n",
       "    </tr>\n",
       "  </tbody>\n",
       "</table>\n",
       "</div>"
      ],
      "text/plain": [
       "                     model  precision_weighted_avg  recall_weighted_avg  \\\n",
       "2               IBM Watson                0.857916             0.686347   \n",
       "3        Google Dialogflow                0.804371             0.690037   \n",
       "1                 RASA NLU                0.785428             0.630996   \n",
       "4           Microsoft LUIS                0.762499             0.619926   \n",
       "5               Amazon Lex                0.712986             0.572864   \n",
       "0  Multinomial Naive Bayes                0.656506             0.542435   \n",
       "\n",
       "   f1_weighted_avg  accuracy   roc_auc  mean_latency  \n",
       "2         0.751115  0.686347  0.837539        0.1462  \n",
       "3         0.732270  0.690037  0.838199        0.5415  \n",
       "1         0.682865  0.630996  0.804886        0.0010  \n",
       "4         0.672307  0.619926  0.804848        1.2942  \n",
       "5         0.619189  0.572864  0.775990        0.3801  \n",
       "0         0.514728  0.542435  0.733035        0.0008  "
      ]
     },
     "execution_count": 107,
     "metadata": {},
     "output_type": "execute_result"
    }
   ],
   "source": [
    "benchmarks.sort_values('f1_weighted_avg', ascending=False)"
   ]
  },
  {
   "cell_type": "markdown",
   "metadata": {},
   "source": [
    "Notes:\n",
    "\n",
    "* IBM API straightforward\n",
    "* Google documentation poor, e.g. session ID as hard-coded value not mentioned, API formats not documented - had to refer to export as sample\n",
    "* Microsoft - complex setup: need to assign resource groups from Azure, lacking error details on JSON response - unhelpful messages such as \"Bad Format\" for a large JSON input, annoying limits such as 50 char limit on intent names and utterance text, (max limits on number of intents, etc. have been increased though)\n",
    "* Amazon Lex - The number of intents exceeds the permissible value. A bot can have a maximum of 100 intents. This bot has 175. Slow import process. Intent names only alpha + underscores. Utterance length limited to 200. Issues with a few duplicate utterances. Build failed - \"The rate of requests exceeds the throughput limit. Retry the request.\" UI update issues on latest Chrome. Some save operations strangely slow. Doesn't accept numbers. \"An utterance can consist only of Unicode characters, spaces, and valid punctuation marks. Valid punctuation marks are: periods for abbreviations, underscores, apostrophes, and hyphens.\" - However, doesn't accept examples with underscores or apostrophes."
   ]
  },
  {
   "cell_type": "markdown",
   "metadata": {},
   "source": [
    "# Approaches"
   ]
  },
  {
   "cell_type": "markdown",
   "metadata": {},
   "source": [
    "Conventional:\n",
    "* SVM for domain/intent classification\n",
    "* CRF for slot filling\n",
    "\n",
    "Deep learning:\n",
    "* LSTM for domain/intent classification and slot filling"
   ]
  },
  {
   "cell_type": "markdown",
   "metadata": {},
   "source": [
    "Multinominal Naive Bayes is better at snippets. MNB is normally better and more stable than multivariate Bernoulli NB, and binarized MNB is better than standard MNB.\n",
    "\n",
    "SVM is better at full-length reviews.\n",
    "\n",
    "NBSVM: a simple but novel SVM variant using NB log-count ratios as feature values consistently performs well across tasks and datasets.\n",
    "\n",
    "[Baselines and Bigrams: Simple, Good Sentiment and Topic Classification](http://www.aclweb.org/anthology/P12-2018)"
   ]
  },
  {
   "cell_type": "markdown",
   "metadata": {},
   "source": [
    "# Conclusions\n",
    "\n",
    "Dataset size forms a dichotomy between traditional and ConvNets models. The most obvious trend \n",
    "coming from all the plots in figure 3 is that the larger datasets tend to perform better. \n",
    "Traditional methods like n-grams TFIDF remain strong candidates for dataset of size up to \n",
    "several hundreds of thousands, and only until the dataset goes to the scale of several millions \n",
    "do we observe that character-level ConvNets start to do better."
   ]
  },
  {
   "cell_type": "markdown",
   "metadata": {},
   "source": [
    "### TODO\n",
    "\n",
    "* Check performance against utterance length\n",
    "* Training time"
   ]
  },
  {
   "cell_type": "code",
   "execution_count": null,
   "metadata": {},
   "outputs": [],
   "source": []
  }
 ],
 "metadata": {
  "kernelspec": {
   "display_name": "Python 3",
   "language": "python",
   "name": "python3"
  },
  "language_info": {
   "codemirror_mode": {
    "name": "ipython",
    "version": 3
   },
   "file_extension": ".py",
   "mimetype": "text/x-python",
   "name": "python",
   "nbconvert_exporter": "python",
   "pygments_lexer": "ipython3",
   "version": "3.6.5"
  }
 },
 "nbformat": 4,
 "nbformat_minor": 2
}
